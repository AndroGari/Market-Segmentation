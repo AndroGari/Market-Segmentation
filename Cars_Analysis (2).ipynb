{
 "cells": [
  {
   "cell_type": "code",
   "execution_count": 1,
   "id": "64e63b28",
   "metadata": {},
   "outputs": [],
   "source": [
    "import pandas as pd \n",
    "import numpy as np\n",
    "import matplotlib.pyplot as plt\n",
    "%matplotlib inline\n",
    "import os\n",
    "import seaborn as sns"
   ]
  },
  {
   "cell_type": "code",
   "execution_count": 2,
   "id": "21e18935",
   "metadata": {},
   "outputs": [
    {
     "name": "stdout",
     "output_type": "stream",
     "text": [
      "C:\\Users\\lance\n"
     ]
    }
   ],
   "source": [
    "print(os.getcwd())"
   ]
  },
  {
   "cell_type": "code",
   "execution_count": 3,
   "id": "ec9dbc31",
   "metadata": {},
   "outputs": [],
   "source": [
    "os.chdir('C:\\\\Users\\\\lance\\\\OneDrive\\\\Desktop\\\\Feynn Labs')"
   ]
  },
  {
   "cell_type": "code",
   "execution_count": 4,
   "id": "53c44c9d",
   "metadata": {},
   "outputs": [],
   "source": [
    "df=pd.read_csv('cars_ds_final_2021.csv')"
   ]
  },
  {
   "cell_type": "code",
   "execution_count": 5,
   "id": "45972832",
   "metadata": {},
   "outputs": [
    {
     "data": {
      "text/html": [
       "<div><div id=c7cb3814-f672-45db-88aa-5cea7b875d99 style=\"display:none; background-color:#9D6CFF; color:white; width:200px; height:30px; padding-left:5px; border-radius:4px; flex-direction:row; justify-content:space-around; align-items:center;\" onmouseover=\"this.style.backgroundColor='#BA9BF8'\" onmouseout=\"this.style.backgroundColor='#9D6CFF'\" onclick=\"window.commands?.execute('create-mitosheet-from-dataframe-output');\">See Full Dataframe in Mito</div> <script> if (window.commands?.hasCommand('create-mitosheet-from-dataframe-output')) document.getElementById('c7cb3814-f672-45db-88aa-5cea7b875d99').style.display = 'flex' </script> <table border=\"1\" class=\"dataframe\">\n",
       "  <thead>\n",
       "    <tr style=\"text-align: right;\">\n",
       "      <th></th>\n",
       "      <th>Unnamed: 0</th>\n",
       "      <th>Make</th>\n",
       "      <th>Model</th>\n",
       "      <th>Variant</th>\n",
       "      <th>Ex-Showroom_Price</th>\n",
       "      <th>Displacement</th>\n",
       "      <th>Cylinders</th>\n",
       "      <th>Valves_Per_Cylinder</th>\n",
       "      <th>Drivetrain</th>\n",
       "      <th>Cylinder_Configuration</th>\n",
       "      <th>...</th>\n",
       "      <th>Leather_Wrapped_Steering</th>\n",
       "      <th>Automatic_Headlamps</th>\n",
       "      <th>Engine_Type</th>\n",
       "      <th>ASR_/_Traction_Control</th>\n",
       "      <th>Cruise_Control</th>\n",
       "      <th>USB_Ports</th>\n",
       "      <th>Heads-Up_Display</th>\n",
       "      <th>Welcome_Lights</th>\n",
       "      <th>Battery</th>\n",
       "      <th>Electric_Range</th>\n",
       "    </tr>\n",
       "  </thead>\n",
       "  <tbody>\n",
       "    <tr>\n",
       "      <th>0</th>\n",
       "      <td>0</td>\n",
       "      <td>Tata</td>\n",
       "      <td>Nano Genx</td>\n",
       "      <td>Xt</td>\n",
       "      <td>Rs. 2,92,667</td>\n",
       "      <td>624 cc</td>\n",
       "      <td>2.0</td>\n",
       "      <td>2.0</td>\n",
       "      <td>RWD (Rear Wheel Drive)</td>\n",
       "      <td>In-line</td>\n",
       "      <td>...</td>\n",
       "      <td>NaN</td>\n",
       "      <td>NaN</td>\n",
       "      <td>NaN</td>\n",
       "      <td>NaN</td>\n",
       "      <td>NaN</td>\n",
       "      <td>NaN</td>\n",
       "      <td>NaN</td>\n",
       "      <td>NaN</td>\n",
       "      <td>NaN</td>\n",
       "      <td>NaN</td>\n",
       "    </tr>\n",
       "    <tr>\n",
       "      <th>1</th>\n",
       "      <td>1</td>\n",
       "      <td>Tata</td>\n",
       "      <td>Nano Genx</td>\n",
       "      <td>Xe</td>\n",
       "      <td>Rs. 2,36,447</td>\n",
       "      <td>624 cc</td>\n",
       "      <td>2.0</td>\n",
       "      <td>2.0</td>\n",
       "      <td>RWD (Rear Wheel Drive)</td>\n",
       "      <td>In-line</td>\n",
       "      <td>...</td>\n",
       "      <td>NaN</td>\n",
       "      <td>NaN</td>\n",
       "      <td>NaN</td>\n",
       "      <td>NaN</td>\n",
       "      <td>NaN</td>\n",
       "      <td>NaN</td>\n",
       "      <td>NaN</td>\n",
       "      <td>NaN</td>\n",
       "      <td>NaN</td>\n",
       "      <td>NaN</td>\n",
       "    </tr>\n",
       "    <tr>\n",
       "      <th>2</th>\n",
       "      <td>2</td>\n",
       "      <td>Tata</td>\n",
       "      <td>Nano Genx</td>\n",
       "      <td>Emax Xm</td>\n",
       "      <td>Rs. 2,96,661</td>\n",
       "      <td>624 cc</td>\n",
       "      <td>2.0</td>\n",
       "      <td>2.0</td>\n",
       "      <td>RWD (Rear Wheel Drive)</td>\n",
       "      <td>In-line</td>\n",
       "      <td>...</td>\n",
       "      <td>NaN</td>\n",
       "      <td>NaN</td>\n",
       "      <td>NaN</td>\n",
       "      <td>NaN</td>\n",
       "      <td>NaN</td>\n",
       "      <td>NaN</td>\n",
       "      <td>NaN</td>\n",
       "      <td>NaN</td>\n",
       "      <td>NaN</td>\n",
       "      <td>NaN</td>\n",
       "    </tr>\n",
       "    <tr>\n",
       "      <th>3</th>\n",
       "      <td>3</td>\n",
       "      <td>Tata</td>\n",
       "      <td>Nano Genx</td>\n",
       "      <td>Xta</td>\n",
       "      <td>Rs. 3,34,768</td>\n",
       "      <td>624 cc</td>\n",
       "      <td>2.0</td>\n",
       "      <td>2.0</td>\n",
       "      <td>RWD (Rear Wheel Drive)</td>\n",
       "      <td>In-line</td>\n",
       "      <td>...</td>\n",
       "      <td>NaN</td>\n",
       "      <td>NaN</td>\n",
       "      <td>NaN</td>\n",
       "      <td>NaN</td>\n",
       "      <td>NaN</td>\n",
       "      <td>NaN</td>\n",
       "      <td>NaN</td>\n",
       "      <td>NaN</td>\n",
       "      <td>NaN</td>\n",
       "      <td>NaN</td>\n",
       "    </tr>\n",
       "    <tr>\n",
       "      <th>4</th>\n",
       "      <td>4</td>\n",
       "      <td>Tata</td>\n",
       "      <td>Nano Genx</td>\n",
       "      <td>Xm</td>\n",
       "      <td>Rs. 2,72,223</td>\n",
       "      <td>624 cc</td>\n",
       "      <td>2.0</td>\n",
       "      <td>2.0</td>\n",
       "      <td>RWD (Rear Wheel Drive)</td>\n",
       "      <td>In-line</td>\n",
       "      <td>...</td>\n",
       "      <td>NaN</td>\n",
       "      <td>NaN</td>\n",
       "      <td>NaN</td>\n",
       "      <td>NaN</td>\n",
       "      <td>NaN</td>\n",
       "      <td>NaN</td>\n",
       "      <td>NaN</td>\n",
       "      <td>NaN</td>\n",
       "      <td>NaN</td>\n",
       "      <td>NaN</td>\n",
       "    </tr>\n",
       "  </tbody>\n",
       "</table></div>"
      ],
      "text/plain": [
       "   Unnamed: 0  Make      Model  Variant Ex-Showroom_Price Displacement  \\\n",
       "0           0  Tata  Nano Genx       Xt      Rs. 2,92,667       624 cc   \n",
       "1           1  Tata  Nano Genx       Xe      Rs. 2,36,447       624 cc   \n",
       "2           2  Tata  Nano Genx  Emax Xm      Rs. 2,96,661       624 cc   \n",
       "3           3  Tata  Nano Genx      Xta      Rs. 3,34,768       624 cc   \n",
       "4           4  Tata  Nano Genx       Xm      Rs. 2,72,223       624 cc   \n",
       "\n",
       "   Cylinders  Valves_Per_Cylinder              Drivetrain  \\\n",
       "0        2.0                  2.0  RWD (Rear Wheel Drive)   \n",
       "1        2.0                  2.0  RWD (Rear Wheel Drive)   \n",
       "2        2.0                  2.0  RWD (Rear Wheel Drive)   \n",
       "3        2.0                  2.0  RWD (Rear Wheel Drive)   \n",
       "4        2.0                  2.0  RWD (Rear Wheel Drive)   \n",
       "\n",
       "  Cylinder_Configuration  ... Leather_Wrapped_Steering Automatic_Headlamps  \\\n",
       "0                In-line  ...                      NaN                 NaN   \n",
       "1                In-line  ...                      NaN                 NaN   \n",
       "2                In-line  ...                      NaN                 NaN   \n",
       "3                In-line  ...                      NaN                 NaN   \n",
       "4                In-line  ...                      NaN                 NaN   \n",
       "\n",
       "  Engine_Type ASR_/_Traction_Control Cruise_Control USB_Ports  \\\n",
       "0         NaN                    NaN            NaN       NaN   \n",
       "1         NaN                    NaN            NaN       NaN   \n",
       "2         NaN                    NaN            NaN       NaN   \n",
       "3         NaN                    NaN            NaN       NaN   \n",
       "4         NaN                    NaN            NaN       NaN   \n",
       "\n",
       "  Heads-Up_Display Welcome_Lights Battery  Electric_Range  \n",
       "0              NaN            NaN     NaN             NaN  \n",
       "1              NaN            NaN     NaN             NaN  \n",
       "2              NaN            NaN     NaN             NaN  \n",
       "3              NaN            NaN     NaN             NaN  \n",
       "4              NaN            NaN     NaN             NaN  \n",
       "\n",
       "[5 rows x 141 columns]"
      ]
     },
     "execution_count": 5,
     "metadata": {},
     "output_type": "execute_result"
    }
   ],
   "source": [
    "df.head()\n"
   ]
  },
  {
   "cell_type": "code",
   "execution_count": 6,
   "id": "9820563a",
   "metadata": {},
   "outputs": [],
   "source": [
    "df1=df.loc[:,['Make', 'Model', 'Variant', 'Ex-Showroom_Price', 'Displacement', 'Cylinders', 'Valves_Per_Cylinder', 'Drivetrain', 'Cylinder_Configuration', 'Emission_Norm', 'Engine_Location', 'Fuel_System', 'Fuel_Tank_Capacity', 'Fuel_Type','Engine_Type', 'Battery', 'Electric_Range','City_Mileage','Highway_Mileage','ARAI_Certified_Mileage','ARAI_Certified_Mileage_for_CNG']]"
   ]
  },
  {
   "cell_type": "code",
   "execution_count": 7,
   "id": "83e9ebe1",
   "metadata": {},
   "outputs": [
    {
     "name": "stdout",
     "output_type": "stream",
     "text": [
      "<class 'pandas.core.frame.DataFrame'>\n",
      "RangeIndex: 1267 entries, 0 to 1266\n",
      "Data columns (total 19 columns):\n",
      " #   Column                          Non-Null Count  Dtype \n",
      "---  ------                          --------------  ----- \n",
      " 0   Make                            1192 non-null   object\n",
      " 1   Model                           1267 non-null   object\n",
      " 2   Variant                         1267 non-null   object\n",
      " 3   Ex-Showroom_Price               1267 non-null   object\n",
      " 4   Displacement                    1255 non-null   object\n",
      " 5   Drivetrain                      1260 non-null   object\n",
      " 6   Cylinder_Configuration          1254 non-null   object\n",
      " 7   Emission_Norm                   1256 non-null   object\n",
      " 8   Engine_Location                 1224 non-null   object\n",
      " 9   Fuel_System                     1259 non-null   object\n",
      " 10  Fuel_Tank_Capacity              1197 non-null   object\n",
      " 11  Fuel_Type                       1267 non-null   object\n",
      " 12  Engine_Type                     34 non-null     object\n",
      " 13  Battery                         13 non-null     object\n",
      " 14  Electric_Range                  17 non-null     object\n",
      " 15  City_Mileage                    713 non-null    object\n",
      " 16  Highway_Mileage                 475 non-null    object\n",
      " 17  ARAI_Certified_Mileage          1151 non-null   object\n",
      " 18  ARAI_Certified_Mileage_for_CNG  27 non-null     object\n",
      "dtypes: object(19)\n",
      "memory usage: 188.2+ KB\n"
     ]
    }
   ],
   "source": [
    "df1_cat=df1.select_dtypes(include='object')\n",
    "df1_cat.info()"
   ]
  },
  {
   "cell_type": "code",
   "execution_count": 8,
   "id": "52354dfe",
   "metadata": {},
   "outputs": [
    {
     "data": {
      "text/html": [
       "<div><div id=d822762c-f839-4ede-8ced-fb6986084fc2 style=\"display:none; background-color:#9D6CFF; color:white; width:200px; height:30px; padding-left:5px; border-radius:4px; flex-direction:row; justify-content:space-around; align-items:center;\" onmouseover=\"this.style.backgroundColor='#BA9BF8'\" onmouseout=\"this.style.backgroundColor='#9D6CFF'\" onclick=\"window.commands?.execute('create-mitosheet-from-dataframe-output');\">See Full Dataframe in Mito</div> <script> if (window.commands?.hasCommand('create-mitosheet-from-dataframe-output')) document.getElementById('d822762c-f839-4ede-8ced-fb6986084fc2').style.display = 'flex' </script> <table border=\"1\" class=\"dataframe\">\n",
       "  <thead>\n",
       "    <tr style=\"text-align: right;\">\n",
       "      <th></th>\n",
       "      <th>Make</th>\n",
       "      <th>Model</th>\n",
       "      <th>Variant</th>\n",
       "      <th>Ex-Showroom_Price</th>\n",
       "      <th>Displacement</th>\n",
       "      <th>Cylinders</th>\n",
       "      <th>Valves_Per_Cylinder</th>\n",
       "      <th>Drivetrain</th>\n",
       "      <th>Cylinder_Configuration</th>\n",
       "      <th>Emission_Norm</th>\n",
       "      <th>...</th>\n",
       "      <th>Fuel_System</th>\n",
       "      <th>Fuel_Tank_Capacity</th>\n",
       "      <th>Fuel_Type</th>\n",
       "      <th>Engine_Type</th>\n",
       "      <th>Battery</th>\n",
       "      <th>Electric_Range</th>\n",
       "      <th>City_Mileage</th>\n",
       "      <th>Highway_Mileage</th>\n",
       "      <th>ARAI_Certified_Mileage</th>\n",
       "      <th>ARAI_Certified_Mileage_for_CNG</th>\n",
       "    </tr>\n",
       "  </thead>\n",
       "  <tbody>\n",
       "    <tr>\n",
       "      <th>0</th>\n",
       "      <td>Tata</td>\n",
       "      <td>Nano Genx</td>\n",
       "      <td>Xt</td>\n",
       "      <td>Rs. 2,92,667</td>\n",
       "      <td>624 cc</td>\n",
       "      <td>2.0</td>\n",
       "      <td>2.0</td>\n",
       "      <td>RWD (Rear Wheel Drive)</td>\n",
       "      <td>In-line</td>\n",
       "      <td>BS IV</td>\n",
       "      <td>...</td>\n",
       "      <td>Injection</td>\n",
       "      <td>24 litres</td>\n",
       "      <td>Petrol</td>\n",
       "      <td>NaN</td>\n",
       "      <td>NaN</td>\n",
       "      <td>NaN</td>\n",
       "      <td>?23.6 km/litre</td>\n",
       "      <td>NaN</td>\n",
       "      <td>23.6 km/litre</td>\n",
       "      <td>NaN</td>\n",
       "    </tr>\n",
       "    <tr>\n",
       "      <th>1</th>\n",
       "      <td>Tata</td>\n",
       "      <td>Nano Genx</td>\n",
       "      <td>Xe</td>\n",
       "      <td>Rs. 2,36,447</td>\n",
       "      <td>624 cc</td>\n",
       "      <td>2.0</td>\n",
       "      <td>2.0</td>\n",
       "      <td>RWD (Rear Wheel Drive)</td>\n",
       "      <td>In-line</td>\n",
       "      <td>BS IV</td>\n",
       "      <td>...</td>\n",
       "      <td>Injection</td>\n",
       "      <td>24 litres</td>\n",
       "      <td>Petrol</td>\n",
       "      <td>NaN</td>\n",
       "      <td>NaN</td>\n",
       "      <td>NaN</td>\n",
       "      <td>?23.6 km/litre</td>\n",
       "      <td>NaN</td>\n",
       "      <td>23.6 km/litre</td>\n",
       "      <td>NaN</td>\n",
       "    </tr>\n",
       "    <tr>\n",
       "      <th>2</th>\n",
       "      <td>Tata</td>\n",
       "      <td>Nano Genx</td>\n",
       "      <td>Emax Xm</td>\n",
       "      <td>Rs. 2,96,661</td>\n",
       "      <td>624 cc</td>\n",
       "      <td>2.0</td>\n",
       "      <td>2.0</td>\n",
       "      <td>RWD (Rear Wheel Drive)</td>\n",
       "      <td>In-line</td>\n",
       "      <td>BS IV</td>\n",
       "      <td>...</td>\n",
       "      <td>Injection</td>\n",
       "      <td>15 litres</td>\n",
       "      <td>CNG</td>\n",
       "      <td>NaN</td>\n",
       "      <td>NaN</td>\n",
       "      <td>NaN</td>\n",
       "      <td>NaN</td>\n",
       "      <td>NaN</td>\n",
       "      <td>NaN</td>\n",
       "      <td>36 km/kg</td>\n",
       "    </tr>\n",
       "    <tr>\n",
       "      <th>3</th>\n",
       "      <td>Tata</td>\n",
       "      <td>Nano Genx</td>\n",
       "      <td>Xta</td>\n",
       "      <td>Rs. 3,34,768</td>\n",
       "      <td>624 cc</td>\n",
       "      <td>2.0</td>\n",
       "      <td>2.0</td>\n",
       "      <td>RWD (Rear Wheel Drive)</td>\n",
       "      <td>In-line</td>\n",
       "      <td>BS IV</td>\n",
       "      <td>...</td>\n",
       "      <td>Injection</td>\n",
       "      <td>24 litres</td>\n",
       "      <td>Petrol</td>\n",
       "      <td>NaN</td>\n",
       "      <td>NaN</td>\n",
       "      <td>NaN</td>\n",
       "      <td>?23.6 km/litre</td>\n",
       "      <td>NaN</td>\n",
       "      <td>21.9 km/litre</td>\n",
       "      <td>NaN</td>\n",
       "    </tr>\n",
       "    <tr>\n",
       "      <th>4</th>\n",
       "      <td>Tata</td>\n",
       "      <td>Nano Genx</td>\n",
       "      <td>Xm</td>\n",
       "      <td>Rs. 2,72,223</td>\n",
       "      <td>624 cc</td>\n",
       "      <td>2.0</td>\n",
       "      <td>2.0</td>\n",
       "      <td>RWD (Rear Wheel Drive)</td>\n",
       "      <td>In-line</td>\n",
       "      <td>BS IV</td>\n",
       "      <td>...</td>\n",
       "      <td>Injection</td>\n",
       "      <td>24 litres</td>\n",
       "      <td>Petrol</td>\n",
       "      <td>NaN</td>\n",
       "      <td>NaN</td>\n",
       "      <td>NaN</td>\n",
       "      <td>?23.6 km/litre</td>\n",
       "      <td>NaN</td>\n",
       "      <td>23.6 km/litre</td>\n",
       "      <td>NaN</td>\n",
       "    </tr>\n",
       "  </tbody>\n",
       "</table></div>"
      ],
      "text/plain": [
       "   Make      Model  Variant Ex-Showroom_Price Displacement  Cylinders  \\\n",
       "0  Tata  Nano Genx       Xt      Rs. 2,92,667       624 cc        2.0   \n",
       "1  Tata  Nano Genx       Xe      Rs. 2,36,447       624 cc        2.0   \n",
       "2  Tata  Nano Genx  Emax Xm      Rs. 2,96,661       624 cc        2.0   \n",
       "3  Tata  Nano Genx      Xta      Rs. 3,34,768       624 cc        2.0   \n",
       "4  Tata  Nano Genx       Xm      Rs. 2,72,223       624 cc        2.0   \n",
       "\n",
       "   Valves_Per_Cylinder              Drivetrain Cylinder_Configuration  \\\n",
       "0                  2.0  RWD (Rear Wheel Drive)                In-line   \n",
       "1                  2.0  RWD (Rear Wheel Drive)                In-line   \n",
       "2                  2.0  RWD (Rear Wheel Drive)                In-line   \n",
       "3                  2.0  RWD (Rear Wheel Drive)                In-line   \n",
       "4                  2.0  RWD (Rear Wheel Drive)                In-line   \n",
       "\n",
       "  Emission_Norm  ... Fuel_System Fuel_Tank_Capacity Fuel_Type Engine_Type  \\\n",
       "0         BS IV  ...   Injection          24 litres    Petrol         NaN   \n",
       "1         BS IV  ...   Injection          24 litres    Petrol         NaN   \n",
       "2         BS IV  ...   Injection          15 litres       CNG         NaN   \n",
       "3         BS IV  ...   Injection          24 litres    Petrol         NaN   \n",
       "4         BS IV  ...   Injection          24 litres    Petrol         NaN   \n",
       "\n",
       "  Battery Electric_Range    City_Mileage Highway_Mileage  \\\n",
       "0     NaN            NaN  ?23.6 km/litre             NaN   \n",
       "1     NaN            NaN  ?23.6 km/litre             NaN   \n",
       "2     NaN            NaN             NaN             NaN   \n",
       "3     NaN            NaN  ?23.6 km/litre             NaN   \n",
       "4     NaN            NaN  ?23.6 km/litre             NaN   \n",
       "\n",
       "  ARAI_Certified_Mileage ARAI_Certified_Mileage_for_CNG  \n",
       "0          23.6 km/litre                            NaN  \n",
       "1          23.6 km/litre                            NaN  \n",
       "2                    NaN                       36 km/kg  \n",
       "3          21.9 km/litre                            NaN  \n",
       "4          23.6 km/litre                            NaN  \n",
       "\n",
       "[5 rows x 21 columns]"
      ]
     },
     "execution_count": 8,
     "metadata": {},
     "output_type": "execute_result"
    }
   ],
   "source": [
    "df1.head()"
   ]
  },
  {
   "cell_type": "code",
   "execution_count": 9,
   "id": "67bd8dbf",
   "metadata": {},
   "outputs": [
    {
     "name": "stdout",
     "output_type": "stream",
     "text": [
      "<class 'pandas.core.frame.DataFrame'>\n",
      "RangeIndex: 1267 entries, 0 to 1266\n",
      "Data columns (total 21 columns):\n",
      " #   Column                          Non-Null Count  Dtype  \n",
      "---  ------                          --------------  -----  \n",
      " 0   Make                            1192 non-null   object \n",
      " 1   Model                           1267 non-null   object \n",
      " 2   Variant                         1267 non-null   object \n",
      " 3   Ex-Showroom_Price               1267 non-null   object \n",
      " 4   Displacement                    1255 non-null   object \n",
      " 5   Cylinders                       1201 non-null   float64\n",
      " 6   Valves_Per_Cylinder             1165 non-null   float64\n",
      " 7   Drivetrain                      1260 non-null   object \n",
      " 8   Cylinder_Configuration          1254 non-null   object \n",
      " 9   Emission_Norm                   1256 non-null   object \n",
      " 10  Engine_Location                 1224 non-null   object \n",
      " 11  Fuel_System                     1259 non-null   object \n",
      " 12  Fuel_Tank_Capacity              1197 non-null   object \n",
      " 13  Fuel_Type                       1267 non-null   object \n",
      " 14  Engine_Type                     34 non-null     object \n",
      " 15  Battery                         13 non-null     object \n",
      " 16  Electric_Range                  17 non-null     object \n",
      " 17  City_Mileage                    713 non-null    object \n",
      " 18  Highway_Mileage                 475 non-null    object \n",
      " 19  ARAI_Certified_Mileage          1151 non-null   object \n",
      " 20  ARAI_Certified_Mileage_for_CNG  27 non-null     object \n",
      "dtypes: float64(2), object(19)\n",
      "memory usage: 208.0+ KB\n"
     ]
    }
   ],
   "source": [
    "df1.info()"
   ]
  },
  {
   "cell_type": "code",
   "execution_count": 10,
   "id": "513edec0",
   "metadata": {},
   "outputs": [
    {
     "name": "stdout",
     "output_type": "stream",
     "text": [
      "Make                               object\n",
      "Model                              object\n",
      "Variant                            object\n",
      "Ex-Showroom_Price                  object\n",
      "Displacement                       object\n",
      "Cylinders                         float64\n",
      "Valves_Per_Cylinder               float64\n",
      "Drivetrain                         object\n",
      "Cylinder_Configuration             object\n",
      "Emission_Norm                      object\n",
      "Engine_Location                    object\n",
      "Fuel_System                        object\n",
      "Fuel_Tank_Capacity                 object\n",
      "Fuel_Type                          object\n",
      "Engine_Type                        object\n",
      "Battery                            object\n",
      "Electric_Range                     object\n",
      "City_Mileage                       object\n",
      "Highway_Mileage                    object\n",
      "ARAI_Certified_Mileage             object\n",
      "ARAI_Certified_Mileage_for_CNG     object\n",
      "dtype: object\n"
     ]
    }
   ],
   "source": [
    "print(df1.dtypes)"
   ]
  },
  {
   "cell_type": "code",
   "execution_count": 11,
   "id": "0f5c104b",
   "metadata": {},
   "outputs": [
    {
     "name": "stderr",
     "output_type": "stream",
     "text": [
      "C:\\Users\\lance\\AppData\\Local\\Temp/ipykernel_8992/3156991133.py:1: FutureWarning: The default value of regex will change from True to False in a future version. In addition, single character regular expressions will *not* be treated as literal strings when regex=True.\n",
      "  df1.City_Mileage=df1.City_Mileage.str.replace('?','')\n",
      "C:\\Users\\lance\\AppData\\Local\\Temp/ipykernel_8992/3156991133.py:6: FutureWarning: The default value of regex will change from True to False in a future version.\n",
      "  df1.City_Mileage=df1.City_Mileage.str.replace(\"\\.\\d+\",\"\")\n",
      "C:\\Users\\lance\\AppData\\Local\\Temp/ipykernel_8992/3156991133.py:7: FutureWarning: The default value of regex will change from True to False in a future version.\n",
      "  df1.City_Mileage=df1.City_Mileage.str.replace(\"\\-\\d+\",\"\")\n"
     ]
    }
   ],
   "source": [
    "df1.City_Mileage=df1.City_Mileage.str.replace('?','')\n",
    "df1.City_Mileage=df1.City_Mileage.str.replace('km/litre','')\n",
    "df1.City_Mileage=df1.City_Mileage.str.replace(',','')\n",
    "df1.City_Mileage=df1.City_Mileage.str.replace(',','')\n",
    "df1.City_Mileage=df1.City_Mileage.str.replace(\"'\",\"\")\n",
    "df1.City_Mileage=df1.City_Mileage.str.replace(\"\\.\\d+\",\"\")\n",
    "df1.City_Mileage=df1.City_Mileage.str.replace(\"\\-\\d+\",\"\")\n"
   ]
  },
  {
   "cell_type": "code",
   "execution_count": 12,
   "id": "6d69932c",
   "metadata": {},
   "outputs": [
    {
     "data": {
      "text/plain": [
       "array(['23 ', nan, '21 ', '25 ', '12 ', '11 ', '14 ', '19 ', '20 ', '15 ',\n",
       "       '13 ', '2295 ', '1757 ', '16 ', '18 ', '17 ', '284 ', '28 ',\n",
       "       '136 ', '1678 ', '9 ', '10 ', '80 ', '8 ', '110 ', '113 ', '168 ',\n",
       "       '1255 ', '7 ', '6 ', '4 ', '5 ', '96 ', '24 ', '22 ', '1393 ',\n",
       "       '1638 ', '133 ', '3 ', '27 ', '26 ', '26032 ', '1144 ', '2 ',\n",
       "       '212 '], dtype=object)"
      ]
     },
     "execution_count": 12,
     "metadata": {},
     "output_type": "execute_result"
    }
   ],
   "source": [
    "df1.City_Mileage.unique()"
   ]
  },
  {
   "cell_type": "code",
   "execution_count": 13,
   "id": "c1d9ec80",
   "metadata": {},
   "outputs": [
    {
     "data": {
      "text/plain": [
       "0       23.0\n",
       "1       23.0\n",
       "2        NaN\n",
       "3       23.0\n",
       "4       23.0\n",
       "        ... \n",
       "1262     NaN\n",
       "1263     NaN\n",
       "1264     NaN\n",
       "1265     NaN\n",
       "1266     NaN\n",
       "Name: City_Mileage, Length: 1267, dtype: float64"
      ]
     },
     "execution_count": 13,
     "metadata": {},
     "output_type": "execute_result"
    }
   ],
   "source": [
    "df1.City_Mileage.astype(float)"
   ]
  },
  {
   "cell_type": "code",
   "execution_count": 14,
   "id": "3258c555",
   "metadata": {},
   "outputs": [
    {
     "data": {
      "text/plain": [
       "Make                                75\n",
       "Model                                0\n",
       "Variant                              0\n",
       "Ex-Showroom_Price                    0\n",
       "Displacement                        12\n",
       "Cylinders                           66\n",
       "Valves_Per_Cylinder                102\n",
       "Drivetrain                           7\n",
       "Cylinder_Configuration              13\n",
       "Emission_Norm                       11\n",
       "Engine_Location                     43\n",
       "Fuel_System                          8\n",
       "Fuel_Tank_Capacity                  70\n",
       "Fuel_Type                            0\n",
       "Engine_Type                       1233\n",
       "Battery                           1254\n",
       "Electric_Range                    1250\n",
       "City_Mileage                       554\n",
       "Highway_Mileage                    792\n",
       "ARAI_Certified_Mileage             116\n",
       "ARAI_Certified_Mileage_for_CNG    1240\n",
       "dtype: int64"
      ]
     },
     "execution_count": 14,
     "metadata": {},
     "output_type": "execute_result"
    }
   ],
   "source": [
    "df1.isnull().sum()"
   ]
  },
  {
   "cell_type": "code",
   "execution_count": 15,
   "id": "59c5d397",
   "metadata": {},
   "outputs": [
    {
     "data": {
      "text/plain": [
       "Make                              0.059195\n",
       "Model                             0.000000\n",
       "Variant                           0.000000\n",
       "Ex-Showroom_Price                 0.000000\n",
       "Displacement                      0.009471\n",
       "Drivetrain                        0.005525\n",
       "Cylinder_Configuration            0.010260\n",
       "Emission_Norm                     0.008682\n",
       "Engine_Location                   0.033938\n",
       "Fuel_System                       0.006314\n",
       "Fuel_Tank_Capacity                0.055249\n",
       "Fuel_Type                         0.000000\n",
       "Engine_Type                       0.973165\n",
       "Battery                           0.989740\n",
       "Electric_Range                    0.986582\n",
       "City_Mileage                      0.437253\n",
       "Highway_Mileage                   0.625099\n",
       "ARAI_Certified_Mileage            0.091555\n",
       "ARAI_Certified_Mileage_for_CNG    0.978690\n",
       "dtype: float64"
      ]
     },
     "execution_count": 15,
     "metadata": {},
     "output_type": "execute_result"
    }
   ],
   "source": [
    "pct_null = df1_cat.isnull().sum() / len(df1_cat)\n",
    "pct_null"
   ]
  },
  {
   "cell_type": "code",
   "execution_count": 16,
   "id": "e3d83411",
   "metadata": {},
   "outputs": [
    {
     "data": {
      "text/plain": [
       "0        23 \n",
       "1        23 \n",
       "2       15.0\n",
       "3        23 \n",
       "4        23 \n",
       "        ... \n",
       "1262    15.0\n",
       "1263    15.0\n",
       "1264    15.0\n",
       "1265    15.0\n",
       "1266    15.0\n",
       "Name: City_Mileage, Length: 1267, dtype: object"
      ]
     },
     "execution_count": 16,
     "metadata": {},
     "output_type": "execute_result"
    }
   ],
   "source": [
    "df1.City_Mileage=df1.City_Mileage.fillna(df1.City_Mileage.median())\n",
    "df1.City_Mileage"
   ]
  },
  {
   "cell_type": "code",
   "execution_count": 17,
   "id": "db7feeac",
   "metadata": {},
   "outputs": [
    {
     "name": "stdout",
     "output_type": "stream",
     "text": [
      "<class 'pandas.core.frame.DataFrame'>\n",
      "RangeIndex: 1267 entries, 0 to 1266\n",
      "Data columns (total 21 columns):\n",
      " #   Column                          Non-Null Count  Dtype  \n",
      "---  ------                          --------------  -----  \n",
      " 0   Make                            1192 non-null   object \n",
      " 1   Model                           1267 non-null   object \n",
      " 2   Variant                         1267 non-null   object \n",
      " 3   Ex-Showroom_Price               1267 non-null   object \n",
      " 4   Displacement                    1255 non-null   object \n",
      " 5   Cylinders                       1201 non-null   float64\n",
      " 6   Valves_Per_Cylinder             1165 non-null   float64\n",
      " 7   Drivetrain                      1260 non-null   object \n",
      " 8   Cylinder_Configuration          1254 non-null   object \n",
      " 9   Emission_Norm                   1256 non-null   object \n",
      " 10  Engine_Location                 1224 non-null   object \n",
      " 11  Fuel_System                     1259 non-null   object \n",
      " 12  Fuel_Tank_Capacity              1197 non-null   object \n",
      " 13  Fuel_Type                       1267 non-null   object \n",
      " 14  Engine_Type                     34 non-null     object \n",
      " 15  Battery                         13 non-null     object \n",
      " 16  Electric_Range                  17 non-null     object \n",
      " 17  City_Mileage                    1267 non-null   object \n",
      " 18  Highway_Mileage                 475 non-null    object \n",
      " 19  ARAI_Certified_Mileage          1151 non-null   object \n",
      " 20  ARAI_Certified_Mileage_for_CNG  27 non-null     object \n",
      "dtypes: float64(2), object(19)\n",
      "memory usage: 208.0+ KB\n"
     ]
    }
   ],
   "source": [
    "df1.info()"
   ]
  },
  {
   "cell_type": "code",
   "execution_count": 18,
   "id": "a1afc91b",
   "metadata": {},
   "outputs": [],
   "source": [
    "df1.drop(['Battery','Engine_Type','Electric_Range','ARAI_Certified_Mileage','Highway_Mileage','Drivetrain'],axis=1,inplace=True)"
   ]
  },
  {
   "cell_type": "code",
   "execution_count": 19,
   "id": "a8c9bb46",
   "metadata": {},
   "outputs": [
    {
     "name": "stdout",
     "output_type": "stream",
     "text": [
      "<class 'pandas.core.frame.DataFrame'>\n",
      "RangeIndex: 1267 entries, 0 to 1266\n",
      "Data columns (total 15 columns):\n",
      " #   Column                          Non-Null Count  Dtype  \n",
      "---  ------                          --------------  -----  \n",
      " 0   Make                            1192 non-null   object \n",
      " 1   Model                           1267 non-null   object \n",
      " 2   Variant                         1267 non-null   object \n",
      " 3   Ex-Showroom_Price               1267 non-null   object \n",
      " 4   Displacement                    1255 non-null   object \n",
      " 5   Cylinders                       1201 non-null   float64\n",
      " 6   Valves_Per_Cylinder             1165 non-null   float64\n",
      " 7   Cylinder_Configuration          1254 non-null   object \n",
      " 8   Emission_Norm                   1256 non-null   object \n",
      " 9   Engine_Location                 1224 non-null   object \n",
      " 10  Fuel_System                     1259 non-null   object \n",
      " 11  Fuel_Tank_Capacity              1197 non-null   object \n",
      " 12  Fuel_Type                       1267 non-null   object \n",
      " 13  City_Mileage                    1267 non-null   object \n",
      " 14  ARAI_Certified_Mileage_for_CNG  27 non-null     object \n",
      "dtypes: float64(2), object(13)\n",
      "memory usage: 148.6+ KB\n"
     ]
    }
   ],
   "source": [
    "df1.info()"
   ]
  },
  {
   "cell_type": "code",
   "execution_count": 20,
   "id": "bf533bae",
   "metadata": {},
   "outputs": [],
   "source": [
    "#df1.drop('ARAI_Certified_Mileage_for_CNG',axis=1,inplace=True)"
   ]
  },
  {
   "cell_type": "code",
   "execution_count": 158,
   "id": "6ed95f51",
   "metadata": {},
   "outputs": [
    {
     "name": "stdout",
     "output_type": "stream",
     "text": [
      "<class 'pandas.core.frame.DataFrame'>\n",
      "RangeIndex: 1267 entries, 0 to 1266\n",
      "Data columns (total 5 columns):\n",
      " #   Column              Non-Null Count  Dtype  \n",
      "---  ------              --------------  -----  \n",
      " 0   Ex-Showroom_Price   1267 non-null   object \n",
      " 1   Displacement        1267 non-null   object \n",
      " 2   Cylinders           1201 non-null   float64\n",
      " 3   Fuel_Tank_Capacity  1197 non-null   object \n",
      " 4   City_Mileage        1267 non-null   object \n",
      "dtypes: float64(1), object(4)\n",
      "memory usage: 49.6+ KB\n"
     ]
    }
   ],
   "source": [
    "df1_numeric=df1[['Ex-Showroom_Price','Displacement','Cylinders','Fuel_Tank_Capacity','City_Mileage']]\n",
    "df1_numeric.info()\n"
   ]
  },
  {
   "cell_type": "code",
   "execution_count": 160,
   "id": "4e47452e",
   "metadata": {},
   "outputs": [
    {
     "name": "stderr",
     "output_type": "stream",
     "text": [
      "C:\\Users\\lance\\AppData\\Local\\Temp/ipykernel_8992/4012638238.py:2: FutureWarning:\n",
      "\n",
      "The default value of regex will change from True to False in a future version.\n",
      "\n"
     ]
    }
   ],
   "source": [
    "df1['Ex-Showroom_Price']=df1['Ex-Showroom_Price'].str.replace(\"\",\"\") \n",
    "df1['Ex-Showroom_Price']=df1['Ex-Showroom_Price'].str.replace(\"Rs. \",\"\")\n",
    "df1['Ex-Showroom_Price']=df1['Ex-Showroom_Price'].str.replace(\",\",\"\") \n",
    "df1['Ex-Showroom_Price']=df1['Ex-Showroom_Price'].str.replace(\"\",\"\") \n",
    "\n",
    "df1['Displacement']=df1['Ex-Showroom_Price'].str.replace(\"cc\",\"\") \n",
    "df1['Fuel_Tank_Capacity']=df1['Fuel_Tank_Capacity'].str.replace(\"litres\",\"\")"
   ]
  },
  {
   "cell_type": "code",
   "execution_count": 161,
   "id": "449fabc9",
   "metadata": {},
   "outputs": [
    {
     "data": {
      "text/plain": [
       "0         292667\n",
       "1         236447\n",
       "2         296661\n",
       "3         334768\n",
       "4         272223\n",
       "          ...   \n",
       "1262     8290000\n",
       "1263     8290000\n",
       "1264     2770150\n",
       "1265     3070150\n",
       "1266    52000000\n",
       "Name: Ex-Showroom_Price, Length: 1267, dtype: object"
      ]
     },
     "execution_count": 161,
     "metadata": {},
     "output_type": "execute_result"
    }
   ],
   "source": [
    "df1_numeric['Ex-Showroom_Price']"
   ]
  },
  {
   "cell_type": "code",
   "execution_count": 162,
   "id": "a39c7161",
   "metadata": {},
   "outputs": [
    {
     "name": "stderr",
     "output_type": "stream",
     "text": [
      "C:\\Users\\lance\\AppData\\Local\\Temp/ipykernel_8992/1313782334.py:1: SettingWithCopyWarning:\n",
      "\n",
      "\n",
      "A value is trying to be set on a copy of a slice from a DataFrame.\n",
      "Try using .loc[row_indexer,col_indexer] = value instead\n",
      "\n",
      "See the caveats in the documentation: https://pandas.pydata.org/pandas-docs/stable/user_guide/indexing.html#returning-a-view-versus-a-copy\n",
      "\n",
      "C:\\Users\\lance\\AppData\\Local\\Temp/ipykernel_8992/1313782334.py:2: SettingWithCopyWarning:\n",
      "\n",
      "\n",
      "A value is trying to be set on a copy of a slice from a DataFrame.\n",
      "Try using .loc[row_indexer,col_indexer] = value instead\n",
      "\n",
      "See the caveats in the documentation: https://pandas.pydata.org/pandas-docs/stable/user_guide/indexing.html#returning-a-view-versus-a-copy\n",
      "\n",
      "C:\\Users\\lance\\AppData\\Local\\Temp/ipykernel_8992/1313782334.py:3: SettingWithCopyWarning:\n",
      "\n",
      "\n",
      "A value is trying to be set on a copy of a slice from a DataFrame.\n",
      "Try using .loc[row_indexer,col_indexer] = value instead\n",
      "\n",
      "See the caveats in the documentation: https://pandas.pydata.org/pandas-docs/stable/user_guide/indexing.html#returning-a-view-versus-a-copy\n",
      "\n",
      "C:\\Users\\lance\\AppData\\Local\\Temp/ipykernel_8992/1313782334.py:4: SettingWithCopyWarning:\n",
      "\n",
      "\n",
      "A value is trying to be set on a copy of a slice from a DataFrame.\n",
      "Try using .loc[row_indexer,col_indexer] = value instead\n",
      "\n",
      "See the caveats in the documentation: https://pandas.pydata.org/pandas-docs/stable/user_guide/indexing.html#returning-a-view-versus-a-copy\n",
      "\n",
      "C:\\Users\\lance\\AppData\\Local\\Temp/ipykernel_8992/1313782334.py:5: SettingWithCopyWarning:\n",
      "\n",
      "\n",
      "A value is trying to be set on a copy of a slice from a DataFrame.\n",
      "Try using .loc[row_indexer,col_indexer] = value instead\n",
      "\n",
      "See the caveats in the documentation: https://pandas.pydata.org/pandas-docs/stable/user_guide/indexing.html#returning-a-view-versus-a-copy\n",
      "\n"
     ]
    }
   ],
   "source": [
    "df1_numeric['Ex-Showroom_Price']=df1_numeric['Ex-Showroom_Price'].astype(float)\n",
    "df1_numeric['Displacement']=df1_numeric['Displacement'].astype(float)\n",
    "df1_numeric['Cylinders']=df1_numeric['Cylinders'].astype(float)\n",
    "df1_numeric['Fuel_Tank_Capacity']=df1_numeric['Fuel_Tank_Capacity'].astype(float)\n",
    "df1_numeric['City_Mileage']=df1_numeric['City_Mileage'].astype(float)\n"
   ]
  },
  {
   "cell_type": "code",
   "execution_count": 163,
   "id": "76cdbee7",
   "metadata": {},
   "outputs": [
    {
     "name": "stdout",
     "output_type": "stream",
     "text": [
      "<class 'pandas.core.frame.DataFrame'>\n",
      "RangeIndex: 1267 entries, 0 to 1266\n",
      "Data columns (total 5 columns):\n",
      " #   Column              Non-Null Count  Dtype  \n",
      "---  ------              --------------  -----  \n",
      " 0   Ex-Showroom_Price   1267 non-null   float64\n",
      " 1   Displacement        1267 non-null   float64\n",
      " 2   Cylinders           1201 non-null   float64\n",
      " 3   Fuel_Tank_Capacity  1197 non-null   float64\n",
      " 4   City_Mileage        1267 non-null   float64\n",
      "dtypes: float64(5)\n",
      "memory usage: 49.6 KB\n"
     ]
    }
   ],
   "source": [
    "df1_numeric.info()"
   ]
  },
  {
   "cell_type": "code",
   "execution_count": 164,
   "id": "3a042e4e",
   "metadata": {},
   "outputs": [
    {
     "data": {
      "text/html": [
       "<div><div id=ada462e9-15b8-4239-8f16-bd2a77107155 style=\"display:none; background-color:#9D6CFF; color:white; width:200px; height:30px; padding-left:5px; border-radius:4px; flex-direction:row; justify-content:space-around; align-items:center;\" onmouseover=\"this.style.backgroundColor='#BA9BF8'\" onmouseout=\"this.style.backgroundColor='#9D6CFF'\" onclick=\"window.commands?.execute('create-mitosheet-from-dataframe-output');\">See Full Dataframe in Mito</div> <script> if (window.commands?.hasCommand('create-mitosheet-from-dataframe-output')) document.getElementById('ada462e9-15b8-4239-8f16-bd2a77107155').style.display = 'flex' </script> <table border=\"1\" class=\"dataframe\">\n",
       "  <thead>\n",
       "    <tr style=\"text-align: right;\">\n",
       "      <th></th>\n",
       "      <th>Model</th>\n",
       "      <th>Emission_Norm</th>\n",
       "      <th>Fuel_System</th>\n",
       "      <th>Fuel_Type</th>\n",
       "      <th>Fuel_System</th>\n",
       "    </tr>\n",
       "  </thead>\n",
       "  <tbody>\n",
       "    <tr>\n",
       "      <th>0</th>\n",
       "      <td>Nano Genx</td>\n",
       "      <td>BS IV</td>\n",
       "      <td>Injection</td>\n",
       "      <td>Petrol</td>\n",
       "      <td>Injection</td>\n",
       "    </tr>\n",
       "    <tr>\n",
       "      <th>1</th>\n",
       "      <td>Nano Genx</td>\n",
       "      <td>BS IV</td>\n",
       "      <td>Injection</td>\n",
       "      <td>Petrol</td>\n",
       "      <td>Injection</td>\n",
       "    </tr>\n",
       "    <tr>\n",
       "      <th>2</th>\n",
       "      <td>Nano Genx</td>\n",
       "      <td>BS IV</td>\n",
       "      <td>Injection</td>\n",
       "      <td>CNG</td>\n",
       "      <td>Injection</td>\n",
       "    </tr>\n",
       "    <tr>\n",
       "      <th>3</th>\n",
       "      <td>Nano Genx</td>\n",
       "      <td>BS IV</td>\n",
       "      <td>Injection</td>\n",
       "      <td>Petrol</td>\n",
       "      <td>Injection</td>\n",
       "    </tr>\n",
       "    <tr>\n",
       "      <th>4</th>\n",
       "      <td>Nano Genx</td>\n",
       "      <td>BS IV</td>\n",
       "      <td>Injection</td>\n",
       "      <td>Petrol</td>\n",
       "      <td>Injection</td>\n",
       "    </tr>\n",
       "    <tr>\n",
       "      <th>...</th>\n",
       "      <td>...</td>\n",
       "      <td>...</td>\n",
       "      <td>...</td>\n",
       "      <td>...</td>\n",
       "      <td>...</td>\n",
       "    </tr>\n",
       "    <tr>\n",
       "      <th>1262</th>\n",
       "      <td>X5</td>\n",
       "      <td>BS IV</td>\n",
       "      <td>Injection</td>\n",
       "      <td>Diesel</td>\n",
       "      <td>Injection</td>\n",
       "    </tr>\n",
       "    <tr>\n",
       "      <th>1263</th>\n",
       "      <td>X5</td>\n",
       "      <td>BS IV</td>\n",
       "      <td>Injection</td>\n",
       "      <td>Petrol</td>\n",
       "      <td>Injection</td>\n",
       "    </tr>\n",
       "    <tr>\n",
       "      <th>1264</th>\n",
       "      <td>Alturas G4</td>\n",
       "      <td>BS IV</td>\n",
       "      <td>Injection</td>\n",
       "      <td>Diesel</td>\n",
       "      <td>Injection</td>\n",
       "    </tr>\n",
       "    <tr>\n",
       "      <th>1265</th>\n",
       "      <td>Alturas G4</td>\n",
       "      <td>NaN</td>\n",
       "      <td>Injection</td>\n",
       "      <td>Diesel</td>\n",
       "      <td>Injection</td>\n",
       "    </tr>\n",
       "    <tr>\n",
       "      <th>1266</th>\n",
       "      <td>812 Superfast</td>\n",
       "      <td>BS IV</td>\n",
       "      <td>Injection</td>\n",
       "      <td>Petrol</td>\n",
       "      <td>Injection</td>\n",
       "    </tr>\n",
       "  </tbody>\n",
       "</table></div>"
      ],
      "text/plain": [
       "              Model Emission_Norm Fuel_System Fuel_Type Fuel_System\n",
       "0         Nano Genx         BS IV   Injection    Petrol   Injection\n",
       "1         Nano Genx         BS IV   Injection    Petrol   Injection\n",
       "2         Nano Genx         BS IV   Injection       CNG   Injection\n",
       "3         Nano Genx         BS IV   Injection    Petrol   Injection\n",
       "4         Nano Genx         BS IV   Injection    Petrol   Injection\n",
       "...             ...           ...         ...       ...         ...\n",
       "1262             X5         BS IV   Injection    Diesel   Injection\n",
       "1263             X5         BS IV   Injection    Petrol   Injection\n",
       "1264     Alturas G4         BS IV   Injection    Diesel   Injection\n",
       "1265     Alturas G4           NaN   Injection    Diesel   Injection\n",
       "1266  812 Superfast         BS IV   Injection    Petrol   Injection\n",
       "\n",
       "[1267 rows x 5 columns]"
      ]
     },
     "execution_count": 164,
     "metadata": {},
     "output_type": "execute_result"
    }
   ],
   "source": [
    "df1_cat=df1[['Model','Emission_Norm','Fuel_System','Fuel_Type','Fuel_System']]\n",
    "df1_cat"
   ]
  },
  {
   "cell_type": "code",
   "execution_count": 165,
   "id": "65619088",
   "metadata": {},
   "outputs": [],
   "source": [
    "#df1.Electric_Range.value_counts()"
   ]
  },
  {
   "cell_type": "code",
   "execution_count": 166,
   "id": "d42e19df",
   "metadata": {},
   "outputs": [
    {
     "data": {
      "text/plain": [
       "(1267, 15)"
      ]
     },
     "execution_count": 166,
     "metadata": {},
     "output_type": "execute_result"
    }
   ],
   "source": [
    "df1.shape"
   ]
  },
  {
   "cell_type": "code",
   "execution_count": 167,
   "id": "59b8018d",
   "metadata": {},
   "outputs": [
    {
     "name": "stdout",
     "output_type": "stream",
     "text": [
      "['Make', 'Model', 'Variant', 'Ex-Showroom_Price', 'Displacement', 'Cylinders', 'Valves_Per_Cylinder', 'Cylinder_Configuration', 'Emission_Norm', 'Engine_Location', 'Fuel_System', 'Fuel_Tank_Capacity', 'Fuel_Type', 'City_Mileage', 'ARAI_Certified_Mileage_for_CNG']\n"
     ]
    }
   ],
   "source": [
    "print(df1.columns.tolist())"
   ]
  },
  {
   "cell_type": "code",
   "execution_count": 168,
   "id": "7a53c00f",
   "metadata": {},
   "outputs": [
    {
     "data": {
      "text/html": [
       "<div><div id=836b51d6-8134-4883-b7e2-7168aca607d1 style=\"display:none; background-color:#9D6CFF; color:white; width:200px; height:30px; padding-left:5px; border-radius:4px; flex-direction:row; justify-content:space-around; align-items:center;\" onmouseover=\"this.style.backgroundColor='#BA9BF8'\" onmouseout=\"this.style.backgroundColor='#9D6CFF'\" onclick=\"window.commands?.execute('create-mitosheet-from-dataframe-output');\">See Full Dataframe in Mito</div> <script> if (window.commands?.hasCommand('create-mitosheet-from-dataframe-output')) document.getElementById('836b51d6-8134-4883-b7e2-7168aca607d1').style.display = 'flex' </script> <table border=\"1\" class=\"dataframe\">\n",
       "  <thead>\n",
       "    <tr style=\"text-align: right;\">\n",
       "      <th></th>\n",
       "      <th>Make</th>\n",
       "      <th>Model</th>\n",
       "      <th>Variant</th>\n",
       "      <th>Ex-Showroom_Price</th>\n",
       "      <th>Displacement</th>\n",
       "      <th>Cylinders</th>\n",
       "      <th>Valves_Per_Cylinder</th>\n",
       "      <th>Cylinder_Configuration</th>\n",
       "      <th>Emission_Norm</th>\n",
       "      <th>Engine_Location</th>\n",
       "      <th>Fuel_System</th>\n",
       "      <th>Fuel_Tank_Capacity</th>\n",
       "      <th>Fuel_Type</th>\n",
       "      <th>City_Mileage</th>\n",
       "      <th>ARAI_Certified_Mileage_for_CNG</th>\n",
       "    </tr>\n",
       "  </thead>\n",
       "  <tbody>\n",
       "    <tr>\n",
       "      <th>0</th>\n",
       "      <td>Tata</td>\n",
       "      <td>Nano Genx</td>\n",
       "      <td>Xt</td>\n",
       "      <td>292667</td>\n",
       "      <td>292667</td>\n",
       "      <td>2.0</td>\n",
       "      <td>2.0</td>\n",
       "      <td>In-line</td>\n",
       "      <td>BS IV</td>\n",
       "      <td>Rear, Transverse</td>\n",
       "      <td>Injection</td>\n",
       "      <td>24</td>\n",
       "      <td>Petrol</td>\n",
       "      <td>23</td>\n",
       "      <td>NaN</td>\n",
       "    </tr>\n",
       "    <tr>\n",
       "      <th>1</th>\n",
       "      <td>Tata</td>\n",
       "      <td>Nano Genx</td>\n",
       "      <td>Xe</td>\n",
       "      <td>236447</td>\n",
       "      <td>236447</td>\n",
       "      <td>2.0</td>\n",
       "      <td>2.0</td>\n",
       "      <td>In-line</td>\n",
       "      <td>BS IV</td>\n",
       "      <td>Rear, Transverse</td>\n",
       "      <td>Injection</td>\n",
       "      <td>24</td>\n",
       "      <td>Petrol</td>\n",
       "      <td>23</td>\n",
       "      <td>NaN</td>\n",
       "    </tr>\n",
       "    <tr>\n",
       "      <th>2</th>\n",
       "      <td>Tata</td>\n",
       "      <td>Nano Genx</td>\n",
       "      <td>Emax Xm</td>\n",
       "      <td>296661</td>\n",
       "      <td>296661</td>\n",
       "      <td>2.0</td>\n",
       "      <td>2.0</td>\n",
       "      <td>In-line</td>\n",
       "      <td>BS IV</td>\n",
       "      <td>Rear, Transverse</td>\n",
       "      <td>Injection</td>\n",
       "      <td>15</td>\n",
       "      <td>CNG</td>\n",
       "      <td>15.0</td>\n",
       "      <td>36 km/kg</td>\n",
       "    </tr>\n",
       "    <tr>\n",
       "      <th>3</th>\n",
       "      <td>Tata</td>\n",
       "      <td>Nano Genx</td>\n",
       "      <td>Xta</td>\n",
       "      <td>334768</td>\n",
       "      <td>334768</td>\n",
       "      <td>2.0</td>\n",
       "      <td>2.0</td>\n",
       "      <td>In-line</td>\n",
       "      <td>BS IV</td>\n",
       "      <td>Rear, Transverse</td>\n",
       "      <td>Injection</td>\n",
       "      <td>24</td>\n",
       "      <td>Petrol</td>\n",
       "      <td>23</td>\n",
       "      <td>NaN</td>\n",
       "    </tr>\n",
       "    <tr>\n",
       "      <th>4</th>\n",
       "      <td>Tata</td>\n",
       "      <td>Nano Genx</td>\n",
       "      <td>Xm</td>\n",
       "      <td>272223</td>\n",
       "      <td>272223</td>\n",
       "      <td>2.0</td>\n",
       "      <td>2.0</td>\n",
       "      <td>In-line</td>\n",
       "      <td>BS IV</td>\n",
       "      <td>Rear, Transverse</td>\n",
       "      <td>Injection</td>\n",
       "      <td>24</td>\n",
       "      <td>Petrol</td>\n",
       "      <td>23</td>\n",
       "      <td>NaN</td>\n",
       "    </tr>\n",
       "    <tr>\n",
       "      <th>...</th>\n",
       "      <td>...</td>\n",
       "      <td>...</td>\n",
       "      <td>...</td>\n",
       "      <td>...</td>\n",
       "      <td>...</td>\n",
       "      <td>...</td>\n",
       "      <td>...</td>\n",
       "      <td>...</td>\n",
       "      <td>...</td>\n",
       "      <td>...</td>\n",
       "      <td>...</td>\n",
       "      <td>...</td>\n",
       "      <td>...</td>\n",
       "      <td>...</td>\n",
       "      <td>...</td>\n",
       "    </tr>\n",
       "    <tr>\n",
       "      <th>1262</th>\n",
       "      <td>Bmw</td>\n",
       "      <td>X5</td>\n",
       "      <td>Xdrive30D Xline</td>\n",
       "      <td>8290000</td>\n",
       "      <td>8290000</td>\n",
       "      <td>6.0</td>\n",
       "      <td>4.0</td>\n",
       "      <td>In-line</td>\n",
       "      <td>BS IV</td>\n",
       "      <td>Front, Longitudinal</td>\n",
       "      <td>Injection</td>\n",
       "      <td>NaN</td>\n",
       "      <td>Diesel</td>\n",
       "      <td>15.0</td>\n",
       "      <td>NaN</td>\n",
       "    </tr>\n",
       "    <tr>\n",
       "      <th>1263</th>\n",
       "      <td>Bmw</td>\n",
       "      <td>X5</td>\n",
       "      <td>Xdrive40I M Sport</td>\n",
       "      <td>8290000</td>\n",
       "      <td>8290000</td>\n",
       "      <td>6.0</td>\n",
       "      <td>4.0</td>\n",
       "      <td>In-line</td>\n",
       "      <td>BS IV</td>\n",
       "      <td>Front, Longitudinal</td>\n",
       "      <td>Injection</td>\n",
       "      <td>NaN</td>\n",
       "      <td>Petrol</td>\n",
       "      <td>15.0</td>\n",
       "      <td>NaN</td>\n",
       "    </tr>\n",
       "    <tr>\n",
       "      <th>1264</th>\n",
       "      <td>Mahindra</td>\n",
       "      <td>Alturas G4</td>\n",
       "      <td>2Wd At</td>\n",
       "      <td>2770150</td>\n",
       "      <td>2770150</td>\n",
       "      <td>4.0</td>\n",
       "      <td>NaN</td>\n",
       "      <td>In-line</td>\n",
       "      <td>BS IV</td>\n",
       "      <td>Front, Transverse</td>\n",
       "      <td>Injection</td>\n",
       "      <td>70</td>\n",
       "      <td>Diesel</td>\n",
       "      <td>15.0</td>\n",
       "      <td>NaN</td>\n",
       "    </tr>\n",
       "    <tr>\n",
       "      <th>1265</th>\n",
       "      <td>Mahindra</td>\n",
       "      <td>Alturas G4</td>\n",
       "      <td>4Wd At</td>\n",
       "      <td>3070150</td>\n",
       "      <td>3070150</td>\n",
       "      <td>4.0</td>\n",
       "      <td>4.0</td>\n",
       "      <td>In-line</td>\n",
       "      <td>NaN</td>\n",
       "      <td>Front, Transverse</td>\n",
       "      <td>Injection</td>\n",
       "      <td>70</td>\n",
       "      <td>Diesel</td>\n",
       "      <td>15.0</td>\n",
       "      <td>NaN</td>\n",
       "    </tr>\n",
       "    <tr>\n",
       "      <th>1266</th>\n",
       "      <td>Ferrari</td>\n",
       "      <td>812 Superfast</td>\n",
       "      <td>Superfast</td>\n",
       "      <td>52000000</td>\n",
       "      <td>52000000</td>\n",
       "      <td>12.0</td>\n",
       "      <td>NaN</td>\n",
       "      <td>V</td>\n",
       "      <td>BS IV</td>\n",
       "      <td>Front, Longitudinal</td>\n",
       "      <td>Injection</td>\n",
       "      <td>92</td>\n",
       "      <td>Petrol</td>\n",
       "      <td>15.0</td>\n",
       "      <td>NaN</td>\n",
       "    </tr>\n",
       "  </tbody>\n",
       "</table></div>"
      ],
      "text/plain": [
       "          Make          Model            Variant Ex-Showroom_Price  \\\n",
       "0         Tata      Nano Genx                 Xt            292667   \n",
       "1         Tata      Nano Genx                 Xe            236447   \n",
       "2         Tata      Nano Genx            Emax Xm            296661   \n",
       "3         Tata      Nano Genx                Xta            334768   \n",
       "4         Tata      Nano Genx                 Xm            272223   \n",
       "...        ...            ...                ...               ...   \n",
       "1262       Bmw             X5    Xdrive30D Xline           8290000   \n",
       "1263       Bmw             X5  Xdrive40I M Sport           8290000   \n",
       "1264  Mahindra     Alturas G4             2Wd At           2770150   \n",
       "1265  Mahindra     Alturas G4             4Wd At           3070150   \n",
       "1266   Ferrari  812 Superfast          Superfast          52000000   \n",
       "\n",
       "     Displacement  Cylinders  Valves_Per_Cylinder Cylinder_Configuration  \\\n",
       "0          292667        2.0                  2.0                In-line   \n",
       "1          236447        2.0                  2.0                In-line   \n",
       "2          296661        2.0                  2.0                In-line   \n",
       "3          334768        2.0                  2.0                In-line   \n",
       "4          272223        2.0                  2.0                In-line   \n",
       "...           ...        ...                  ...                    ...   \n",
       "1262      8290000        6.0                  4.0                In-line   \n",
       "1263      8290000        6.0                  4.0                In-line   \n",
       "1264      2770150        4.0                  NaN                In-line   \n",
       "1265      3070150        4.0                  4.0                In-line   \n",
       "1266     52000000       12.0                  NaN                      V   \n",
       "\n",
       "     Emission_Norm      Engine_Location Fuel_System Fuel_Tank_Capacity  \\\n",
       "0            BS IV     Rear, Transverse   Injection                24    \n",
       "1            BS IV     Rear, Transverse   Injection                24    \n",
       "2            BS IV     Rear, Transverse   Injection                15    \n",
       "3            BS IV     Rear, Transverse   Injection                24    \n",
       "4            BS IV     Rear, Transverse   Injection                24    \n",
       "...            ...                  ...         ...                ...   \n",
       "1262         BS IV  Front, Longitudinal   Injection                NaN   \n",
       "1263         BS IV  Front, Longitudinal   Injection                NaN   \n",
       "1264         BS IV    Front, Transverse   Injection                70    \n",
       "1265           NaN    Front, Transverse   Injection                70    \n",
       "1266         BS IV  Front, Longitudinal   Injection                92    \n",
       "\n",
       "     Fuel_Type City_Mileage ARAI_Certified_Mileage_for_CNG  \n",
       "0       Petrol          23                             NaN  \n",
       "1       Petrol          23                             NaN  \n",
       "2          CNG         15.0                       36 km/kg  \n",
       "3       Petrol          23                             NaN  \n",
       "4       Petrol          23                             NaN  \n",
       "...        ...          ...                            ...  \n",
       "1262    Diesel         15.0                            NaN  \n",
       "1263    Petrol         15.0                            NaN  \n",
       "1264    Diesel         15.0                            NaN  \n",
       "1265    Diesel         15.0                            NaN  \n",
       "1266    Petrol         15.0                            NaN  \n",
       "\n",
       "[1267 rows x 15 columns]"
      ]
     },
     "execution_count": 168,
     "metadata": {},
     "output_type": "execute_result"
    }
   ],
   "source": [
    "df1"
   ]
  },
  {
   "cell_type": "code",
   "execution_count": 169,
   "id": "8cef78cc",
   "metadata": {},
   "outputs": [
    {
     "data": {
      "text/html": [
       "<div><div id=0e302011-8b97-4bd6-829f-b5ab52021ab8 style=\"display:none; background-color:#9D6CFF; color:white; width:200px; height:30px; padding-left:5px; border-radius:4px; flex-direction:row; justify-content:space-around; align-items:center;\" onmouseover=\"this.style.backgroundColor='#BA9BF8'\" onmouseout=\"this.style.backgroundColor='#9D6CFF'\" onclick=\"window.commands?.execute('create-mitosheet-from-dataframe-output');\">See Full Dataframe in Mito</div> <script> if (window.commands?.hasCommand('create-mitosheet-from-dataframe-output')) document.getElementById('0e302011-8b97-4bd6-829f-b5ab52021ab8').style.display = 'flex' </script> <table border=\"1\" class=\"dataframe\">\n",
       "  <thead>\n",
       "    <tr style=\"text-align: right;\">\n",
       "      <th></th>\n",
       "      <th>Cylinders</th>\n",
       "      <th>Valves_Per_Cylinder</th>\n",
       "    </tr>\n",
       "  </thead>\n",
       "  <tbody>\n",
       "    <tr>\n",
       "      <th>count</th>\n",
       "      <td>1201.000000</td>\n",
       "      <td>1165.000000</td>\n",
       "    </tr>\n",
       "    <tr>\n",
       "      <th>mean</th>\n",
       "      <td>4.382182</td>\n",
       "      <td>3.977682</td>\n",
       "    </tr>\n",
       "    <tr>\n",
       "      <th>std</th>\n",
       "      <td>1.667728</td>\n",
       "      <td>0.836978</td>\n",
       "    </tr>\n",
       "    <tr>\n",
       "      <th>min</th>\n",
       "      <td>2.000000</td>\n",
       "      <td>1.000000</td>\n",
       "    </tr>\n",
       "    <tr>\n",
       "      <th>25%</th>\n",
       "      <td>4.000000</td>\n",
       "      <td>4.000000</td>\n",
       "    </tr>\n",
       "    <tr>\n",
       "      <th>50%</th>\n",
       "      <td>4.000000</td>\n",
       "      <td>4.000000</td>\n",
       "    </tr>\n",
       "    <tr>\n",
       "      <th>75%</th>\n",
       "      <td>4.000000</td>\n",
       "      <td>4.000000</td>\n",
       "    </tr>\n",
       "    <tr>\n",
       "      <th>max</th>\n",
       "      <td>16.000000</td>\n",
       "      <td>16.000000</td>\n",
       "    </tr>\n",
       "  </tbody>\n",
       "</table></div>"
      ],
      "text/plain": [
       "         Cylinders  Valves_Per_Cylinder\n",
       "count  1201.000000          1165.000000\n",
       "mean      4.382182             3.977682\n",
       "std       1.667728             0.836978\n",
       "min       2.000000             1.000000\n",
       "25%       4.000000             4.000000\n",
       "50%       4.000000             4.000000\n",
       "75%       4.000000             4.000000\n",
       "max      16.000000            16.000000"
      ]
     },
     "execution_count": 169,
     "metadata": {},
     "output_type": "execute_result"
    }
   ],
   "source": [
    "df1.describe()"
   ]
  },
  {
   "cell_type": "code",
   "execution_count": 170,
   "id": "ff53a919",
   "metadata": {},
   "outputs": [
    {
     "data": {
      "text/plain": [
       "array(['Nano Genx', 'Redi-Go', 'Kwid', 'Eeco', 'Alto K10', 'Go',\n",
       "       'Celerio Tour', 'Santro', 'Tiago', 'Celerio X', 'Ignis', 'Triber',\n",
       "       'Rio', 'Etios Liva', 'Micra Active', 'Bolt', 'Xcent Prime',\n",
       "       'Dzire Tour', 'Elite I20', 'Aura', 'Polo', 'Dzire', 'Freestyle',\n",
       "       'Ameo', 'Aspire', 'Platinum Etios', 'Etios Cross', 'Verito Vibe',\n",
       "       'Urban Cross', 'Glanza', 'Avventura', 'Jazz', 'Bolero Power Plus',\n",
       "       'Vitara Brezza', 'I20 Active', 'Ecosport', 'Duster', 'Verna',\n",
       "       'Xuv300', 'Lodgy', 'Vento', 'E2O Plus', 'Tigor Ev', 'Brv', 'Thar',\n",
       "       'Gurkha', 'Xl6', 'Abarth Avventura', 'Tuv300 Plus', 'Marazzo',\n",
       "       'Scorpio', 'Monte Carlo', 'Xuv500', 'E Verito', 'Hexa',\n",
       "       'Innova Crysta', 'Compass', 'Corolla Altis', 'Civic', 'Zs Ev',\n",
       "       'Carnival', 'Superb', 'Outlander', 'V40', 'Mercedes-Benz A-Class',\n",
       "       'Fortuner', 'Pajero Sport', 'Endeavour', 'V40 Cross Country',\n",
       "       'Cooper 3 Door', 'Mercedes-Benz Gla-Class', 'Kodiaq Scout',\n",
       "       'Countryman', 'X1', 'Camry', 'S60', 'Mercedes-Benz C-Class',\n",
       "       '3-Series', 'Accord Hybrid', 'S60 Cross Country', 'Prius', 'Q5',\n",
       "       'Mercedes-Benz Glc', 'Range Evoque', 'Es', 'Mercedes-Benz E-Class',\n",
       "       '5-Series', 'Nx 300H', 'A5', 'F-Pace', '6-Series',\n",
       "       'V90 Cross Country', 'Montero', 'A5 Cabriolet', 'Macan',\n",
       "       'Range Velar', 'Mercedes-Benz Gle',\n",
       "       'Mercedes-Benz E-Class All Terrain', 'Discovery', 'Xc90',\n",
       "       'Mercedes-Benz Cls', 'Range Sport', 'F-Type', 'Xj', 'X7',\n",
       "       'Cayenne', 'Cayenne Coupe', 'Ghibli', 'M4', 'Land Cruiser', 'M5',\n",
       "       'Rs7', '911', 'Range', 'Lc 500H', 'Mercedes-Benz Maybach',\n",
       "       'Panamera', 'Lx 450D', 'Mercedes-Benz S-Class Cabriolet', 'R8',\n",
       "       'Urus', 'Continental Gt', 'Portofino', 'Bentayga', 'Db 11',\n",
       "       '458 Speciale', 'Rolls-Royce Ghost Series Ii',\n",
       "       'Rolls-Royce Wraith', 'Mulsanne', 'Rolls-Royce Cullinan',\n",
       "       'Rolls-Royce Phantom Coupe', 'Chiron', 'Qute (Re60)', 'Alto',\n",
       "       'S-Presso', 'Celerio', 'Grand I10 Prime', 'Kuv100 Nxt', 'Swift',\n",
       "       'Altroz', 'Extreme', 'Tigor', 'Zest', 'Amaze', 'Gypsy', 'Venue',\n",
       "       'Nexon', 'Linea', 'Ertiga', 'Baleno Rs', 'Wr-V', 'Tuv300',\n",
       "       'S-Cross', 'Captur', 'Xylo', 'Seltos', 'Terrano', 'Safari Storme',\n",
       "       'Hector', 'Nexon Ev', 'Elantra', 'Tucson', 'Passat', 'Mu-X',\n",
       "       'Tiguan', 'Superb Sportline', 'Mercedes-Benz B-Class', 'Kodiaq',\n",
       "       'Q3', 'Convertible', 'Clubman', 'John Cooper Works', 'Xf', 'A6',\n",
       "       'Discovery Sport', 'Xc60', 'Wrangler', 'Z4 Roadster', 'Q7', 'S5',\n",
       "       'Mustang', 'Mercedes-Benz E-Class Cabriolet', '718',\n",
       "       'Land Cruiser Prado', 'Rs5', 'Q8', 'Levante', 'A8 L',\n",
       "       'Quattroporte', 'Grancabrio', 'Mercedes-Benz Amg-Gt',\n",
       "       'Mercedes-Benz Amg Gt 4-Door Coupe', 'Huracan', '488 Gtb',\n",
       "       'Gtc4 Lusso', 'Aventador', 'Rolls-Royce Dawn',\n",
       "       'Rolls-Royce Drophead Coupe', 'Omni', 'Go+', 'Punto Evo Pure',\n",
       "       'Figo', 'Baleno', 'Grand I10', 'Linea Classic', 'Sunny', 'Bolero',\n",
       "       'Ciaz', 'Rapid', 'Abarth Punto', 'Creta', 'Harrier',\n",
       "       'Dmax V-Cross', 'Compass Trailhawk', 'Cr-V',\n",
       "       'Mercedes-Benz Cla-Class', 'Cooper 5 Door', 'A4', 'A3 Cabriolet',\n",
       "       'S90', 'Mercedes-Benz C-Class Cabriolet',\n",
       "       'Range Evoque Convertible', 'Grand Cherokee', 'Mercedes-Benz Gls',\n",
       "       '7-Series', 'Mercedes-Benz G-Class', 'Ls 500H', 'Lx 570',\n",
       "       'Flying Spur', '458 Spider', 'Rolls-Royce Phantom',\n",
       "       'Alto 800 Tour', 'Grand I10 Nios', 'Xcent', 'Micra', 'Nuvosport',\n",
       "       'Kicks', 'Winger', 'Kona Electric', 'A3', 'Xc40', 'X3',\n",
       "       'Mercedes-Benz V-Class', 'M2 Competition', 'Mercedes-Benz S-Class',\n",
       "       'Gtr', 'Rapide', 'Wagon', 'Tiago Nrg', 'Yaris', 'Octavia',\n",
       "       'Avanti', 'X4', 'Rx 450H', 'Vantage', 'Punto Evo', 'City', 'Xe',\n",
       "       'Granturismo', 'Verito', 'X5', 'Alturas G4', '812 Superfast'],\n",
       "      dtype=object)"
      ]
     },
     "execution_count": 170,
     "metadata": {},
     "output_type": "execute_result"
    }
   ],
   "source": [
    "df1.Model.unique()"
   ]
  },
  {
   "cell_type": "code",
   "execution_count": 171,
   "id": "832f3800",
   "metadata": {},
   "outputs": [
    {
     "data": {
      "text/plain": [
       "263"
      ]
     },
     "execution_count": 171,
     "metadata": {},
     "output_type": "execute_result"
    }
   ],
   "source": [
    "len(df1.Model.unique())"
   ]
  },
  {
   "cell_type": "code",
   "execution_count": 172,
   "id": "e39f586a",
   "metadata": {},
   "outputs": [
    {
     "data": {
      "text/plain": [
       "array(['292667', '236447', '296661', ..., '8290000', '2770150', '3070150'],\n",
       "      dtype=object)"
      ]
     },
     "execution_count": 172,
     "metadata": {},
     "output_type": "execute_result"
    }
   ],
   "source": [
    "df1.Displacement.unique()"
   ]
  },
  {
   "cell_type": "code",
   "execution_count": 173,
   "id": "58c5d0cb",
   "metadata": {},
   "outputs": [
    {
     "data": {
      "text/plain": [
       "1162"
      ]
     },
     "execution_count": 173,
     "metadata": {},
     "output_type": "execute_result"
    }
   ],
   "source": [
    "len(df1.Displacement.unique())"
   ]
  },
  {
   "cell_type": "code",
   "execution_count": 174,
   "id": "fb5758b8",
   "metadata": {},
   "outputs": [
    {
     "name": "stderr",
     "output_type": "stream",
     "text": [
      "C:\\Users\\lance\\anaconda3\\lib\\site-packages\\seaborn\\_decorators.py:36: FutureWarning:\n",
      "\n",
      "Pass the following variables as keyword args: x, y. From version 0.12, the only valid positional argument will be `data`, and passing other arguments without an explicit keyword will result in an error or misinterpretation.\n",
      "\n"
     ]
    },
    {
     "data": {
      "text/plain": [
       "<AxesSubplot:>"
      ]
     },
     "execution_count": 174,
     "metadata": {},
     "output_type": "execute_result"
    },
    {
     "data": {
      "image/png": "[encoded data removed]",
      "text/plain": [
       "<Figure size 1080x1440 with 1 Axes>"
      ]
     },
     "metadata": {
      "needs_background": "light"
     },
     "output_type": "display_data"
    }
   ],
   "source": [
    "plt.figure(figsize=(15,20))\n",
    "sns.barplot(df1.Displacement.index,df1.Displacement.values)"
   ]
  },
  {
   "cell_type": "code",
   "execution_count": 175,
   "id": "59da8f54",
   "metadata": {},
   "outputs": [],
   "source": [
    "#df1.Electric_Range.unique()"
   ]
  },
  {
   "cell_type": "code",
   "execution_count": 176,
   "id": "ccecb7a4",
   "metadata": {},
   "outputs": [],
   "source": [
    "#df1.Electric_Range.value_counts()"
   ]
  },
  {
   "cell_type": "code",
   "execution_count": 177,
   "id": "d6c3b924",
   "metadata": {},
   "outputs": [
    {
     "data": {
      "text/plain": [
       "999900     14\n",
       "687175      8\n",
       "794000      7\n",
       "742033      5\n",
       "999990      4\n",
       "           ..\n",
       "2499000     1\n",
       "2196000     1\n",
       "1645000     1\n",
       "1806000     1\n",
       "3070150     1\n",
       "Name: Displacement, Length: 1162, dtype: int64"
      ]
     },
     "execution_count": 177,
     "metadata": {},
     "output_type": "execute_result"
    }
   ],
   "source": [
    "df1.Displacement.value_counts()\n"
   ]
  },
  {
   "cell_type": "code",
   "execution_count": 178,
   "id": "b786e725",
   "metadata": {},
   "outputs": [
    {
     "data": {
      "text/plain": [
       "In-line    1068\n",
       "V           176\n",
       "W             6\n",
       "Flat          4\n",
       "Name: Cylinder_Configuration, dtype: int64"
      ]
     },
     "execution_count": 178,
     "metadata": {},
     "output_type": "execute_result"
    }
   ],
   "source": [
    "df1['Cylinder_Configuration'].value_counts()"
   ]
  },
  {
   "cell_type": "code",
   "execution_count": 179,
   "id": "b6f695b5",
   "metadata": {},
   "outputs": [],
   "source": [
    "#df1.Engine_Type.value_counts()"
   ]
  },
  {
   "cell_type": "code",
   "execution_count": 180,
   "id": "95e4cc0c",
   "metadata": {},
   "outputs": [
    {
     "data": {
      "text/plain": [
       "999900     14\n",
       "687175      8\n",
       "794000      7\n",
       "742033      5\n",
       "999990      4\n",
       "           ..\n",
       "2499000     1\n",
       "2196000     1\n",
       "1645000     1\n",
       "1806000     1\n",
       "3070150     1\n",
       "Name: Ex-Showroom_Price, Length: 1162, dtype: int64"
      ]
     },
     "execution_count": 180,
     "metadata": {},
     "output_type": "execute_result"
    }
   ],
   "source": [
    "Ex_Showroom_Price=df1['Ex-Showroom_Price'].value_counts()\n",
    "Ex_Showroom_Price"
   ]
  },
  {
   "cell_type": "code",
   "execution_count": 181,
   "id": "f51dbdeb",
   "metadata": {},
   "outputs": [
    {
     "name": "stderr",
     "output_type": "stream",
     "text": [
      "C:\\Users\\lance\\anaconda3\\lib\\site-packages\\seaborn\\_decorators.py:36: FutureWarning:\n",
      "\n",
      "Pass the following variables as keyword args: x, y. From version 0.12, the only valid positional argument will be `data`, and passing other arguments without an explicit keyword will result in an error or misinterpretation.\n",
      "\n"
     ]
    },
    {
     "data": {
      "text/plain": [
       "<AxesSubplot:>"
      ]
     },
     "execution_count": 181,
     "metadata": {},
     "output_type": "execute_result"
    },
    {
     "data": {
      "image/png": "[encoded data removed]",
      "text/plain": [
       "<Figure size 432x288 with 1 Axes>"
      ]
     },
     "metadata": {
      "needs_background": "light"
     },
     "output_type": "display_data"
    }
   ],
   "source": [
    "sns.barplot(Ex_Showroom_Price.index,Ex_Showroom_Price.values)"
   ]
  },
  {
   "cell_type": "code",
   "execution_count": 182,
   "id": "49f8578f",
   "metadata": {},
   "outputs": [
    {
     "data": {
      "text/plain": [
       "Petrol          649\n",
       "Diesel          567\n",
       "CNG              16\n",
       "Hybrid           15\n",
       "Electric         14\n",
       "CNG + Petrol      6\n",
       "Name: Fuel_Type, dtype: int64"
      ]
     },
     "execution_count": 182,
     "metadata": {},
     "output_type": "execute_result"
    }
   ],
   "source": [
    "Fuel_type=df1.Fuel_Type.value_counts()\n",
    "Fuel_type"
   ]
  },
  {
   "cell_type": "code",
   "execution_count": 183,
   "id": "1d1e1d7c",
   "metadata": {},
   "outputs": [
    {
     "name": "stderr",
     "output_type": "stream",
     "text": [
      "C:\\Users\\lance\\anaconda3\\lib\\site-packages\\seaborn\\_decorators.py:36: FutureWarning:\n",
      "\n",
      "Pass the following variables as keyword args: x, y. From version 0.12, the only valid positional argument will be `data`, and passing other arguments without an explicit keyword will result in an error or misinterpretation.\n",
      "\n"
     ]
    },
    {
     "data": {
      "text/plain": [
       "<AxesSubplot:>"
      ]
     },
     "execution_count": 183,
     "metadata": {},
     "output_type": "execute_result"
    },
    {
     "data": {
      "image/png": "[encoded data removed]",
      "text/plain": [
       "<Figure size 432x288 with 1 Axes>"
      ]
     },
     "metadata": {
      "needs_background": "light"
     },
     "output_type": "display_data"
    }
   ],
   "source": [
    "sns.barplot(Fuel_type.index, Fuel_type.values)"
   ]
  },
  {
   "cell_type": "code",
   "execution_count": 184,
   "id": "52bd8e7d",
   "metadata": {},
   "outputs": [
    {
     "data": {
      "text/plain": [
       "BS IV     870\n",
       "BS 6      358\n",
       "BS VI      19\n",
       "BS III      9\n",
       "Name: Emission_Norm, dtype: int64"
      ]
     },
     "execution_count": 184,
     "metadata": {},
     "output_type": "execute_result"
    }
   ],
   "source": [
    "Emission_Norm=df.Emission_Norm.value_counts()\n",
    "Emission_Norm"
   ]
  },
  {
   "cell_type": "code",
   "execution_count": 185,
   "id": "72031f24",
   "metadata": {},
   "outputs": [
    {
     "name": "stderr",
     "output_type": "stream",
     "text": [
      "C:\\Users\\lance\\anaconda3\\lib\\site-packages\\seaborn\\_decorators.py:36: FutureWarning:\n",
      "\n",
      "Pass the following variables as keyword args: x, y. From version 0.12, the only valid positional argument will be `data`, and passing other arguments without an explicit keyword will result in an error or misinterpretation.\n",
      "\n"
     ]
    },
    {
     "data": {
      "text/plain": [
       "<AxesSubplot:>"
      ]
     },
     "execution_count": 185,
     "metadata": {},
     "output_type": "execute_result"
    },
    {
     "data": {
      "image/png": "[encoded data removed]",
      "text/plain": [
       "<Figure size 432x288 with 1 Axes>"
      ]
     },
     "metadata": {
      "needs_background": "light"
     },
     "output_type": "display_data"
    }
   ],
   "source": [
    "sns.barplot(Emission_Norm.index,Emission_Norm.values)"
   ]
  },
  {
   "cell_type": "code",
   "execution_count": 186,
   "id": "4151d63c",
   "metadata": {},
   "outputs": [
    {
     "data": {
      "text/plain": [
       "Injection    1255\n",
       "PGM - Fi        4\n",
       "Name: Fuel_System, dtype: int64"
      ]
     },
     "execution_count": 186,
     "metadata": {},
     "output_type": "execute_result"
    }
   ],
   "source": [
    "df1.Fuel_System.value_counts()"
   ]
  },
  {
   "cell_type": "code",
   "execution_count": 187,
   "id": "faf66c25",
   "metadata": {},
   "outputs": [
    {
     "data": {
      "text/html": [
       "<div><div id=49eead31-24b1-445a-9161-ee89e8bac051 style=\"display:none; background-color:#9D6CFF; color:white; width:200px; height:30px; padding-left:5px; border-radius:4px; flex-direction:row; justify-content:space-around; align-items:center;\" onmouseover=\"this.style.backgroundColor='#BA9BF8'\" onmouseout=\"this.style.backgroundColor='#9D6CFF'\" onclick=\"window.commands?.execute('create-mitosheet-from-dataframe-output');\">See Full Dataframe in Mito</div> <script> if (window.commands?.hasCommand('create-mitosheet-from-dataframe-output')) document.getElementById('49eead31-24b1-445a-9161-ee89e8bac051').style.display = 'flex' </script> <table border=\"1\" class=\"dataframe\">\n",
       "  <thead>\n",
       "    <tr style=\"text-align: right;\">\n",
       "      <th></th>\n",
       "      <th>Make</th>\n",
       "      <th>Model</th>\n",
       "      <th>Variant</th>\n",
       "      <th>Ex-Showroom_Price</th>\n",
       "      <th>Displacement</th>\n",
       "      <th>Cylinders</th>\n",
       "      <th>Valves_Per_Cylinder</th>\n",
       "      <th>Cylinder_Configuration</th>\n",
       "      <th>Emission_Norm</th>\n",
       "      <th>Engine_Location</th>\n",
       "      <th>Fuel_System</th>\n",
       "      <th>Fuel_Tank_Capacity</th>\n",
       "      <th>Fuel_Type</th>\n",
       "      <th>City_Mileage</th>\n",
       "      <th>ARAI_Certified_Mileage_for_CNG</th>\n",
       "    </tr>\n",
       "  </thead>\n",
       "  <tbody>\n",
       "    <tr>\n",
       "      <th>0</th>\n",
       "      <td>Tata</td>\n",
       "      <td>Nano Genx</td>\n",
       "      <td>Xt</td>\n",
       "      <td>292667</td>\n",
       "      <td>292667</td>\n",
       "      <td>2.0</td>\n",
       "      <td>2.0</td>\n",
       "      <td>In-line</td>\n",
       "      <td>BS IV</td>\n",
       "      <td>Rear, Transverse</td>\n",
       "      <td>Injection</td>\n",
       "      <td>24</td>\n",
       "      <td>Petrol</td>\n",
       "      <td>23</td>\n",
       "      <td>NaN</td>\n",
       "    </tr>\n",
       "    <tr>\n",
       "      <th>1</th>\n",
       "      <td>Tata</td>\n",
       "      <td>Nano Genx</td>\n",
       "      <td>Xe</td>\n",
       "      <td>236447</td>\n",
       "      <td>236447</td>\n",
       "      <td>2.0</td>\n",
       "      <td>2.0</td>\n",
       "      <td>In-line</td>\n",
       "      <td>BS IV</td>\n",
       "      <td>Rear, Transverse</td>\n",
       "      <td>Injection</td>\n",
       "      <td>24</td>\n",
       "      <td>Petrol</td>\n",
       "      <td>23</td>\n",
       "      <td>NaN</td>\n",
       "    </tr>\n",
       "    <tr>\n",
       "      <th>3</th>\n",
       "      <td>Tata</td>\n",
       "      <td>Nano Genx</td>\n",
       "      <td>Xta</td>\n",
       "      <td>334768</td>\n",
       "      <td>334768</td>\n",
       "      <td>2.0</td>\n",
       "      <td>2.0</td>\n",
       "      <td>In-line</td>\n",
       "      <td>BS IV</td>\n",
       "      <td>Rear, Transverse</td>\n",
       "      <td>Injection</td>\n",
       "      <td>24</td>\n",
       "      <td>Petrol</td>\n",
       "      <td>23</td>\n",
       "      <td>NaN</td>\n",
       "    </tr>\n",
       "    <tr>\n",
       "      <th>4</th>\n",
       "      <td>Tata</td>\n",
       "      <td>Nano Genx</td>\n",
       "      <td>Xm</td>\n",
       "      <td>272223</td>\n",
       "      <td>272223</td>\n",
       "      <td>2.0</td>\n",
       "      <td>2.0</td>\n",
       "      <td>In-line</td>\n",
       "      <td>BS IV</td>\n",
       "      <td>Rear, Transverse</td>\n",
       "      <td>Injection</td>\n",
       "      <td>24</td>\n",
       "      <td>Petrol</td>\n",
       "      <td>23</td>\n",
       "      <td>NaN</td>\n",
       "    </tr>\n",
       "    <tr>\n",
       "      <th>5</th>\n",
       "      <td>Tata</td>\n",
       "      <td>Nano Genx</td>\n",
       "      <td>Xma</td>\n",
       "      <td>314815</td>\n",
       "      <td>314815</td>\n",
       "      <td>2.0</td>\n",
       "      <td>2.0</td>\n",
       "      <td>In-line</td>\n",
       "      <td>BS IV</td>\n",
       "      <td>Rear, Transverse</td>\n",
       "      <td>Injection</td>\n",
       "      <td>24</td>\n",
       "      <td>Petrol</td>\n",
       "      <td>23</td>\n",
       "      <td>NaN</td>\n",
       "    </tr>\n",
       "    <tr>\n",
       "      <th>...</th>\n",
       "      <td>...</td>\n",
       "      <td>...</td>\n",
       "      <td>...</td>\n",
       "      <td>...</td>\n",
       "      <td>...</td>\n",
       "      <td>...</td>\n",
       "      <td>...</td>\n",
       "      <td>...</td>\n",
       "      <td>...</td>\n",
       "      <td>...</td>\n",
       "      <td>...</td>\n",
       "      <td>...</td>\n",
       "      <td>...</td>\n",
       "      <td>...</td>\n",
       "      <td>...</td>\n",
       "    </tr>\n",
       "    <tr>\n",
       "      <th>1253</th>\n",
       "      <td>Jaguar</td>\n",
       "      <td>Xe</td>\n",
       "      <td>S Petrol</td>\n",
       "      <td>4498000</td>\n",
       "      <td>4498000</td>\n",
       "      <td>4.0</td>\n",
       "      <td>4.0</td>\n",
       "      <td>In-line</td>\n",
       "      <td>BS 6</td>\n",
       "      <td>Front, Transverse</td>\n",
       "      <td>Injection</td>\n",
       "      <td>61</td>\n",
       "      <td>Petrol</td>\n",
       "      <td>15.0</td>\n",
       "      <td>NaN</td>\n",
       "    </tr>\n",
       "    <tr>\n",
       "      <th>1256</th>\n",
       "      <td>Jaguar</td>\n",
       "      <td>Xe</td>\n",
       "      <td>Se Petrol</td>\n",
       "      <td>4633000</td>\n",
       "      <td>4633000</td>\n",
       "      <td>4.0</td>\n",
       "      <td>4.0</td>\n",
       "      <td>In-line</td>\n",
       "      <td>BS 6</td>\n",
       "      <td>Front, Transverse</td>\n",
       "      <td>Injection</td>\n",
       "      <td>61</td>\n",
       "      <td>Petrol</td>\n",
       "      <td>15.0</td>\n",
       "      <td>NaN</td>\n",
       "    </tr>\n",
       "    <tr>\n",
       "      <th>1257</th>\n",
       "      <td>Maserati</td>\n",
       "      <td>Granturismo</td>\n",
       "      <td>Sport</td>\n",
       "      <td>17229579</td>\n",
       "      <td>17229579</td>\n",
       "      <td>8.0</td>\n",
       "      <td>4.0</td>\n",
       "      <td>V</td>\n",
       "      <td>BS IV</td>\n",
       "      <td>Front, Longitudinal</td>\n",
       "      <td>Injection</td>\n",
       "      <td>86</td>\n",
       "      <td>Petrol</td>\n",
       "      <td>4</td>\n",
       "      <td>NaN</td>\n",
       "    </tr>\n",
       "    <tr>\n",
       "      <th>1263</th>\n",
       "      <td>Bmw</td>\n",
       "      <td>X5</td>\n",
       "      <td>Xdrive40I M Sport</td>\n",
       "      <td>8290000</td>\n",
       "      <td>8290000</td>\n",
       "      <td>6.0</td>\n",
       "      <td>4.0</td>\n",
       "      <td>In-line</td>\n",
       "      <td>BS IV</td>\n",
       "      <td>Front, Longitudinal</td>\n",
       "      <td>Injection</td>\n",
       "      <td>NaN</td>\n",
       "      <td>Petrol</td>\n",
       "      <td>15.0</td>\n",
       "      <td>NaN</td>\n",
       "    </tr>\n",
       "    <tr>\n",
       "      <th>1266</th>\n",
       "      <td>Ferrari</td>\n",
       "      <td>812 Superfast</td>\n",
       "      <td>Superfast</td>\n",
       "      <td>52000000</td>\n",
       "      <td>52000000</td>\n",
       "      <td>12.0</td>\n",
       "      <td>NaN</td>\n",
       "      <td>V</td>\n",
       "      <td>BS IV</td>\n",
       "      <td>Front, Longitudinal</td>\n",
       "      <td>Injection</td>\n",
       "      <td>92</td>\n",
       "      <td>Petrol</td>\n",
       "      <td>15.0</td>\n",
       "      <td>NaN</td>\n",
       "    </tr>\n",
       "  </tbody>\n",
       "</table></div>"
      ],
      "text/plain": [
       "          Make          Model            Variant Ex-Showroom_Price  \\\n",
       "0         Tata      Nano Genx                 Xt            292667   \n",
       "1         Tata      Nano Genx                 Xe            236447   \n",
       "3         Tata      Nano Genx                Xta            334768   \n",
       "4         Tata      Nano Genx                 Xm            272223   \n",
       "5         Tata      Nano Genx                Xma            314815   \n",
       "...        ...            ...                ...               ...   \n",
       "1253    Jaguar             Xe           S Petrol           4498000   \n",
       "1256    Jaguar             Xe          Se Petrol           4633000   \n",
       "1257  Maserati    Granturismo              Sport          17229579   \n",
       "1263       Bmw             X5  Xdrive40I M Sport           8290000   \n",
       "1266   Ferrari  812 Superfast          Superfast          52000000   \n",
       "\n",
       "     Displacement  Cylinders  Valves_Per_Cylinder Cylinder_Configuration  \\\n",
       "0          292667        2.0                  2.0                In-line   \n",
       "1          236447        2.0                  2.0                In-line   \n",
       "3          334768        2.0                  2.0                In-line   \n",
       "4          272223        2.0                  2.0                In-line   \n",
       "5          314815        2.0                  2.0                In-line   \n",
       "...           ...        ...                  ...                    ...   \n",
       "1253      4498000        4.0                  4.0                In-line   \n",
       "1256      4633000        4.0                  4.0                In-line   \n",
       "1257     17229579        8.0                  4.0                      V   \n",
       "1263      8290000        6.0                  4.0                In-line   \n",
       "1266     52000000       12.0                  NaN                      V   \n",
       "\n",
       "     Emission_Norm      Engine_Location Fuel_System Fuel_Tank_Capacity  \\\n",
       "0            BS IV     Rear, Transverse   Injection                24    \n",
       "1            BS IV     Rear, Transverse   Injection                24    \n",
       "3            BS IV     Rear, Transverse   Injection                24    \n",
       "4            BS IV     Rear, Transverse   Injection                24    \n",
       "5            BS IV     Rear, Transverse   Injection                24    \n",
       "...            ...                  ...         ...                ...   \n",
       "1253          BS 6    Front, Transverse   Injection                61    \n",
       "1256          BS 6    Front, Transverse   Injection                61    \n",
       "1257         BS IV  Front, Longitudinal   Injection                86    \n",
       "1263         BS IV  Front, Longitudinal   Injection                NaN   \n",
       "1266         BS IV  Front, Longitudinal   Injection                92    \n",
       "\n",
       "     Fuel_Type City_Mileage ARAI_Certified_Mileage_for_CNG  \n",
       "0       Petrol          23                             NaN  \n",
       "1       Petrol          23                             NaN  \n",
       "3       Petrol          23                             NaN  \n",
       "4       Petrol          23                             NaN  \n",
       "5       Petrol          23                             NaN  \n",
       "...        ...          ...                            ...  \n",
       "1253    Petrol         15.0                            NaN  \n",
       "1256    Petrol         15.0                            NaN  \n",
       "1257    Petrol           4                             NaN  \n",
       "1263    Petrol         15.0                            NaN  \n",
       "1266    Petrol         15.0                            NaN  \n",
       "\n",
       "[649 rows x 15 columns]"
      ]
     },
     "execution_count": 187,
     "metadata": {},
     "output_type": "execute_result"
    }
   ],
   "source": [
    "Petrol=df1[df1.Fuel_Type=='Petrol']\n",
    "Petrol"
   ]
  },
  {
   "cell_type": "code",
   "execution_count": 188,
   "id": "d46824df",
   "metadata": {},
   "outputs": [
    {
     "name": "stderr",
     "output_type": "stream",
     "text": [
      "C:\\Users\\lance\\AppData\\Local\\Temp/ipykernel_8992/4275499934.py:1: DeprecationWarning:\n",
      "\n",
      "`np.object` is a deprecated alias for the builtin `object`. To silence this warning, use `object` by itself. Doing this will not modify any behavior and is safe. \n",
      "Deprecated in NumPy 1.20; for more details and guidance: https://numpy.org/devdocs/release/1.20.0-notes.html#deprecations\n",
      "\n"
     ]
    },
    {
     "data": {
      "text/html": [
       "<div><div id=4f640ddf-6cbc-4a23-8be4-d7aca4a3059a style=\"display:none; background-color:#9D6CFF; color:white; width:200px; height:30px; padding-left:5px; border-radius:4px; flex-direction:row; justify-content:space-around; align-items:center;\" onmouseover=\"this.style.backgroundColor='#BA9BF8'\" onmouseout=\"this.style.backgroundColor='#9D6CFF'\" onclick=\"window.commands?.execute('create-mitosheet-from-dataframe-output');\">See Full Dataframe in Mito</div> <script> if (window.commands?.hasCommand('create-mitosheet-from-dataframe-output')) document.getElementById('4f640ddf-6cbc-4a23-8be4-d7aca4a3059a').style.display = 'flex' </script> <table border=\"1\" class=\"dataframe\">\n",
       "  <thead>\n",
       "    <tr style=\"text-align: right;\">\n",
       "      <th></th>\n",
       "      <th>Make</th>\n",
       "      <th>Model</th>\n",
       "      <th>Variant</th>\n",
       "      <th>Ex-Showroom_Price</th>\n",
       "      <th>Displacement</th>\n",
       "      <th>Drivetrain</th>\n",
       "      <th>Cylinder_Configuration</th>\n",
       "      <th>Emission_Norm</th>\n",
       "      <th>Engine_Location</th>\n",
       "      <th>Fuel_System</th>\n",
       "      <th>...</th>\n",
       "      <th>Paddle_Shifters</th>\n",
       "      <th>Leather_Wrapped_Steering</th>\n",
       "      <th>Automatic_Headlamps</th>\n",
       "      <th>Engine_Type</th>\n",
       "      <th>ASR_/_Traction_Control</th>\n",
       "      <th>Cruise_Control</th>\n",
       "      <th>Heads-Up_Display</th>\n",
       "      <th>Welcome_Lights</th>\n",
       "      <th>Battery</th>\n",
       "      <th>Electric_Range</th>\n",
       "    </tr>\n",
       "  </thead>\n",
       "  <tbody>\n",
       "    <tr>\n",
       "      <th>0</th>\n",
       "      <td>Tata</td>\n",
       "      <td>Nano Genx</td>\n",
       "      <td>Xt</td>\n",
       "      <td>Rs. 2,92,667</td>\n",
       "      <td>624 cc</td>\n",
       "      <td>RWD (Rear Wheel Drive)</td>\n",
       "      <td>In-line</td>\n",
       "      <td>BS IV</td>\n",
       "      <td>Rear, Transverse</td>\n",
       "      <td>Injection</td>\n",
       "      <td>...</td>\n",
       "      <td>NaN</td>\n",
       "      <td>NaN</td>\n",
       "      <td>NaN</td>\n",
       "      <td>NaN</td>\n",
       "      <td>NaN</td>\n",
       "      <td>NaN</td>\n",
       "      <td>NaN</td>\n",
       "      <td>NaN</td>\n",
       "      <td>NaN</td>\n",
       "      <td>NaN</td>\n",
       "    </tr>\n",
       "    <tr>\n",
       "      <th>1</th>\n",
       "      <td>Tata</td>\n",
       "      <td>Nano Genx</td>\n",
       "      <td>Xe</td>\n",
       "      <td>Rs. 2,36,447</td>\n",
       "      <td>624 cc</td>\n",
       "      <td>RWD (Rear Wheel Drive)</td>\n",
       "      <td>In-line</td>\n",
       "      <td>BS IV</td>\n",
       "      <td>Rear, Transverse</td>\n",
       "      <td>Injection</td>\n",
       "      <td>...</td>\n",
       "      <td>NaN</td>\n",
       "      <td>NaN</td>\n",
       "      <td>NaN</td>\n",
       "      <td>NaN</td>\n",
       "      <td>NaN</td>\n",
       "      <td>NaN</td>\n",
       "      <td>NaN</td>\n",
       "      <td>NaN</td>\n",
       "      <td>NaN</td>\n",
       "      <td>NaN</td>\n",
       "    </tr>\n",
       "    <tr>\n",
       "      <th>2</th>\n",
       "      <td>Tata</td>\n",
       "      <td>Nano Genx</td>\n",
       "      <td>Emax Xm</td>\n",
       "      <td>Rs. 2,96,661</td>\n",
       "      <td>624 cc</td>\n",
       "      <td>RWD (Rear Wheel Drive)</td>\n",
       "      <td>In-line</td>\n",
       "      <td>BS IV</td>\n",
       "      <td>Rear, Transverse</td>\n",
       "      <td>Injection</td>\n",
       "      <td>...</td>\n",
       "      <td>NaN</td>\n",
       "      <td>NaN</td>\n",
       "      <td>NaN</td>\n",
       "      <td>NaN</td>\n",
       "      <td>NaN</td>\n",
       "      <td>NaN</td>\n",
       "      <td>NaN</td>\n",
       "      <td>NaN</td>\n",
       "      <td>NaN</td>\n",
       "      <td>NaN</td>\n",
       "    </tr>\n",
       "    <tr>\n",
       "      <th>3</th>\n",
       "      <td>Tata</td>\n",
       "      <td>Nano Genx</td>\n",
       "      <td>Xta</td>\n",
       "      <td>Rs. 3,34,768</td>\n",
       "      <td>624 cc</td>\n",
       "      <td>RWD (Rear Wheel Drive)</td>\n",
       "      <td>In-line</td>\n",
       "      <td>BS IV</td>\n",
       "      <td>Rear, Transverse</td>\n",
       "      <td>Injection</td>\n",
       "      <td>...</td>\n",
       "      <td>NaN</td>\n",
       "      <td>NaN</td>\n",
       "      <td>NaN</td>\n",
       "      <td>NaN</td>\n",
       "      <td>NaN</td>\n",
       "      <td>NaN</td>\n",
       "      <td>NaN</td>\n",
       "      <td>NaN</td>\n",
       "      <td>NaN</td>\n",
       "      <td>NaN</td>\n",
       "    </tr>\n",
       "    <tr>\n",
       "      <th>4</th>\n",
       "      <td>Tata</td>\n",
       "      <td>Nano Genx</td>\n",
       "      <td>Xm</td>\n",
       "      <td>Rs. 2,72,223</td>\n",
       "      <td>624 cc</td>\n",
       "      <td>RWD (Rear Wheel Drive)</td>\n",
       "      <td>In-line</td>\n",
       "      <td>BS IV</td>\n",
       "      <td>Rear, Transverse</td>\n",
       "      <td>Injection</td>\n",
       "      <td>...</td>\n",
       "      <td>NaN</td>\n",
       "      <td>NaN</td>\n",
       "      <td>NaN</td>\n",
       "      <td>NaN</td>\n",
       "      <td>NaN</td>\n",
       "      <td>NaN</td>\n",
       "      <td>NaN</td>\n",
       "      <td>NaN</td>\n",
       "      <td>NaN</td>\n",
       "      <td>NaN</td>\n",
       "    </tr>\n",
       "    <tr>\n",
       "      <th>...</th>\n",
       "      <td>...</td>\n",
       "      <td>...</td>\n",
       "      <td>...</td>\n",
       "      <td>...</td>\n",
       "      <td>...</td>\n",
       "      <td>...</td>\n",
       "      <td>...</td>\n",
       "      <td>...</td>\n",
       "      <td>...</td>\n",
       "      <td>...</td>\n",
       "      <td>...</td>\n",
       "      <td>...</td>\n",
       "      <td>...</td>\n",
       "      <td>...</td>\n",
       "      <td>...</td>\n",
       "      <td>...</td>\n",
       "      <td>...</td>\n",
       "      <td>...</td>\n",
       "      <td>...</td>\n",
       "      <td>...</td>\n",
       "      <td>...</td>\n",
       "    </tr>\n",
       "    <tr>\n",
       "      <th>1262</th>\n",
       "      <td>Bmw</td>\n",
       "      <td>X5</td>\n",
       "      <td>Xdrive30D Xline</td>\n",
       "      <td>Rs. 82,90,000</td>\n",
       "      <td>2993 cc</td>\n",
       "      <td>AWD (All Wheel Drive)</td>\n",
       "      <td>In-line</td>\n",
       "      <td>BS IV</td>\n",
       "      <td>Front, Longitudinal</td>\n",
       "      <td>Injection</td>\n",
       "      <td>...</td>\n",
       "      <td>Yes</td>\n",
       "      <td>Yes</td>\n",
       "      <td>Yes</td>\n",
       "      <td>NaN</td>\n",
       "      <td>Yes</td>\n",
       "      <td>Yes</td>\n",
       "      <td>Yes</td>\n",
       "      <td>Yes</td>\n",
       "      <td>NaN</td>\n",
       "      <td>NaN</td>\n",
       "    </tr>\n",
       "    <tr>\n",
       "      <th>1263</th>\n",
       "      <td>Bmw</td>\n",
       "      <td>X5</td>\n",
       "      <td>Xdrive40I M Sport</td>\n",
       "      <td>Rs. 82,90,000</td>\n",
       "      <td>2998 cc</td>\n",
       "      <td>AWD (All Wheel Drive)</td>\n",
       "      <td>In-line</td>\n",
       "      <td>BS IV</td>\n",
       "      <td>Front, Longitudinal</td>\n",
       "      <td>Injection</td>\n",
       "      <td>...</td>\n",
       "      <td>Yes</td>\n",
       "      <td>Yes</td>\n",
       "      <td>Yes</td>\n",
       "      <td>NaN</td>\n",
       "      <td>Yes</td>\n",
       "      <td>Yes</td>\n",
       "      <td>NaN</td>\n",
       "      <td>NaN</td>\n",
       "      <td>NaN</td>\n",
       "      <td>NaN</td>\n",
       "    </tr>\n",
       "    <tr>\n",
       "      <th>1264</th>\n",
       "      <td>Mahindra</td>\n",
       "      <td>Alturas G4</td>\n",
       "      <td>2Wd At</td>\n",
       "      <td>Rs. 27,70,150</td>\n",
       "      <td>2157 cc</td>\n",
       "      <td>FWD (Front Wheel Drive)</td>\n",
       "      <td>In-line</td>\n",
       "      <td>BS IV</td>\n",
       "      <td>Front, Transverse</td>\n",
       "      <td>Injection</td>\n",
       "      <td>...</td>\n",
       "      <td>Yes</td>\n",
       "      <td>Yes</td>\n",
       "      <td>Yes</td>\n",
       "      <td>NaN</td>\n",
       "      <td>Yes</td>\n",
       "      <td>Yes</td>\n",
       "      <td>NaN</td>\n",
       "      <td>NaN</td>\n",
       "      <td>NaN</td>\n",
       "      <td>NaN</td>\n",
       "    </tr>\n",
       "    <tr>\n",
       "      <th>1265</th>\n",
       "      <td>Mahindra</td>\n",
       "      <td>Alturas G4</td>\n",
       "      <td>4Wd At</td>\n",
       "      <td>Rs. 30,70,150</td>\n",
       "      <td>2157 cc</td>\n",
       "      <td>4WD</td>\n",
       "      <td>In-line</td>\n",
       "      <td>NaN</td>\n",
       "      <td>Front, Transverse</td>\n",
       "      <td>Injection</td>\n",
       "      <td>...</td>\n",
       "      <td>NaN</td>\n",
       "      <td>Yes</td>\n",
       "      <td>Yes</td>\n",
       "      <td>NaN</td>\n",
       "      <td>Yes</td>\n",
       "      <td>Yes</td>\n",
       "      <td>NaN</td>\n",
       "      <td>NaN</td>\n",
       "      <td>NaN</td>\n",
       "      <td>NaN</td>\n",
       "    </tr>\n",
       "    <tr>\n",
       "      <th>1266</th>\n",
       "      <td>Ferrari</td>\n",
       "      <td>812 Superfast</td>\n",
       "      <td>Superfast</td>\n",
       "      <td>Rs. 5,20,00,000</td>\n",
       "      <td>6496 cc</td>\n",
       "      <td>AWD (All Wheel Drive)</td>\n",
       "      <td>V</td>\n",
       "      <td>BS IV</td>\n",
       "      <td>Front, Longitudinal</td>\n",
       "      <td>Injection</td>\n",
       "      <td>...</td>\n",
       "      <td>Yes</td>\n",
       "      <td>Yes</td>\n",
       "      <td>Yes</td>\n",
       "      <td>NaN</td>\n",
       "      <td>Yes</td>\n",
       "      <td>Yes</td>\n",
       "      <td>NaN</td>\n",
       "      <td>NaN</td>\n",
       "      <td>NaN</td>\n",
       "      <td>NaN</td>\n",
       "    </tr>\n",
       "  </tbody>\n",
       "</table></div>"
      ],
      "text/plain": [
       "          Make          Model            Variant Ex-Showroom_Price  \\\n",
       "0         Tata      Nano Genx                 Xt      Rs. 2,92,667   \n",
       "1         Tata      Nano Genx                 Xe      Rs. 2,36,447   \n",
       "2         Tata      Nano Genx            Emax Xm      Rs. 2,96,661   \n",
       "3         Tata      Nano Genx                Xta      Rs. 3,34,768   \n",
       "4         Tata      Nano Genx                 Xm      Rs. 2,72,223   \n",
       "...        ...            ...                ...               ...   \n",
       "1262       Bmw             X5    Xdrive30D Xline     Rs. 82,90,000   \n",
       "1263       Bmw             X5  Xdrive40I M Sport     Rs. 82,90,000   \n",
       "1264  Mahindra     Alturas G4             2Wd At     Rs. 27,70,150   \n",
       "1265  Mahindra     Alturas G4             4Wd At     Rs. 30,70,150   \n",
       "1266   Ferrari  812 Superfast          Superfast   Rs. 5,20,00,000   \n",
       "\n",
       "     Displacement               Drivetrain Cylinder_Configuration  \\\n",
       "0          624 cc   RWD (Rear Wheel Drive)                In-line   \n",
       "1          624 cc   RWD (Rear Wheel Drive)                In-line   \n",
       "2          624 cc   RWD (Rear Wheel Drive)                In-line   \n",
       "3          624 cc   RWD (Rear Wheel Drive)                In-line   \n",
       "4          624 cc   RWD (Rear Wheel Drive)                In-line   \n",
       "...           ...                      ...                    ...   \n",
       "1262      2993 cc    AWD (All Wheel Drive)                In-line   \n",
       "1263      2998 cc    AWD (All Wheel Drive)                In-line   \n",
       "1264      2157 cc  FWD (Front Wheel Drive)                In-line   \n",
       "1265      2157 cc                      4WD                In-line   \n",
       "1266      6496 cc    AWD (All Wheel Drive)                      V   \n",
       "\n",
       "     Emission_Norm      Engine_Location Fuel_System  ... Paddle_Shifters  \\\n",
       "0            BS IV     Rear, Transverse   Injection  ...             NaN   \n",
       "1            BS IV     Rear, Transverse   Injection  ...             NaN   \n",
       "2            BS IV     Rear, Transverse   Injection  ...             NaN   \n",
       "3            BS IV     Rear, Transverse   Injection  ...             NaN   \n",
       "4            BS IV     Rear, Transverse   Injection  ...             NaN   \n",
       "...            ...                  ...         ...  ...             ...   \n",
       "1262         BS IV  Front, Longitudinal   Injection  ...             Yes   \n",
       "1263         BS IV  Front, Longitudinal   Injection  ...             Yes   \n",
       "1264         BS IV    Front, Transverse   Injection  ...             Yes   \n",
       "1265           NaN    Front, Transverse   Injection  ...             NaN   \n",
       "1266         BS IV  Front, Longitudinal   Injection  ...             Yes   \n",
       "\n",
       "     Leather_Wrapped_Steering Automatic_Headlamps Engine_Type  \\\n",
       "0                         NaN                 NaN         NaN   \n",
       "1                         NaN                 NaN         NaN   \n",
       "2                         NaN                 NaN         NaN   \n",
       "3                         NaN                 NaN         NaN   \n",
       "4                         NaN                 NaN         NaN   \n",
       "...                       ...                 ...         ...   \n",
       "1262                      Yes                 Yes         NaN   \n",
       "1263                      Yes                 Yes         NaN   \n",
       "1264                      Yes                 Yes         NaN   \n",
       "1265                      Yes                 Yes         NaN   \n",
       "1266                      Yes                 Yes         NaN   \n",
       "\n",
       "     ASR_/_Traction_Control Cruise_Control Heads-Up_Display Welcome_Lights  \\\n",
       "0                       NaN            NaN              NaN            NaN   \n",
       "1                       NaN            NaN              NaN            NaN   \n",
       "2                       NaN            NaN              NaN            NaN   \n",
       "3                       NaN            NaN              NaN            NaN   \n",
       "4                       NaN            NaN              NaN            NaN   \n",
       "...                     ...            ...              ...            ...   \n",
       "1262                    Yes            Yes              Yes            Yes   \n",
       "1263                    Yes            Yes              NaN            NaN   \n",
       "1264                    Yes            Yes              NaN            NaN   \n",
       "1265                    Yes            Yes              NaN            NaN   \n",
       "1266                    Yes            Yes              NaN            NaN   \n",
       "\n",
       "     Battery Electric_Range  \n",
       "0        NaN            NaN  \n",
       "1        NaN            NaN  \n",
       "2        NaN            NaN  \n",
       "3        NaN            NaN  \n",
       "4        NaN            NaN  \n",
       "...      ...            ...  \n",
       "1262     NaN            NaN  \n",
       "1263     NaN            NaN  \n",
       "1264     NaN            NaN  \n",
       "1265     NaN            NaN  \n",
       "1266     NaN            NaN  \n",
       "\n",
       "[1267 rows x 131 columns]"
      ]
     },
     "execution_count": 188,
     "metadata": {},
     "output_type": "execute_result"
    }
   ],
   "source": [
    "df.loc[:,df.dtypes==np.object]"
   ]
  },
  {
   "cell_type": "code",
   "execution_count": 189,
   "id": "fca5e6f1",
   "metadata": {},
   "outputs": [
    {
     "data": {
      "text/plain": [
       "Make                               48\n",
       "Model                               0\n",
       "Variant                             0\n",
       "Ex-Showroom_Price                   0\n",
       "Displacement                        0\n",
       "Cylinders                          17\n",
       "Valves_Per_Cylinder                39\n",
       "Cylinder_Configuration              4\n",
       "Emission_Norm                       6\n",
       "Engine_Location                    20\n",
       "Fuel_System                         4\n",
       "Fuel_Tank_Capacity                 19\n",
       "Fuel_Type                           0\n",
       "City_Mileage                        0\n",
       "ARAI_Certified_Mileage_for_CNG    644\n",
       "dtype: int64"
      ]
     },
     "execution_count": 189,
     "metadata": {},
     "output_type": "execute_result"
    }
   ],
   "source": [
    "Petrol.isnull().sum()"
   ]
  },
  {
   "cell_type": "code",
   "execution_count": 190,
   "id": "3a87cbd8",
   "metadata": {},
   "outputs": [
    {
     "name": "stderr",
     "output_type": "stream",
     "text": [
      "C:\\Users\\lance\\AppData\\Local\\Temp/ipykernel_8992/2746639254.py:1: FutureWarning:\n",
      "\n",
      "Dropping of nuisance columns in DataFrame reductions (with 'numeric_only=None') is deprecated; in a future version this will raise TypeError.  Select only valid columns before calling the reduction.\n",
      "\n",
      "C:\\Users\\lance\\AppData\\Local\\Temp/ipykernel_8992/2746639254.py:1: SettingWithCopyWarning:\n",
      "\n",
      "\n",
      "A value is trying to be set on a copy of a slice from a DataFrame.\n",
      "Try using .loc[row_indexer,col_indexer] = value instead\n",
      "\n",
      "See the caveats in the documentation: https://pandas.pydata.org/pandas-docs/stable/user_guide/indexing.html#returning-a-view-versus-a-copy\n",
      "\n"
     ]
    }
   ],
   "source": [
    "Petrol.fillna(Petrol.median(),inplace=True)"
   ]
  },
  {
   "cell_type": "code",
   "execution_count": 191,
   "id": "c35be40f",
   "metadata": {},
   "outputs": [
    {
     "data": {
      "text/plain": [
       "Make                               48\n",
       "Model                               0\n",
       "Variant                             0\n",
       "Ex-Showroom_Price                   0\n",
       "Displacement                        0\n",
       "Cylinders                           0\n",
       "Valves_Per_Cylinder                 0\n",
       "Cylinder_Configuration              4\n",
       "Emission_Norm                       6\n",
       "Engine_Location                    20\n",
       "Fuel_System                         4\n",
       "Fuel_Tank_Capacity                  0\n",
       "Fuel_Type                           0\n",
       "City_Mileage                        0\n",
       "ARAI_Certified_Mileage_for_CNG    644\n",
       "dtype: int64"
      ]
     },
     "execution_count": 191,
     "metadata": {},
     "output_type": "execute_result"
    }
   ],
   "source": [
    "Petrol.isnull().sum()"
   ]
  },
  {
   "cell_type": "code",
   "execution_count": 192,
   "id": "a7b25f9c",
   "metadata": {},
   "outputs": [
    {
     "data": {
      "text/plain": [
       "687175      8\n",
       "794000      7\n",
       "999900      6\n",
       "52000000    2\n",
       "1629000     2\n",
       "           ..\n",
       "2124900     1\n",
       "2779599     1\n",
       "3099599     1\n",
       "2693000     1\n",
       "8290000     1\n",
       "Name: Displacement, Length: 616, dtype: int64"
      ]
     },
     "execution_count": 192,
     "metadata": {},
     "output_type": "execute_result"
    }
   ],
   "source": [
    "Petrol.Displacement.value_counts()"
   ]
  },
  {
   "cell_type": "code",
   "execution_count": 193,
   "id": "74a32c8f",
   "metadata": {},
   "outputs": [
    {
     "name": "stderr",
     "output_type": "stream",
     "text": [
      "C:\\Users\\lance\\anaconda3\\lib\\site-packages\\seaborn\\_decorators.py:36: FutureWarning:\n",
      "\n",
      "Pass the following variables as keyword args: x, y. From version 0.12, the only valid positional argument will be `data`, and passing other arguments without an explicit keyword will result in an error or misinterpretation.\n",
      "\n"
     ]
    },
    {
     "data": {
      "text/plain": [
       "<AxesSubplot:>"
      ]
     },
     "execution_count": 193,
     "metadata": {},
     "output_type": "execute_result"
    },
    {
     "data": {
      "image/png": "[encoded data removed]",
      "text/plain": [
       "<Figure size 1080x1440 with 1 Axes>"
      ]
     },
     "metadata": {
      "needs_background": "light"
     },
     "output_type": "display_data"
    }
   ],
   "source": [
    "plt.figure(figsize=(15,20))\n",
    "sns.barplot(Petrol.Displacement.index,Petrol.Displacement.values)"
   ]
  },
  {
   "cell_type": "code",
   "execution_count": 194,
   "id": "70d7d8c2",
   "metadata": {},
   "outputs": [
    {
     "data": {
      "application/vnd.plotly.v1+json": {
       "config": {
        "plotlyServerURL": "https://plot.ly"
       },
       "data": [
        {
         "alignmentgroup": "True",
         "hovertemplate": "Ex-Showroom_Price=%{x}<br>City_Mileage=%{y}<extra></extra>",
         "legendgroup": "",
         "marker": {
          "color": "#636efa",
          "pattern": {
           "shape": ""
          }
         },
         "name": "",
         "offsetgroup": "",
         "orientation": "v",
         "showlegend": false,
         "textposition": "auto",
         "type": "bar",
         "x": [
          "292667",
          "236447",
          "334768",
          "272223",
          "314815",
          "279650",
          "351832",
          "333419",
          "362000",
          "390000",
          "437065",
          "353290",
          "283290",
          "383290",
          "413290",
          "433290",
          "454490",
          "463290",
          "484490",
          "440990",
          "470990",
          "462190",
          "492190",
          "352136",
          "380573",
          "392967",
          "377588",
          "394036",
          "360843",
          "407238",
          "438559",
          "374990",
          "468229",
          "502492",
          "499990",
          "469990",
          "528464",
          "553015",
          "594464",
          "618015",
          "422444",
          "429990",
          "503990",
          "530990",
          "512990",
          "570990",
          "556490",
          "460000",
          "520000",
          "570000",
          "599000",
          "610000",
          "620000",
          "649000",
          "660000",
          "481074",
          "475198",
          "518198",
          "524074",
          "499734",
          "540350",
          "542735",
          "552350",
          "713898",
          "666898",
          "607841",
          "560841",
          "483320",
          "630320",
          "583320",
          "495000",
          "559000",
          "609000",
          "663000",
          "506000",
          "670000",
          "520300",
          "581000",
          "630000",
          "597700",
          "641700",
          "558400",
          "662700",
          "525021",
          "599950",
          "563133",
          "674960",
          "529035",
          "590268",
          "614515",
          "536859",
          "556130",
          "553423",
          "559693",
          "634950",
          "721693",
          "808993",
          "920993",
          "751693",
          "831693",
          "579900",
          "655900",
          "705800",
          "729900",
          "804800",
          "785900",
          "854900",
          "582000",
          "676500",
          "776500",
          "976000",
          "582613",
          "673112",
          "732113",
          "720112",
          "821613",
          "779113",
          "868613",
          "591400",
          "721400",
          "756400",
          "681400",
          "594000",
          "665000",
          "799900",
          "598500",
          "697400",
          "663400",
          "782400",
          "737400",
          "762400",
          "627100",
          "718600",
          "778400",
          "689600",
          "803400",
          "802000",
          "650000",
          "668500",
          "977516",
          "721900",
          "758200",
          "829900",
          "890200",
          "697900",
          "745000",
          "909000",
          "789000",
          "865000",
          "928000",
          "774035",
          "858536",
          "882298",
          "791000",
          "871000",
          "950000",
          "1130000",
          "999900",
          "999900",
          "799990",
          "919990",
          "999990",
          "999900",
          "1172999",
          "1287999",
          "933182",
          "817867",
          "1178894",
          "1162875",
          "830127",
          "915128",
          "1060129",
          "1184129",
          "876500",
          "999900",
          "999900",
          "1197500",
          "1449500",
          "1317500",
          "952900",
          "1052900",
          "1167900",
          "1271900",
          "1285900",
          "984689",
          "1041189",
          "1094689",
          "1151189",
          "989219",
          "1269599",
          "1139599",
          "1610180",
          "1620000",
          "1615000",
          "2103000",
          "1807000",
          "1493000",
          "1498000",
          "1892000",
          "2171000",
          "1996000",
          "1560000",
          "2055000",
          "2167000",
          "1599000",
          "1900000",
          "2070000",
          "1645000",
          "1806000",
          "1882000",
          "2019000",
          "1793900",
          "1944900",
          "2124900",
          "2599599",
          "2779599",
          "3099599",
          "2599599",
          "2693000",
          "2785288",
          "2977000",
          "2818000",
          "2962000",
          "3420000",
          "3438000",
          "7784944",
          "8067000",
          "3490000",
          "4140000",
          "4240000",
          "3830000",
          "5602000",
          "7500000",
          "4090000",
          "4654000",
          "4790000",
          "5021200",
          "5621200",
          "5275000",
          "5494000",
          "5985000",
          "5861062",
          "15000000",
          "5750000",
          "6150000",
          "5980000",
          "6060000",
          "5990000",
          "6422809",
          "6440000",
          "8503000",
          "6998000",
          "7246802",
          "8433741",
          "8077550",
          "7693664",
          "8937846",
          "20517853",
          "8670586",
          "9448181",
          "11476911",
          "15600000",
          "13228725",
          "17940227",
          "23659454",
          "22155390",
          "26501830",
          "28004965",
          "9092578",
          "10144987",
          "10419200",
          "9366433",
          "10490000",
          "19210000",
          "11936000",
          "13151000",
          "19763000",
          "13590000",
          "15490000",
          "17072000",
          "17420000",
          "18844000",
          "26037526",
          "32522000",
          "19527130",
          "40499548",
          "21398758",
          "27308312",
          "19890000",
          "21263000",
          "22613000",
          "21747000",
          "23491293",
          "27245000",
          "30000000",
          "33791059",
          "35000000",
          "45941557",
          "37542069",
          "40456503",
          "42531500",
          "46709733",
          "53247201",
          "50025840",
          "52571294",
          "69500000",
          "77312661",
          "192142937",
          "212155397",
          "263000",
          "294800",
          "299900",
          "352900",
          "357200",
          "376100",
          "389600",
          "370500",
          "376500",
          "409000",
          "415000",
          "432500",
          "438500",
          "475500",
          "456000",
          "481500",
          "499000",
          "426289",
          "465138",
          "508138",
          "490924",
          "531279",
          "533924",
          "434659",
          "472257",
          "515257",
          "543279",
          "460369",
          "477511",
          "488194",
          "532184",
          "579645",
          "631144",
          "693550",
          "701045",
          "573250",
          "631146",
          "687175",
          "687175",
          "687175",
          "687175",
          "687175",
          "687175",
          "687175",
          "687175",
          "519000",
          "619000",
          "666000",
          "678000",
          "725000",
          "758000",
          "802000",
          "529000",
          "615000",
          "684000",
          "744000",
          "769000",
          "575000",
          "610000",
          "650000",
          "699000",
          "660000",
          "749000",
          "582287",
          "653926",
          "672641",
          "732475",
          "763000",
          "593000",
          "823000",
          "781000",
          "733000",
          "673000",
          "794000",
          "794000",
          "794000",
          "794000",
          "794000",
          "794000",
          "794000",
          "637343",
          "622730",
          "655000",
          "826000",
          "959000",
          "974000",
          "1065000",
          "940000",
          "1115500",
          "725000",
          "695000",
          "770000",
          "870000",
          "950000",
          "970000",
          "1040000",
          "1060000",
          "830000",
          "1010000",
          "1030000",
          "1100000",
          "1120000",
          "715860",
          "997763",
          "759000",
          "917000",
          "936000",
          "971000",
          "834000",
          "1013000",
          "788913",
          "925000",
          "815000",
          "808050",
          "935050",
          "949999",
          "1199999",
          "989000",
          "1029000",
          "1149000",
          "1309000",
          "1409000",
          "1379000",
          "1529000",
          "1629000",
          "1629000",
          "999900",
          "1248000",
          "1328000",
          "1568000",
          "1718000",
          "1589000",
          "1849000",
          "1949000",
          "2039000",
          "1876656",
          "2187384",
          "2373522",
          "2246749",
          "2899599",
          "2988311",
          "3198662",
          "3496750",
          "3830000",
          "4120000",
          "4350000",
          "5436329",
          "6073446",
          "5442200",
          "5942200",
          "6394000",
          "6490000",
          "7890000",
          "6921500",
          "7621500",
          "7711500",
          "7243000",
          "7462000",
          "7711338",
          "8995000",
          "8595000",
          "11141200",
          "13359500",
          "15600000",
          "19865675",
          "21583466",
          "23264134",
          "22733626",
          "24200000",
          "37133704",
          "32452486",
          "35150732",
          "37614126",
          "35535000",
          "40742932",
          "37300000",
          "41000000",
          "32200000",
          "36761413",
          "39319552",
          "42000000",
          "52000000",
          "47893943",
          "53210327",
          "47467700",
          "59216193",
          "83755383",
          "282778",
          "284485",
          "412292",
          "552656",
          "574448",
          "555196",
          "500575",
          "593361",
          "615153",
          "658361",
          "680153",
          "482330",
          "523000",
          "599900",
          "664900",
          "758212",
          "890212",
          "636612",
          "768612",
          "558602",
          "697912",
          "733412",
          "789912",
          "829912",
          "586428",
          "620637",
          "652328",
          "705538",
          "640537",
          "646336",
          "707025",
          "836461",
          "993997",
          "819689",
          "881689",
          "958689",
          "997689",
          "980689",
          "1058688",
          "1098689",
          "998599",
          "881916",
          "1243599",
          "1115599",
          "999599",
          "975599",
          "1099599",
          "980970",
          "999990",
          "1232534",
          "1394437",
          "1377363",
          "1287041",
          "1422937",
          "1092192",
          "1279983",
          "2827001",
          "3599000",
          "3600000",
          "4149000",
          "4507000",
          "5038000",
          "6426497",
          "6952964",
          "11400000",
          "7515000",
          "19199181",
          "8776900",
          "8690000",
          "13510000",
          "24250000",
          "21875136",
          "34167064",
          "39382083",
          "43367500",
          "95000000",
          "75400000",
          "354235",
          "356559",
          "504990",
          "589610",
          "642610",
          "643350",
          "703350",
          "673350",
          "718950",
          "643769",
          "733734",
          "705546",
          "782346",
          "662880",
          "781686",
          "955000",
          "1095000",
          "2920750",
          "3120750",
          "3990000",
          "5880000",
          "8180000",
          "13976653",
          "25500000",
          "21240272",
          "38845823",
          "479000",
          "526000",
          "548000",
          "434000",
          "513501",
          "560500",
          "594800",
          "441000",
          "486001",
          "520500",
          "567500",
          "533000",
          "594993",
          "639993",
          "940000",
          "1055000",
          "1174000",
          "1418000",
          "1175000",
          "1010000",
          "1294000",
          "1296000",
          "1197000",
          "876000",
          "974000",
          "935000",
          "1083000",
          "1317000",
          "1599599",
          "1899599",
          "2059599",
          "2359599",
          "1549000",
          "1999599",
          "3407407",
          "6350000",
          "9900000",
          "29500000",
          "535562",
          "991000",
          "1065900",
          "1182000",
          "1312000",
          "1431000",
          "1201000",
          "4498000",
          "4633000",
          "17229579",
          "8290000",
          "52000000"
         ],
         "xaxis": "x",
         "y": [
          "23 ",
          "23 ",
          "23 ",
          "23 ",
          "23 ",
          "21 ",
          "21 ",
          "21 ",
          "21 ",
          15,
          15,
          "25 ",
          "25 ",
          "25 ",
          "25 ",
          "25 ",
          "25 ",
          "25 ",
          "25 ",
          "25 ",
          "25 ",
          "25 ",
          "25 ",
          "12 ",
          "12 ",
          "11 ",
          "14 ",
          "14 ",
          "19 ",
          "14 ",
          "14 ",
          15,
          15,
          "20 ",
          "20 ",
          "20 ",
          15,
          "20 ",
          15,
          "20 ",
          "23 ",
          15,
          15,
          15,
          15,
          15,
          15,
          15,
          "23 ",
          "23 ",
          "23 ",
          "23 ",
          "23 ",
          "23 ",
          "23 ",
          "23 ",
          "23 ",
          "23 ",
          "23 ",
          "23 ",
          "23 ",
          "23 ",
          "23 ",
          "20 ",
          "20 ",
          "20 ",
          "20 ",
          "20 ",
          "15 ",
          "20 ",
          15,
          15,
          15,
          15,
          "13 ",
          "13 ",
          "15 ",
          "15 ",
          "15 ",
          "15 ",
          "15 ",
          "15 ",
          "15 ",
          15,
          "19 ",
          15,
          "1757 ",
          "1757 ",
          "1757 ",
          "1757 ",
          15,
          15,
          "16 ",
          "13 ",
          "13 ",
          "13 ",
          "13 ",
          "13 ",
          "13 ",
          "13 ",
          15,
          15,
          15,
          15,
          15,
          15,
          15,
          "14 ",
          "14 ",
          "14 ",
          "17 ",
          "16 ",
          "16 ",
          "16 ",
          "16 ",
          "16 ",
          "16 ",
          "16 ",
          15,
          15,
          15,
          15,
          15,
          15,
          15,
          15,
          15,
          15,
          15,
          15,
          15,
          "136 ",
          "136 ",
          "136 ",
          "13 ",
          "13 ",
          "15 ",
          "1678 ",
          "16 ",
          "17 ",
          15,
          15,
          15,
          15,
          15,
          "11 ",
          "11 ",
          "11 ",
          "11 ",
          15,
          "15 ",
          "15 ",
          "15 ",
          15,
          15,
          15,
          15,
          15,
          15,
          "10 ",
          "10 ",
          "10 ",
          15,
          15,
          15,
          15,
          15,
          15,
          15,
          15,
          15,
          15,
          15,
          "12 ",
          15,
          15,
          15,
          15,
          "17 ",
          "12 ",
          "12 ",
          "12 ",
          "12 ",
          "12 ",
          15,
          15,
          15,
          15,
          "17 ",
          "12 ",
          "12 ",
          15,
          "11 ",
          "11 ",
          "11 ",
          "11 ",
          "11 ",
          "11 ",
          "11 ",
          "11 ",
          15,
          15,
          15,
          15,
          15,
          15,
          15,
          "9 ",
          "9 ",
          "9 ",
          "9 ",
          15,
          15,
          15,
          "10 ",
          "10 ",
          "113 ",
          "10 ",
          15,
          "12 ",
          "7 ",
          "7 ",
          "12 ",
          15,
          "10 ",
          "10 ",
          "10 ",
          15,
          15,
          15,
          "15 ",
          "13 ",
          15,
          15,
          15,
          15,
          15,
          15,
          15,
          15,
          15,
          "8 ",
          "4 ",
          "8 ",
          "8 ",
          "15 ",
          15,
          15,
          15,
          "4 ",
          15,
          15,
          "12 ",
          15,
          15,
          15,
          15,
          15,
          15,
          15,
          15,
          15,
          15,
          15,
          "12 ",
          "7 ",
          15,
          15,
          15,
          15,
          15,
          15,
          15,
          15,
          15,
          15,
          15,
          "7 ",
          15,
          "5 ",
          "7 ",
          "11 ",
          "4 ",
          "4 ",
          "8 ",
          "8 ",
          "8 ",
          15,
          "7 ",
          "7 ",
          "7 ",
          "7 ",
          "5 ",
          "7 ",
          15,
          "5 ",
          "6 ",
          "96 ",
          15,
          "6 ",
          "6 ",
          "10 ",
          15,
          "4 ",
          "6 ",
          15,
          "10 ",
          15,
          15,
          15,
          15,
          15,
          15,
          15,
          15,
          15,
          15,
          15,
          15,
          15,
          15,
          15,
          15,
          15,
          15,
          15,
          "23 ",
          "23 ",
          "23 ",
          "23 ",
          "23 ",
          "23 ",
          "23 ",
          "23 ",
          "23 ",
          "23 ",
          "18 ",
          "18 ",
          "15 ",
          "15 ",
          "15 ",
          "15 ",
          "15 ",
          "15 ",
          "15 ",
          "15 ",
          "15 ",
          "15 ",
          "15 ",
          "15 ",
          "15 ",
          "15 ",
          "15 ",
          "15 ",
          "12 ",
          15,
          15,
          15,
          15,
          15,
          15,
          15,
          15,
          15,
          15,
          15,
          "24 ",
          "24 ",
          "24 ",
          "24 ",
          "24 ",
          "24 ",
          "13 ",
          "13 ",
          "13 ",
          "13 ",
          15,
          15,
          15,
          15,
          15,
          15,
          15,
          15,
          15,
          15,
          15,
          15,
          15,
          "10 ",
          "10 ",
          15,
          15,
          15,
          15,
          15,
          15,
          15,
          15,
          15,
          15,
          15,
          15,
          15,
          15,
          15,
          15,
          15,
          15,
          15,
          15,
          "113 ",
          "113 ",
          15,
          15,
          15,
          15,
          15,
          15,
          "21 ",
          "17 ",
          "17 ",
          "17 ",
          "17 ",
          15,
          15,
          15,
          15,
          15,
          15,
          15,
          15,
          15,
          15,
          15,
          "10 ",
          15,
          15,
          15,
          15,
          "13 ",
          "13 ",
          "13 ",
          "13 ",
          "133 ",
          "133 ",
          "13 ",
          "13 ",
          "11 ",
          "9 ",
          "9 ",
          "12 ",
          15,
          "12 ",
          15,
          "5 ",
          "5 ",
          15,
          15,
          "17 ",
          15,
          15,
          15,
          15,
          15,
          15,
          "10 ",
          "4 ",
          "9 ",
          "9 ",
          15,
          15,
          15,
          "4 ",
          "5 ",
          "5 ",
          "5 ",
          15,
          "5 ",
          "5 ",
          "10 ",
          "5 ",
          "5 ",
          "5 ",
          "5 ",
          "5 ",
          "5 ",
          "3 ",
          "3 ",
          15,
          15,
          "3 ",
          "3 ",
          "3 ",
          "7 ",
          "4 ",
          "13 ",
          "13 ",
          "12 ",
          "12 ",
          "16 ",
          "20 ",
          "20 ",
          "12 ",
          "16 ",
          "12 ",
          "16 ",
          "12 ",
          15,
          15,
          15,
          "21 ",
          "21 ",
          "21 ",
          "21 ",
          "21 ",
          "21 ",
          "21 ",
          "21 ",
          "21 ",
          "18 ",
          "18 ",
          "18 ",
          "18 ",
          "18 ",
          "11 ",
          "10 ",
          "10 ",
          "10 ",
          15,
          15,
          "21 ",
          15,
          15,
          15,
          15,
          "12 ",
          "12 ",
          "12 ",
          "12 ",
          "12 ",
          "12 ",
          "12 ",
          "17 ",
          "15 ",
          "15 ",
          "15 ",
          "15 ",
          "15 ",
          "15 ",
          "15 ",
          "15 ",
          15,
          "11 ",
          "10 ",
          15,
          15,
          "19 ",
          15,
          "15 ",
          "12 ",
          15,
          "9 ",
          "9 ",
          "9 ",
          15,
          15,
          15,
          "2 ",
          "2 ",
          "3 ",
          "10 ",
          "10 ",
          "18 ",
          "18 ",
          15,
          15,
          15,
          15,
          15,
          15,
          15,
          "15 ",
          "15 ",
          "15 ",
          "15 ",
          15,
          15,
          15,
          15,
          "12 ",
          "12 ",
          15,
          "16 ",
          "12 ",
          "5 ",
          "5 ",
          "9 ",
          "9 ",
          15,
          15,
          15,
          15,
          15,
          15,
          15,
          15,
          15,
          15,
          15,
          15,
          15,
          15,
          15,
          15,
          15,
          15,
          15,
          15,
          15,
          15,
          15,
          15,
          15,
          15,
          15,
          15,
          15,
          15,
          15,
          15,
          15,
          15,
          "8 ",
          15,
          "18 ",
          "5 ",
          "15 ",
          "14 ",
          "14 ",
          "14 ",
          "14 ",
          "18 ",
          "14 ",
          15,
          15,
          "4 ",
          15,
          15
         ],
         "yaxis": "y"
        }
       ],
       "layout": {
        "barmode": "relative",
        "legend": {
         "tracegroupgap": 0
        },
        "margin": {
         "t": 60
        },
        "template": {
         "data": {
          "bar": [
           {
            "error_x": {
             "color": "#2a3f5f"
            },
            "error_y": {
             "color": "#2a3f5f"
            },
            "marker": {
             "line": {
              "color": "#E5ECF6",
              "width": 0.5
             },
             "pattern": {
              "fillmode": "overlay",
              "size": 10,
              "solidity": 0.2
             }
            },
            "type": "bar"
           }
          ],
          "barpolar": [
           {
            "marker": {
             "line": {
              "color": "#E5ECF6",
              "width": 0.5
             },
             "pattern": {
              "fillmode": "overlay",
              "size": 10,
              "solidity": 0.2
             }
            },
            "type": "barpolar"
           }
          ],
          "carpet": [
           {
            "aaxis": {
             "endlinecolor": "#2a3f5f",
             "gridcolor": "white",
             "linecolor": "white",
             "minorgridcolor": "white",
             "startlinecolor": "#2a3f5f"
            },
            "baxis": {
             "endlinecolor": "#2a3f5f",
             "gridcolor": "white",
             "linecolor": "white",
             "minorgridcolor": "white",
             "startlinecolor": "#2a3f5f"
            },
            "type": "carpet"
           }
          ],
          "choropleth": [
           {
            "colorbar": {
             "outlinewidth": 0,
             "ticks": ""
            },
            "type": "choropleth"
           }
          ],
          "contour": [
           {
            "colorbar": {
             "outlinewidth": 0,
             "ticks": ""
            },
            "colorscale": [
             [
              0,
              "#0d0887"
             ],
             [
              0.1111111111111111,
              "#46039f"
             ],
             [
              0.2222222222222222,
              "#7201a8"
             ],
             [
              0.3333333333333333,
              "#9c179e"
             ],
             [
              0.4444444444444444,
              "#bd3786"
             ],
             [
              0.5555555555555556,
              "#d8576b"
             ],
             [
              0.6666666666666666,
              "#ed7953"
             ],
             [
              0.7777777777777778,
              "#fb9f3a"
             ],
             [
              0.8888888888888888,
              "#fdca26"
             ],
             [
              1,
              "#f0f921"
             ]
            ],
            "type": "contour"
           }
          ],
          "contourcarpet": [
           {
            "colorbar": {
             "outlinewidth": 0,
             "ticks": ""
            },
            "type": "contourcarpet"
           }
          ],
          "heatmap": [
           {
            "colorbar": {
             "outlinewidth": 0,
             "ticks": ""
            },
            "colorscale": [
             [
              0,
              "#0d0887"
             ],
             [
              0.1111111111111111,
              "#46039f"
             ],
             [
              0.2222222222222222,
              "#7201a8"
             ],
             [
              0.3333333333333333,
              "#9c179e"
             ],
             [
              0.4444444444444444,
              "#bd3786"
             ],
             [
              0.5555555555555556,
              "#d8576b"
             ],
             [
              0.6666666666666666,
              "#ed7953"
             ],
             [
              0.7777777777777778,
              "#fb9f3a"
             ],
             [
              0.8888888888888888,
              "#fdca26"
             ],
             [
              1,
              "#f0f921"
             ]
            ],
            "type": "heatmap"
           }
          ],
          "heatmapgl": [
           {
            "colorbar": {
             "outlinewidth": 0,
             "ticks": ""
            },
            "colorscale": [
             [
              0,
              "#0d0887"
             ],
             [
              0.1111111111111111,
              "#46039f"
             ],
             [
              0.2222222222222222,
              "#7201a8"
             ],
             [
              0.3333333333333333,
              "#9c179e"
             ],
             [
              0.4444444444444444,
              "#bd3786"
             ],
             [
              0.5555555555555556,
              "#d8576b"
             ],
             [
              0.6666666666666666,
              "#ed7953"
             ],
             [
              0.7777777777777778,
              "#fb9f3a"
             ],
             [
              0.8888888888888888,
              "#fdca26"
             ],
             [
              1,
              "#f0f921"
             ]
            ],
            "type": "heatmapgl"
           }
          ],
          "histogram": [
           {
            "marker": {
             "pattern": {
              "fillmode": "overlay",
              "size": 10,
              "solidity": 0.2
             }
            },
            "type": "histogram"
           }
          ],
          "histogram2d": [
           {
            "colorbar": {
             "outlinewidth": 0,
             "ticks": ""
            },
            "colorscale": [
             [
              0,
              "#0d0887"
             ],
             [
              0.1111111111111111,
              "#46039f"
             ],
             [
              0.2222222222222222,
              "#7201a8"
             ],
             [
              0.3333333333333333,
              "#9c179e"
             ],
             [
              0.4444444444444444,
              "#bd3786"
             ],
             [
              0.5555555555555556,
              "#d8576b"
             ],
             [
              0.6666666666666666,
              "#ed7953"
             ],
             [
              0.7777777777777778,
              "#fb9f3a"
             ],
             [
              0.8888888888888888,
              "#fdca26"
             ],
             [
              1,
              "#f0f921"
             ]
            ],
            "type": "histogram2d"
           }
          ],
          "histogram2dcontour": [
           {
            "colorbar": {
             "outlinewidth": 0,
             "ticks": ""
            },
            "colorscale": [
             [
              0,
              "#0d0887"
             ],
             [
              0.1111111111111111,
              "#46039f"
             ],
             [
              0.2222222222222222,
              "#7201a8"
             ],
             [
              0.3333333333333333,
              "#9c179e"
             ],
             [
              0.4444444444444444,
              "#bd3786"
             ],
             [
              0.5555555555555556,
              "#d8576b"
             ],
             [
              0.6666666666666666,
              "#ed7953"
             ],
             [
              0.7777777777777778,
              "#fb9f3a"
             ],
             [
              0.8888888888888888,
              "#fdca26"
             ],
             [
              1,
              "#f0f921"
             ]
            ],
            "type": "histogram2dcontour"
           }
          ],
          "mesh3d": [
           {
            "colorbar": {
             "outlinewidth": 0,
             "ticks": ""
            },
            "type": "mesh3d"
           }
          ],
          "parcoords": [
           {
            "line": {
             "colorbar": {
              "outlinewidth": 0,
              "ticks": ""
             }
            },
            "type": "parcoords"
           }
          ],
          "pie": [
           {
            "automargin": true,
            "type": "pie"
           }
          ],
          "scatter": [
           {
            "marker": {
             "colorbar": {
              "outlinewidth": 0,
              "ticks": ""
             }
            },
            "type": "scatter"
           }
          ],
          "scatter3d": [
           {
            "line": {
             "colorbar": {
              "outlinewidth": 0,
              "ticks": ""
             }
            },
            "marker": {
             "colorbar": {
              "outlinewidth": 0,
              "ticks": ""
             }
            },
            "type": "scatter3d"
           }
          ],
          "scattercarpet": [
           {
            "marker": {
             "colorbar": {
              "outlinewidth": 0,
              "ticks": ""
             }
            },
            "type": "scattercarpet"
           }
          ],
          "scattergeo": [
           {
            "marker": {
             "colorbar": {
              "outlinewidth": 0,
              "ticks": ""
             }
            },
            "type": "scattergeo"
           }
          ],
          "scattergl": [
           {
            "marker": {
             "colorbar": {
              "outlinewidth": 0,
              "ticks": ""
             }
            },
            "type": "scattergl"
           }
          ],
          "scattermapbox": [
           {
            "marker": {
             "colorbar": {
              "outlinewidth": 0,
              "ticks": ""
             }
            },
            "type": "scattermapbox"
           }
          ],
          "scatterpolar": [
           {
            "marker": {
             "colorbar": {
              "outlinewidth": 0,
              "ticks": ""
             }
            },
            "type": "scatterpolar"
           }
          ],
          "scatterpolargl": [
           {
            "marker": {
             "colorbar": {
              "outlinewidth": 0,
              "ticks": ""
             }
            },
            "type": "scatterpolargl"
           }
          ],
          "scatterternary": [
           {
            "marker": {
             "colorbar": {
              "outlinewidth": 0,
              "ticks": ""
             }
            },
            "type": "scatterternary"
           }
          ],
          "surface": [
           {
            "colorbar": {
             "outlinewidth": 0,
             "ticks": ""
            },
            "colorscale": [
             [
              0,
              "#0d0887"
             ],
             [
              0.1111111111111111,
              "#46039f"
             ],
             [
              0.2222222222222222,
              "#7201a8"
             ],
             [
              0.3333333333333333,
              "#9c179e"
             ],
             [
              0.4444444444444444,
              "#bd3786"
             ],
             [
              0.5555555555555556,
              "#d8576b"
             ],
             [
              0.6666666666666666,
              "#ed7953"
             ],
             [
              0.7777777777777778,
              "#fb9f3a"
             ],
             [
              0.8888888888888888,
              "#fdca26"
             ],
             [
              1,
              "#f0f921"
             ]
            ],
            "type": "surface"
           }
          ],
          "table": [
           {
            "cells": {
             "fill": {
              "color": "#EBF0F8"
             },
             "line": {
              "color": "white"
             }
            },
            "header": {
             "fill": {
              "color": "#C8D4E3"
             },
             "line": {
              "color": "white"
             }
            },
            "type": "table"
           }
          ]
         },
         "layout": {
          "annotationdefaults": {
           "arrowcolor": "#2a3f5f",
           "arrowhead": 0,
           "arrowwidth": 1
          },
          "autotypenumbers": "strict",
          "coloraxis": {
           "colorbar": {
            "outlinewidth": 0,
            "ticks": ""
           }
          },
          "colorscale": {
           "diverging": [
            [
             0,
             "#8e0152"
            ],
            [
             0.1,
             "#c51b7d"
            ],
            [
             0.2,
             "#de77ae"
            ],
            [
             0.3,
             "#f1b6da"
            ],
            [
             0.4,
             "#fde0ef"
            ],
            [
             0.5,
             "#f7f7f7"
            ],
            [
             0.6,
             "#e6f5d0"
            ],
            [
             0.7,
             "#b8e186"
            ],
            [
             0.8,
             "#7fbc41"
            ],
            [
             0.9,
             "#4d9221"
            ],
            [
             1,
             "#276419"
            ]
           ],
           "sequential": [
            [
             0,
             "#0d0887"
            ],
            [
             0.1111111111111111,
             "#46039f"
            ],
            [
             0.2222222222222222,
             "#7201a8"
            ],
            [
             0.3333333333333333,
             "#9c179e"
            ],
            [
             0.4444444444444444,
             "#bd3786"
            ],
            [
             0.5555555555555556,
             "#d8576b"
            ],
            [
             0.6666666666666666,
             "#ed7953"
            ],
            [
             0.7777777777777778,
             "#fb9f3a"
            ],
            [
             0.8888888888888888,
             "#fdca26"
            ],
            [
             1,
             "#f0f921"
            ]
           ],
           "sequentialminus": [
            [
             0,
             "#0d0887"
            ],
            [
             0.1111111111111111,
             "#46039f"
            ],
            [
             0.2222222222222222,
             "#7201a8"
            ],
            [
             0.3333333333333333,
             "#9c179e"
            ],
            [
             0.4444444444444444,
             "#bd3786"
            ],
            [
             0.5555555555555556,
             "#d8576b"
            ],
            [
             0.6666666666666666,
             "#ed7953"
            ],
            [
             0.7777777777777778,
             "#fb9f3a"
            ],
            [
             0.8888888888888888,
             "#fdca26"
            ],
            [
             1,
             "#f0f921"
            ]
           ]
          },
          "colorway": [
           "#636efa",
           "#EF553B",
           "#00cc96",
           "#ab63fa",
           "#FFA15A",
           "#19d3f3",
           "#FF6692",
           "#B6E880",
           "#FF97FF",
           "#FECB52"
          ],
          "font": {
           "color": "#2a3f5f"
          },
          "geo": {
           "bgcolor": "white",
           "lakecolor": "white",
           "landcolor": "#E5ECF6",
           "showlakes": true,
           "showland": true,
           "subunitcolor": "white"
          },
          "hoverlabel": {
           "align": "left"
          },
          "hovermode": "closest",
          "mapbox": {
           "style": "light"
          },
          "paper_bgcolor": "white",
          "plot_bgcolor": "#E5ECF6",
          "polar": {
           "angularaxis": {
            "gridcolor": "white",
            "linecolor": "white",
            "ticks": ""
           },
           "bgcolor": "#E5ECF6",
           "radialaxis": {
            "gridcolor": "white",
            "linecolor": "white",
            "ticks": ""
           }
          },
          "scene": {
           "xaxis": {
            "backgroundcolor": "#E5ECF6",
            "gridcolor": "white",
            "gridwidth": 2,
            "linecolor": "white",
            "showbackground": true,
            "ticks": "",
            "zerolinecolor": "white"
           },
           "yaxis": {
            "backgroundcolor": "#E5ECF6",
            "gridcolor": "white",
            "gridwidth": 2,
            "linecolor": "white",
            "showbackground": true,
            "ticks": "",
            "zerolinecolor": "white"
           },
           "zaxis": {
            "backgroundcolor": "#E5ECF6",
            "gridcolor": "white",
            "gridwidth": 2,
            "linecolor": "white",
            "showbackground": true,
            "ticks": "",
            "zerolinecolor": "white"
           }
          },
          "shapedefaults": {
           "line": {
            "color": "#2a3f5f"
           }
          },
          "ternary": {
           "aaxis": {
            "gridcolor": "white",
            "linecolor": "white",
            "ticks": ""
           },
           "baxis": {
            "gridcolor": "white",
            "linecolor": "white",
            "ticks": ""
           },
           "bgcolor": "#E5ECF6",
           "caxis": {
            "gridcolor": "white",
            "linecolor": "white",
            "ticks": ""
           }
          },
          "title": {
           "x": 0.05
          },
          "xaxis": {
           "automargin": true,
           "gridcolor": "white",
           "linecolor": "white",
           "ticks": "",
           "title": {
            "standoff": 15
           },
           "zerolinecolor": "white",
           "zerolinewidth": 2
          },
          "yaxis": {
           "automargin": true,
           "gridcolor": "white",
           "linecolor": "white",
           "ticks": "",
           "title": {
            "standoff": 15
           },
           "zerolinecolor": "white",
           "zerolinewidth": 2
          }
         }
        },
        "xaxis": {
         "anchor": "y",
         "domain": [
          0,
          1
         ],
         "title": {
          "text": "Ex-Showroom_Price"
         }
        },
        "yaxis": {
         "anchor": "x",
         "domain": [
          0,
          1
         ],
         "title": {
          "text": "City_Mileage"
         }
        }
       }
      },
      "text/html": [
       "<div>                            <div id=\"38e3575f-885b-4196-9eea-d2c6d2c53b61\" class=\"plotly-graph-div\" style=\"height:525px; width:100%;\"></div>            <script type=\"text/javascript\">                require([\"plotly\"], function(Plotly) {                    window.PLOTLYENV=window.PLOTLYENV || {};                                    if (document.getElementById(\"38e3575f-885b-4196-9eea-d2c6d2c53b61\")) {                    Plotly.newPlot(                        \"38e3575f-885b-4196-9eea-d2c6d2c53b61\",                        [{\"alignmentgroup\":\"True\",\"hovertemplate\":\"Ex-Showroom_Price=%{x}<br>City_Mileage=%{y}<extra></extra>\",\"legendgroup\":\"\",\"marker\":{\"color\":\"#636efa\",\"pattern\":{\"shape\":\"\"}},\"name\":\"\",\"offsetgroup\":\"\",\"orientation\":\"v\",\"showlegend\":false,\"textposition\":\"auto\",\"type\":\"bar\",\"x\":[\"292667\",\"236447\",\"334768\",\"272223\",\"314815\",\"279650\",\"351832\",\"333419\",\"362000\",\"390000\",\"437065\",\"353290\",\"283290\",\"383290\",\"413290\",\"433290\",\"454490\",\"463290\",\"484490\",\"440990\",\"470990\",\"462190\",\"492190\",\"352136\",\"380573\",\"392967\",\"377588\",\"394036\",\"360843\",\"407238\",\"438559\",\"374990\",\"468229\",\"502492\",\"499990\",\"469990\",\"528464\",\"553015\",\"594464\",\"618015\",\"422444\",\"429990\",\"503990\",\"530990\",\"512990\",\"570990\",\"556490\",\"460000\",\"520000\",\"570000\",\"599000\",\"610000\",\"620000\",\"649000\",\"660000\",\"481074\",\"475198\",\"518198\",\"524074\",\"499734\",\"540350\",\"542735\",\"552350\",\"713898\",\"666898\",\"607841\",\"560841\",\"483320\",\"630320\",\"583320\",\"495000\",\"559000\",\"609000\",\"663000\",\"506000\",\"670000\",\"520300\",\"581000\",\"630000\",\"597700\",\"641700\",\"558400\",\"662700\",\"525021\",\"599950\",\"563133\",\"674960\",\"529035\",\"590268\",\"614515\",\"536859\",\"556130\",\"553423\",\"559693\",\"634950\",\"721693\",\"808993\",\"920993\",\"751693\",\"831693\",\"579900\",\"655900\",\"705800\",\"729900\",\"804800\",\"785900\",\"854900\",\"582000\",\"676500\",\"776500\",\"976000\",\"582613\",\"673112\",\"732113\",\"720112\",\"821613\",\"779113\",\"868613\",\"591400\",\"721400\",\"756400\",\"681400\",\"594000\",\"665000\",\"799900\",\"598500\",\"697400\",\"663400\",\"782400\",\"737400\",\"762400\",\"627100\",\"718600\",\"778400\",\"689600\",\"803400\",\"802000\",\"650000\",\"668500\",\"977516\",\"721900\",\"758200\",\"829900\",\"890200\",\"697900\",\"745000\",\"909000\",\"789000\",\"865000\",\"928000\",\"774035\",\"858536\",\"882298\",\"791000\",\"871000\",\"950000\",\"1130000\",\"999900\",\"999900\",\"799990\",\"919990\",\"999990\",\"999900\",\"1172999\",\"1287999\",\"933182\",\"817867\",\"1178894\",\"1162875\",\"830127\",\"915128\",\"1060129\",\"1184129\",\"876500\",\"999900\",\"999900\",\"1197500\",\"1449500\",\"1317500\",\"952900\",\"1052900\",\"1167900\",\"1271900\",\"1285900\",\"984689\",\"1041189\",\"1094689\",\"1151189\",\"989219\",\"1269599\",\"1139599\",\"1610180\",\"1620000\",\"1615000\",\"2103000\",\"1807000\",\"1493000\",\"1498000\",\"1892000\",\"2171000\",\"1996000\",\"1560000\",\"2055000\",\"2167000\",\"1599000\",\"1900000\",\"2070000\",\"1645000\",\"1806000\",\"1882000\",\"2019000\",\"1793900\",\"1944900\",\"2124900\",\"2599599\",\"2779599\",\"3099599\",\"2599599\",\"2693000\",\"2785288\",\"2977000\",\"2818000\",\"2962000\",\"3420000\",\"3438000\",\"7784944\",\"8067000\",\"3490000\",\"4140000\",\"4240000\",\"3830000\",\"5602000\",\"7500000\",\"4090000\",\"4654000\",\"4790000\",\"5021200\",\"5621200\",\"5275000\",\"5494000\",\"5985000\",\"5861062\",\"15000000\",\"5750000\",\"6150000\",\"5980000\",\"6060000\",\"5990000\",\"6422809\",\"6440000\",\"8503000\",\"6998000\",\"7246802\",\"8433741\",\"8077550\",\"7693664\",\"8937846\",\"20517853\",\"8670586\",\"9448181\",\"11476911\",\"15600000\",\"13228725\",\"17940227\",\"23659454\",\"22155390\",\"26501830\",\"28004965\",\"9092578\",\"10144987\",\"10419200\",\"9366433\",\"10490000\",\"19210000\",\"11936000\",\"13151000\",\"19763000\",\"13590000\",\"15490000\",\"17072000\",\"17420000\",\"18844000\",\"26037526\",\"32522000\",\"19527130\",\"40499548\",\"21398758\",\"27308312\",\"19890000\",\"21263000\",\"22613000\",\"21747000\",\"23491293\",\"27245000\",\"30000000\",\"33791059\",\"35000000\",\"45941557\",\"37542069\",\"40456503\",\"42531500\",\"46709733\",\"53247201\",\"50025840\",\"52571294\",\"69500000\",\"77312661\",\"192142937\",\"212155397\",\"263000\",\"294800\",\"299900\",\"352900\",\"357200\",\"376100\",\"389600\",\"370500\",\"376500\",\"409000\",\"415000\",\"432500\",\"438500\",\"475500\",\"456000\",\"481500\",\"499000\",\"426289\",\"465138\",\"508138\",\"490924\",\"531279\",\"533924\",\"434659\",\"472257\",\"515257\",\"543279\",\"460369\",\"477511\",\"488194\",\"532184\",\"579645\",\"631144\",\"693550\",\"701045\",\"573250\",\"631146\",\"687175\",\"687175\",\"687175\",\"687175\",\"687175\",\"687175\",\"687175\",\"687175\",\"519000\",\"619000\",\"666000\",\"678000\",\"725000\",\"758000\",\"802000\",\"529000\",\"615000\",\"684000\",\"744000\",\"769000\",\"575000\",\"610000\",\"650000\",\"699000\",\"660000\",\"749000\",\"582287\",\"653926\",\"672641\",\"732475\",\"763000\",\"593000\",\"823000\",\"781000\",\"733000\",\"673000\",\"794000\",\"794000\",\"794000\",\"794000\",\"794000\",\"794000\",\"794000\",\"637343\",\"622730\",\"655000\",\"826000\",\"959000\",\"974000\",\"1065000\",\"940000\",\"1115500\",\"725000\",\"695000\",\"770000\",\"870000\",\"950000\",\"970000\",\"1040000\",\"1060000\",\"830000\",\"1010000\",\"1030000\",\"1100000\",\"1120000\",\"715860\",\"997763\",\"759000\",\"917000\",\"936000\",\"971000\",\"834000\",\"1013000\",\"788913\",\"925000\",\"815000\",\"808050\",\"935050\",\"949999\",\"1199999\",\"989000\",\"1029000\",\"1149000\",\"1309000\",\"1409000\",\"1379000\",\"1529000\",\"1629000\",\"1629000\",\"999900\",\"1248000\",\"1328000\",\"1568000\",\"1718000\",\"1589000\",\"1849000\",\"1949000\",\"2039000\",\"1876656\",\"2187384\",\"2373522\",\"2246749\",\"2899599\",\"2988311\",\"3198662\",\"3496750\",\"3830000\",\"4120000\",\"4350000\",\"5436329\",\"6073446\",\"5442200\",\"5942200\",\"6394000\",\"6490000\",\"7890000\",\"6921500\",\"7621500\",\"7711500\",\"7243000\",\"7462000\",\"7711338\",\"8995000\",\"8595000\",\"11141200\",\"13359500\",\"15600000\",\"19865675\",\"21583466\",\"23264134\",\"22733626\",\"24200000\",\"37133704\",\"32452486\",\"35150732\",\"37614126\",\"35535000\",\"40742932\",\"37300000\",\"41000000\",\"32200000\",\"36761413\",\"39319552\",\"42000000\",\"52000000\",\"47893943\",\"53210327\",\"47467700\",\"59216193\",\"83755383\",\"282778\",\"284485\",\"412292\",\"552656\",\"574448\",\"555196\",\"500575\",\"593361\",\"615153\",\"658361\",\"680153\",\"482330\",\"523000\",\"599900\",\"664900\",\"758212\",\"890212\",\"636612\",\"768612\",\"558602\",\"697912\",\"733412\",\"789912\",\"829912\",\"586428\",\"620637\",\"652328\",\"705538\",\"640537\",\"646336\",\"707025\",\"836461\",\"993997\",\"819689\",\"881689\",\"958689\",\"997689\",\"980689\",\"1058688\",\"1098689\",\"998599\",\"881916\",\"1243599\",\"1115599\",\"999599\",\"975599\",\"1099599\",\"980970\",\"999990\",\"1232534\",\"1394437\",\"1377363\",\"1287041\",\"1422937\",\"1092192\",\"1279983\",\"2827001\",\"3599000\",\"3600000\",\"4149000\",\"4507000\",\"5038000\",\"6426497\",\"6952964\",\"11400000\",\"7515000\",\"19199181\",\"8776900\",\"8690000\",\"13510000\",\"24250000\",\"21875136\",\"34167064\",\"39382083\",\"43367500\",\"95000000\",\"75400000\",\"354235\",\"356559\",\"504990\",\"589610\",\"642610\",\"643350\",\"703350\",\"673350\",\"718950\",\"643769\",\"733734\",\"705546\",\"782346\",\"662880\",\"781686\",\"955000\",\"1095000\",\"2920750\",\"3120750\",\"3990000\",\"5880000\",\"8180000\",\"13976653\",\"25500000\",\"21240272\",\"38845823\",\"479000\",\"526000\",\"548000\",\"434000\",\"513501\",\"560500\",\"594800\",\"441000\",\"486001\",\"520500\",\"567500\",\"533000\",\"594993\",\"639993\",\"940000\",\"1055000\",\"1174000\",\"1418000\",\"1175000\",\"1010000\",\"1294000\",\"1296000\",\"1197000\",\"876000\",\"974000\",\"935000\",\"1083000\",\"1317000\",\"1599599\",\"1899599\",\"2059599\",\"2359599\",\"1549000\",\"1999599\",\"3407407\",\"6350000\",\"9900000\",\"29500000\",\"535562\",\"991000\",\"1065900\",\"1182000\",\"1312000\",\"1431000\",\"1201000\",\"4498000\",\"4633000\",\"17229579\",\"8290000\",\"52000000\"],\"xaxis\":\"x\",\"y\":[\"23 \",\"23 \",\"23 \",\"23 \",\"23 \",\"21 \",\"21 \",\"21 \",\"21 \",15.0,15.0,\"25 \",\"25 \",\"25 \",\"25 \",\"25 \",\"25 \",\"25 \",\"25 \",\"25 \",\"25 \",\"25 \",\"25 \",\"12 \",\"12 \",\"11 \",\"14 \",\"14 \",\"19 \",\"14 \",\"14 \",15.0,15.0,\"20 \",\"20 \",\"20 \",15.0,\"20 \",15.0,\"20 \",\"23 \",15.0,15.0,15.0,15.0,15.0,15.0,15.0,\"23 \",\"23 \",\"23 \",\"23 \",\"23 \",\"23 \",\"23 \",\"23 \",\"23 \",\"23 \",\"23 \",\"23 \",\"23 \",\"23 \",\"23 \",\"20 \",\"20 \",\"20 \",\"20 \",\"20 \",\"15 \",\"20 \",15.0,15.0,15.0,15.0,\"13 \",\"13 \",\"15 \",\"15 \",\"15 \",\"15 \",\"15 \",\"15 \",\"15 \",15.0,\"19 \",15.0,\"1757 \",\"1757 \",\"1757 \",\"1757 \",15.0,15.0,\"16 \",\"13 \",\"13 \",\"13 \",\"13 \",\"13 \",\"13 \",\"13 \",15.0,15.0,15.0,15.0,15.0,15.0,15.0,\"14 \",\"14 \",\"14 \",\"17 \",\"16 \",\"16 \",\"16 \",\"16 \",\"16 \",\"16 \",\"16 \",15.0,15.0,15.0,15.0,15.0,15.0,15.0,15.0,15.0,15.0,15.0,15.0,15.0,\"136 \",\"136 \",\"136 \",\"13 \",\"13 \",\"15 \",\"1678 \",\"16 \",\"17 \",15.0,15.0,15.0,15.0,15.0,\"11 \",\"11 \",\"11 \",\"11 \",15.0,\"15 \",\"15 \",\"15 \",15.0,15.0,15.0,15.0,15.0,15.0,\"10 \",\"10 \",\"10 \",15.0,15.0,15.0,15.0,15.0,15.0,15.0,15.0,15.0,15.0,15.0,\"12 \",15.0,15.0,15.0,15.0,\"17 \",\"12 \",\"12 \",\"12 \",\"12 \",\"12 \",15.0,15.0,15.0,15.0,\"17 \",\"12 \",\"12 \",15.0,\"11 \",\"11 \",\"11 \",\"11 \",\"11 \",\"11 \",\"11 \",\"11 \",15.0,15.0,15.0,15.0,15.0,15.0,15.0,\"9 \",\"9 \",\"9 \",\"9 \",15.0,15.0,15.0,\"10 \",\"10 \",\"113 \",\"10 \",15.0,\"12 \",\"7 \",\"7 \",\"12 \",15.0,\"10 \",\"10 \",\"10 \",15.0,15.0,15.0,\"15 \",\"13 \",15.0,15.0,15.0,15.0,15.0,15.0,15.0,15.0,15.0,\"8 \",\"4 \",\"8 \",\"8 \",\"15 \",15.0,15.0,15.0,\"4 \",15.0,15.0,\"12 \",15.0,15.0,15.0,15.0,15.0,15.0,15.0,15.0,15.0,15.0,15.0,\"12 \",\"7 \",15.0,15.0,15.0,15.0,15.0,15.0,15.0,15.0,15.0,15.0,15.0,\"7 \",15.0,\"5 \",\"7 \",\"11 \",\"4 \",\"4 \",\"8 \",\"8 \",\"8 \",15.0,\"7 \",\"7 \",\"7 \",\"7 \",\"5 \",\"7 \",15.0,\"5 \",\"6 \",\"96 \",15.0,\"6 \",\"6 \",\"10 \",15.0,\"4 \",\"6 \",15.0,\"10 \",15.0,15.0,15.0,15.0,15.0,15.0,15.0,15.0,15.0,15.0,15.0,15.0,15.0,15.0,15.0,15.0,15.0,15.0,15.0,\"23 \",\"23 \",\"23 \",\"23 \",\"23 \",\"23 \",\"23 \",\"23 \",\"23 \",\"23 \",\"18 \",\"18 \",\"15 \",\"15 \",\"15 \",\"15 \",\"15 \",\"15 \",\"15 \",\"15 \",\"15 \",\"15 \",\"15 \",\"15 \",\"15 \",\"15 \",\"15 \",\"15 \",\"12 \",15.0,15.0,15.0,15.0,15.0,15.0,15.0,15.0,15.0,15.0,15.0,\"24 \",\"24 \",\"24 \",\"24 \",\"24 \",\"24 \",\"13 \",\"13 \",\"13 \",\"13 \",15.0,15.0,15.0,15.0,15.0,15.0,15.0,15.0,15.0,15.0,15.0,15.0,15.0,\"10 \",\"10 \",15.0,15.0,15.0,15.0,15.0,15.0,15.0,15.0,15.0,15.0,15.0,15.0,15.0,15.0,15.0,15.0,15.0,15.0,15.0,15.0,\"113 \",\"113 \",15.0,15.0,15.0,15.0,15.0,15.0,\"21 \",\"17 \",\"17 \",\"17 \",\"17 \",15.0,15.0,15.0,15.0,15.0,15.0,15.0,15.0,15.0,15.0,15.0,\"10 \",15.0,15.0,15.0,15.0,\"13 \",\"13 \",\"13 \",\"13 \",\"133 \",\"133 \",\"13 \",\"13 \",\"11 \",\"9 \",\"9 \",\"12 \",15.0,\"12 \",15.0,\"5 \",\"5 \",15.0,15.0,\"17 \",15.0,15.0,15.0,15.0,15.0,15.0,\"10 \",\"4 \",\"9 \",\"9 \",15.0,15.0,15.0,\"4 \",\"5 \",\"5 \",\"5 \",15.0,\"5 \",\"5 \",\"10 \",\"5 \",\"5 \",\"5 \",\"5 \",\"5 \",\"5 \",\"3 \",\"3 \",15.0,15.0,\"3 \",\"3 \",\"3 \",\"7 \",\"4 \",\"13 \",\"13 \",\"12 \",\"12 \",\"16 \",\"20 \",\"20 \",\"12 \",\"16 \",\"12 \",\"16 \",\"12 \",15.0,15.0,15.0,\"21 \",\"21 \",\"21 \",\"21 \",\"21 \",\"21 \",\"21 \",\"21 \",\"21 \",\"18 \",\"18 \",\"18 \",\"18 \",\"18 \",\"11 \",\"10 \",\"10 \",\"10 \",15.0,15.0,\"21 \",15.0,15.0,15.0,15.0,\"12 \",\"12 \",\"12 \",\"12 \",\"12 \",\"12 \",\"12 \",\"17 \",\"15 \",\"15 \",\"15 \",\"15 \",\"15 \",\"15 \",\"15 \",\"15 \",15.0,\"11 \",\"10 \",15.0,15.0,\"19 \",15.0,\"15 \",\"12 \",15.0,\"9 \",\"9 \",\"9 \",15.0,15.0,15.0,\"2 \",\"2 \",\"3 \",\"10 \",\"10 \",\"18 \",\"18 \",15.0,15.0,15.0,15.0,15.0,15.0,15.0,\"15 \",\"15 \",\"15 \",\"15 \",15.0,15.0,15.0,15.0,\"12 \",\"12 \",15.0,\"16 \",\"12 \",\"5 \",\"5 \",\"9 \",\"9 \",15.0,15.0,15.0,15.0,15.0,15.0,15.0,15.0,15.0,15.0,15.0,15.0,15.0,15.0,15.0,15.0,15.0,15.0,15.0,15.0,15.0,15.0,15.0,15.0,15.0,15.0,15.0,15.0,15.0,15.0,15.0,15.0,15.0,15.0,\"8 \",15.0,\"18 \",\"5 \",\"15 \",\"14 \",\"14 \",\"14 \",\"14 \",\"18 \",\"14 \",15.0,15.0,\"4 \",15.0,15.0],\"yaxis\":\"y\"}],                        {\"barmode\":\"relative\",\"legend\":{\"tracegroupgap\":0},\"margin\":{\"t\":60},\"template\":{\"data\":{\"bar\":[{\"error_x\":{\"color\":\"#2a3f5f\"},\"error_y\":{\"color\":\"#2a3f5f\"},\"marker\":{\"line\":{\"color\":\"#E5ECF6\",\"width\":0.5},\"pattern\":{\"fillmode\":\"overlay\",\"size\":10,\"solidity\":0.2}},\"type\":\"bar\"}],\"barpolar\":[{\"marker\":{\"line\":{\"color\":\"#E5ECF6\",\"width\":0.5},\"pattern\":{\"fillmode\":\"overlay\",\"size\":10,\"solidity\":0.2}},\"type\":\"barpolar\"}],\"carpet\":[{\"aaxis\":{\"endlinecolor\":\"#2a3f5f\",\"gridcolor\":\"white\",\"linecolor\":\"white\",\"minorgridcolor\":\"white\",\"startlinecolor\":\"#2a3f5f\"},\"baxis\":{\"endlinecolor\":\"#2a3f5f\",\"gridcolor\":\"white\",\"linecolor\":\"white\",\"minorgridcolor\":\"white\",\"startlinecolor\":\"#2a3f5f\"},\"type\":\"carpet\"}],\"choropleth\":[{\"colorbar\":{\"outlinewidth\":0,\"ticks\":\"\"},\"type\":\"choropleth\"}],\"contour\":[{\"colorbar\":{\"outlinewidth\":0,\"ticks\":\"\"},\"colorscale\":[[0.0,\"#0d0887\"],[0.1111111111111111,\"#46039f\"],[0.2222222222222222,\"#7201a8\"],[0.3333333333333333,\"#9c179e\"],[0.4444444444444444,\"#bd3786\"],[0.5555555555555556,\"#d8576b\"],[0.6666666666666666,\"#ed7953\"],[0.7777777777777778,\"#fb9f3a\"],[0.8888888888888888,\"#fdca26\"],[1.0,\"#f0f921\"]],\"type\":\"contour\"}],\"contourcarpet\":[{\"colorbar\":{\"outlinewidth\":0,\"ticks\":\"\"},\"type\":\"contourcarpet\"}],\"heatmap\":[{\"colorbar\":{\"outlinewidth\":0,\"ticks\":\"\"},\"colorscale\":[[0.0,\"#0d0887\"],[0.1111111111111111,\"#46039f\"],[0.2222222222222222,\"#7201a8\"],[0.3333333333333333,\"#9c179e\"],[0.4444444444444444,\"#bd3786\"],[0.5555555555555556,\"#d8576b\"],[0.6666666666666666,\"#ed7953\"],[0.7777777777777778,\"#fb9f3a\"],[0.8888888888888888,\"#fdca26\"],[1.0,\"#f0f921\"]],\"type\":\"heatmap\"}],\"heatmapgl\":[{\"colorbar\":{\"outlinewidth\":0,\"ticks\":\"\"},\"colorscale\":[[0.0,\"#0d0887\"],[0.1111111111111111,\"#46039f\"],[0.2222222222222222,\"#7201a8\"],[0.3333333333333333,\"#9c179e\"],[0.4444444444444444,\"#bd3786\"],[0.5555555555555556,\"#d8576b\"],[0.6666666666666666,\"#ed7953\"],[0.7777777777777778,\"#fb9f3a\"],[0.8888888888888888,\"#fdca26\"],[1.0,\"#f0f921\"]],\"type\":\"heatmapgl\"}],\"histogram\":[{\"marker\":{\"pattern\":{\"fillmode\":\"overlay\",\"size\":10,\"solidity\":0.2}},\"type\":\"histogram\"}],\"histogram2d\":[{\"colorbar\":{\"outlinewidth\":0,\"ticks\":\"\"},\"colorscale\":[[0.0,\"#0d0887\"],[0.1111111111111111,\"#46039f\"],[0.2222222222222222,\"#7201a8\"],[0.3333333333333333,\"#9c179e\"],[0.4444444444444444,\"#bd3786\"],[0.5555555555555556,\"#d8576b\"],[0.6666666666666666,\"#ed7953\"],[0.7777777777777778,\"#fb9f3a\"],[0.8888888888888888,\"#fdca26\"],[1.0,\"#f0f921\"]],\"type\":\"histogram2d\"}],\"histogram2dcontour\":[{\"colorbar\":{\"outlinewidth\":0,\"ticks\":\"\"},\"colorscale\":[[0.0,\"#0d0887\"],[0.1111111111111111,\"#46039f\"],[0.2222222222222222,\"#7201a8\"],[0.3333333333333333,\"#9c179e\"],[0.4444444444444444,\"#bd3786\"],[0.5555555555555556,\"#d8576b\"],[0.6666666666666666,\"#ed7953\"],[0.7777777777777778,\"#fb9f3a\"],[0.8888888888888888,\"#fdca26\"],[1.0,\"#f0f921\"]],\"type\":\"histogram2dcontour\"}],\"mesh3d\":[{\"colorbar\":{\"outlinewidth\":0,\"ticks\":\"\"},\"type\":\"mesh3d\"}],\"parcoords\":[{\"line\":{\"colorbar\":{\"outlinewidth\":0,\"ticks\":\"\"}},\"type\":\"parcoords\"}],\"pie\":[{\"automargin\":true,\"type\":\"pie\"}],\"scatter\":[{\"marker\":{\"colorbar\":{\"outlinewidth\":0,\"ticks\":\"\"}},\"type\":\"scatter\"}],\"scatter3d\":[{\"line\":{\"colorbar\":{\"outlinewidth\":0,\"ticks\":\"\"}},\"marker\":{\"colorbar\":{\"outlinewidth\":0,\"ticks\":\"\"}},\"type\":\"scatter3d\"}],\"scattercarpet\":[{\"marker\":{\"colorbar\":{\"outlinewidth\":0,\"ticks\":\"\"}},\"type\":\"scattercarpet\"}],\"scattergeo\":[{\"marker\":{\"colorbar\":{\"outlinewidth\":0,\"ticks\":\"\"}},\"type\":\"scattergeo\"}],\"scattergl\":[{\"marker\":{\"colorbar\":{\"outlinewidth\":0,\"ticks\":\"\"}},\"type\":\"scattergl\"}],\"scattermapbox\":[{\"marker\":{\"colorbar\":{\"outlinewidth\":0,\"ticks\":\"\"}},\"type\":\"scattermapbox\"}],\"scatterpolar\":[{\"marker\":{\"colorbar\":{\"outlinewidth\":0,\"ticks\":\"\"}},\"type\":\"scatterpolar\"}],\"scatterpolargl\":[{\"marker\":{\"colorbar\":{\"outlinewidth\":0,\"ticks\":\"\"}},\"type\":\"scatterpolargl\"}],\"scatterternary\":[{\"marker\":{\"colorbar\":{\"outlinewidth\":0,\"ticks\":\"\"}},\"type\":\"scatterternary\"}],\"surface\":[{\"colorbar\":{\"outlinewidth\":0,\"ticks\":\"\"},\"colorscale\":[[0.0,\"#0d0887\"],[0.1111111111111111,\"#46039f\"],[0.2222222222222222,\"#7201a8\"],[0.3333333333333333,\"#9c179e\"],[0.4444444444444444,\"#bd3786\"],[0.5555555555555556,\"#d8576b\"],[0.6666666666666666,\"#ed7953\"],[0.7777777777777778,\"#fb9f3a\"],[0.8888888888888888,\"#fdca26\"],[1.0,\"#f0f921\"]],\"type\":\"surface\"}],\"table\":[{\"cells\":{\"fill\":{\"color\":\"#EBF0F8\"},\"line\":{\"color\":\"white\"}},\"header\":{\"fill\":{\"color\":\"#C8D4E3\"},\"line\":{\"color\":\"white\"}},\"type\":\"table\"}]},\"layout\":{\"annotationdefaults\":{\"arrowcolor\":\"#2a3f5f\",\"arrowhead\":0,\"arrowwidth\":1},\"autotypenumbers\":\"strict\",\"coloraxis\":{\"colorbar\":{\"outlinewidth\":0,\"ticks\":\"\"}},\"colorscale\":{\"diverging\":[[0,\"#8e0152\"],[0.1,\"#c51b7d\"],[0.2,\"#de77ae\"],[0.3,\"#f1b6da\"],[0.4,\"#fde0ef\"],[0.5,\"#f7f7f7\"],[0.6,\"#e6f5d0\"],[0.7,\"#b8e186\"],[0.8,\"#7fbc41\"],[0.9,\"#4d9221\"],[1,\"#276419\"]],\"sequential\":[[0.0,\"#0d0887\"],[0.1111111111111111,\"#46039f\"],[0.2222222222222222,\"#7201a8\"],[0.3333333333333333,\"#9c179e\"],[0.4444444444444444,\"#bd3786\"],[0.5555555555555556,\"#d8576b\"],[0.6666666666666666,\"#ed7953\"],[0.7777777777777778,\"#fb9f3a\"],[0.8888888888888888,\"#fdca26\"],[1.0,\"#f0f921\"]],\"sequentialminus\":[[0.0,\"#0d0887\"],[0.1111111111111111,\"#46039f\"],[0.2222222222222222,\"#7201a8\"],[0.3333333333333333,\"#9c179e\"],[0.4444444444444444,\"#bd3786\"],[0.5555555555555556,\"#d8576b\"],[0.6666666666666666,\"#ed7953\"],[0.7777777777777778,\"#fb9f3a\"],[0.8888888888888888,\"#fdca26\"],[1.0,\"#f0f921\"]]},\"colorway\":[\"#636efa\",\"#EF553B\",\"#00cc96\",\"#ab63fa\",\"#FFA15A\",\"#19d3f3\",\"#FF6692\",\"#B6E880\",\"#FF97FF\",\"#FECB52\"],\"font\":{\"color\":\"#2a3f5f\"},\"geo\":{\"bgcolor\":\"white\",\"lakecolor\":\"white\",\"landcolor\":\"#E5ECF6\",\"showlakes\":true,\"showland\":true,\"subunitcolor\":\"white\"},\"hoverlabel\":{\"align\":\"left\"},\"hovermode\":\"closest\",\"mapbox\":{\"style\":\"light\"},\"paper_bgcolor\":\"white\",\"plot_bgcolor\":\"#E5ECF6\",\"polar\":{\"angularaxis\":{\"gridcolor\":\"white\",\"linecolor\":\"white\",\"ticks\":\"\"},\"bgcolor\":\"#E5ECF6\",\"radialaxis\":{\"gridcolor\":\"white\",\"linecolor\":\"white\",\"ticks\":\"\"}},\"scene\":{\"xaxis\":{\"backgroundcolor\":\"#E5ECF6\",\"gridcolor\":\"white\",\"gridwidth\":2,\"linecolor\":\"white\",\"showbackground\":true,\"ticks\":\"\",\"zerolinecolor\":\"white\"},\"yaxis\":{\"backgroundcolor\":\"#E5ECF6\",\"gridcolor\":\"white\",\"gridwidth\":2,\"linecolor\":\"white\",\"showbackground\":true,\"ticks\":\"\",\"zerolinecolor\":\"white\"},\"zaxis\":{\"backgroundcolor\":\"#E5ECF6\",\"gridcolor\":\"white\",\"gridwidth\":2,\"linecolor\":\"white\",\"showbackground\":true,\"ticks\":\"\",\"zerolinecolor\":\"white\"}},\"shapedefaults\":{\"line\":{\"color\":\"#2a3f5f\"}},\"ternary\":{\"aaxis\":{\"gridcolor\":\"white\",\"linecolor\":\"white\",\"ticks\":\"\"},\"baxis\":{\"gridcolor\":\"white\",\"linecolor\":\"white\",\"ticks\":\"\"},\"bgcolor\":\"#E5ECF6\",\"caxis\":{\"gridcolor\":\"white\",\"linecolor\":\"white\",\"ticks\":\"\"}},\"title\":{\"x\":0.05},\"xaxis\":{\"automargin\":true,\"gridcolor\":\"white\",\"linecolor\":\"white\",\"ticks\":\"\",\"title\":{\"standoff\":15},\"zerolinecolor\":\"white\",\"zerolinewidth\":2},\"yaxis\":{\"automargin\":true,\"gridcolor\":\"white\",\"linecolor\":\"white\",\"ticks\":\"\",\"title\":{\"standoff\":15},\"zerolinecolor\":\"white\",\"zerolinewidth\":2}}},\"xaxis\":{\"anchor\":\"y\",\"domain\":[0.0,1.0],\"title\":{\"text\":\"Ex-Showroom_Price\"}},\"yaxis\":{\"anchor\":\"x\",\"domain\":[0.0,1.0],\"title\":{\"text\":\"City_Mileage\"}}},                        {\"responsive\": true}                    ).then(function(){\n",
       "                            \n",
       "var gd = document.getElementById('38e3575f-885b-4196-9eea-d2c6d2c53b61');\n",
       "var x = new MutationObserver(function (mutations, observer) {{\n",
       "        var display = window.getComputedStyle(gd).display;\n",
       "        if (!display || display === 'none') {{\n",
       "            console.log([gd, 'removed!']);\n",
       "            Plotly.purge(gd);\n",
       "            observer.disconnect();\n",
       "        }}\n",
       "}});\n",
       "\n",
       "// Listen for the removal of the full notebook cells\n",
       "var notebookContainer = gd.closest('#notebook-container');\n",
       "if (notebookContainer) {{\n",
       "    x.observe(notebookContainer, {childList: true});\n",
       "}}\n",
       "\n",
       "// Listen for the clearing of the current output cell\n",
       "var outputEl = gd.closest('.output');\n",
       "if (outputEl) {{\n",
       "    x.observe(outputEl, {childList: true});\n",
       "}}\n",
       "\n",
       "                        })                };                });            </script>        </div>"
      ]
     },
     "metadata": {},
     "output_type": "display_data"
    }
   ],
   "source": [
    "\n",
    "import plotly.express as px\n",
    "\n",
    "fig = px.bar(Petrol, x='Ex-Showroom_Price', y='City_Mileage')\n",
    "fig.show()"
   ]
  },
  {
   "cell_type": "code",
   "execution_count": 195,
   "id": "b67f5587",
   "metadata": {},
   "outputs": [],
   "source": [
    "#sns.barplot(Petrol,x='Ex-Showroom_Price',y='City_Mileage')"
   ]
  },
  {
   "cell_type": "code",
   "execution_count": 196,
   "id": "4e61afd6",
   "metadata": {},
   "outputs": [
    {
     "data": {
      "text/plain": [
       "15.0     298\n",
       "15        44\n",
       "12        33\n",
       "23        31\n",
       "13        24\n",
       "10        22\n",
       "5         19\n",
       "11        17\n",
       "21        15\n",
       "20        13\n",
       "16        13\n",
       "9         13\n",
       "25        12\n",
       "14        12\n",
       "18        11\n",
       "7         11\n",
       "17        10\n",
       "4          9\n",
       "8          7\n",
       "3          6\n",
       "24         6\n",
       "1757       4\n",
       "6          4\n",
       "136        3\n",
       "113        3\n",
       "19         3\n",
       "133        2\n",
       "2          2\n",
       "96         1\n",
       "1678       1\n",
       "Name: City_Mileage, dtype: int64"
      ]
     },
     "execution_count": 196,
     "metadata": {},
     "output_type": "execute_result"
    }
   ],
   "source": [
    "Petrol_Mileage_City=Petrol.City_Mileage.value_counts()\n",
    "Petrol_Mileage_City"
   ]
  },
  {
   "cell_type": "code",
   "execution_count": 197,
   "id": "9bc7aede",
   "metadata": {},
   "outputs": [
    {
     "name": "stderr",
     "output_type": "stream",
     "text": [
      "C:\\Users\\lance\\anaconda3\\lib\\site-packages\\seaborn\\_decorators.py:36: FutureWarning:\n",
      "\n",
      "Pass the following variables as keyword args: x, y. From version 0.12, the only valid positional argument will be `data`, and passing other arguments without an explicit keyword will result in an error or misinterpretation.\n",
      "\n"
     ]
    },
    {
     "data": {
      "text/plain": [
       "<AxesSubplot:>"
      ]
     },
     "execution_count": 197,
     "metadata": {},
     "output_type": "execute_result"
    },
    {
     "data": {
      "image/png": "[encoded data removed]",
      "text/plain": [
       "<Figure size 432x288 with 1 Axes>"
      ]
     },
     "metadata": {
      "needs_background": "light"
     },
     "output_type": "display_data"
    }
   ],
   "source": [
    "sns.barplot(Petrol_Mileage_City.index,Petrol_Mileage_City.values)"
   ]
  },
  {
   "cell_type": "code",
   "execution_count": 198,
   "id": "8be0e8b9",
   "metadata": {},
   "outputs": [
    {
     "data": {
      "application/vnd.plotly.v1+json": {
       "config": {
        "plotlyServerURL": "https://plot.ly"
       },
       "data": [
        {
         "alignmentgroup": "True",
         "hovertemplate": "Ex-Showroom_Price=%{x}<br>Cylinders=%{y}<extra></extra>",
         "legendgroup": "",
         "marker": {
          "color": "#636efa",
          "pattern": {
           "shape": ""
          }
         },
         "name": "",
         "offsetgroup": "",
         "orientation": "v",
         "showlegend": false,
         "textposition": "auto",
         "type": "bar",
         "x": [
          "292667",
          "236447",
          "334768",
          "272223",
          "314815",
          "279650",
          "351832",
          "333419",
          "362000",
          "390000",
          "437065",
          "353290",
          "283290",
          "383290",
          "413290",
          "433290",
          "454490",
          "463290",
          "484490",
          "440990",
          "470990",
          "462190",
          "492190",
          "352136",
          "380573",
          "392967",
          "377588",
          "394036",
          "360843",
          "407238",
          "438559",
          "374990",
          "468229",
          "502492",
          "499990",
          "469990",
          "528464",
          "553015",
          "594464",
          "618015",
          "422444",
          "429990",
          "503990",
          "530990",
          "512990",
          "570990",
          "556490",
          "460000",
          "520000",
          "570000",
          "599000",
          "610000",
          "620000",
          "649000",
          "660000",
          "481074",
          "475198",
          "518198",
          "524074",
          "499734",
          "540350",
          "542735",
          "552350",
          "713898",
          "666898",
          "607841",
          "560841",
          "483320",
          "630320",
          "583320",
          "495000",
          "559000",
          "609000",
          "663000",
          "506000",
          "670000",
          "520300",
          "581000",
          "630000",
          "597700",
          "641700",
          "558400",
          "662700",
          "525021",
          "599950",
          "563133",
          "674960",
          "529035",
          "590268",
          "614515",
          "536859",
          "556130",
          "553423",
          "559693",
          "634950",
          "721693",
          "808993",
          "920993",
          "751693",
          "831693",
          "579900",
          "655900",
          "705800",
          "729900",
          "804800",
          "785900",
          "854900",
          "582000",
          "676500",
          "776500",
          "976000",
          "582613",
          "673112",
          "732113",
          "720112",
          "821613",
          "779113",
          "868613",
          "591400",
          "721400",
          "756400",
          "681400",
          "594000",
          "665000",
          "799900",
          "598500",
          "697400",
          "663400",
          "782400",
          "737400",
          "762400",
          "627100",
          "718600",
          "778400",
          "689600",
          "803400",
          "802000",
          "650000",
          "668500",
          "977516",
          "721900",
          "758200",
          "829900",
          "890200",
          "697900",
          "745000",
          "909000",
          "789000",
          "865000",
          "928000",
          "774035",
          "858536",
          "882298",
          "791000",
          "871000",
          "950000",
          "1130000",
          "999900",
          "999900",
          "799990",
          "919990",
          "999990",
          "999900",
          "1172999",
          "1287999",
          "933182",
          "817867",
          "1178894",
          "1162875",
          "830127",
          "915128",
          "1060129",
          "1184129",
          "876500",
          "999900",
          "999900",
          "1197500",
          "1449500",
          "1317500",
          "952900",
          "1052900",
          "1167900",
          "1271900",
          "1285900",
          "984689",
          "1041189",
          "1094689",
          "1151189",
          "989219",
          "1269599",
          "1139599",
          "1610180",
          "1620000",
          "1615000",
          "2103000",
          "1807000",
          "1493000",
          "1498000",
          "1892000",
          "2171000",
          "1996000",
          "1560000",
          "2055000",
          "2167000",
          "1599000",
          "1900000",
          "2070000",
          "1645000",
          "1806000",
          "1882000",
          "2019000",
          "1793900",
          "1944900",
          "2124900",
          "2599599",
          "2779599",
          "3099599",
          "2599599",
          "2693000",
          "2785288",
          "2977000",
          "2818000",
          "2962000",
          "3420000",
          "3438000",
          "7784944",
          "8067000",
          "3490000",
          "4140000",
          "4240000",
          "3830000",
          "5602000",
          "7500000",
          "4090000",
          "4654000",
          "4790000",
          "5021200",
          "5621200",
          "5275000",
          "5494000",
          "5985000",
          "5861062",
          "15000000",
          "5750000",
          "6150000",
          "5980000",
          "6060000",
          "5990000",
          "6422809",
          "6440000",
          "8503000",
          "6998000",
          "7246802",
          "8433741",
          "8077550",
          "7693664",
          "8937846",
          "20517853",
          "8670586",
          "9448181",
          "11476911",
          "15600000",
          "13228725",
          "17940227",
          "23659454",
          "22155390",
          "26501830",
          "28004965",
          "9092578",
          "10144987",
          "10419200",
          "9366433",
          "10490000",
          "19210000",
          "11936000",
          "13151000",
          "19763000",
          "13590000",
          "15490000",
          "17072000",
          "17420000",
          "18844000",
          "26037526",
          "32522000",
          "19527130",
          "40499548",
          "21398758",
          "27308312",
          "19890000",
          "21263000",
          "22613000",
          "21747000",
          "23491293",
          "27245000",
          "30000000",
          "33791059",
          "35000000",
          "45941557",
          "37542069",
          "40456503",
          "42531500",
          "46709733",
          "53247201",
          "50025840",
          "52571294",
          "69500000",
          "77312661",
          "192142937",
          "212155397",
          "263000",
          "294800",
          "299900",
          "352900",
          "357200",
          "376100",
          "389600",
          "370500",
          "376500",
          "409000",
          "415000",
          "432500",
          "438500",
          "475500",
          "456000",
          "481500",
          "499000",
          "426289",
          "465138",
          "508138",
          "490924",
          "531279",
          "533924",
          "434659",
          "472257",
          "515257",
          "543279",
          "460369",
          "477511",
          "488194",
          "532184",
          "579645",
          "631144",
          "693550",
          "701045",
          "573250",
          "631146",
          "687175",
          "687175",
          "687175",
          "687175",
          "687175",
          "687175",
          "687175",
          "687175",
          "519000",
          "619000",
          "666000",
          "678000",
          "725000",
          "758000",
          "802000",
          "529000",
          "615000",
          "684000",
          "744000",
          "769000",
          "575000",
          "610000",
          "650000",
          "699000",
          "660000",
          "749000",
          "582287",
          "653926",
          "672641",
          "732475",
          "763000",
          "593000",
          "823000",
          "781000",
          "733000",
          "673000",
          "794000",
          "794000",
          "794000",
          "794000",
          "794000",
          "794000",
          "794000",
          "637343",
          "622730",
          "655000",
          "826000",
          "959000",
          "974000",
          "1065000",
          "940000",
          "1115500",
          "725000",
          "695000",
          "770000",
          "870000",
          "950000",
          "970000",
          "1040000",
          "1060000",
          "830000",
          "1010000",
          "1030000",
          "1100000",
          "1120000",
          "715860",
          "997763",
          "759000",
          "917000",
          "936000",
          "971000",
          "834000",
          "1013000",
          "788913",
          "925000",
          "815000",
          "808050",
          "935050",
          "949999",
          "1199999",
          "989000",
          "1029000",
          "1149000",
          "1309000",
          "1409000",
          "1379000",
          "1529000",
          "1629000",
          "1629000",
          "999900",
          "1248000",
          "1328000",
          "1568000",
          "1718000",
          "1589000",
          "1849000",
          "1949000",
          "2039000",
          "1876656",
          "2187384",
          "2373522",
          "2246749",
          "2899599",
          "2988311",
          "3198662",
          "3496750",
          "3830000",
          "4120000",
          "4350000",
          "5436329",
          "6073446",
          "5442200",
          "5942200",
          "6394000",
          "6490000",
          "7890000",
          "6921500",
          "7621500",
          "7711500",
          "7243000",
          "7462000",
          "7711338",
          "8995000",
          "8595000",
          "11141200",
          "13359500",
          "15600000",
          "19865675",
          "21583466",
          "23264134",
          "22733626",
          "24200000",
          "37133704",
          "32452486",
          "35150732",
          "37614126",
          "35535000",
          "40742932",
          "37300000",
          "41000000",
          "32200000",
          "36761413",
          "39319552",
          "42000000",
          "52000000",
          "47893943",
          "53210327",
          "47467700",
          "59216193",
          "83755383",
          "282778",
          "284485",
          "412292",
          "552656",
          "574448",
          "555196",
          "500575",
          "593361",
          "615153",
          "658361",
          "680153",
          "482330",
          "523000",
          "599900",
          "664900",
          "758212",
          "890212",
          "636612",
          "768612",
          "558602",
          "697912",
          "733412",
          "789912",
          "829912",
          "586428",
          "620637",
          "652328",
          "705538",
          "640537",
          "646336",
          "707025",
          "836461",
          "993997",
          "819689",
          "881689",
          "958689",
          "997689",
          "980689",
          "1058688",
          "1098689",
          "998599",
          "881916",
          "1243599",
          "1115599",
          "999599",
          "975599",
          "1099599",
          "980970",
          "999990",
          "1232534",
          "1394437",
          "1377363",
          "1287041",
          "1422937",
          "1092192",
          "1279983",
          "2827001",
          "3599000",
          "3600000",
          "4149000",
          "4507000",
          "5038000",
          "6426497",
          "6952964",
          "11400000",
          "7515000",
          "19199181",
          "8776900",
          "8690000",
          "13510000",
          "24250000",
          "21875136",
          "34167064",
          "39382083",
          "43367500",
          "95000000",
          "75400000",
          "354235",
          "356559",
          "504990",
          "589610",
          "642610",
          "643350",
          "703350",
          "673350",
          "718950",
          "643769",
          "733734",
          "705546",
          "782346",
          "662880",
          "781686",
          "955000",
          "1095000",
          "2920750",
          "3120750",
          "3990000",
          "5880000",
          "8180000",
          "13976653",
          "25500000",
          "21240272",
          "38845823",
          "479000",
          "526000",
          "548000",
          "434000",
          "513501",
          "560500",
          "594800",
          "441000",
          "486001",
          "520500",
          "567500",
          "533000",
          "594993",
          "639993",
          "940000",
          "1055000",
          "1174000",
          "1418000",
          "1175000",
          "1010000",
          "1294000",
          "1296000",
          "1197000",
          "876000",
          "974000",
          "935000",
          "1083000",
          "1317000",
          "1599599",
          "1899599",
          "2059599",
          "2359599",
          "1549000",
          "1999599",
          "3407407",
          "6350000",
          "9900000",
          "29500000",
          "535562",
          "991000",
          "1065900",
          "1182000",
          "1312000",
          "1431000",
          "1201000",
          "4498000",
          "4633000",
          "17229579",
          "8290000",
          "52000000"
         ],
         "xaxis": "x",
         "y": [
          2,
          2,
          2,
          2,
          2,
          3,
          3,
          3,
          3,
          3,
          3,
          3,
          3,
          3,
          3,
          3,
          3,
          3,
          3,
          3,
          3,
          3,
          3,
          4,
          4,
          4,
          3,
          3,
          3,
          3,
          3,
          3,
          3,
          3,
          3,
          3,
          3,
          3,
          3,
          3,
          3,
          4,
          4,
          4,
          4,
          4,
          4,
          3,
          3,
          3,
          3,
          3,
          3,
          3,
          3,
          3,
          3,
          3,
          3,
          3,
          3,
          3,
          3,
          4,
          4,
          4,
          4,
          4,
          4,
          4,
          3,
          3,
          3,
          3,
          4,
          4,
          4,
          4,
          4,
          4,
          4,
          4,
          4,
          3,
          3,
          3,
          4,
          4,
          4,
          4,
          4,
          4,
          4,
          4,
          4,
          4,
          4,
          4,
          4,
          4,
          4,
          4,
          4,
          4,
          4,
          4,
          4,
          3,
          3,
          3,
          4,
          4,
          4,
          4,
          4,
          4,
          4,
          4,
          3,
          3,
          3,
          3,
          3,
          3,
          3,
          4,
          4,
          4,
          4,
          4,
          4,
          4,
          4,
          4,
          4,
          4,
          4,
          4,
          4,
          4,
          4,
          4,
          4,
          4,
          4,
          4,
          4,
          4,
          4,
          4,
          4,
          4,
          4,
          3,
          3,
          3,
          3,
          4,
          4,
          4,
          4,
          4,
          4,
          4,
          4,
          4,
          4,
          4,
          4,
          4,
          4,
          4,
          4,
          4,
          4,
          4,
          4,
          4,
          4,
          4,
          4,
          4,
          4,
          4,
          4,
          4,
          4,
          4,
          4,
          4,
          4,
          4,
          4,
          4,
          4,
          4,
          4,
          4,
          4,
          4,
          6,
          6,
          6,
          6,
          6,
          6,
          6,
          4,
          4,
          4,
          4,
          4,
          4,
          4,
          4,
          4,
          4,
          4,
          4,
          4,
          4,
          4,
          4,
          4,
          4,
          4,
          4,
          4,
          4,
          4,
          4,
          4,
          8,
          4,
          4,
          4,
          6,
          6,
          4,
          4,
          4,
          4,
          8,
          4,
          4,
          6,
          6,
          6,
          4,
          8,
          6,
          6,
          4,
          6,
          6,
          6,
          6,
          8,
          8,
          8,
          6,
          8,
          6,
          8,
          4,
          6,
          8,
          8,
          6,
          6,
          8,
          4,
          6,
          6,
          6,
          6,
          8,
          6,
          8,
          8,
          6,
          6,
          8,
          8,
          6,
          8,
          6,
          12,
          8,
          8,
          8,
          8,
          8,
          10,
          8,
          12,
          8,
          12,
          12,
          12,
          8,
          12,
          12,
          12,
          8,
          12,
          12,
          16,
          16,
          4,
          3,
          3,
          3,
          3,
          3,
          3,
          3,
          3,
          3,
          3,
          3,
          3,
          3,
          3,
          3,
          3,
          3,
          3,
          3,
          3,
          3,
          3,
          3,
          3,
          3,
          3,
          4,
          4,
          3,
          3,
          3,
          3,
          3,
          3,
          3,
          3,
          3,
          3,
          3,
          3,
          3,
          3,
          3,
          3,
          4,
          4,
          4,
          4,
          4,
          4,
          4,
          3,
          3,
          3,
          3,
          3,
          3,
          3,
          3,
          3,
          3,
          3,
          4,
          4,
          4,
          4,
          4,
          4,
          4,
          4,
          4,
          4,
          4,
          4,
          4,
          4,
          4,
          4,
          4,
          4,
          4,
          4,
          4,
          4,
          4,
          4,
          4,
          4,
          4,
          3,
          3,
          3,
          3,
          3,
          3,
          3,
          3,
          3,
          3,
          3,
          3,
          4,
          4,
          4,
          4,
          4,
          4,
          4,
          4,
          3,
          4,
          4,
          4,
          4,
          4,
          4,
          4,
          4,
          4,
          4,
          4,
          4,
          4,
          4,
          4,
          4,
          4,
          4,
          4,
          4,
          4,
          4,
          4,
          4,
          4,
          4,
          4,
          4,
          4,
          4,
          4,
          4,
          4,
          4,
          4,
          4,
          4,
          4,
          4,
          4,
          4,
          6,
          6,
          6,
          6,
          6,
          8,
          6,
          4,
          4,
          8,
          4,
          8,
          8,
          8,
          8,
          8,
          8,
          10,
          10,
          10,
          10,
          10,
          10,
          10,
          10,
          10,
          8,
          8,
          8,
          8,
          12,
          12,
          12,
          12,
          12,
          3,
          3,
          3,
          3,
          3,
          3,
          3,
          3,
          3,
          3,
          3,
          4,
          4,
          4,
          4,
          4,
          4,
          4,
          4,
          4,
          4,
          4,
          4,
          4,
          4,
          4,
          4,
          4,
          4,
          4,
          4,
          4,
          4,
          4,
          4,
          4,
          4,
          4,
          4,
          4,
          4,
          4,
          4,
          4,
          4,
          4,
          4,
          4,
          4,
          4,
          4,
          4,
          4,
          4,
          4,
          4,
          4,
          4,
          3,
          4,
          4,
          4,
          4,
          4,
          8,
          6,
          8,
          8,
          8,
          6,
          12,
          8,
          8,
          12,
          8,
          12,
          12,
          3,
          3,
          4,
          4,
          4,
          4,
          4,
          4,
          4,
          4,
          4,
          4,
          4,
          3,
          3,
          4,
          4,
          4,
          4,
          5,
          4,
          6,
          6,
          8,
          6,
          12,
          3,
          3,
          3,
          3,
          3,
          3,
          3,
          3,
          3,
          3,
          3,
          3,
          3,
          3,
          4,
          4,
          4,
          4,
          4,
          4,
          4,
          4,
          4,
          4,
          4,
          4,
          4,
          4,
          4,
          4,
          4,
          4,
          4,
          4,
          4,
          6,
          6,
          8,
          4,
          4,
          4,
          4,
          4,
          4,
          4,
          4,
          4,
          8,
          6,
          12
         ],
         "yaxis": "y"
        }
       ],
       "layout": {
        "barmode": "relative",
        "legend": {
         "tracegroupgap": 0
        },
        "margin": {
         "t": 60
        },
        "template": {
         "data": {
          "bar": [
           {
            "error_x": {
             "color": "#2a3f5f"
            },
            "error_y": {
             "color": "#2a3f5f"
            },
            "marker": {
             "line": {
              "color": "#E5ECF6",
              "width": 0.5
             },
             "pattern": {
              "fillmode": "overlay",
              "size": 10,
              "solidity": 0.2
             }
            },
            "type": "bar"
           }
          ],
          "barpolar": [
           {
            "marker": {
             "line": {
              "color": "#E5ECF6",
              "width": 0.5
             },
             "pattern": {
              "fillmode": "overlay",
              "size": 10,
              "solidity": 0.2
             }
            },
            "type": "barpolar"
           }
          ],
          "carpet": [
           {
            "aaxis": {
             "endlinecolor": "#2a3f5f",
             "gridcolor": "white",
             "linecolor": "white",
             "minorgridcolor": "white",
             "startlinecolor": "#2a3f5f"
            },
            "baxis": {
             "endlinecolor": "#2a3f5f",
             "gridcolor": "white",
             "linecolor": "white",
             "minorgridcolor": "white",
             "startlinecolor": "#2a3f5f"
            },
            "type": "carpet"
           }
          ],
          "choropleth": [
           {
            "colorbar": {
             "outlinewidth": 0,
             "ticks": ""
            },
            "type": "choropleth"
           }
          ],
          "contour": [
           {
            "colorbar": {
             "outlinewidth": 0,
             "ticks": ""
            },
            "colorscale": [
             [
              0,
              "#0d0887"
             ],
             [
              0.1111111111111111,
              "#46039f"
             ],
             [
              0.2222222222222222,
              "#7201a8"
             ],
             [
              0.3333333333333333,
              "#9c179e"
             ],
             [
              0.4444444444444444,
              "#bd3786"
             ],
             [
              0.5555555555555556,
              "#d8576b"
             ],
             [
              0.6666666666666666,
              "#ed7953"
             ],
             [
              0.7777777777777778,
              "#fb9f3a"
             ],
             [
              0.8888888888888888,
              "#fdca26"
             ],
             [
              1,
              "#f0f921"
             ]
            ],
            "type": "contour"
           }
          ],
          "contourcarpet": [
           {
            "colorbar": {
             "outlinewidth": 0,
             "ticks": ""
            },
            "type": "contourcarpet"
           }
          ],
          "heatmap": [
           {
            "colorbar": {
             "outlinewidth": 0,
             "ticks": ""
            },
            "colorscale": [
             [
              0,
              "#0d0887"
             ],
             [
              0.1111111111111111,
              "#46039f"
             ],
             [
              0.2222222222222222,
              "#7201a8"
             ],
             [
              0.3333333333333333,
              "#9c179e"
             ],
             [
              0.4444444444444444,
              "#bd3786"
             ],
             [
              0.5555555555555556,
              "#d8576b"
             ],
             [
              0.6666666666666666,
              "#ed7953"
             ],
             [
              0.7777777777777778,
              "#fb9f3a"
             ],
             [
              0.8888888888888888,
              "#fdca26"
             ],
             [
              1,
              "#f0f921"
             ]
            ],
            "type": "heatmap"
           }
          ],
          "heatmapgl": [
           {
            "colorbar": {
             "outlinewidth": 0,
             "ticks": ""
            },
            "colorscale": [
             [
              0,
              "#0d0887"
             ],
             [
              0.1111111111111111,
              "#46039f"
             ],
             [
              0.2222222222222222,
              "#7201a8"
             ],
             [
              0.3333333333333333,
              "#9c179e"
             ],
             [
              0.4444444444444444,
              "#bd3786"
             ],
             [
              0.5555555555555556,
              "#d8576b"
             ],
             [
              0.6666666666666666,
              "#ed7953"
             ],
             [
              0.7777777777777778,
              "#fb9f3a"
             ],
             [
              0.8888888888888888,
              "#fdca26"
             ],
             [
              1,
              "#f0f921"
             ]
            ],
            "type": "heatmapgl"
           }
          ],
          "histogram": [
           {
            "marker": {
             "pattern": {
              "fillmode": "overlay",
              "size": 10,
              "solidity": 0.2
             }
            },
            "type": "histogram"
           }
          ],
          "histogram2d": [
           {
            "colorbar": {
             "outlinewidth": 0,
             "ticks": ""
            },
            "colorscale": [
             [
              0,
              "#0d0887"
             ],
             [
              0.1111111111111111,
              "#46039f"
             ],
             [
              0.2222222222222222,
              "#7201a8"
             ],
             [
              0.3333333333333333,
              "#9c179e"
             ],
             [
              0.4444444444444444,
              "#bd3786"
             ],
             [
              0.5555555555555556,
              "#d8576b"
             ],
             [
              0.6666666666666666,
              "#ed7953"
             ],
             [
              0.7777777777777778,
              "#fb9f3a"
             ],
             [
              0.8888888888888888,
              "#fdca26"
             ],
             [
              1,
              "#f0f921"
             ]
            ],
            "type": "histogram2d"
           }
          ],
          "histogram2dcontour": [
           {
            "colorbar": {
             "outlinewidth": 0,
             "ticks": ""
            },
            "colorscale": [
             [
              0,
              "#0d0887"
             ],
             [
              0.1111111111111111,
              "#46039f"
             ],
             [
              0.2222222222222222,
              "#7201a8"
             ],
             [
              0.3333333333333333,
              "#9c179e"
             ],
             [
              0.4444444444444444,
              "#bd3786"
             ],
             [
              0.5555555555555556,
              "#d8576b"
             ],
             [
              0.6666666666666666,
              "#ed7953"
             ],
             [
              0.7777777777777778,
              "#fb9f3a"
             ],
             [
              0.8888888888888888,
              "#fdca26"
             ],
             [
              1,
              "#f0f921"
             ]
            ],
            "type": "histogram2dcontour"
           }
          ],
          "mesh3d": [
           {
            "colorbar": {
             "outlinewidth": 0,
             "ticks": ""
            },
            "type": "mesh3d"
           }
          ],
          "parcoords": [
           {
            "line": {
             "colorbar": {
              "outlinewidth": 0,
              "ticks": ""
             }
            },
            "type": "parcoords"
           }
          ],
          "pie": [
           {
            "automargin": true,
            "type": "pie"
           }
          ],
          "scatter": [
           {
            "marker": {
             "colorbar": {
              "outlinewidth": 0,
              "ticks": ""
             }
            },
            "type": "scatter"
           }
          ],
          "scatter3d": [
           {
            "line": {
             "colorbar": {
              "outlinewidth": 0,
              "ticks": ""
             }
            },
            "marker": {
             "colorbar": {
              "outlinewidth": 0,
              "ticks": ""
             }
            },
            "type": "scatter3d"
           }
          ],
          "scattercarpet": [
           {
            "marker": {
             "colorbar": {
              "outlinewidth": 0,
              "ticks": ""
             }
            },
            "type": "scattercarpet"
           }
          ],
          "scattergeo": [
           {
            "marker": {
             "colorbar": {
              "outlinewidth": 0,
              "ticks": ""
             }
            },
            "type": "scattergeo"
           }
          ],
          "scattergl": [
           {
            "marker": {
             "colorbar": {
              "outlinewidth": 0,
              "ticks": ""
             }
            },
            "type": "scattergl"
           }
          ],
          "scattermapbox": [
           {
            "marker": {
             "colorbar": {
              "outlinewidth": 0,
              "ticks": ""
             }
            },
            "type": "scattermapbox"
           }
          ],
          "scatterpolar": [
           {
            "marker": {
             "colorbar": {
              "outlinewidth": 0,
              "ticks": ""
             }
            },
            "type": "scatterpolar"
           }
          ],
          "scatterpolargl": [
           {
            "marker": {
             "colorbar": {
              "outlinewidth": 0,
              "ticks": ""
             }
            },
            "type": "scatterpolargl"
           }
          ],
          "scatterternary": [
           {
            "marker": {
             "colorbar": {
              "outlinewidth": 0,
              "ticks": ""
             }
            },
            "type": "scatterternary"
           }
          ],
          "surface": [
           {
            "colorbar": {
             "outlinewidth": 0,
             "ticks": ""
            },
            "colorscale": [
             [
              0,
              "#0d0887"
             ],
             [
              0.1111111111111111,
              "#46039f"
             ],
             [
              0.2222222222222222,
              "#7201a8"
             ],
             [
              0.3333333333333333,
              "#9c179e"
             ],
             [
              0.4444444444444444,
              "#bd3786"
             ],
             [
              0.5555555555555556,
              "#d8576b"
             ],
             [
              0.6666666666666666,
              "#ed7953"
             ],
             [
              0.7777777777777778,
              "#fb9f3a"
             ],
             [
              0.8888888888888888,
              "#fdca26"
             ],
             [
              1,
              "#f0f921"
             ]
            ],
            "type": "surface"
           }
          ],
          "table": [
           {
            "cells": {
             "fill": {
              "color": "#EBF0F8"
             },
             "line": {
              "color": "white"
             }
            },
            "header": {
             "fill": {
              "color": "#C8D4E3"
             },
             "line": {
              "color": "white"
             }
            },
            "type": "table"
           }
          ]
         },
         "layout": {
          "annotationdefaults": {
           "arrowcolor": "#2a3f5f",
           "arrowhead": 0,
           "arrowwidth": 1
          },
          "autotypenumbers": "strict",
          "coloraxis": {
           "colorbar": {
            "outlinewidth": 0,
            "ticks": ""
           }
          },
          "colorscale": {
           "diverging": [
            [
             0,
             "#8e0152"
            ],
            [
             0.1,
             "#c51b7d"
            ],
            [
             0.2,
             "#de77ae"
            ],
            [
             0.3,
             "#f1b6da"
            ],
            [
             0.4,
             "#fde0ef"
            ],
            [
             0.5,
             "#f7f7f7"
            ],
            [
             0.6,
             "#e6f5d0"
            ],
            [
             0.7,
             "#b8e186"
            ],
            [
             0.8,
             "#7fbc41"
            ],
            [
             0.9,
             "#4d9221"
            ],
            [
             1,
             "#276419"
            ]
           ],
           "sequential": [
            [
             0,
             "#0d0887"
            ],
            [
             0.1111111111111111,
             "#46039f"
            ],
            [
             0.2222222222222222,
             "#7201a8"
            ],
            [
             0.3333333333333333,
             "#9c179e"
            ],
            [
             0.4444444444444444,
             "#bd3786"
            ],
            [
             0.5555555555555556,
             "#d8576b"
            ],
            [
             0.6666666666666666,
             "#ed7953"
            ],
            [
             0.7777777777777778,
             "#fb9f3a"
            ],
            [
             0.8888888888888888,
             "#fdca26"
            ],
            [
             1,
             "#f0f921"
            ]
           ],
           "sequentialminus": [
            [
             0,
             "#0d0887"
            ],
            [
             0.1111111111111111,
             "#46039f"
            ],
            [
             0.2222222222222222,
             "#7201a8"
            ],
            [
             0.3333333333333333,
             "#9c179e"
            ],
            [
             0.4444444444444444,
             "#bd3786"
            ],
            [
             0.5555555555555556,
             "#d8576b"
            ],
            [
             0.6666666666666666,
             "#ed7953"
            ],
            [
             0.7777777777777778,
             "#fb9f3a"
            ],
            [
             0.8888888888888888,
             "#fdca26"
            ],
            [
             1,
             "#f0f921"
            ]
           ]
          },
          "colorway": [
           "#636efa",
           "#EF553B",
           "#00cc96",
           "#ab63fa",
           "#FFA15A",
           "#19d3f3",
           "#FF6692",
           "#B6E880",
           "#FF97FF",
           "#FECB52"
          ],
          "font": {
           "color": "#2a3f5f"
          },
          "geo": {
           "bgcolor": "white",
           "lakecolor": "white",
           "landcolor": "#E5ECF6",
           "showlakes": true,
           "showland": true,
           "subunitcolor": "white"
          },
          "hoverlabel": {
           "align": "left"
          },
          "hovermode": "closest",
          "mapbox": {
           "style": "light"
          },
          "paper_bgcolor": "white",
          "plot_bgcolor": "#E5ECF6",
          "polar": {
           "angularaxis": {
            "gridcolor": "white",
            "linecolor": "white",
            "ticks": ""
           },
           "bgcolor": "#E5ECF6",
           "radialaxis": {
            "gridcolor": "white",
            "linecolor": "white",
            "ticks": ""
           }
          },
          "scene": {
           "xaxis": {
            "backgroundcolor": "#E5ECF6",
            "gridcolor": "white",
            "gridwidth": 2,
            "linecolor": "white",
            "showbackground": true,
            "ticks": "",
            "zerolinecolor": "white"
           },
           "yaxis": {
            "backgroundcolor": "#E5ECF6",
            "gridcolor": "white",
            "gridwidth": 2,
            "linecolor": "white",
            "showbackground": true,
            "ticks": "",
            "zerolinecolor": "white"
           },
           "zaxis": {
            "backgroundcolor": "#E5ECF6",
            "gridcolor": "white",
            "gridwidth": 2,
            "linecolor": "white",
            "showbackground": true,
            "ticks": "",
            "zerolinecolor": "white"
           }
          },
          "shapedefaults": {
           "line": {
            "color": "#2a3f5f"
           }
          },
          "ternary": {
           "aaxis": {
            "gridcolor": "white",
            "linecolor": "white",
            "ticks": ""
           },
           "baxis": {
            "gridcolor": "white",
            "linecolor": "white",
            "ticks": ""
           },
           "bgcolor": "#E5ECF6",
           "caxis": {
            "gridcolor": "white",
            "linecolor": "white",
            "ticks": ""
           }
          },
          "title": {
           "x": 0.05
          },
          "xaxis": {
           "automargin": true,
           "gridcolor": "white",
           "linecolor": "white",
           "ticks": "",
           "title": {
            "standoff": 15
           },
           "zerolinecolor": "white",
           "zerolinewidth": 2
          },
          "yaxis": {
           "automargin": true,
           "gridcolor": "white",
           "linecolor": "white",
           "ticks": "",
           "title": {
            "standoff": 15
           },
           "zerolinecolor": "white",
           "zerolinewidth": 2
          }
         }
        },
        "xaxis": {
         "anchor": "y",
         "domain": [
          0,
          1
         ],
         "title": {
          "text": "Ex-Showroom_Price"
         }
        },
        "yaxis": {
         "anchor": "x",
         "domain": [
          0,
          1
         ],
         "title": {
          "text": "Cylinders"
         }
        }
       }
      },
      "text/html": [
       "<div>                            <div id=\"fae4e1d8-4a37-4843-abf8-31ddd0bb894b\" class=\"plotly-graph-div\" style=\"height:525px; width:100%;\"></div>            <script type=\"text/javascript\">                require([\"plotly\"], function(Plotly) {                    window.PLOTLYENV=window.PLOTLYENV || {};                                    if (document.getElementById(\"fae4e1d8-4a37-4843-abf8-31ddd0bb894b\")) {                    Plotly.newPlot(                        \"fae4e1d8-4a37-4843-abf8-31ddd0bb894b\",                        [{\"alignmentgroup\":\"True\",\"hovertemplate\":\"Ex-Showroom_Price=%{x}<br>Cylinders=%{y}<extra></extra>\",\"legendgroup\":\"\",\"marker\":{\"color\":\"#636efa\",\"pattern\":{\"shape\":\"\"}},\"name\":\"\",\"offsetgroup\":\"\",\"orientation\":\"v\",\"showlegend\":false,\"textposition\":\"auto\",\"type\":\"bar\",\"x\":[\"292667\",\"236447\",\"334768\",\"272223\",\"314815\",\"279650\",\"351832\",\"333419\",\"362000\",\"390000\",\"437065\",\"353290\",\"283290\",\"383290\",\"413290\",\"433290\",\"454490\",\"463290\",\"484490\",\"440990\",\"470990\",\"462190\",\"492190\",\"352136\",\"380573\",\"392967\",\"377588\",\"394036\",\"360843\",\"407238\",\"438559\",\"374990\",\"468229\",\"502492\",\"499990\",\"469990\",\"528464\",\"553015\",\"594464\",\"618015\",\"422444\",\"429990\",\"503990\",\"530990\",\"512990\",\"570990\",\"556490\",\"460000\",\"520000\",\"570000\",\"599000\",\"610000\",\"620000\",\"649000\",\"660000\",\"481074\",\"475198\",\"518198\",\"524074\",\"499734\",\"540350\",\"542735\",\"552350\",\"713898\",\"666898\",\"607841\",\"560841\",\"483320\",\"630320\",\"583320\",\"495000\",\"559000\",\"609000\",\"663000\",\"506000\",\"670000\",\"520300\",\"581000\",\"630000\",\"597700\",\"641700\",\"558400\",\"662700\",\"525021\",\"599950\",\"563133\",\"674960\",\"529035\",\"590268\",\"614515\",\"536859\",\"556130\",\"553423\",\"559693\",\"634950\",\"721693\",\"808993\",\"920993\",\"751693\",\"831693\",\"579900\",\"655900\",\"705800\",\"729900\",\"804800\",\"785900\",\"854900\",\"582000\",\"676500\",\"776500\",\"976000\",\"582613\",\"673112\",\"732113\",\"720112\",\"821613\",\"779113\",\"868613\",\"591400\",\"721400\",\"756400\",\"681400\",\"594000\",\"665000\",\"799900\",\"598500\",\"697400\",\"663400\",\"782400\",\"737400\",\"762400\",\"627100\",\"718600\",\"778400\",\"689600\",\"803400\",\"802000\",\"650000\",\"668500\",\"977516\",\"721900\",\"758200\",\"829900\",\"890200\",\"697900\",\"745000\",\"909000\",\"789000\",\"865000\",\"928000\",\"774035\",\"858536\",\"882298\",\"791000\",\"871000\",\"950000\",\"1130000\",\"999900\",\"999900\",\"799990\",\"919990\",\"999990\",\"999900\",\"1172999\",\"1287999\",\"933182\",\"817867\",\"1178894\",\"1162875\",\"830127\",\"915128\",\"1060129\",\"1184129\",\"876500\",\"999900\",\"999900\",\"1197500\",\"1449500\",\"1317500\",\"952900\",\"1052900\",\"1167900\",\"1271900\",\"1285900\",\"984689\",\"1041189\",\"1094689\",\"1151189\",\"989219\",\"1269599\",\"1139599\",\"1610180\",\"1620000\",\"1615000\",\"2103000\",\"1807000\",\"1493000\",\"1498000\",\"1892000\",\"2171000\",\"1996000\",\"1560000\",\"2055000\",\"2167000\",\"1599000\",\"1900000\",\"2070000\",\"1645000\",\"1806000\",\"1882000\",\"2019000\",\"1793900\",\"1944900\",\"2124900\",\"2599599\",\"2779599\",\"3099599\",\"2599599\",\"2693000\",\"2785288\",\"2977000\",\"2818000\",\"2962000\",\"3420000\",\"3438000\",\"7784944\",\"8067000\",\"3490000\",\"4140000\",\"4240000\",\"3830000\",\"5602000\",\"7500000\",\"4090000\",\"4654000\",\"4790000\",\"5021200\",\"5621200\",\"5275000\",\"5494000\",\"5985000\",\"5861062\",\"15000000\",\"5750000\",\"6150000\",\"5980000\",\"6060000\",\"5990000\",\"6422809\",\"6440000\",\"8503000\",\"6998000\",\"7246802\",\"8433741\",\"8077550\",\"7693664\",\"8937846\",\"20517853\",\"8670586\",\"9448181\",\"11476911\",\"15600000\",\"13228725\",\"17940227\",\"23659454\",\"22155390\",\"26501830\",\"28004965\",\"9092578\",\"10144987\",\"10419200\",\"9366433\",\"10490000\",\"19210000\",\"11936000\",\"13151000\",\"19763000\",\"13590000\",\"15490000\",\"17072000\",\"17420000\",\"18844000\",\"26037526\",\"32522000\",\"19527130\",\"40499548\",\"21398758\",\"27308312\",\"19890000\",\"21263000\",\"22613000\",\"21747000\",\"23491293\",\"27245000\",\"30000000\",\"33791059\",\"35000000\",\"45941557\",\"37542069\",\"40456503\",\"42531500\",\"46709733\",\"53247201\",\"50025840\",\"52571294\",\"69500000\",\"77312661\",\"192142937\",\"212155397\",\"263000\",\"294800\",\"299900\",\"352900\",\"357200\",\"376100\",\"389600\",\"370500\",\"376500\",\"409000\",\"415000\",\"432500\",\"438500\",\"475500\",\"456000\",\"481500\",\"499000\",\"426289\",\"465138\",\"508138\",\"490924\",\"531279\",\"533924\",\"434659\",\"472257\",\"515257\",\"543279\",\"460369\",\"477511\",\"488194\",\"532184\",\"579645\",\"631144\",\"693550\",\"701045\",\"573250\",\"631146\",\"687175\",\"687175\",\"687175\",\"687175\",\"687175\",\"687175\",\"687175\",\"687175\",\"519000\",\"619000\",\"666000\",\"678000\",\"725000\",\"758000\",\"802000\",\"529000\",\"615000\",\"684000\",\"744000\",\"769000\",\"575000\",\"610000\",\"650000\",\"699000\",\"660000\",\"749000\",\"582287\",\"653926\",\"672641\",\"732475\",\"763000\",\"593000\",\"823000\",\"781000\",\"733000\",\"673000\",\"794000\",\"794000\",\"794000\",\"794000\",\"794000\",\"794000\",\"794000\",\"637343\",\"622730\",\"655000\",\"826000\",\"959000\",\"974000\",\"1065000\",\"940000\",\"1115500\",\"725000\",\"695000\",\"770000\",\"870000\",\"950000\",\"970000\",\"1040000\",\"1060000\",\"830000\",\"1010000\",\"1030000\",\"1100000\",\"1120000\",\"715860\",\"997763\",\"759000\",\"917000\",\"936000\",\"971000\",\"834000\",\"1013000\",\"788913\",\"925000\",\"815000\",\"808050\",\"935050\",\"949999\",\"1199999\",\"989000\",\"1029000\",\"1149000\",\"1309000\",\"1409000\",\"1379000\",\"1529000\",\"1629000\",\"1629000\",\"999900\",\"1248000\",\"1328000\",\"1568000\",\"1718000\",\"1589000\",\"1849000\",\"1949000\",\"2039000\",\"1876656\",\"2187384\",\"2373522\",\"2246749\",\"2899599\",\"2988311\",\"3198662\",\"3496750\",\"3830000\",\"4120000\",\"4350000\",\"5436329\",\"6073446\",\"5442200\",\"5942200\",\"6394000\",\"6490000\",\"7890000\",\"6921500\",\"7621500\",\"7711500\",\"7243000\",\"7462000\",\"7711338\",\"8995000\",\"8595000\",\"11141200\",\"13359500\",\"15600000\",\"19865675\",\"21583466\",\"23264134\",\"22733626\",\"24200000\",\"37133704\",\"32452486\",\"35150732\",\"37614126\",\"35535000\",\"40742932\",\"37300000\",\"41000000\",\"32200000\",\"36761413\",\"39319552\",\"42000000\",\"52000000\",\"47893943\",\"53210327\",\"47467700\",\"59216193\",\"83755383\",\"282778\",\"284485\",\"412292\",\"552656\",\"574448\",\"555196\",\"500575\",\"593361\",\"615153\",\"658361\",\"680153\",\"482330\",\"523000\",\"599900\",\"664900\",\"758212\",\"890212\",\"636612\",\"768612\",\"558602\",\"697912\",\"733412\",\"789912\",\"829912\",\"586428\",\"620637\",\"652328\",\"705538\",\"640537\",\"646336\",\"707025\",\"836461\",\"993997\",\"819689\",\"881689\",\"958689\",\"997689\",\"980689\",\"1058688\",\"1098689\",\"998599\",\"881916\",\"1243599\",\"1115599\",\"999599\",\"975599\",\"1099599\",\"980970\",\"999990\",\"1232534\",\"1394437\",\"1377363\",\"1287041\",\"1422937\",\"1092192\",\"1279983\",\"2827001\",\"3599000\",\"3600000\",\"4149000\",\"4507000\",\"5038000\",\"6426497\",\"6952964\",\"11400000\",\"7515000\",\"19199181\",\"8776900\",\"8690000\",\"13510000\",\"24250000\",\"21875136\",\"34167064\",\"39382083\",\"43367500\",\"95000000\",\"75400000\",\"354235\",\"356559\",\"504990\",\"589610\",\"642610\",\"643350\",\"703350\",\"673350\",\"718950\",\"643769\",\"733734\",\"705546\",\"782346\",\"662880\",\"781686\",\"955000\",\"1095000\",\"2920750\",\"3120750\",\"3990000\",\"5880000\",\"8180000\",\"13976653\",\"25500000\",\"21240272\",\"38845823\",\"479000\",\"526000\",\"548000\",\"434000\",\"513501\",\"560500\",\"594800\",\"441000\",\"486001\",\"520500\",\"567500\",\"533000\",\"594993\",\"639993\",\"940000\",\"1055000\",\"1174000\",\"1418000\",\"1175000\",\"1010000\",\"1294000\",\"1296000\",\"1197000\",\"876000\",\"974000\",\"935000\",\"1083000\",\"1317000\",\"1599599\",\"1899599\",\"2059599\",\"2359599\",\"1549000\",\"1999599\",\"3407407\",\"6350000\",\"9900000\",\"29500000\",\"535562\",\"991000\",\"1065900\",\"1182000\",\"1312000\",\"1431000\",\"1201000\",\"4498000\",\"4633000\",\"17229579\",\"8290000\",\"52000000\"],\"xaxis\":\"x\",\"y\":[2.0,2.0,2.0,2.0,2.0,3.0,3.0,3.0,3.0,3.0,3.0,3.0,3.0,3.0,3.0,3.0,3.0,3.0,3.0,3.0,3.0,3.0,3.0,4.0,4.0,4.0,3.0,3.0,3.0,3.0,3.0,3.0,3.0,3.0,3.0,3.0,3.0,3.0,3.0,3.0,3.0,4.0,4.0,4.0,4.0,4.0,4.0,3.0,3.0,3.0,3.0,3.0,3.0,3.0,3.0,3.0,3.0,3.0,3.0,3.0,3.0,3.0,3.0,4.0,4.0,4.0,4.0,4.0,4.0,4.0,3.0,3.0,3.0,3.0,4.0,4.0,4.0,4.0,4.0,4.0,4.0,4.0,4.0,3.0,3.0,3.0,4.0,4.0,4.0,4.0,4.0,4.0,4.0,4.0,4.0,4.0,4.0,4.0,4.0,4.0,4.0,4.0,4.0,4.0,4.0,4.0,4.0,3.0,3.0,3.0,4.0,4.0,4.0,4.0,4.0,4.0,4.0,4.0,3.0,3.0,3.0,3.0,3.0,3.0,3.0,4.0,4.0,4.0,4.0,4.0,4.0,4.0,4.0,4.0,4.0,4.0,4.0,4.0,4.0,4.0,4.0,4.0,4.0,4.0,4.0,4.0,4.0,4.0,4.0,4.0,4.0,4.0,4.0,3.0,3.0,3.0,3.0,4.0,4.0,4.0,4.0,4.0,4.0,4.0,4.0,4.0,4.0,4.0,4.0,4.0,4.0,4.0,4.0,4.0,4.0,4.0,4.0,4.0,4.0,4.0,4.0,4.0,4.0,4.0,4.0,4.0,4.0,4.0,4.0,4.0,4.0,4.0,4.0,4.0,4.0,4.0,4.0,4.0,4.0,4.0,6.0,6.0,6.0,6.0,6.0,6.0,6.0,4.0,4.0,4.0,4.0,4.0,4.0,4.0,4.0,4.0,4.0,4.0,4.0,4.0,4.0,4.0,4.0,4.0,4.0,4.0,4.0,4.0,4.0,4.0,4.0,4.0,8.0,4.0,4.0,4.0,6.0,6.0,4.0,4.0,4.0,4.0,8.0,4.0,4.0,6.0,6.0,6.0,4.0,8.0,6.0,6.0,4.0,6.0,6.0,6.0,6.0,8.0,8.0,8.0,6.0,8.0,6.0,8.0,4.0,6.0,8.0,8.0,6.0,6.0,8.0,4.0,6.0,6.0,6.0,6.0,8.0,6.0,8.0,8.0,6.0,6.0,8.0,8.0,6.0,8.0,6.0,12.0,8.0,8.0,8.0,8.0,8.0,10.0,8.0,12.0,8.0,12.0,12.0,12.0,8.0,12.0,12.0,12.0,8.0,12.0,12.0,16.0,16.0,4.0,3.0,3.0,3.0,3.0,3.0,3.0,3.0,3.0,3.0,3.0,3.0,3.0,3.0,3.0,3.0,3.0,3.0,3.0,3.0,3.0,3.0,3.0,3.0,3.0,3.0,3.0,4.0,4.0,3.0,3.0,3.0,3.0,3.0,3.0,3.0,3.0,3.0,3.0,3.0,3.0,3.0,3.0,3.0,3.0,4.0,4.0,4.0,4.0,4.0,4.0,4.0,3.0,3.0,3.0,3.0,3.0,3.0,3.0,3.0,3.0,3.0,3.0,4.0,4.0,4.0,4.0,4.0,4.0,4.0,4.0,4.0,4.0,4.0,4.0,4.0,4.0,4.0,4.0,4.0,4.0,4.0,4.0,4.0,4.0,4.0,4.0,4.0,4.0,4.0,3.0,3.0,3.0,3.0,3.0,3.0,3.0,3.0,3.0,3.0,3.0,3.0,4.0,4.0,4.0,4.0,4.0,4.0,4.0,4.0,3.0,4.0,4.0,4.0,4.0,4.0,4.0,4.0,4.0,4.0,4.0,4.0,4.0,4.0,4.0,4.0,4.0,4.0,4.0,4.0,4.0,4.0,4.0,4.0,4.0,4.0,4.0,4.0,4.0,4.0,4.0,4.0,4.0,4.0,4.0,4.0,4.0,4.0,4.0,4.0,4.0,4.0,6.0,6.0,6.0,6.0,6.0,8.0,6.0,4.0,4.0,8.0,4.0,8.0,8.0,8.0,8.0,8.0,8.0,10.0,10.0,10.0,10.0,10.0,10.0,10.0,10.0,10.0,8.0,8.0,8.0,8.0,12.0,12.0,12.0,12.0,12.0,3.0,3.0,3.0,3.0,3.0,3.0,3.0,3.0,3.0,3.0,3.0,4.0,4.0,4.0,4.0,4.0,4.0,4.0,4.0,4.0,4.0,4.0,4.0,4.0,4.0,4.0,4.0,4.0,4.0,4.0,4.0,4.0,4.0,4.0,4.0,4.0,4.0,4.0,4.0,4.0,4.0,4.0,4.0,4.0,4.0,4.0,4.0,4.0,4.0,4.0,4.0,4.0,4.0,4.0,4.0,4.0,4.0,4.0,3.0,4.0,4.0,4.0,4.0,4.0,8.0,6.0,8.0,8.0,8.0,6.0,12.0,8.0,8.0,12.0,8.0,12.0,12.0,3.0,3.0,4.0,4.0,4.0,4.0,4.0,4.0,4.0,4.0,4.0,4.0,4.0,3.0,3.0,4.0,4.0,4.0,4.0,5.0,4.0,6.0,6.0,8.0,6.0,12.0,3.0,3.0,3.0,3.0,3.0,3.0,3.0,3.0,3.0,3.0,3.0,3.0,3.0,3.0,4.0,4.0,4.0,4.0,4.0,4.0,4.0,4.0,4.0,4.0,4.0,4.0,4.0,4.0,4.0,4.0,4.0,4.0,4.0,4.0,4.0,6.0,6.0,8.0,4.0,4.0,4.0,4.0,4.0,4.0,4.0,4.0,4.0,8.0,6.0,12.0],\"yaxis\":\"y\"}],                        {\"barmode\":\"relative\",\"legend\":{\"tracegroupgap\":0},\"margin\":{\"t\":60},\"template\":{\"data\":{\"bar\":[{\"error_x\":{\"color\":\"#2a3f5f\"},\"error_y\":{\"color\":\"#2a3f5f\"},\"marker\":{\"line\":{\"color\":\"#E5ECF6\",\"width\":0.5},\"pattern\":{\"fillmode\":\"overlay\",\"size\":10,\"solidity\":0.2}},\"type\":\"bar\"}],\"barpolar\":[{\"marker\":{\"line\":{\"color\":\"#E5ECF6\",\"width\":0.5},\"pattern\":{\"fillmode\":\"overlay\",\"size\":10,\"solidity\":0.2}},\"type\":\"barpolar\"}],\"carpet\":[{\"aaxis\":{\"endlinecolor\":\"#2a3f5f\",\"gridcolor\":\"white\",\"linecolor\":\"white\",\"minorgridcolor\":\"white\",\"startlinecolor\":\"#2a3f5f\"},\"baxis\":{\"endlinecolor\":\"#2a3f5f\",\"gridcolor\":\"white\",\"linecolor\":\"white\",\"minorgridcolor\":\"white\",\"startlinecolor\":\"#2a3f5f\"},\"type\":\"carpet\"}],\"choropleth\":[{\"colorbar\":{\"outlinewidth\":0,\"ticks\":\"\"},\"type\":\"choropleth\"}],\"contour\":[{\"colorbar\":{\"outlinewidth\":0,\"ticks\":\"\"},\"colorscale\":[[0.0,\"#0d0887\"],[0.1111111111111111,\"#46039f\"],[0.2222222222222222,\"#7201a8\"],[0.3333333333333333,\"#9c179e\"],[0.4444444444444444,\"#bd3786\"],[0.5555555555555556,\"#d8576b\"],[0.6666666666666666,\"#ed7953\"],[0.7777777777777778,\"#fb9f3a\"],[0.8888888888888888,\"#fdca26\"],[1.0,\"#f0f921\"]],\"type\":\"contour\"}],\"contourcarpet\":[{\"colorbar\":{\"outlinewidth\":0,\"ticks\":\"\"},\"type\":\"contourcarpet\"}],\"heatmap\":[{\"colorbar\":{\"outlinewidth\":0,\"ticks\":\"\"},\"colorscale\":[[0.0,\"#0d0887\"],[0.1111111111111111,\"#46039f\"],[0.2222222222222222,\"#7201a8\"],[0.3333333333333333,\"#9c179e\"],[0.4444444444444444,\"#bd3786\"],[0.5555555555555556,\"#d8576b\"],[0.6666666666666666,\"#ed7953\"],[0.7777777777777778,\"#fb9f3a\"],[0.8888888888888888,\"#fdca26\"],[1.0,\"#f0f921\"]],\"type\":\"heatmap\"}],\"heatmapgl\":[{\"colorbar\":{\"outlinewidth\":0,\"ticks\":\"\"},\"colorscale\":[[0.0,\"#0d0887\"],[0.1111111111111111,\"#46039f\"],[0.2222222222222222,\"#7201a8\"],[0.3333333333333333,\"#9c179e\"],[0.4444444444444444,\"#bd3786\"],[0.5555555555555556,\"#d8576b\"],[0.6666666666666666,\"#ed7953\"],[0.7777777777777778,\"#fb9f3a\"],[0.8888888888888888,\"#fdca26\"],[1.0,\"#f0f921\"]],\"type\":\"heatmapgl\"}],\"histogram\":[{\"marker\":{\"pattern\":{\"fillmode\":\"overlay\",\"size\":10,\"solidity\":0.2}},\"type\":\"histogram\"}],\"histogram2d\":[{\"colorbar\":{\"outlinewidth\":0,\"ticks\":\"\"},\"colorscale\":[[0.0,\"#0d0887\"],[0.1111111111111111,\"#46039f\"],[0.2222222222222222,\"#7201a8\"],[0.3333333333333333,\"#9c179e\"],[0.4444444444444444,\"#bd3786\"],[0.5555555555555556,\"#d8576b\"],[0.6666666666666666,\"#ed7953\"],[0.7777777777777778,\"#fb9f3a\"],[0.8888888888888888,\"#fdca26\"],[1.0,\"#f0f921\"]],\"type\":\"histogram2d\"}],\"histogram2dcontour\":[{\"colorbar\":{\"outlinewidth\":0,\"ticks\":\"\"},\"colorscale\":[[0.0,\"#0d0887\"],[0.1111111111111111,\"#46039f\"],[0.2222222222222222,\"#7201a8\"],[0.3333333333333333,\"#9c179e\"],[0.4444444444444444,\"#bd3786\"],[0.5555555555555556,\"#d8576b\"],[0.6666666666666666,\"#ed7953\"],[0.7777777777777778,\"#fb9f3a\"],[0.8888888888888888,\"#fdca26\"],[1.0,\"#f0f921\"]],\"type\":\"histogram2dcontour\"}],\"mesh3d\":[{\"colorbar\":{\"outlinewidth\":0,\"ticks\":\"\"},\"type\":\"mesh3d\"}],\"parcoords\":[{\"line\":{\"colorbar\":{\"outlinewidth\":0,\"ticks\":\"\"}},\"type\":\"parcoords\"}],\"pie\":[{\"automargin\":true,\"type\":\"pie\"}],\"scatter\":[{\"marker\":{\"colorbar\":{\"outlinewidth\":0,\"ticks\":\"\"}},\"type\":\"scatter\"}],\"scatter3d\":[{\"line\":{\"colorbar\":{\"outlinewidth\":0,\"ticks\":\"\"}},\"marker\":{\"colorbar\":{\"outlinewidth\":0,\"ticks\":\"\"}},\"type\":\"scatter3d\"}],\"scattercarpet\":[{\"marker\":{\"colorbar\":{\"outlinewidth\":0,\"ticks\":\"\"}},\"type\":\"scattercarpet\"}],\"scattergeo\":[{\"marker\":{\"colorbar\":{\"outlinewidth\":0,\"ticks\":\"\"}},\"type\":\"scattergeo\"}],\"scattergl\":[{\"marker\":{\"colorbar\":{\"outlinewidth\":0,\"ticks\":\"\"}},\"type\":\"scattergl\"}],\"scattermapbox\":[{\"marker\":{\"colorbar\":{\"outlinewidth\":0,\"ticks\":\"\"}},\"type\":\"scattermapbox\"}],\"scatterpolar\":[{\"marker\":{\"colorbar\":{\"outlinewidth\":0,\"ticks\":\"\"}},\"type\":\"scatterpolar\"}],\"scatterpolargl\":[{\"marker\":{\"colorbar\":{\"outlinewidth\":0,\"ticks\":\"\"}},\"type\":\"scatterpolargl\"}],\"scatterternary\":[{\"marker\":{\"colorbar\":{\"outlinewidth\":0,\"ticks\":\"\"}},\"type\":\"scatterternary\"}],\"surface\":[{\"colorbar\":{\"outlinewidth\":0,\"ticks\":\"\"},\"colorscale\":[[0.0,\"#0d0887\"],[0.1111111111111111,\"#46039f\"],[0.2222222222222222,\"#7201a8\"],[0.3333333333333333,\"#9c179e\"],[0.4444444444444444,\"#bd3786\"],[0.5555555555555556,\"#d8576b\"],[0.6666666666666666,\"#ed7953\"],[0.7777777777777778,\"#fb9f3a\"],[0.8888888888888888,\"#fdca26\"],[1.0,\"#f0f921\"]],\"type\":\"surface\"}],\"table\":[{\"cells\":{\"fill\":{\"color\":\"#EBF0F8\"},\"line\":{\"color\":\"white\"}},\"header\":{\"fill\":{\"color\":\"#C8D4E3\"},\"line\":{\"color\":\"white\"}},\"type\":\"table\"}]},\"layout\":{\"annotationdefaults\":{\"arrowcolor\":\"#2a3f5f\",\"arrowhead\":0,\"arrowwidth\":1},\"autotypenumbers\":\"strict\",\"coloraxis\":{\"colorbar\":{\"outlinewidth\":0,\"ticks\":\"\"}},\"colorscale\":{\"diverging\":[[0,\"#8e0152\"],[0.1,\"#c51b7d\"],[0.2,\"#de77ae\"],[0.3,\"#f1b6da\"],[0.4,\"#fde0ef\"],[0.5,\"#f7f7f7\"],[0.6,\"#e6f5d0\"],[0.7,\"#b8e186\"],[0.8,\"#7fbc41\"],[0.9,\"#4d9221\"],[1,\"#276419\"]],\"sequential\":[[0.0,\"#0d0887\"],[0.1111111111111111,\"#46039f\"],[0.2222222222222222,\"#7201a8\"],[0.3333333333333333,\"#9c179e\"],[0.4444444444444444,\"#bd3786\"],[0.5555555555555556,\"#d8576b\"],[0.6666666666666666,\"#ed7953\"],[0.7777777777777778,\"#fb9f3a\"],[0.8888888888888888,\"#fdca26\"],[1.0,\"#f0f921\"]],\"sequentialminus\":[[0.0,\"#0d0887\"],[0.1111111111111111,\"#46039f\"],[0.2222222222222222,\"#7201a8\"],[0.3333333333333333,\"#9c179e\"],[0.4444444444444444,\"#bd3786\"],[0.5555555555555556,\"#d8576b\"],[0.6666666666666666,\"#ed7953\"],[0.7777777777777778,\"#fb9f3a\"],[0.8888888888888888,\"#fdca26\"],[1.0,\"#f0f921\"]]},\"colorway\":[\"#636efa\",\"#EF553B\",\"#00cc96\",\"#ab63fa\",\"#FFA15A\",\"#19d3f3\",\"#FF6692\",\"#B6E880\",\"#FF97FF\",\"#FECB52\"],\"font\":{\"color\":\"#2a3f5f\"},\"geo\":{\"bgcolor\":\"white\",\"lakecolor\":\"white\",\"landcolor\":\"#E5ECF6\",\"showlakes\":true,\"showland\":true,\"subunitcolor\":\"white\"},\"hoverlabel\":{\"align\":\"left\"},\"hovermode\":\"closest\",\"mapbox\":{\"style\":\"light\"},\"paper_bgcolor\":\"white\",\"plot_bgcolor\":\"#E5ECF6\",\"polar\":{\"angularaxis\":{\"gridcolor\":\"white\",\"linecolor\":\"white\",\"ticks\":\"\"},\"bgcolor\":\"#E5ECF6\",\"radialaxis\":{\"gridcolor\":\"white\",\"linecolor\":\"white\",\"ticks\":\"\"}},\"scene\":{\"xaxis\":{\"backgroundcolor\":\"#E5ECF6\",\"gridcolor\":\"white\",\"gridwidth\":2,\"linecolor\":\"white\",\"showbackground\":true,\"ticks\":\"\",\"zerolinecolor\":\"white\"},\"yaxis\":{\"backgroundcolor\":\"#E5ECF6\",\"gridcolor\":\"white\",\"gridwidth\":2,\"linecolor\":\"white\",\"showbackground\":true,\"ticks\":\"\",\"zerolinecolor\":\"white\"},\"zaxis\":{\"backgroundcolor\":\"#E5ECF6\",\"gridcolor\":\"white\",\"gridwidth\":2,\"linecolor\":\"white\",\"showbackground\":true,\"ticks\":\"\",\"zerolinecolor\":\"white\"}},\"shapedefaults\":{\"line\":{\"color\":\"#2a3f5f\"}},\"ternary\":{\"aaxis\":{\"gridcolor\":\"white\",\"linecolor\":\"white\",\"ticks\":\"\"},\"baxis\":{\"gridcolor\":\"white\",\"linecolor\":\"white\",\"ticks\":\"\"},\"bgcolor\":\"#E5ECF6\",\"caxis\":{\"gridcolor\":\"white\",\"linecolor\":\"white\",\"ticks\":\"\"}},\"title\":{\"x\":0.05},\"xaxis\":{\"automargin\":true,\"gridcolor\":\"white\",\"linecolor\":\"white\",\"ticks\":\"\",\"title\":{\"standoff\":15},\"zerolinecolor\":\"white\",\"zerolinewidth\":2},\"yaxis\":{\"automargin\":true,\"gridcolor\":\"white\",\"linecolor\":\"white\",\"ticks\":\"\",\"title\":{\"standoff\":15},\"zerolinecolor\":\"white\",\"zerolinewidth\":2}}},\"xaxis\":{\"anchor\":\"y\",\"domain\":[0.0,1.0],\"title\":{\"text\":\"Ex-Showroom_Price\"}},\"yaxis\":{\"anchor\":\"x\",\"domain\":[0.0,1.0],\"title\":{\"text\":\"Cylinders\"}}},                        {\"responsive\": true}                    ).then(function(){\n",
       "                            \n",
       "var gd = document.getElementById('fae4e1d8-4a37-4843-abf8-31ddd0bb894b');\n",
       "var x = new MutationObserver(function (mutations, observer) {{\n",
       "        var display = window.getComputedStyle(gd).display;\n",
       "        if (!display || display === 'none') {{\n",
       "            console.log([gd, 'removed!']);\n",
       "            Plotly.purge(gd);\n",
       "            observer.disconnect();\n",
       "        }}\n",
       "}});\n",
       "\n",
       "// Listen for the removal of the full notebook cells\n",
       "var notebookContainer = gd.closest('#notebook-container');\n",
       "if (notebookContainer) {{\n",
       "    x.observe(notebookContainer, {childList: true});\n",
       "}}\n",
       "\n",
       "// Listen for the clearing of the current output cell\n",
       "var outputEl = gd.closest('.output');\n",
       "if (outputEl) {{\n",
       "    x.observe(outputEl, {childList: true});\n",
       "}}\n",
       "\n",
       "                        })                };                });            </script>        </div>"
      ]
     },
     "metadata": {},
     "output_type": "display_data"
    }
   ],
   "source": [
    "import plotly.express as px\n",
    "\n",
    "fig = px.bar(Petrol, x='Ex-Showroom_Price', y='Cylinders')\n",
    "fig.show()"
   ]
  },
  {
   "cell_type": "code",
   "execution_count": 199,
   "id": "e649c2ab",
   "metadata": {},
   "outputs": [],
   "source": [
    "# Petrol_Highway_Mileage=Petrol.Highway_Mileage.value_counts()\n",
    "# Petrol_Highway_Mileage"
   ]
  },
  {
   "cell_type": "code",
   "execution_count": 200,
   "id": "3e9258a1",
   "metadata": {},
   "outputs": [],
   "source": [
    "# Diesel_Highway_Mileage=Diesel.Highway_Mileage.value_counts()\n",
    "# Diesel_Highway_Mileage"
   ]
  },
  {
   "cell_type": "code",
   "execution_count": 201,
   "id": "3f312637",
   "metadata": {},
   "outputs": [
    {
     "data": {
      "text/html": [
       "<div><div id=3a27b703-ed99-4d63-99f0-cb1db701ace3 style=\"display:none; background-color:#9D6CFF; color:white; width:200px; height:30px; padding-left:5px; border-radius:4px; flex-direction:row; justify-content:space-around; align-items:center;\" onmouseover=\"this.style.backgroundColor='#BA9BF8'\" onmouseout=\"this.style.backgroundColor='#9D6CFF'\" onclick=\"window.commands?.execute('create-mitosheet-from-dataframe-output');\">See Full Dataframe in Mito</div> <script> if (window.commands?.hasCommand('create-mitosheet-from-dataframe-output')) document.getElementById('3a27b703-ed99-4d63-99f0-cb1db701ace3').style.display = 'flex' </script> <table border=\"1\" class=\"dataframe\">\n",
       "  <thead>\n",
       "    <tr style=\"text-align: right;\">\n",
       "      <th></th>\n",
       "      <th>Unnamed: 0</th>\n",
       "      <th>Make</th>\n",
       "      <th>Model</th>\n",
       "      <th>Variant</th>\n",
       "      <th>Ex-Showroom_Price</th>\n",
       "      <th>Displacement</th>\n",
       "      <th>Cylinders</th>\n",
       "      <th>Valves_Per_Cylinder</th>\n",
       "      <th>Drivetrain</th>\n",
       "      <th>Cylinder_Configuration</th>\n",
       "      <th>...</th>\n",
       "      <th>Leather_Wrapped_Steering</th>\n",
       "      <th>Automatic_Headlamps</th>\n",
       "      <th>Engine_Type</th>\n",
       "      <th>ASR_/_Traction_Control</th>\n",
       "      <th>Cruise_Control</th>\n",
       "      <th>USB_Ports</th>\n",
       "      <th>Heads-Up_Display</th>\n",
       "      <th>Welcome_Lights</th>\n",
       "      <th>Battery</th>\n",
       "      <th>Electric_Range</th>\n",
       "    </tr>\n",
       "  </thead>\n",
       "  <tbody>\n",
       "    <tr>\n",
       "      <th>82</th>\n",
       "      <td>82</td>\n",
       "      <td>Premier</td>\n",
       "      <td>Rio</td>\n",
       "      <td>Ex</td>\n",
       "      <td>Rs. 5,68,623</td>\n",
       "      <td>1489 cc</td>\n",
       "      <td>4.0</td>\n",
       "      <td>4.0</td>\n",
       "      <td>FWD (Front Wheel Drive)</td>\n",
       "      <td>In-line</td>\n",
       "      <td>...</td>\n",
       "      <td>NaN</td>\n",
       "      <td>NaN</td>\n",
       "      <td>NaN</td>\n",
       "      <td>NaN</td>\n",
       "      <td>NaN</td>\n",
       "      <td>NaN</td>\n",
       "      <td>NaN</td>\n",
       "      <td>NaN</td>\n",
       "      <td>NaN</td>\n",
       "      <td>NaN</td>\n",
       "    </tr>\n",
       "    <tr>\n",
       "      <th>84</th>\n",
       "      <td>84</td>\n",
       "      <td>Premier</td>\n",
       "      <td>Rio</td>\n",
       "      <td>Dx</td>\n",
       "      <td>Rs. 6,03,000</td>\n",
       "      <td>1489 cc</td>\n",
       "      <td>4.0</td>\n",
       "      <td>4.0</td>\n",
       "      <td>FWD (Front Wheel Drive)</td>\n",
       "      <td>In-line</td>\n",
       "      <td>...</td>\n",
       "      <td>NaN</td>\n",
       "      <td>NaN</td>\n",
       "      <td>NaN</td>\n",
       "      <td>NaN</td>\n",
       "      <td>NaN</td>\n",
       "      <td>NaN</td>\n",
       "      <td>NaN</td>\n",
       "      <td>NaN</td>\n",
       "      <td>NaN</td>\n",
       "      <td>NaN</td>\n",
       "    </tr>\n",
       "    <tr>\n",
       "      <th>85</th>\n",
       "      <td>85</td>\n",
       "      <td>Premier</td>\n",
       "      <td>Rio</td>\n",
       "      <td>Lx</td>\n",
       "      <td>Rs. 7,39,000</td>\n",
       "      <td>1489 cc</td>\n",
       "      <td>4.0</td>\n",
       "      <td>4.0</td>\n",
       "      <td>FWD (Front Wheel Drive)</td>\n",
       "      <td>In-line</td>\n",
       "      <td>...</td>\n",
       "      <td>NaN</td>\n",
       "      <td>NaN</td>\n",
       "      <td>NaN</td>\n",
       "      <td>NaN</td>\n",
       "      <td>NaN</td>\n",
       "      <td>NaN</td>\n",
       "      <td>NaN</td>\n",
       "      <td>NaN</td>\n",
       "      <td>NaN</td>\n",
       "      <td>NaN</td>\n",
       "    </tr>\n",
       "    <tr>\n",
       "      <th>86</th>\n",
       "      <td>86</td>\n",
       "      <td>Premier</td>\n",
       "      <td>Rio</td>\n",
       "      <td>Crdi4</td>\n",
       "      <td>Rs. 7,39,000</td>\n",
       "      <td>1248 cc</td>\n",
       "      <td>4.0</td>\n",
       "      <td>4.0</td>\n",
       "      <td>FWD (Front Wheel Drive)</td>\n",
       "      <td>In-line</td>\n",
       "      <td>...</td>\n",
       "      <td>NaN</td>\n",
       "      <td>NaN</td>\n",
       "      <td>NaN</td>\n",
       "      <td>NaN</td>\n",
       "      <td>NaN</td>\n",
       "      <td>NaN</td>\n",
       "      <td>NaN</td>\n",
       "      <td>NaN</td>\n",
       "      <td>NaN</td>\n",
       "      <td>NaN</td>\n",
       "    </tr>\n",
       "    <tr>\n",
       "      <th>89</th>\n",
       "      <td>89</td>\n",
       "      <td>Toyota</td>\n",
       "      <td>Etios Liva</td>\n",
       "      <td>Gd</td>\n",
       "      <td>Rs. 6,47,800</td>\n",
       "      <td>1364 cc</td>\n",
       "      <td>4.0</td>\n",
       "      <td>2.0</td>\n",
       "      <td>FWD (Front Wheel Drive)</td>\n",
       "      <td>In-line</td>\n",
       "      <td>...</td>\n",
       "      <td>NaN</td>\n",
       "      <td>NaN</td>\n",
       "      <td>NaN</td>\n",
       "      <td>NaN</td>\n",
       "      <td>NaN</td>\n",
       "      <td>NaN</td>\n",
       "      <td>NaN</td>\n",
       "      <td>NaN</td>\n",
       "      <td>NaN</td>\n",
       "      <td>NaN</td>\n",
       "    </tr>\n",
       "    <tr>\n",
       "      <th>...</th>\n",
       "      <td>...</td>\n",
       "      <td>...</td>\n",
       "      <td>...</td>\n",
       "      <td>...</td>\n",
       "      <td>...</td>\n",
       "      <td>...</td>\n",
       "      <td>...</td>\n",
       "      <td>...</td>\n",
       "      <td>...</td>\n",
       "      <td>...</td>\n",
       "      <td>...</td>\n",
       "      <td>...</td>\n",
       "      <td>...</td>\n",
       "      <td>...</td>\n",
       "      <td>...</td>\n",
       "      <td>...</td>\n",
       "      <td>...</td>\n",
       "      <td>...</td>\n",
       "      <td>...</td>\n",
       "      <td>...</td>\n",
       "      <td>...</td>\n",
       "    </tr>\n",
       "    <tr>\n",
       "      <th>1260</th>\n",
       "      <td>1260</td>\n",
       "      <td>Mahindra</td>\n",
       "      <td>Verito</td>\n",
       "      <td>1.5 D6 Bs-Iv</td>\n",
       "      <td>Rs. 8,45,154</td>\n",
       "      <td>1461 cc</td>\n",
       "      <td>4.0</td>\n",
       "      <td>4.0</td>\n",
       "      <td>FWD (Front Wheel Drive)</td>\n",
       "      <td>In-line</td>\n",
       "      <td>...</td>\n",
       "      <td>NaN</td>\n",
       "      <td>NaN</td>\n",
       "      <td>NaN</td>\n",
       "      <td>NaN</td>\n",
       "      <td>NaN</td>\n",
       "      <td>NaN</td>\n",
       "      <td>NaN</td>\n",
       "      <td>NaN</td>\n",
       "      <td>NaN</td>\n",
       "      <td>NaN</td>\n",
       "    </tr>\n",
       "    <tr>\n",
       "      <th>1261</th>\n",
       "      <td>1261</td>\n",
       "      <td>Bmw</td>\n",
       "      <td>X5</td>\n",
       "      <td>Xdrive30D Sport</td>\n",
       "      <td>Rs. 73,30,000</td>\n",
       "      <td>2993 cc</td>\n",
       "      <td>6.0</td>\n",
       "      <td>4.0</td>\n",
       "      <td>AWD (All Wheel Drive)</td>\n",
       "      <td>In-line</td>\n",
       "      <td>...</td>\n",
       "      <td>Yes</td>\n",
       "      <td>Yes</td>\n",
       "      <td>NaN</td>\n",
       "      <td>Yes</td>\n",
       "      <td>Yes</td>\n",
       "      <td>NaN</td>\n",
       "      <td>Yes</td>\n",
       "      <td>Yes</td>\n",
       "      <td>NaN</td>\n",
       "      <td>NaN</td>\n",
       "    </tr>\n",
       "    <tr>\n",
       "      <th>1262</th>\n",
       "      <td>1262</td>\n",
       "      <td>Bmw</td>\n",
       "      <td>X5</td>\n",
       "      <td>Xdrive30D Xline</td>\n",
       "      <td>Rs. 82,90,000</td>\n",
       "      <td>2993 cc</td>\n",
       "      <td>6.0</td>\n",
       "      <td>4.0</td>\n",
       "      <td>AWD (All Wheel Drive)</td>\n",
       "      <td>In-line</td>\n",
       "      <td>...</td>\n",
       "      <td>Yes</td>\n",
       "      <td>Yes</td>\n",
       "      <td>NaN</td>\n",
       "      <td>Yes</td>\n",
       "      <td>Yes</td>\n",
       "      <td>NaN</td>\n",
       "      <td>Yes</td>\n",
       "      <td>Yes</td>\n",
       "      <td>NaN</td>\n",
       "      <td>NaN</td>\n",
       "    </tr>\n",
       "    <tr>\n",
       "      <th>1264</th>\n",
       "      <td>1264</td>\n",
       "      <td>Mahindra</td>\n",
       "      <td>Alturas G4</td>\n",
       "      <td>2Wd At</td>\n",
       "      <td>Rs. 27,70,150</td>\n",
       "      <td>2157 cc</td>\n",
       "      <td>4.0</td>\n",
       "      <td>NaN</td>\n",
       "      <td>FWD (Front Wheel Drive)</td>\n",
       "      <td>In-line</td>\n",
       "      <td>...</td>\n",
       "      <td>Yes</td>\n",
       "      <td>Yes</td>\n",
       "      <td>NaN</td>\n",
       "      <td>Yes</td>\n",
       "      <td>Yes</td>\n",
       "      <td>NaN</td>\n",
       "      <td>NaN</td>\n",
       "      <td>NaN</td>\n",
       "      <td>NaN</td>\n",
       "      <td>NaN</td>\n",
       "    </tr>\n",
       "    <tr>\n",
       "      <th>1265</th>\n",
       "      <td>1265</td>\n",
       "      <td>Mahindra</td>\n",
       "      <td>Alturas G4</td>\n",
       "      <td>4Wd At</td>\n",
       "      <td>Rs. 30,70,150</td>\n",
       "      <td>2157 cc</td>\n",
       "      <td>4.0</td>\n",
       "      <td>4.0</td>\n",
       "      <td>4WD</td>\n",
       "      <td>In-line</td>\n",
       "      <td>...</td>\n",
       "      <td>Yes</td>\n",
       "      <td>Yes</td>\n",
       "      <td>NaN</td>\n",
       "      <td>Yes</td>\n",
       "      <td>Yes</td>\n",
       "      <td>NaN</td>\n",
       "      <td>NaN</td>\n",
       "      <td>NaN</td>\n",
       "      <td>NaN</td>\n",
       "      <td>NaN</td>\n",
       "    </tr>\n",
       "  </tbody>\n",
       "</table></div>"
      ],
      "text/plain": [
       "      Unnamed: 0      Make       Model          Variant Ex-Showroom_Price  \\\n",
       "82            82   Premier         Rio               Ex      Rs. 5,68,623   \n",
       "84            84   Premier         Rio               Dx      Rs. 6,03,000   \n",
       "85            85   Premier         Rio               Lx      Rs. 7,39,000   \n",
       "86            86   Premier         Rio            Crdi4      Rs. 7,39,000   \n",
       "89            89    Toyota  Etios Liva               Gd      Rs. 6,47,800   \n",
       "...          ...       ...         ...              ...               ...   \n",
       "1260        1260  Mahindra      Verito     1.5 D6 Bs-Iv      Rs. 8,45,154   \n",
       "1261        1261       Bmw          X5  Xdrive30D Sport     Rs. 73,30,000   \n",
       "1262        1262       Bmw          X5  Xdrive30D Xline     Rs. 82,90,000   \n",
       "1264        1264  Mahindra  Alturas G4           2Wd At     Rs. 27,70,150   \n",
       "1265        1265  Mahindra  Alturas G4           4Wd At     Rs. 30,70,150   \n",
       "\n",
       "     Displacement  Cylinders  Valves_Per_Cylinder               Drivetrain  \\\n",
       "82        1489 cc        4.0                  4.0  FWD (Front Wheel Drive)   \n",
       "84        1489 cc        4.0                  4.0  FWD (Front Wheel Drive)   \n",
       "85        1489 cc        4.0                  4.0  FWD (Front Wheel Drive)   \n",
       "86        1248 cc        4.0                  4.0  FWD (Front Wheel Drive)   \n",
       "89        1364 cc        4.0                  2.0  FWD (Front Wheel Drive)   \n",
       "...           ...        ...                  ...                      ...   \n",
       "1260      1461 cc        4.0                  4.0  FWD (Front Wheel Drive)   \n",
       "1261      2993 cc        6.0                  4.0    AWD (All Wheel Drive)   \n",
       "1262      2993 cc        6.0                  4.0    AWD (All Wheel Drive)   \n",
       "1264      2157 cc        4.0                  NaN  FWD (Front Wheel Drive)   \n",
       "1265      2157 cc        4.0                  4.0                      4WD   \n",
       "\n",
       "     Cylinder_Configuration  ... Leather_Wrapped_Steering Automatic_Headlamps  \\\n",
       "82                  In-line  ...                      NaN                 NaN   \n",
       "84                  In-line  ...                      NaN                 NaN   \n",
       "85                  In-line  ...                      NaN                 NaN   \n",
       "86                  In-line  ...                      NaN                 NaN   \n",
       "89                  In-line  ...                      NaN                 NaN   \n",
       "...                     ...  ...                      ...                 ...   \n",
       "1260                In-line  ...                      NaN                 NaN   \n",
       "1261                In-line  ...                      Yes                 Yes   \n",
       "1262                In-line  ...                      Yes                 Yes   \n",
       "1264                In-line  ...                      Yes                 Yes   \n",
       "1265                In-line  ...                      Yes                 Yes   \n",
       "\n",
       "     Engine_Type ASR_/_Traction_Control Cruise_Control USB_Ports  \\\n",
       "82           NaN                    NaN            NaN       NaN   \n",
       "84           NaN                    NaN            NaN       NaN   \n",
       "85           NaN                    NaN            NaN       NaN   \n",
       "86           NaN                    NaN            NaN       NaN   \n",
       "89           NaN                    NaN            NaN       NaN   \n",
       "...          ...                    ...            ...       ...   \n",
       "1260         NaN                    NaN            NaN       NaN   \n",
       "1261         NaN                    Yes            Yes       NaN   \n",
       "1262         NaN                    Yes            Yes       NaN   \n",
       "1264         NaN                    Yes            Yes       NaN   \n",
       "1265         NaN                    Yes            Yes       NaN   \n",
       "\n",
       "     Heads-Up_Display Welcome_Lights Battery  Electric_Range  \n",
       "82                NaN            NaN     NaN             NaN  \n",
       "84                NaN            NaN     NaN             NaN  \n",
       "85                NaN            NaN     NaN             NaN  \n",
       "86                NaN            NaN     NaN             NaN  \n",
       "89                NaN            NaN     NaN             NaN  \n",
       "...               ...            ...     ...             ...  \n",
       "1260              NaN            NaN     NaN             NaN  \n",
       "1261              Yes            Yes     NaN             NaN  \n",
       "1262              Yes            Yes     NaN             NaN  \n",
       "1264              NaN            NaN     NaN             NaN  \n",
       "1265              NaN            NaN     NaN             NaN  \n",
       "\n",
       "[567 rows x 141 columns]"
      ]
     },
     "execution_count": 201,
     "metadata": {},
     "output_type": "execute_result"
    }
   ],
   "source": [
    "Diesel=df[df.Fuel_Type=='Diesel']\n",
    "Diesel"
   ]
  },
  {
   "cell_type": "code",
   "execution_count": 202,
   "id": "bdc67531",
   "metadata": {},
   "outputs": [
    {
     "data": {
      "application/vnd.plotly.v1+json": {
       "config": {
        "plotlyServerURL": "https://plot.ly"
       },
       "data": [
        {
         "alignmentgroup": "True",
         "hovertemplate": "Ex-Showroom_Price=%{x}<br>Cylinders=%{y}<extra></extra>",
         "legendgroup": "",
         "marker": {
          "color": "#636efa",
          "pattern": {
           "shape": ""
          }
         },
         "name": "",
         "offsetgroup": "",
         "orientation": "v",
         "showlegend": false,
         "textposition": "auto",
         "type": "bar",
         "x": [
          "Rs. 5,68,623",
          "Rs. 6,03,000",
          "Rs. 7,39,000",
          "Rs. 7,39,000",
          "Rs. 6,47,800",
          "Rs. 7,45,000",
          "Rs. 7,04,000",
          "Rs. 7,20,700",
          "Rs. 7,56,700",
          "Rs. 6,86,000",
          "Rs. 7,77,700",
          "Rs. 7,87,980",
          "Rs. 6,61,111",
          "Rs. 6,93,798",
          "Rs. 7,19,661",
          "Rs. 6,39,616",
          "Rs. 6,20,297",
          "Rs. 6,53,523",
          "Rs. 6,97,803",
          "Rs. 7,70,803",
          "Rs. 8,76,103",
          "Rs. 9,34,003",
          "Rs. 8,46,103",
          "Rs. 7,73,800",
          "Rs. 8,23,700",
          "Rs. 9,22,700",
          "Rs. 9,03,800",
          "Rs. 7,34,500",
          "Rs. 8,51,500",
          "Rs. 9,31,500",
          "Rs. 9,88,500",
          "Rs. 6,66,622",
          "Rs. 7,57,622",
          "Rs. 8,63,122",
          "Rs. 8,16,622",
          "Rs. 9,06,122",
          "Rs. 8,04,622",
          "Rs. 9,52,622",
          "Rs. 6,76,400",
          "Rs. 7,90,900",
          "Rs. 8,36,400",
          "Rs. 7,45,900",
          "Rs. 7,11,500",
          "Rs. 8,10,500",
          "Rs. 9,99,900",
          "Rs. 9,25,500",
          "Rs. 9,99,900",
          "Rs. 6,99,400",
          "Rs. 7,37,400",
          "Rs. 7,77,400",
          "Rs. 8,17,400",
          "Rs. 8,62,400",
          "Rs. 8,42,400",
          "Rs. 7,34,700",
          "Rs. 8,28,600",
          "Rs. 8,88,400",
          "Rs. 7,99,600",
          "Rs. 9,13,400",
          "Rs. 7,97,500",
          "Rs. 7,66,000",
          "Rs. 8,16,000",
          "Rs. 6,57,628",
          "Rs. 6,85,729",
          "Rs. 7,50,428",
          "Rs. 6,77,618",
          "Rs. 7,39,074",
          "Rs. 8,10,211",
          "Rs. 7,96,132",
          "Rs. 7,11,801",
          "Rs. 8,76,341",
          "Rs. 8,16,500",
          "Rs. 8,96,500",
          "Rs. 9,40,500",
          "Rs. 8,86,398",
          "Rs. 8,51,302",
          "Rs. 7,85,656",
          "Rs. 7,49,192",
          "Rs. 8,59,497",
          "Rs. 8,19,117",
          "Rs. 7,62,742",
          "Rs. 8,14,742",
          "Rs. 8,92,243",
          "Rs. 9,87,743",
          "Rs. 10,03,552",
          "Rs. 10,37,742",
          "Rs. 8,64,742",
          "Rs. 9,42,243",
          "Rs. 10,59,742",
          "Rs. 9,93,393",
          "Rs. 8,41,000",
          "Rs. 9,21,000",
          "Rs. 9,99,900",
          "Rs. 10,90,000",
          "Rs. 11,45,000",
          "Rs. 10,90,000",
          "Rs. 9,29,990",
          "Rs. 9,99,990",
          "Rs. 11,19,990",
          "Rs. 12,09,990",
          "Rs. 12,49,990",
          "Rs. 12,49,990",
          "Rs. 11,72,544",
          "Rs. 13,01,881",
          "Rs. 13,28,545",
          "Rs. 14,07,871",
          "Rs. 9,42,867",
          "Rs. 9,99,900",
          "Rs. 8,69,131",
          "Rs. 9,50,131",
          "Rs. 10,95,129",
          "Rs. 12,14,130",
          "Rs. 11,49,800",
          "Rs. 12,69,131",
          "Rs. 9,99,000",
          "Rs. 8,63,299",
          "Rs. 9,64,199",
          "Rs. 12,11,599",
          "Rs. 12,11,599",
          "Rs. 10,53,899",
          "Rs. 11,30,099",
          "Rs. 9,64,199",
          "Rs. 9,58,500",
          "Rs. 9,99,900",
          "Rs. 12,10,500",
          "Rs. 13,36,500",
          "Rs. 13,17,500",
          "Rs. 14,49,500",
          "Rs. 11,87,900",
          "Rs. 12,73,900",
          "Rs. 13,82,900",
          "Rs. 9,59,860",
          "Rs. 9,99,148",
          "Rs. 9,74,860",
          "Rs. 9,99,000",
          "Rs. 10,75,000",
          "Rs. 12,99,000",
          "Rs. 13,30,000",
          "Rs. 9,75,000",
          "Rs. 12,25,000",
          "Rs. 9,92,748",
          "Rs. 10,29,650",
          "Rs. 11,42,157",
          "Rs. 9,99,900",
          "Rs. 11,56,471",
          "Rs. 13,08,592",
          "Rs. 14,68,440",
          "Rs. 9,99,900",
          "Rs. 11,64,569",
          "Rs. 13,16,690",
          "Rs. 14,76,538",
          "Rs. 9,99,994",
          "Rs. 12,36,258",
          "Rs. 11,23,158",
          "Rs. 12,20,030",
          "Rs. 13,30,006",
          "Rs. 13,60,668",
          "Rs. 15,40,081",
          "Rs. 16,63,054",
          "Rs. 14,23,710",
          "Rs. 14,25,599",
          "Rs. 12,99,599",
          "Rs. 14,18,313",
          "Rs. 15,39,488",
          "Rs. 15,88,943",
          "Rs. 17,10,118",
          "Rs. 17,16,319",
          "Rs. 18,37,586",
          "Rs. 17,41,319",
          "Rs. 18,62,586",
          "Rs. 18,52,488",
          "Rs. 19,73,664",
          "Rs. 12,30,924",
          "Rs. 16,39,374",
          "Rs. 19,29,417",
          "Rs. 19,12,593",
          "Rs. 17,96,458",
          "Rs. 13,71,864",
          "Rs. 15,31,377",
          "Rs. 16,55,587",
          "Rs. 16,05,000",
          "Rs. 19,27,000",
          "Rs. 16,10,000",
          "Rs. 19,32,000",
          "Rs. 21,13,000",
          "Rs. 20,97,000",
          "Rs. 15,92,000",
          "Rs. 15,87,000",
          "Rs. 16,61,000",
          "Rs. 18,03,000",
          "Rs. 18,88,000",
          "Rs. 19,73,000",
          "Rs. 20,22,000",
          "Rs. 21,51,000",
          "Rs. 21,99,000",
          "Rs. 21,33,000",
          "Rs. 23,11,000",
          "Rs. 16,99,000",
          "Rs. 20,36,300",
          "Rs. 22,14,000",
          "Rs. 24,99,000",
          "Rs. 21,96,000",
          "Rs. 19,36,000",
          "Rs. 17,71,000",
          "Rs. 20,54,900",
          "Rs. 22,34,900",
          "Rs. 24,95,000",
          "Rs. 25,15,000",
          "Rs. 28,95,000",
          "Rs. 29,95,000",
          "Rs. 33,95,000",
          "Rs. 33,49,599",
          "Rs. 30,29,599",
          "Rs. 28,49,599",
          "Rs. 27,69,000",
          "Rs. 31,91,000",
          "Rs. 28,86,871",
          "Rs. 32,05,000",
          "Rs. 30,19,000",
          "Rs. 32,16,000",
          "Rs. 33,95,000",
          "Rs. 34,20,000",
          "Rs. 29,03,750",
          "Rs. 28,35,500",
          "Rs. 29,53,240",
          "Rs. 29,92,800",
          "Rs. 29,52,500",
          "Rs. 34,70,000",
          "Rs. 32,33,000",
          "Rs. 29,20,000",
          "Rs. 32,83,000",
          "Rs. 29,90,000",
          "Rs. 32,33,000",
          "Rs. 35,64,000",
          "Rs. 38,64,000",
          "Rs. 33,99,000",
          "Rs. 37,40,000",
          "Rs. 35,20,000",
          "Rs. 39,30,000",
          "Rs. 45,70,000",
          "Rs. 42,40,000",
          "Rs. 38,50,500",
          "Rs. 40,20,000",
          "Rs. 46,70,000",
          "Rs. 49,74,750",
          "Rs. 41,40,000",
          "Rs. 46,90,000",
          "Rs. 44,26,500",
          "Rs. 50,21,200",
          "Rs. 56,21,200",
          "Rs. 57,75,000",
          "Rs. 54,94,000",
          "Rs. 59,85,000",
          "Rs. 72,85,332",
          "Rs. 59,64,321",
          "Rs. 58,50,000",
          "Rs. 62,50,000",
          "Rs. 59,30,000",
          "Rs. 66,80,000",
          "Rs. 60,61,200",
          "Rs. 64,63,780",
          "Rs. 68,90,000",
          "Rs. 74,50,000",
          "Rs. 64,40,000",
          "Rs. 65,31,000",
          "Rs. 68,62,560",
          "Rs. 69,48,200",
          "Rs. 72,46,802",
          "Rs. 73,70,000",
          "Rs. 1,25,00,000",
          "Rs. 75,00,000",
          "Rs. 1,02,05,494",
          "Rs. 96,89,321",
          "Rs. 88,77,094",
          "Rs. 1,08,61,088",
          "Rs. 87,90,000",
          "Rs. 80,90,000",
          "Rs. 84,91,500",
          "Rs. 84,70,000",
          "Rs. 1,03,73,732",
          "Rs. 1,19,13,021",
          "Rs. 1,49,08,985",
          "Rs. 97,38,609",
          "Rs. 1,07,25,145",
          "Rs. 1,11,29,599",
          "Rs. 1,02,50,000",
          "Rs. 1,33,87,856",
          "Rs. 1,38,81,858",
          "Rs. 1,42,47,814",
          "Rs. 1,46,99,000",
          "Rs. 1,81,85,267",
          "Rs. 1,95,27,130",
          "Rs. 2,51,74,051",
          "Rs. 3,92,94,685",
          "Rs. 2,36,75,691",
          "Rs. 2,32,90,000",
          "Rs. 5,51,530",
          "Rs. 5,68,930",
          "Rs. 5,90,798",
          "Rs. 6,19,243",
          "Rs. 6,67,273",
          "Rs. 7,54,548",
          "Rs. 7,87,304",
          "Rs. 7,94,800",
          "Rs. 5,99,000",
          "Rs. 6,98,000",
          "Rs. 7,45,000",
          "Rs. 7,57,000",
          "Rs. 8,04,000",
          "Rs. 8,38,000",
          "Rs. 8,84,000",
          "Rs. 6,99,000",
          "Rs. 7,75,000",
          "Rs. 8,44,000",
          "Rs. 9,04,000",
          "Rs. 9,29,000",
          "Rs. 6,42,478",
          "Rs. 5,89,678",
          "Rs. 6,89,761",
          "Rs. 7,88,177",
          "Rs. 26,50,777",
          "Rs. 6,28,072",
          "Rs. 9,00,967",
          "Rs. 14,65,148",
          "Rs. 5,52,890",
          "Rs. 9,27,689",
          "Rs. 8,35,275",
          "Rs. 7,02,946",
          "Rs. 7,67,317",
          "Rs. 7,93,898",
          "Rs. 8,55,362",
          "Rs. 8,36,320",
          "Rs. 9,89,000",
          "Rs. 7,88,797",
          "Rs. 7,05,000",
          "Rs. 8,65,000",
          "Rs. 9,25,000",
          "Rs. 7,85,000",
          "Rs. 8,93,000",
          "Rs. 8,45,000",
          "Rs. 9,06,000",
          "Rs. 7,80,000",
          "Rs. 8,50,000",
          "Rs. 9,83,000",
          "Rs. 9,98,000",
          "Rs. 10,89,000",
          "Rs. 8,45,000",
          "Rs. 9,20,000",
          "Rs. 10,20,000",
          "Rs. 11,00,000",
          "Rs. 11,20,000",
          "Rs. 11,90,000",
          "Rs. 12,10,000",
          "Rs. 9,80,000",
          "Rs. 11,60,000",
          "Rs. 11,80,000",
          "Rs. 12,50,000",
          "Rs. 12,70,000",
          "Rs. 8,62,175",
          "Rs. 9,32,025",
          "Rs. 9,91,434",
          "Rs. 9,86,689",
          "Rs. 10,69,689",
          "Rs. 11,20,689",
          "Rs. 10,35,000",
          "Rs. 9,25,000",
          "Rs. 9,16,050",
          "Rs. 10,48,050",
          "Rs. 9,95,000",
          "Rs. 8,54,328",
          "Rs. 9,14,328",
          "Rs. 9,76,592",
          "Rs. 9,99,614",
          "Rs. 10,31,943",
          "Rs. 10,22,930",
          "Rs. 10,55,259",
          "Rs. 8,80,689",
          "Rs. 9,92,689",
          "Rs. 10,43,689",
          "Rs. 11,43,689",
          "Rs. 10,49,999",
          "Rs. 12,99,999",
          "Rs. 9,63,037",
          "Rs. 10,04,487",
          "Rs. 10,31,951",
          "Rs. 10,66,139",
          "Rs. 12,28,335",
          "Rs. 10,34,000",
          "Rs. 11,54,000",
          "Rs. 12,54,000",
          "Rs. 13,54,000",
          "Rs. 15,34,000",
          "Rs. 16,34,000",
          "Rs. 14,14,000",
          "Rs. 9,99,900",
          "Rs. 14,64,900",
          "Rs. 12,35,700",
          "Rs. 14,19,900",
          "Rs. 12,35,700",
          "Rs. 11,09,005",
          "Rs. 13,35,158",
          "Rs. 14,79,574",
          "Rs. 16,43,829",
          "Rs. 13,48,000",
          "Rs. 14,48,000",
          "Rs. 15,88,000",
          "Rs. 17,28,000",
          "Rs. 20,79,717",
          "Rs. 23,64,354",
          "Rs. 26,97,417",
          "Rs. 24,23,720",
          "Rs. 30,21,500",
          "Rs. 33,21,500",
          "Rs. 25,99,000",
          "Rs. 28,99,000",
          "Rs. 27,34,834",
          "Rs. 29,31,534",
          "Rs. 28,14,500",
          "Rs. 31,53,500",
          "Rs. 31,49,599",
          "Rs. 30,89,851",
          "Rs. 33,03,282",
          "Rs. 32,99,599",
          "Rs. 36,78,599",
          "Rs. 32,99,599",
          "Rs. 36,77,200",
          "Rs. 39,92,200",
          "Rs. 43,61,000",
          "Rs. 61,38,811",
          "Rs. 55,06,622",
          "Rs. 49,77,080",
          "Rs. 57,06,000",
          "Rs. 60,89,000",
          "Rs. 59,90,000",
          "Rs. 72,21,500",
          "Rs. 80,21,500",
          "Rs. 81,11,500",
          "Rs. 96,30,000",
          "Rs. 1,45,12,054",
          "Rs. 1,48,63,774",
          "Rs. 1,53,83,399",
          "Rs. 1,79,00,000",
          "Rs. 5,75,947",
          "Rs. 6,23,000",
          "Rs. 6,99,900",
          "Rs. 7,64,900",
          "Rs. 7,46,621",
          "Rs. 8,68,221",
          "Rs. 6,68,611",
          "Rs. 8,07,921",
          "Rs. 7,51,203",
          "Rs. 8,08,558",
          "Rs. 9,12,534",
          "Rs. 9,93,997",
          "Rs. 8,60,997",
          "Rs. 8,77,285",
          "Rs. 9,42,263",
          "Rs. 9,17,055",
          "Rs. 8,60,720",
          "Rs. 8,15,883",
          "Rs. 7,73,678",
          "Rs. 11,02,689",
          "Rs. 9,19,689",
          "Rs. 9,80,689",
          "Rs. 10,62,689",
          "Rs. 11,38,189",
          "Rs. 9,97,689",
          "Rs. 11,09,189",
          "Rs. 10,06,139",
          "Rs. 11,29,599",
          "Rs. 12,49,599",
          "Rs. 13,99,599",
          "Rs. 12,73,599",
          "Rs. 11,58,599",
          "Rs. 12,73,599",
          "Rs. 9,99,990",
          "Rs. 11,97,919",
          "Rs. 13,66,797",
          "Rs. 15,43,564",
          "Rs. 15,27,395",
          "Rs. 14,21,208",
          "Rs. 13,36,033",
          "Rs. 15,72,064",
          "Rs. 11,07,167",
          "Rs. 14,14,247",
          "Rs. 13,45,363",
          "Rs. 14,71,368",
          "Rs. 15,91,368",
          "Rs. 17,21,368",
          "Rs. 17,32,231",
          "Rs. 17,30,755",
          "Rs. 16,54,783",
          "Rs. 18,06,813",
          "Rs. 19,99,000",
          "Rs. 26,80,000",
          "Rs. 27,60,000",
          "Rs. 30,67,001",
          "Rs. 32,77,001",
          "Rs. 31,72,000",
          "Rs. 36,99,000",
          "Rs. 58,90,000",
          "Rs. 78,82,867",
          "Rs. 89,31,819",
          "Rs. 88,20,000",
          "Rs. 86,90,000",
          "Rs. 1,22,90,000",
          "Rs. 1,32,00,000",
          "Rs. 1,35,10,000",
          "Rs. 1,50,00,000",
          "Rs. 2,32,90,000",
          "Rs. 6,75,090",
          "Rs. 7,90,350",
          "Rs. 8,04,450",
          "Rs. 7,42,033",
          "Rs. 7,42,033",
          "Rs. 7,42,033",
          "Rs. 7,42,033",
          "Rs. 7,42,033",
          "Rs. 7,43,504",
          "Rs. 8,12,964",
          "Rs. 7,97,802",
          "Rs. 9,05,642",
          "Rs. 9,84,818",
          "Rs. 8,32,415",
          "Rs. 9,72,359",
          "Rs. 10,48,603",
          "Rs. 11,09,000",
          "Rs. 12,51,000",
          "Rs. 13,69,000",
          "Rs. 14,65,000",
          "Rs. 14,65,000",
          "Rs. 9,89,000",
          "Rs. 12,05,000",
          "Rs. 30,21,200",
          "Rs. 32,21,200",
          "Rs. 39,90,000",
          "Rs. 43,90,000",
          "Rs. 59,30,000",
          "Rs. 56,00,000",
          "Rs. 68,40,000",
          "Rs. 81,90,000",
          "Rs. 1,10,00,000",
          "Rs. 1,35,58,438",
          "Rs. 6,89,993",
          "Rs. 17,99,599",
          "Rs. 20,79,599",
          "Rs. 22,99,599",
          "Rs. 23,59,599",
          "Rs. 16,99,000",
          "Rs. 21,99,599",
          "Rs. 60,60,000",
          "Rs. 65,90,000",
          "Rs. 6,31,292",
          "Rs. 6,92,655",
          "Rs. 7,47,774",
          "Rs. 11,11,000",
          "Rs. 11,91,000",
          "Rs. 13,02,000",
          "Rs. 14,21,000",
          "Rs. 44,98,000",
          "Rs. 46,33,000",
          "Rs. 7,48,370",
          "Rs. 7,72,617",
          "Rs. 8,45,154",
          "Rs. 73,30,000",
          "Rs. 82,90,000",
          "Rs. 27,70,150",
          "Rs. 30,70,150"
         ],
         "xaxis": "x",
         "y": [
          4,
          4,
          4,
          4,
          4,
          4,
          4,
          4,
          4,
          4,
          4,
          4,
          4,
          4,
          4,
          4,
          4,
          4,
          4,
          4,
          4,
          4,
          4,
          null,
          null,
          null,
          null,
          4,
          4,
          4,
          4,
          4,
          4,
          4,
          4,
          4,
          4,
          4,
          4,
          4,
          4,
          3,
          null,
          null,
          null,
          null,
          null,
          4,
          4,
          4,
          4,
          4,
          4,
          4,
          4,
          4,
          4,
          4,
          4,
          4,
          4,
          4,
          4,
          4,
          4,
          4,
          4,
          4,
          4,
          4,
          4,
          4,
          4,
          4,
          4,
          4,
          4,
          4,
          4,
          4,
          4,
          4,
          4,
          4,
          4,
          4,
          4,
          4,
          4,
          4,
          4,
          4,
          4,
          3,
          4,
          4,
          4,
          4,
          4,
          4,
          4,
          4,
          4,
          4,
          4,
          4,
          4,
          null,
          null,
          null,
          null,
          null,
          null,
          4,
          4,
          4,
          4,
          4,
          4,
          4,
          4,
          4,
          4,
          4,
          4,
          4,
          4,
          4,
          4,
          4,
          4,
          4,
          4,
          4,
          4,
          4,
          4,
          4,
          4,
          3,
          3,
          3,
          4,
          4,
          4,
          4,
          4,
          4,
          4,
          4,
          4,
          4,
          4,
          4,
          4,
          4,
          4,
          4,
          4,
          4,
          4,
          4,
          4,
          4,
          4,
          4,
          4,
          4,
          4,
          4,
          4,
          4,
          4,
          null,
          4,
          4,
          4,
          4,
          4,
          4,
          4,
          4,
          4,
          4,
          4,
          4,
          4,
          6,
          6,
          6,
          6,
          6,
          6,
          6,
          6,
          6,
          6,
          6,
          6,
          6,
          6,
          4,
          4,
          4,
          4,
          4,
          4,
          4,
          4,
          4,
          4,
          4,
          4,
          5,
          5,
          4,
          4,
          4,
          4,
          4,
          4,
          4,
          4,
          4,
          4,
          4,
          5,
          4,
          4,
          5,
          3,
          4,
          4,
          4,
          4,
          4,
          4,
          4,
          4,
          4,
          5,
          4,
          4,
          4,
          4,
          4,
          5,
          4,
          4,
          4,
          4,
          4,
          6,
          6,
          6,
          6,
          4,
          6,
          4,
          4,
          6,
          6,
          4,
          4,
          4,
          4,
          4,
          4,
          6,
          6,
          6,
          6,
          6,
          6,
          4,
          4,
          4,
          4,
          6,
          6,
          8,
          6,
          6,
          6,
          6,
          null,
          null,
          null,
          8,
          6,
          6,
          8,
          8,
          8,
          null,
          3,
          3,
          3,
          3,
          3,
          3,
          3,
          3,
          4,
          4,
          4,
          4,
          4,
          4,
          4,
          4,
          4,
          4,
          4,
          4,
          4,
          4,
          4,
          4,
          4,
          4,
          4,
          4,
          4,
          4,
          4,
          4,
          4,
          4,
          4,
          4,
          4,
          4,
          4,
          4,
          4,
          4,
          4,
          4,
          4,
          4,
          4,
          4,
          4,
          4,
          4,
          4,
          4,
          4,
          4,
          4,
          4,
          4,
          4,
          4,
          4,
          4,
          4,
          4,
          4,
          4,
          4,
          4,
          null,
          4,
          4,
          null,
          null,
          3,
          3,
          3,
          3,
          3,
          3,
          3,
          4,
          4,
          4,
          4,
          4,
          4,
          4,
          4,
          4,
          4,
          4,
          null,
          null,
          null,
          null,
          null,
          null,
          null,
          4,
          4,
          4,
          4,
          4,
          4,
          4,
          4,
          4,
          4,
          4,
          4,
          4,
          4,
          4,
          4,
          4,
          4,
          4,
          4,
          4,
          4,
          4,
          4,
          4,
          4,
          4,
          4,
          4,
          4,
          4,
          4,
          4,
          4,
          4,
          4,
          4,
          4,
          4,
          5,
          6,
          6,
          6,
          4,
          6,
          6,
          6,
          6,
          4,
          4,
          4,
          4,
          4,
          4,
          4,
          4,
          4,
          4,
          4,
          4,
          4,
          4,
          4,
          4,
          4,
          4,
          4,
          4,
          4,
          4,
          4,
          4,
          4,
          4,
          4,
          4,
          4,
          4,
          4,
          4,
          4,
          4,
          4,
          4,
          4,
          4,
          4,
          4,
          4,
          4,
          4,
          3,
          3,
          3,
          3,
          3,
          3,
          4,
          4,
          4,
          4,
          4,
          null,
          null,
          4,
          4,
          4,
          6,
          6,
          6,
          6,
          6,
          6,
          6,
          6,
          null,
          3,
          3,
          3,
          3,
          3,
          3,
          3,
          3,
          4,
          4,
          3,
          3,
          3,
          3,
          3,
          3,
          4,
          4,
          4,
          4,
          4,
          4,
          4,
          4,
          4,
          5,
          5,
          4,
          4,
          4,
          4,
          4,
          6,
          3,
          4,
          4,
          4,
          4,
          4,
          4,
          4,
          6,
          4,
          4,
          4,
          4,
          4,
          4,
          4,
          4,
          4,
          4,
          4,
          4,
          6,
          6,
          4,
          4
         ],
         "yaxis": "y"
        }
       ],
       "layout": {
        "barmode": "relative",
        "legend": {
         "tracegroupgap": 0
        },
        "margin": {
         "t": 60
        },
        "template": {
         "data": {
          "bar": [
           {
            "error_x": {
             "color": "#2a3f5f"
            },
            "error_y": {
             "color": "#2a3f5f"
            },
            "marker": {
             "line": {
              "color": "#E5ECF6",
              "width": 0.5
             },
             "pattern": {
              "fillmode": "overlay",
              "size": 10,
              "solidity": 0.2
             }
            },
            "type": "bar"
           }
          ],
          "barpolar": [
           {
            "marker": {
             "line": {
              "color": "#E5ECF6",
              "width": 0.5
             },
             "pattern": {
              "fillmode": "overlay",
              "size": 10,
              "solidity": 0.2
             }
            },
            "type": "barpolar"
           }
          ],
          "carpet": [
           {
            "aaxis": {
             "endlinecolor": "#2a3f5f",
             "gridcolor": "white",
             "linecolor": "white",
             "minorgridcolor": "white",
             "startlinecolor": "#2a3f5f"
            },
            "baxis": {
             "endlinecolor": "#2a3f5f",
             "gridcolor": "white",
             "linecolor": "white",
             "minorgridcolor": "white",
             "startlinecolor": "#2a3f5f"
            },
            "type": "carpet"
           }
          ],
          "choropleth": [
           {
            "colorbar": {
             "outlinewidth": 0,
             "ticks": ""
            },
            "type": "choropleth"
           }
          ],
          "contour": [
           {
            "colorbar": {
             "outlinewidth": 0,
             "ticks": ""
            },
            "colorscale": [
             [
              0,
              "#0d0887"
             ],
             [
              0.1111111111111111,
              "#46039f"
             ],
             [
              0.2222222222222222,
              "#7201a8"
             ],
             [
              0.3333333333333333,
              "#9c179e"
             ],
             [
              0.4444444444444444,
              "#bd3786"
             ],
             [
              0.5555555555555556,
              "#d8576b"
             ],
             [
              0.6666666666666666,
              "#ed7953"
             ],
             [
              0.7777777777777778,
              "#fb9f3a"
             ],
             [
              0.8888888888888888,
              "#fdca26"
             ],
             [
              1,
              "#f0f921"
             ]
            ],
            "type": "contour"
           }
          ],
          "contourcarpet": [
           {
            "colorbar": {
             "outlinewidth": 0,
             "ticks": ""
            },
            "type": "contourcarpet"
           }
          ],
          "heatmap": [
           {
            "colorbar": {
             "outlinewidth": 0,
             "ticks": ""
            },
            "colorscale": [
             [
              0,
              "#0d0887"
             ],
             [
              0.1111111111111111,
              "#46039f"
             ],
             [
              0.2222222222222222,
              "#7201a8"
             ],
             [
              0.3333333333333333,
              "#9c179e"
             ],
             [
              0.4444444444444444,
              "#bd3786"
             ],
             [
              0.5555555555555556,
              "#d8576b"
             ],
             [
              0.6666666666666666,
              "#ed7953"
             ],
             [
              0.7777777777777778,
              "#fb9f3a"
             ],
             [
              0.8888888888888888,
              "#fdca26"
             ],
             [
              1,
              "#f0f921"
             ]
            ],
            "type": "heatmap"
           }
          ],
          "heatmapgl": [
           {
            "colorbar": {
             "outlinewidth": 0,
             "ticks": ""
            },
            "colorscale": [
             [
              0,
              "#0d0887"
             ],
             [
              0.1111111111111111,
              "#46039f"
             ],
             [
              0.2222222222222222,
              "#7201a8"
             ],
             [
              0.3333333333333333,
              "#9c179e"
             ],
             [
              0.4444444444444444,
              "#bd3786"
             ],
             [
              0.5555555555555556,
              "#d8576b"
             ],
             [
              0.6666666666666666,
              "#ed7953"
             ],
             [
              0.7777777777777778,
              "#fb9f3a"
             ],
             [
              0.8888888888888888,
              "#fdca26"
             ],
             [
              1,
              "#f0f921"
             ]
            ],
            "type": "heatmapgl"
           }
          ],
          "histogram": [
           {
            "marker": {
             "pattern": {
              "fillmode": "overlay",
              "size": 10,
              "solidity": 0.2
             }
            },
            "type": "histogram"
           }
          ],
          "histogram2d": [
           {
            "colorbar": {
             "outlinewidth": 0,
             "ticks": ""
            },
            "colorscale": [
             [
              0,
              "#0d0887"
             ],
             [
              0.1111111111111111,
              "#46039f"
             ],
             [
              0.2222222222222222,
              "#7201a8"
             ],
             [
              0.3333333333333333,
              "#9c179e"
             ],
             [
              0.4444444444444444,
              "#bd3786"
             ],
             [
              0.5555555555555556,
              "#d8576b"
             ],
             [
              0.6666666666666666,
              "#ed7953"
             ],
             [
              0.7777777777777778,
              "#fb9f3a"
             ],
             [
              0.8888888888888888,
              "#fdca26"
             ],
             [
              1,
              "#f0f921"
             ]
            ],
            "type": "histogram2d"
           }
          ],
          "histogram2dcontour": [
           {
            "colorbar": {
             "outlinewidth": 0,
             "ticks": ""
            },
            "colorscale": [
             [
              0,
              "#0d0887"
             ],
             [
              0.1111111111111111,
              "#46039f"
             ],
             [
              0.2222222222222222,
              "#7201a8"
             ],
             [
              0.3333333333333333,
              "#9c179e"
             ],
             [
              0.4444444444444444,
              "#bd3786"
             ],
             [
              0.5555555555555556,
              "#d8576b"
             ],
             [
              0.6666666666666666,
              "#ed7953"
             ],
             [
              0.7777777777777778,
              "#fb9f3a"
             ],
             [
              0.8888888888888888,
              "#fdca26"
             ],
             [
              1,
              "#f0f921"
             ]
            ],
            "type": "histogram2dcontour"
           }
          ],
          "mesh3d": [
           {
            "colorbar": {
             "outlinewidth": 0,
             "ticks": ""
            },
            "type": "mesh3d"
           }
          ],
          "parcoords": [
           {
            "line": {
             "colorbar": {
              "outlinewidth": 0,
              "ticks": ""
             }
            },
            "type": "parcoords"
           }
          ],
          "pie": [
           {
            "automargin": true,
            "type": "pie"
           }
          ],
          "scatter": [
           {
            "marker": {
             "colorbar": {
              "outlinewidth": 0,
              "ticks": ""
             }
            },
            "type": "scatter"
           }
          ],
          "scatter3d": [
           {
            "line": {
             "colorbar": {
              "outlinewidth": 0,
              "ticks": ""
             }
            },
            "marker": {
             "colorbar": {
              "outlinewidth": 0,
              "ticks": ""
             }
            },
            "type": "scatter3d"
           }
          ],
          "scattercarpet": [
           {
            "marker": {
             "colorbar": {
              "outlinewidth": 0,
              "ticks": ""
             }
            },
            "type": "scattercarpet"
           }
          ],
          "scattergeo": [
           {
            "marker": {
             "colorbar": {
              "outlinewidth": 0,
              "ticks": ""
             }
            },
            "type": "scattergeo"
           }
          ],
          "scattergl": [
           {
            "marker": {
             "colorbar": {
              "outlinewidth": 0,
              "ticks": ""
             }
            },
            "type": "scattergl"
           }
          ],
          "scattermapbox": [
           {
            "marker": {
             "colorbar": {
              "outlinewidth": 0,
              "ticks": ""
             }
            },
            "type": "scattermapbox"
           }
          ],
          "scatterpolar": [
           {
            "marker": {
             "colorbar": {
              "outlinewidth": 0,
              "ticks": ""
             }
            },
            "type": "scatterpolar"
           }
          ],
          "scatterpolargl": [
           {
            "marker": {
             "colorbar": {
              "outlinewidth": 0,
              "ticks": ""
             }
            },
            "type": "scatterpolargl"
           }
          ],
          "scatterternary": [
           {
            "marker": {
             "colorbar": {
              "outlinewidth": 0,
              "ticks": ""
             }
            },
            "type": "scatterternary"
           }
          ],
          "surface": [
           {
            "colorbar": {
             "outlinewidth": 0,
             "ticks": ""
            },
            "colorscale": [
             [
              0,
              "#0d0887"
             ],
             [
              0.1111111111111111,
              "#46039f"
             ],
             [
              0.2222222222222222,
              "#7201a8"
             ],
             [
              0.3333333333333333,
              "#9c179e"
             ],
             [
              0.4444444444444444,
              "#bd3786"
             ],
             [
              0.5555555555555556,
              "#d8576b"
             ],
             [
              0.6666666666666666,
              "#ed7953"
             ],
             [
              0.7777777777777778,
              "#fb9f3a"
             ],
             [
              0.8888888888888888,
              "#fdca26"
             ],
             [
              1,
              "#f0f921"
             ]
            ],
            "type": "surface"
           }
          ],
          "table": [
           {
            "cells": {
             "fill": {
              "color": "#EBF0F8"
             },
             "line": {
              "color": "white"
             }
            },
            "header": {
             "fill": {
              "color": "#C8D4E3"
             },
             "line": {
              "color": "white"
             }
            },
            "type": "table"
           }
          ]
         },
         "layout": {
          "annotationdefaults": {
           "arrowcolor": "#2a3f5f",
           "arrowhead": 0,
           "arrowwidth": 1
          },
          "autotypenumbers": "strict",
          "coloraxis": {
           "colorbar": {
            "outlinewidth": 0,
            "ticks": ""
           }
          },
          "colorscale": {
           "diverging": [
            [
             0,
             "#8e0152"
            ],
            [
             0.1,
             "#c51b7d"
            ],
            [
             0.2,
             "#de77ae"
            ],
            [
             0.3,
             "#f1b6da"
            ],
            [
             0.4,
             "#fde0ef"
            ],
            [
             0.5,
             "#f7f7f7"
            ],
            [
             0.6,
             "#e6f5d0"
            ],
            [
             0.7,
             "#b8e186"
            ],
            [
             0.8,
             "#7fbc41"
            ],
            [
             0.9,
             "#4d9221"
            ],
            [
             1,
             "#276419"
            ]
           ],
           "sequential": [
            [
             0,
             "#0d0887"
            ],
            [
             0.1111111111111111,
             "#46039f"
            ],
            [
             0.2222222222222222,
             "#7201a8"
            ],
            [
             0.3333333333333333,
             "#9c179e"
            ],
            [
             0.4444444444444444,
             "#bd3786"
            ],
            [
             0.5555555555555556,
             "#d8576b"
            ],
            [
             0.6666666666666666,
             "#ed7953"
            ],
            [
             0.7777777777777778,
             "#fb9f3a"
            ],
            [
             0.8888888888888888,
             "#fdca26"
            ],
            [
             1,
             "#f0f921"
            ]
           ],
           "sequentialminus": [
            [
             0,
             "#0d0887"
            ],
            [
             0.1111111111111111,
             "#46039f"
            ],
            [
             0.2222222222222222,
             "#7201a8"
            ],
            [
             0.3333333333333333,
             "#9c179e"
            ],
            [
             0.4444444444444444,
             "#bd3786"
            ],
            [
             0.5555555555555556,
             "#d8576b"
            ],
            [
             0.6666666666666666,
             "#ed7953"
            ],
            [
             0.7777777777777778,
             "#fb9f3a"
            ],
            [
             0.8888888888888888,
             "#fdca26"
            ],
            [
             1,
             "#f0f921"
            ]
           ]
          },
          "colorway": [
           "#636efa",
           "#EF553B",
           "#00cc96",
           "#ab63fa",
           "#FFA15A",
           "#19d3f3",
           "#FF6692",
           "#B6E880",
           "#FF97FF",
           "#FECB52"
          ],
          "font": {
           "color": "#2a3f5f"
          },
          "geo": {
           "bgcolor": "white",
           "lakecolor": "white",
           "landcolor": "#E5ECF6",
           "showlakes": true,
           "showland": true,
           "subunitcolor": "white"
          },
          "hoverlabel": {
           "align": "left"
          },
          "hovermode": "closest",
          "mapbox": {
           "style": "light"
          },
          "paper_bgcolor": "white",
          "plot_bgcolor": "#E5ECF6",
          "polar": {
           "angularaxis": {
            "gridcolor": "white",
            "linecolor": "white",
            "ticks": ""
           },
           "bgcolor": "#E5ECF6",
           "radialaxis": {
            "gridcolor": "white",
            "linecolor": "white",
            "ticks": ""
           }
          },
          "scene": {
           "xaxis": {
            "backgroundcolor": "#E5ECF6",
            "gridcolor": "white",
            "gridwidth": 2,
            "linecolor": "white",
            "showbackground": true,
            "ticks": "",
            "zerolinecolor": "white"
           },
           "yaxis": {
            "backgroundcolor": "#E5ECF6",
            "gridcolor": "white",
            "gridwidth": 2,
            "linecolor": "white",
            "showbackground": true,
            "ticks": "",
            "zerolinecolor": "white"
           },
           "zaxis": {
            "backgroundcolor": "#E5ECF6",
            "gridcolor": "white",
            "gridwidth": 2,
            "linecolor": "white",
            "showbackground": true,
            "ticks": "",
            "zerolinecolor": "white"
           }
          },
          "shapedefaults": {
           "line": {
            "color": "#2a3f5f"
           }
          },
          "ternary": {
           "aaxis": {
            "gridcolor": "white",
            "linecolor": "white",
            "ticks": ""
           },
           "baxis": {
            "gridcolor": "white",
            "linecolor": "white",
            "ticks": ""
           },
           "bgcolor": "#E5ECF6",
           "caxis": {
            "gridcolor": "white",
            "linecolor": "white",
            "ticks": ""
           }
          },
          "title": {
           "x": 0.05
          },
          "xaxis": {
           "automargin": true,
           "gridcolor": "white",
           "linecolor": "white",
           "ticks": "",
           "title": {
            "standoff": 15
           },
           "zerolinecolor": "white",
           "zerolinewidth": 2
          },
          "yaxis": {
           "automargin": true,
           "gridcolor": "white",
           "linecolor": "white",
           "ticks": "",
           "title": {
            "standoff": 15
           },
           "zerolinecolor": "white",
           "zerolinewidth": 2
          }
         }
        },
        "xaxis": {
         "anchor": "y",
         "domain": [
          0,
          1
         ],
         "title": {
          "text": "Ex-Showroom_Price"
         }
        },
        "yaxis": {
         "anchor": "x",
         "domain": [
          0,
          1
         ],
         "title": {
          "text": "Cylinders"
         }
        }
       }
      },
      "text/html": [
       "<div>                            <div id=\"fb3b7d39-3984-417a-a4e9-7b00259b4de4\" class=\"plotly-graph-div\" style=\"height:525px; width:100%;\"></div>            <script type=\"text/javascript\">                require([\"plotly\"], function(Plotly) {                    window.PLOTLYENV=window.PLOTLYENV || {};                                    if (document.getElementById(\"fb3b7d39-3984-417a-a4e9-7b00259b4de4\")) {                    Plotly.newPlot(                        \"fb3b7d39-3984-417a-a4e9-7b00259b4de4\",                        [{\"alignmentgroup\":\"True\",\"hovertemplate\":\"Ex-Showroom_Price=%{x}<br>Cylinders=%{y}<extra></extra>\",\"legendgroup\":\"\",\"marker\":{\"color\":\"#636efa\",\"pattern\":{\"shape\":\"\"}},\"name\":\"\",\"offsetgroup\":\"\",\"orientation\":\"v\",\"showlegend\":false,\"textposition\":\"auto\",\"type\":\"bar\",\"x\":[\"Rs. 5,68,623\",\"Rs. 6,03,000\",\"Rs. 7,39,000\",\"Rs. 7,39,000\",\"Rs. 6,47,800\",\"Rs. 7,45,000\",\"Rs. 7,04,000\",\"Rs. 7,20,700\",\"Rs. 7,56,700\",\"Rs. 6,86,000\",\"Rs. 7,77,700\",\"Rs. 7,87,980\",\"Rs. 6,61,111\",\"Rs. 6,93,798\",\"Rs. 7,19,661\",\"Rs. 6,39,616\",\"Rs. 6,20,297\",\"Rs. 6,53,523\",\"Rs. 6,97,803\",\"Rs. 7,70,803\",\"Rs. 8,76,103\",\"Rs. 9,34,003\",\"Rs. 8,46,103\",\"Rs. 7,73,800\",\"Rs. 8,23,700\",\"Rs. 9,22,700\",\"Rs. 9,03,800\",\"Rs. 7,34,500\",\"Rs. 8,51,500\",\"Rs. 9,31,500\",\"Rs. 9,88,500\",\"Rs. 6,66,622\",\"Rs. 7,57,622\",\"Rs. 8,63,122\",\"Rs. 8,16,622\",\"Rs. 9,06,122\",\"Rs. 8,04,622\",\"Rs. 9,52,622\",\"Rs. 6,76,400\",\"Rs. 7,90,900\",\"Rs. 8,36,400\",\"Rs. 7,45,900\",\"Rs. 7,11,500\",\"Rs. 8,10,500\",\"Rs. 9,99,900\",\"Rs. 9,25,500\",\"Rs. 9,99,900\",\"Rs. 6,99,400\",\"Rs. 7,37,400\",\"Rs. 7,77,400\",\"Rs. 8,17,400\",\"Rs. 8,62,400\",\"Rs. 8,42,400\",\"Rs. 7,34,700\",\"Rs. 8,28,600\",\"Rs. 8,88,400\",\"Rs. 7,99,600\",\"Rs. 9,13,400\",\"Rs. 7,97,500\",\"Rs. 7,66,000\",\"Rs. 8,16,000\",\"Rs. 6,57,628\",\"Rs. 6,85,729\",\"Rs. 7,50,428\",\"Rs. 6,77,618\",\"Rs. 7,39,074\",\"Rs. 8,10,211\",\"Rs. 7,96,132\",\"Rs. 7,11,801\",\"Rs. 8,76,341\",\"Rs. 8,16,500\",\"Rs. 8,96,500\",\"Rs. 9,40,500\",\"Rs. 8,86,398\",\"Rs. 8,51,302\",\"Rs. 7,85,656\",\"Rs. 7,49,192\",\"Rs. 8,59,497\",\"Rs. 8,19,117\",\"Rs. 7,62,742\",\"Rs. 8,14,742\",\"Rs. 8,92,243\",\"Rs. 9,87,743\",\"Rs. 10,03,552\",\"Rs. 10,37,742\",\"Rs. 8,64,742\",\"Rs. 9,42,243\",\"Rs. 10,59,742\",\"Rs. 9,93,393\",\"Rs. 8,41,000\",\"Rs. 9,21,000\",\"Rs. 9,99,900\",\"Rs. 10,90,000\",\"Rs. 11,45,000\",\"Rs. 10,90,000\",\"Rs. 9,29,990\",\"Rs. 9,99,990\",\"Rs. 11,19,990\",\"Rs. 12,09,990\",\"Rs. 12,49,990\",\"Rs. 12,49,990\",\"Rs. 11,72,544\",\"Rs. 13,01,881\",\"Rs. 13,28,545\",\"Rs. 14,07,871\",\"Rs. 9,42,867\",\"Rs. 9,99,900\",\"Rs. 8,69,131\",\"Rs. 9,50,131\",\"Rs. 10,95,129\",\"Rs. 12,14,130\",\"Rs. 11,49,800\",\"Rs. 12,69,131\",\"Rs. 9,99,000\",\"Rs. 8,63,299\",\"Rs. 9,64,199\",\"Rs. 12,11,599\",\"Rs. 12,11,599\",\"Rs. 10,53,899\",\"Rs. 11,30,099\",\"Rs. 9,64,199\",\"Rs. 9,58,500\",\"Rs. 9,99,900\",\"Rs. 12,10,500\",\"Rs. 13,36,500\",\"Rs. 13,17,500\",\"Rs. 14,49,500\",\"Rs. 11,87,900\",\"Rs. 12,73,900\",\"Rs. 13,82,900\",\"Rs. 9,59,860\",\"Rs. 9,99,148\",\"Rs. 9,74,860\",\"Rs. 9,99,000\",\"Rs. 10,75,000\",\"Rs. 12,99,000\",\"Rs. 13,30,000\",\"Rs. 9,75,000\",\"Rs. 12,25,000\",\"Rs. 9,92,748\",\"Rs. 10,29,650\",\"Rs. 11,42,157\",\"Rs. 9,99,900\",\"Rs. 11,56,471\",\"Rs. 13,08,592\",\"Rs. 14,68,440\",\"Rs. 9,99,900\",\"Rs. 11,64,569\",\"Rs. 13,16,690\",\"Rs. 14,76,538\",\"Rs. 9,99,994\",\"Rs. 12,36,258\",\"Rs. 11,23,158\",\"Rs. 12,20,030\",\"Rs. 13,30,006\",\"Rs. 13,60,668\",\"Rs. 15,40,081\",\"Rs. 16,63,054\",\"Rs. 14,23,710\",\"Rs. 14,25,599\",\"Rs. 12,99,599\",\"Rs. 14,18,313\",\"Rs. 15,39,488\",\"Rs. 15,88,943\",\"Rs. 17,10,118\",\"Rs. 17,16,319\",\"Rs. 18,37,586\",\"Rs. 17,41,319\",\"Rs. 18,62,586\",\"Rs. 18,52,488\",\"Rs. 19,73,664\",\"Rs. 12,30,924\",\"Rs. 16,39,374\",\"Rs. 19,29,417\",\"Rs. 19,12,593\",\"Rs. 17,96,458\",\"Rs. 13,71,864\",\"Rs. 15,31,377\",\"Rs. 16,55,587\",\"Rs. 16,05,000\",\"Rs. 19,27,000\",\"Rs. 16,10,000\",\"Rs. 19,32,000\",\"Rs. 21,13,000\",\"Rs. 20,97,000\",\"Rs. 15,92,000\",\"Rs. 15,87,000\",\"Rs. 16,61,000\",\"Rs. 18,03,000\",\"Rs. 18,88,000\",\"Rs. 19,73,000\",\"Rs. 20,22,000\",\"Rs. 21,51,000\",\"Rs. 21,99,000\",\"Rs. 21,33,000\",\"Rs. 23,11,000\",\"Rs. 16,99,000\",\"Rs. 20,36,300\",\"Rs. 22,14,000\",\"Rs. 24,99,000\",\"Rs. 21,96,000\",\"Rs. 19,36,000\",\"Rs. 17,71,000\",\"Rs. 20,54,900\",\"Rs. 22,34,900\",\"Rs. 24,95,000\",\"Rs. 25,15,000\",\"Rs. 28,95,000\",\"Rs. 29,95,000\",\"Rs. 33,95,000\",\"Rs. 33,49,599\",\"Rs. 30,29,599\",\"Rs. 28,49,599\",\"Rs. 27,69,000\",\"Rs. 31,91,000\",\"Rs. 28,86,871\",\"Rs. 32,05,000\",\"Rs. 30,19,000\",\"Rs. 32,16,000\",\"Rs. 33,95,000\",\"Rs. 34,20,000\",\"Rs. 29,03,750\",\"Rs. 28,35,500\",\"Rs. 29,53,240\",\"Rs. 29,92,800\",\"Rs. 29,52,500\",\"Rs. 34,70,000\",\"Rs. 32,33,000\",\"Rs. 29,20,000\",\"Rs. 32,83,000\",\"Rs. 29,90,000\",\"Rs. 32,33,000\",\"Rs. 35,64,000\",\"Rs. 38,64,000\",\"Rs. 33,99,000\",\"Rs. 37,40,000\",\"Rs. 35,20,000\",\"Rs. 39,30,000\",\"Rs. 45,70,000\",\"Rs. 42,40,000\",\"Rs. 38,50,500\",\"Rs. 40,20,000\",\"Rs. 46,70,000\",\"Rs. 49,74,750\",\"Rs. 41,40,000\",\"Rs. 46,90,000\",\"Rs. 44,26,500\",\"Rs. 50,21,200\",\"Rs. 56,21,200\",\"Rs. 57,75,000\",\"Rs. 54,94,000\",\"Rs. 59,85,000\",\"Rs. 72,85,332\",\"Rs. 59,64,321\",\"Rs. 58,50,000\",\"Rs. 62,50,000\",\"Rs. 59,30,000\",\"Rs. 66,80,000\",\"Rs. 60,61,200\",\"Rs. 64,63,780\",\"Rs. 68,90,000\",\"Rs. 74,50,000\",\"Rs. 64,40,000\",\"Rs. 65,31,000\",\"Rs. 68,62,560\",\"Rs. 69,48,200\",\"Rs. 72,46,802\",\"Rs. 73,70,000\",\"Rs. 1,25,00,000\",\"Rs. 75,00,000\",\"Rs. 1,02,05,494\",\"Rs. 96,89,321\",\"Rs. 88,77,094\",\"Rs. 1,08,61,088\",\"Rs. 87,90,000\",\"Rs. 80,90,000\",\"Rs. 84,91,500\",\"Rs. 84,70,000\",\"Rs. 1,03,73,732\",\"Rs. 1,19,13,021\",\"Rs. 1,49,08,985\",\"Rs. 97,38,609\",\"Rs. 1,07,25,145\",\"Rs. 1,11,29,599\",\"Rs. 1,02,50,000\",\"Rs. 1,33,87,856\",\"Rs. 1,38,81,858\",\"Rs. 1,42,47,814\",\"Rs. 1,46,99,000\",\"Rs. 1,81,85,267\",\"Rs. 1,95,27,130\",\"Rs. 2,51,74,051\",\"Rs. 3,92,94,685\",\"Rs. 2,36,75,691\",\"Rs. 2,32,90,000\",\"Rs. 5,51,530\",\"Rs. 5,68,930\",\"Rs. 5,90,798\",\"Rs. 6,19,243\",\"Rs. 6,67,273\",\"Rs. 7,54,548\",\"Rs. 7,87,304\",\"Rs. 7,94,800\",\"Rs. 5,99,000\",\"Rs. 6,98,000\",\"Rs. 7,45,000\",\"Rs. 7,57,000\",\"Rs. 8,04,000\",\"Rs. 8,38,000\",\"Rs. 8,84,000\",\"Rs. 6,99,000\",\"Rs. 7,75,000\",\"Rs. 8,44,000\",\"Rs. 9,04,000\",\"Rs. 9,29,000\",\"Rs. 6,42,478\",\"Rs. 5,89,678\",\"Rs. 6,89,761\",\"Rs. 7,88,177\",\"Rs. 26,50,777\",\"Rs. 6,28,072\",\"Rs. 9,00,967\",\"Rs. 14,65,148\",\"Rs. 5,52,890\",\"Rs. 9,27,689\",\"Rs. 8,35,275\",\"Rs. 7,02,946\",\"Rs. 7,67,317\",\"Rs. 7,93,898\",\"Rs. 8,55,362\",\"Rs. 8,36,320\",\"Rs. 9,89,000\",\"Rs. 7,88,797\",\"Rs. 7,05,000\",\"Rs. 8,65,000\",\"Rs. 9,25,000\",\"Rs. 7,85,000\",\"Rs. 8,93,000\",\"Rs. 8,45,000\",\"Rs. 9,06,000\",\"Rs. 7,80,000\",\"Rs. 8,50,000\",\"Rs. 9,83,000\",\"Rs. 9,98,000\",\"Rs. 10,89,000\",\"Rs. 8,45,000\",\"Rs. 9,20,000\",\"Rs. 10,20,000\",\"Rs. 11,00,000\",\"Rs. 11,20,000\",\"Rs. 11,90,000\",\"Rs. 12,10,000\",\"Rs. 9,80,000\",\"Rs. 11,60,000\",\"Rs. 11,80,000\",\"Rs. 12,50,000\",\"Rs. 12,70,000\",\"Rs. 8,62,175\",\"Rs. 9,32,025\",\"Rs. 9,91,434\",\"Rs. 9,86,689\",\"Rs. 10,69,689\",\"Rs. 11,20,689\",\"Rs. 10,35,000\",\"Rs. 9,25,000\",\"Rs. 9,16,050\",\"Rs. 10,48,050\",\"Rs. 9,95,000\",\"Rs. 8,54,328\",\"Rs. 9,14,328\",\"Rs. 9,76,592\",\"Rs. 9,99,614\",\"Rs. 10,31,943\",\"Rs. 10,22,930\",\"Rs. 10,55,259\",\"Rs. 8,80,689\",\"Rs. 9,92,689\",\"Rs. 10,43,689\",\"Rs. 11,43,689\",\"Rs. 10,49,999\",\"Rs. 12,99,999\",\"Rs. 9,63,037\",\"Rs. 10,04,487\",\"Rs. 10,31,951\",\"Rs. 10,66,139\",\"Rs. 12,28,335\",\"Rs. 10,34,000\",\"Rs. 11,54,000\",\"Rs. 12,54,000\",\"Rs. 13,54,000\",\"Rs. 15,34,000\",\"Rs. 16,34,000\",\"Rs. 14,14,000\",\"Rs. 9,99,900\",\"Rs. 14,64,900\",\"Rs. 12,35,700\",\"Rs. 14,19,900\",\"Rs. 12,35,700\",\"Rs. 11,09,005\",\"Rs. 13,35,158\",\"Rs. 14,79,574\",\"Rs. 16,43,829\",\"Rs. 13,48,000\",\"Rs. 14,48,000\",\"Rs. 15,88,000\",\"Rs. 17,28,000\",\"Rs. 20,79,717\",\"Rs. 23,64,354\",\"Rs. 26,97,417\",\"Rs. 24,23,720\",\"Rs. 30,21,500\",\"Rs. 33,21,500\",\"Rs. 25,99,000\",\"Rs. 28,99,000\",\"Rs. 27,34,834\",\"Rs. 29,31,534\",\"Rs. 28,14,500\",\"Rs. 31,53,500\",\"Rs. 31,49,599\",\"Rs. 30,89,851\",\"Rs. 33,03,282\",\"Rs. 32,99,599\",\"Rs. 36,78,599\",\"Rs. 32,99,599\",\"Rs. 36,77,200\",\"Rs. 39,92,200\",\"Rs. 43,61,000\",\"Rs. 61,38,811\",\"Rs. 55,06,622\",\"Rs. 49,77,080\",\"Rs. 57,06,000\",\"Rs. 60,89,000\",\"Rs. 59,90,000\",\"Rs. 72,21,500\",\"Rs. 80,21,500\",\"Rs. 81,11,500\",\"Rs. 96,30,000\",\"Rs. 1,45,12,054\",\"Rs. 1,48,63,774\",\"Rs. 1,53,83,399\",\"Rs. 1,79,00,000\",\"Rs. 5,75,947\",\"Rs. 6,23,000\",\"Rs. 6,99,900\",\"Rs. 7,64,900\",\"Rs. 7,46,621\",\"Rs. 8,68,221\",\"Rs. 6,68,611\",\"Rs. 8,07,921\",\"Rs. 7,51,203\",\"Rs. 8,08,558\",\"Rs. 9,12,534\",\"Rs. 9,93,997\",\"Rs. 8,60,997\",\"Rs. 8,77,285\",\"Rs. 9,42,263\",\"Rs. 9,17,055\",\"Rs. 8,60,720\",\"Rs. 8,15,883\",\"Rs. 7,73,678\",\"Rs. 11,02,689\",\"Rs. 9,19,689\",\"Rs. 9,80,689\",\"Rs. 10,62,689\",\"Rs. 11,38,189\",\"Rs. 9,97,689\",\"Rs. 11,09,189\",\"Rs. 10,06,139\",\"Rs. 11,29,599\",\"Rs. 12,49,599\",\"Rs. 13,99,599\",\"Rs. 12,73,599\",\"Rs. 11,58,599\",\"Rs. 12,73,599\",\"Rs. 9,99,990\",\"Rs. 11,97,919\",\"Rs. 13,66,797\",\"Rs. 15,43,564\",\"Rs. 15,27,395\",\"Rs. 14,21,208\",\"Rs. 13,36,033\",\"Rs. 15,72,064\",\"Rs. 11,07,167\",\"Rs. 14,14,247\",\"Rs. 13,45,363\",\"Rs. 14,71,368\",\"Rs. 15,91,368\",\"Rs. 17,21,368\",\"Rs. 17,32,231\",\"Rs. 17,30,755\",\"Rs. 16,54,783\",\"Rs. 18,06,813\",\"Rs. 19,99,000\",\"Rs. 26,80,000\",\"Rs. 27,60,000\",\"Rs. 30,67,001\",\"Rs. 32,77,001\",\"Rs. 31,72,000\",\"Rs. 36,99,000\",\"Rs. 58,90,000\",\"Rs. 78,82,867\",\"Rs. 89,31,819\",\"Rs. 88,20,000\",\"Rs. 86,90,000\",\"Rs. 1,22,90,000\",\"Rs. 1,32,00,000\",\"Rs. 1,35,10,000\",\"Rs. 1,50,00,000\",\"Rs. 2,32,90,000\",\"Rs. 6,75,090\",\"Rs. 7,90,350\",\"Rs. 8,04,450\",\"Rs. 7,42,033\",\"Rs. 7,42,033\",\"Rs. 7,42,033\",\"Rs. 7,42,033\",\"Rs. 7,42,033\",\"Rs. 7,43,504\",\"Rs. 8,12,964\",\"Rs. 7,97,802\",\"Rs. 9,05,642\",\"Rs. 9,84,818\",\"Rs. 8,32,415\",\"Rs. 9,72,359\",\"Rs. 10,48,603\",\"Rs. 11,09,000\",\"Rs. 12,51,000\",\"Rs. 13,69,000\",\"Rs. 14,65,000\",\"Rs. 14,65,000\",\"Rs. 9,89,000\",\"Rs. 12,05,000\",\"Rs. 30,21,200\",\"Rs. 32,21,200\",\"Rs. 39,90,000\",\"Rs. 43,90,000\",\"Rs. 59,30,000\",\"Rs. 56,00,000\",\"Rs. 68,40,000\",\"Rs. 81,90,000\",\"Rs. 1,10,00,000\",\"Rs. 1,35,58,438\",\"Rs. 6,89,993\",\"Rs. 17,99,599\",\"Rs. 20,79,599\",\"Rs. 22,99,599\",\"Rs. 23,59,599\",\"Rs. 16,99,000\",\"Rs. 21,99,599\",\"Rs. 60,60,000\",\"Rs. 65,90,000\",\"Rs. 6,31,292\",\"Rs. 6,92,655\",\"Rs. 7,47,774\",\"Rs. 11,11,000\",\"Rs. 11,91,000\",\"Rs. 13,02,000\",\"Rs. 14,21,000\",\"Rs. 44,98,000\",\"Rs. 46,33,000\",\"Rs. 7,48,370\",\"Rs. 7,72,617\",\"Rs. 8,45,154\",\"Rs. 73,30,000\",\"Rs. 82,90,000\",\"Rs. 27,70,150\",\"Rs. 30,70,150\"],\"xaxis\":\"x\",\"y\":[4.0,4.0,4.0,4.0,4.0,4.0,4.0,4.0,4.0,4.0,4.0,4.0,4.0,4.0,4.0,4.0,4.0,4.0,4.0,4.0,4.0,4.0,4.0,null,null,null,null,4.0,4.0,4.0,4.0,4.0,4.0,4.0,4.0,4.0,4.0,4.0,4.0,4.0,4.0,3.0,null,null,null,null,null,4.0,4.0,4.0,4.0,4.0,4.0,4.0,4.0,4.0,4.0,4.0,4.0,4.0,4.0,4.0,4.0,4.0,4.0,4.0,4.0,4.0,4.0,4.0,4.0,4.0,4.0,4.0,4.0,4.0,4.0,4.0,4.0,4.0,4.0,4.0,4.0,4.0,4.0,4.0,4.0,4.0,4.0,4.0,4.0,4.0,4.0,3.0,4.0,4.0,4.0,4.0,4.0,4.0,4.0,4.0,4.0,4.0,4.0,4.0,4.0,null,null,null,null,null,null,4.0,4.0,4.0,4.0,4.0,4.0,4.0,4.0,4.0,4.0,4.0,4.0,4.0,4.0,4.0,4.0,4.0,4.0,4.0,4.0,4.0,4.0,4.0,4.0,4.0,4.0,3.0,3.0,3.0,4.0,4.0,4.0,4.0,4.0,4.0,4.0,4.0,4.0,4.0,4.0,4.0,4.0,4.0,4.0,4.0,4.0,4.0,4.0,4.0,4.0,4.0,4.0,4.0,4.0,4.0,4.0,4.0,4.0,4.0,4.0,null,4.0,4.0,4.0,4.0,4.0,4.0,4.0,4.0,4.0,4.0,4.0,4.0,4.0,6.0,6.0,6.0,6.0,6.0,6.0,6.0,6.0,6.0,6.0,6.0,6.0,6.0,6.0,4.0,4.0,4.0,4.0,4.0,4.0,4.0,4.0,4.0,4.0,4.0,4.0,5.0,5.0,4.0,4.0,4.0,4.0,4.0,4.0,4.0,4.0,4.0,4.0,4.0,5.0,4.0,4.0,5.0,3.0,4.0,4.0,4.0,4.0,4.0,4.0,4.0,4.0,4.0,5.0,4.0,4.0,4.0,4.0,4.0,5.0,4.0,4.0,4.0,4.0,4.0,6.0,6.0,6.0,6.0,4.0,6.0,4.0,4.0,6.0,6.0,4.0,4.0,4.0,4.0,4.0,4.0,6.0,6.0,6.0,6.0,6.0,6.0,4.0,4.0,4.0,4.0,6.0,6.0,8.0,6.0,6.0,6.0,6.0,null,null,null,8.0,6.0,6.0,8.0,8.0,8.0,null,3.0,3.0,3.0,3.0,3.0,3.0,3.0,3.0,4.0,4.0,4.0,4.0,4.0,4.0,4.0,4.0,4.0,4.0,4.0,4.0,4.0,4.0,4.0,4.0,4.0,4.0,4.0,4.0,4.0,4.0,4.0,4.0,4.0,4.0,4.0,4.0,4.0,4.0,4.0,4.0,4.0,4.0,4.0,4.0,4.0,4.0,4.0,4.0,4.0,4.0,4.0,4.0,4.0,4.0,4.0,4.0,4.0,4.0,4.0,4.0,4.0,4.0,4.0,4.0,4.0,4.0,4.0,4.0,null,4.0,4.0,null,null,3.0,3.0,3.0,3.0,3.0,3.0,3.0,4.0,4.0,4.0,4.0,4.0,4.0,4.0,4.0,4.0,4.0,4.0,null,null,null,null,null,null,null,4.0,4.0,4.0,4.0,4.0,4.0,4.0,4.0,4.0,4.0,4.0,4.0,4.0,4.0,4.0,4.0,4.0,4.0,4.0,4.0,4.0,4.0,4.0,4.0,4.0,4.0,4.0,4.0,4.0,4.0,4.0,4.0,4.0,4.0,4.0,4.0,4.0,4.0,4.0,5.0,6.0,6.0,6.0,4.0,6.0,6.0,6.0,6.0,4.0,4.0,4.0,4.0,4.0,4.0,4.0,4.0,4.0,4.0,4.0,4.0,4.0,4.0,4.0,4.0,4.0,4.0,4.0,4.0,4.0,4.0,4.0,4.0,4.0,4.0,4.0,4.0,4.0,4.0,4.0,4.0,4.0,4.0,4.0,4.0,4.0,4.0,4.0,4.0,4.0,4.0,4.0,3.0,3.0,3.0,3.0,3.0,3.0,4.0,4.0,4.0,4.0,4.0,null,null,4.0,4.0,4.0,6.0,6.0,6.0,6.0,6.0,6.0,6.0,6.0,null,3.0,3.0,3.0,3.0,3.0,3.0,3.0,3.0,4.0,4.0,3.0,3.0,3.0,3.0,3.0,3.0,4.0,4.0,4.0,4.0,4.0,4.0,4.0,4.0,4.0,5.0,5.0,4.0,4.0,4.0,4.0,4.0,6.0,3.0,4.0,4.0,4.0,4.0,4.0,4.0,4.0,6.0,4.0,4.0,4.0,4.0,4.0,4.0,4.0,4.0,4.0,4.0,4.0,4.0,6.0,6.0,4.0,4.0],\"yaxis\":\"y\"}],                        {\"barmode\":\"relative\",\"legend\":{\"tracegroupgap\":0},\"margin\":{\"t\":60},\"template\":{\"data\":{\"bar\":[{\"error_x\":{\"color\":\"#2a3f5f\"},\"error_y\":{\"color\":\"#2a3f5f\"},\"marker\":{\"line\":{\"color\":\"#E5ECF6\",\"width\":0.5},\"pattern\":{\"fillmode\":\"overlay\",\"size\":10,\"solidity\":0.2}},\"type\":\"bar\"}],\"barpolar\":[{\"marker\":{\"line\":{\"color\":\"#E5ECF6\",\"width\":0.5},\"pattern\":{\"fillmode\":\"overlay\",\"size\":10,\"solidity\":0.2}},\"type\":\"barpolar\"}],\"carpet\":[{\"aaxis\":{\"endlinecolor\":\"#2a3f5f\",\"gridcolor\":\"white\",\"linecolor\":\"white\",\"minorgridcolor\":\"white\",\"startlinecolor\":\"#2a3f5f\"},\"baxis\":{\"endlinecolor\":\"#2a3f5f\",\"gridcolor\":\"white\",\"linecolor\":\"white\",\"minorgridcolor\":\"white\",\"startlinecolor\":\"#2a3f5f\"},\"type\":\"carpet\"}],\"choropleth\":[{\"colorbar\":{\"outlinewidth\":0,\"ticks\":\"\"},\"type\":\"choropleth\"}],\"contour\":[{\"colorbar\":{\"outlinewidth\":0,\"ticks\":\"\"},\"colorscale\":[[0.0,\"#0d0887\"],[0.1111111111111111,\"#46039f\"],[0.2222222222222222,\"#7201a8\"],[0.3333333333333333,\"#9c179e\"],[0.4444444444444444,\"#bd3786\"],[0.5555555555555556,\"#d8576b\"],[0.6666666666666666,\"#ed7953\"],[0.7777777777777778,\"#fb9f3a\"],[0.8888888888888888,\"#fdca26\"],[1.0,\"#f0f921\"]],\"type\":\"contour\"}],\"contourcarpet\":[{\"colorbar\":{\"outlinewidth\":0,\"ticks\":\"\"},\"type\":\"contourcarpet\"}],\"heatmap\":[{\"colorbar\":{\"outlinewidth\":0,\"ticks\":\"\"},\"colorscale\":[[0.0,\"#0d0887\"],[0.1111111111111111,\"#46039f\"],[0.2222222222222222,\"#7201a8\"],[0.3333333333333333,\"#9c179e\"],[0.4444444444444444,\"#bd3786\"],[0.5555555555555556,\"#d8576b\"],[0.6666666666666666,\"#ed7953\"],[0.7777777777777778,\"#fb9f3a\"],[0.8888888888888888,\"#fdca26\"],[1.0,\"#f0f921\"]],\"type\":\"heatmap\"}],\"heatmapgl\":[{\"colorbar\":{\"outlinewidth\":0,\"ticks\":\"\"},\"colorscale\":[[0.0,\"#0d0887\"],[0.1111111111111111,\"#46039f\"],[0.2222222222222222,\"#7201a8\"],[0.3333333333333333,\"#9c179e\"],[0.4444444444444444,\"#bd3786\"],[0.5555555555555556,\"#d8576b\"],[0.6666666666666666,\"#ed7953\"],[0.7777777777777778,\"#fb9f3a\"],[0.8888888888888888,\"#fdca26\"],[1.0,\"#f0f921\"]],\"type\":\"heatmapgl\"}],\"histogram\":[{\"marker\":{\"pattern\":{\"fillmode\":\"overlay\",\"size\":10,\"solidity\":0.2}},\"type\":\"histogram\"}],\"histogram2d\":[{\"colorbar\":{\"outlinewidth\":0,\"ticks\":\"\"},\"colorscale\":[[0.0,\"#0d0887\"],[0.1111111111111111,\"#46039f\"],[0.2222222222222222,\"#7201a8\"],[0.3333333333333333,\"#9c179e\"],[0.4444444444444444,\"#bd3786\"],[0.5555555555555556,\"#d8576b\"],[0.6666666666666666,\"#ed7953\"],[0.7777777777777778,\"#fb9f3a\"],[0.8888888888888888,\"#fdca26\"],[1.0,\"#f0f921\"]],\"type\":\"histogram2d\"}],\"histogram2dcontour\":[{\"colorbar\":{\"outlinewidth\":0,\"ticks\":\"\"},\"colorscale\":[[0.0,\"#0d0887\"],[0.1111111111111111,\"#46039f\"],[0.2222222222222222,\"#7201a8\"],[0.3333333333333333,\"#9c179e\"],[0.4444444444444444,\"#bd3786\"],[0.5555555555555556,\"#d8576b\"],[0.6666666666666666,\"#ed7953\"],[0.7777777777777778,\"#fb9f3a\"],[0.8888888888888888,\"#fdca26\"],[1.0,\"#f0f921\"]],\"type\":\"histogram2dcontour\"}],\"mesh3d\":[{\"colorbar\":{\"outlinewidth\":0,\"ticks\":\"\"},\"type\":\"mesh3d\"}],\"parcoords\":[{\"line\":{\"colorbar\":{\"outlinewidth\":0,\"ticks\":\"\"}},\"type\":\"parcoords\"}],\"pie\":[{\"automargin\":true,\"type\":\"pie\"}],\"scatter\":[{\"marker\":{\"colorbar\":{\"outlinewidth\":0,\"ticks\":\"\"}},\"type\":\"scatter\"}],\"scatter3d\":[{\"line\":{\"colorbar\":{\"outlinewidth\":0,\"ticks\":\"\"}},\"marker\":{\"colorbar\":{\"outlinewidth\":0,\"ticks\":\"\"}},\"type\":\"scatter3d\"}],\"scattercarpet\":[{\"marker\":{\"colorbar\":{\"outlinewidth\":0,\"ticks\":\"\"}},\"type\":\"scattercarpet\"}],\"scattergeo\":[{\"marker\":{\"colorbar\":{\"outlinewidth\":0,\"ticks\":\"\"}},\"type\":\"scattergeo\"}],\"scattergl\":[{\"marker\":{\"colorbar\":{\"outlinewidth\":0,\"ticks\":\"\"}},\"type\":\"scattergl\"}],\"scattermapbox\":[{\"marker\":{\"colorbar\":{\"outlinewidth\":0,\"ticks\":\"\"}},\"type\":\"scattermapbox\"}],\"scatterpolar\":[{\"marker\":{\"colorbar\":{\"outlinewidth\":0,\"ticks\":\"\"}},\"type\":\"scatterpolar\"}],\"scatterpolargl\":[{\"marker\":{\"colorbar\":{\"outlinewidth\":0,\"ticks\":\"\"}},\"type\":\"scatterpolargl\"}],\"scatterternary\":[{\"marker\":{\"colorbar\":{\"outlinewidth\":0,\"ticks\":\"\"}},\"type\":\"scatterternary\"}],\"surface\":[{\"colorbar\":{\"outlinewidth\":0,\"ticks\":\"\"},\"colorscale\":[[0.0,\"#0d0887\"],[0.1111111111111111,\"#46039f\"],[0.2222222222222222,\"#7201a8\"],[0.3333333333333333,\"#9c179e\"],[0.4444444444444444,\"#bd3786\"],[0.5555555555555556,\"#d8576b\"],[0.6666666666666666,\"#ed7953\"],[0.7777777777777778,\"#fb9f3a\"],[0.8888888888888888,\"#fdca26\"],[1.0,\"#f0f921\"]],\"type\":\"surface\"}],\"table\":[{\"cells\":{\"fill\":{\"color\":\"#EBF0F8\"},\"line\":{\"color\":\"white\"}},\"header\":{\"fill\":{\"color\":\"#C8D4E3\"},\"line\":{\"color\":\"white\"}},\"type\":\"table\"}]},\"layout\":{\"annotationdefaults\":{\"arrowcolor\":\"#2a3f5f\",\"arrowhead\":0,\"arrowwidth\":1},\"autotypenumbers\":\"strict\",\"coloraxis\":{\"colorbar\":{\"outlinewidth\":0,\"ticks\":\"\"}},\"colorscale\":{\"diverging\":[[0,\"#8e0152\"],[0.1,\"#c51b7d\"],[0.2,\"#de77ae\"],[0.3,\"#f1b6da\"],[0.4,\"#fde0ef\"],[0.5,\"#f7f7f7\"],[0.6,\"#e6f5d0\"],[0.7,\"#b8e186\"],[0.8,\"#7fbc41\"],[0.9,\"#4d9221\"],[1,\"#276419\"]],\"sequential\":[[0.0,\"#0d0887\"],[0.1111111111111111,\"#46039f\"],[0.2222222222222222,\"#7201a8\"],[0.3333333333333333,\"#9c179e\"],[0.4444444444444444,\"#bd3786\"],[0.5555555555555556,\"#d8576b\"],[0.6666666666666666,\"#ed7953\"],[0.7777777777777778,\"#fb9f3a\"],[0.8888888888888888,\"#fdca26\"],[1.0,\"#f0f921\"]],\"sequentialminus\":[[0.0,\"#0d0887\"],[0.1111111111111111,\"#46039f\"],[0.2222222222222222,\"#7201a8\"],[0.3333333333333333,\"#9c179e\"],[0.4444444444444444,\"#bd3786\"],[0.5555555555555556,\"#d8576b\"],[0.6666666666666666,\"#ed7953\"],[0.7777777777777778,\"#fb9f3a\"],[0.8888888888888888,\"#fdca26\"],[1.0,\"#f0f921\"]]},\"colorway\":[\"#636efa\",\"#EF553B\",\"#00cc96\",\"#ab63fa\",\"#FFA15A\",\"#19d3f3\",\"#FF6692\",\"#B6E880\",\"#FF97FF\",\"#FECB52\"],\"font\":{\"color\":\"#2a3f5f\"},\"geo\":{\"bgcolor\":\"white\",\"lakecolor\":\"white\",\"landcolor\":\"#E5ECF6\",\"showlakes\":true,\"showland\":true,\"subunitcolor\":\"white\"},\"hoverlabel\":{\"align\":\"left\"},\"hovermode\":\"closest\",\"mapbox\":{\"style\":\"light\"},\"paper_bgcolor\":\"white\",\"plot_bgcolor\":\"#E5ECF6\",\"polar\":{\"angularaxis\":{\"gridcolor\":\"white\",\"linecolor\":\"white\",\"ticks\":\"\"},\"bgcolor\":\"#E5ECF6\",\"radialaxis\":{\"gridcolor\":\"white\",\"linecolor\":\"white\",\"ticks\":\"\"}},\"scene\":{\"xaxis\":{\"backgroundcolor\":\"#E5ECF6\",\"gridcolor\":\"white\",\"gridwidth\":2,\"linecolor\":\"white\",\"showbackground\":true,\"ticks\":\"\",\"zerolinecolor\":\"white\"},\"yaxis\":{\"backgroundcolor\":\"#E5ECF6\",\"gridcolor\":\"white\",\"gridwidth\":2,\"linecolor\":\"white\",\"showbackground\":true,\"ticks\":\"\",\"zerolinecolor\":\"white\"},\"zaxis\":{\"backgroundcolor\":\"#E5ECF6\",\"gridcolor\":\"white\",\"gridwidth\":2,\"linecolor\":\"white\",\"showbackground\":true,\"ticks\":\"\",\"zerolinecolor\":\"white\"}},\"shapedefaults\":{\"line\":{\"color\":\"#2a3f5f\"}},\"ternary\":{\"aaxis\":{\"gridcolor\":\"white\",\"linecolor\":\"white\",\"ticks\":\"\"},\"baxis\":{\"gridcolor\":\"white\",\"linecolor\":\"white\",\"ticks\":\"\"},\"bgcolor\":\"#E5ECF6\",\"caxis\":{\"gridcolor\":\"white\",\"linecolor\":\"white\",\"ticks\":\"\"}},\"title\":{\"x\":0.05},\"xaxis\":{\"automargin\":true,\"gridcolor\":\"white\",\"linecolor\":\"white\",\"ticks\":\"\",\"title\":{\"standoff\":15},\"zerolinecolor\":\"white\",\"zerolinewidth\":2},\"yaxis\":{\"automargin\":true,\"gridcolor\":\"white\",\"linecolor\":\"white\",\"ticks\":\"\",\"title\":{\"standoff\":15},\"zerolinecolor\":\"white\",\"zerolinewidth\":2}}},\"xaxis\":{\"anchor\":\"y\",\"domain\":[0.0,1.0],\"title\":{\"text\":\"Ex-Showroom_Price\"}},\"yaxis\":{\"anchor\":\"x\",\"domain\":[0.0,1.0],\"title\":{\"text\":\"Cylinders\"}}},                        {\"responsive\": true}                    ).then(function(){\n",
       "                            \n",
       "var gd = document.getElementById('fb3b7d39-3984-417a-a4e9-7b00259b4de4');\n",
       "var x = new MutationObserver(function (mutations, observer) {{\n",
       "        var display = window.getComputedStyle(gd).display;\n",
       "        if (!display || display === 'none') {{\n",
       "            console.log([gd, 'removed!']);\n",
       "            Plotly.purge(gd);\n",
       "            observer.disconnect();\n",
       "        }}\n",
       "}});\n",
       "\n",
       "// Listen for the removal of the full notebook cells\n",
       "var notebookContainer = gd.closest('#notebook-container');\n",
       "if (notebookContainer) {{\n",
       "    x.observe(notebookContainer, {childList: true});\n",
       "}}\n",
       "\n",
       "// Listen for the clearing of the current output cell\n",
       "var outputEl = gd.closest('.output');\n",
       "if (outputEl) {{\n",
       "    x.observe(outputEl, {childList: true});\n",
       "}}\n",
       "\n",
       "                        })                };                });            </script>        </div>"
      ]
     },
     "metadata": {},
     "output_type": "display_data"
    }
   ],
   "source": [
    "import plotly.express as px\n",
    "\n",
    "fig = px.bar(Diesel, x='Ex-Showroom_Price', y='Cylinders')\n",
    "fig.show()"
   ]
  },
  {
   "cell_type": "code",
   "execution_count": 203,
   "id": "7f676bfd",
   "metadata": {},
   "outputs": [
    {
     "data": {
      "text/plain": [
       "18 km/litre       23\n",
       "16 km/litre       21\n",
       "12 km/litre       19\n",
       "14 km/litre       13\n",
       "20 km/litre       13\n",
       "                  ..\n",
       "5.3 km/litre       1\n",
       "21.19 km/litre     1\n",
       "8.69 km/litre      1\n",
       "8.1 km/litre       1\n",
       "5.9 km/litre       1\n",
       "Name: City_Mileage, Length: 88, dtype: int64"
      ]
     },
     "execution_count": 203,
     "metadata": {},
     "output_type": "execute_result"
    }
   ],
   "source": [
    "Diesel_Mileage_City=Diesel.City_Mileage.value_counts()\n",
    "\n",
    "Diesel_Mileage_City"
   ]
  },
  {
   "cell_type": "code",
   "execution_count": 204,
   "id": "c9feabc2",
   "metadata": {},
   "outputs": [
    {
     "name": "stderr",
     "output_type": "stream",
     "text": [
      "C:\\Users\\lance\\anaconda3\\lib\\site-packages\\seaborn\\_decorators.py:36: FutureWarning:\n",
      "\n",
      "Pass the following variables as keyword args: x, y. From version 0.12, the only valid positional argument will be `data`, and passing other arguments without an explicit keyword will result in an error or misinterpretation.\n",
      "\n"
     ]
    },
    {
     "data": {
      "text/plain": [
       "<AxesSubplot:>"
      ]
     },
     "execution_count": 204,
     "metadata": {},
     "output_type": "execute_result"
    },
    {
     "data": {
      "image/png": "[encoded data removed]",
      "text/plain": [
       "<Figure size 432x288 with 1 Axes>"
      ]
     },
     "metadata": {
      "needs_background": "light"
     },
     "output_type": "display_data"
    }
   ],
   "source": [
    "sns.barplot(Diesel_Mileage_City.index,Diesel_Mileage_City.values)"
   ]
  },
  {
   "cell_type": "code",
   "execution_count": 205,
   "id": "64c19c4c",
   "metadata": {},
   "outputs": [
    {
     "data": {
      "application/vnd.plotly.v1+json": {
       "config": {
        "plotlyServerURL": "https://plot.ly"
       },
       "data": [
        {
         "alignmentgroup": "True",
         "hovertemplate": "Ex-Showroom_Price=%{x}<br>City_Mileage=%{y}<extra></extra>",
         "legendgroup": "",
         "marker": {
          "color": "#636efa",
          "pattern": {
           "shape": ""
          }
         },
         "name": "",
         "offsetgroup": "",
         "orientation": "v",
         "showlegend": false,
         "textposition": "auto",
         "type": "bar",
         "x": [
          "Rs. 5,68,623",
          "Rs. 6,03,000",
          "Rs. 7,39,000",
          "Rs. 7,39,000",
          "Rs. 6,47,800",
          "Rs. 7,45,000",
          "Rs. 7,04,000",
          "Rs. 7,20,700",
          "Rs. 7,56,700",
          "Rs. 6,86,000",
          "Rs. 7,77,700",
          "Rs. 7,87,980",
          "Rs. 6,61,111",
          "Rs. 6,93,798",
          "Rs. 7,19,661",
          "Rs. 6,39,616",
          "Rs. 6,20,297",
          "Rs. 6,53,523",
          "Rs. 6,97,803",
          "Rs. 7,70,803",
          "Rs. 8,76,103",
          "Rs. 9,34,003",
          "Rs. 8,46,103",
          "Rs. 7,73,800",
          "Rs. 8,23,700",
          "Rs. 9,22,700",
          "Rs. 9,03,800",
          "Rs. 7,34,500",
          "Rs. 8,51,500",
          "Rs. 9,31,500",
          "Rs. 9,88,500",
          "Rs. 6,66,622",
          "Rs. 7,57,622",
          "Rs. 8,63,122",
          "Rs. 8,16,622",
          "Rs. 9,06,122",
          "Rs. 8,04,622",
          "Rs. 9,52,622",
          "Rs. 6,76,400",
          "Rs. 7,90,900",
          "Rs. 8,36,400",
          "Rs. 7,45,900",
          "Rs. 7,11,500",
          "Rs. 8,10,500",
          "Rs. 9,99,900",
          "Rs. 9,25,500",
          "Rs. 9,99,900",
          "Rs. 6,99,400",
          "Rs. 7,37,400",
          "Rs. 7,77,400",
          "Rs. 8,17,400",
          "Rs. 8,62,400",
          "Rs. 8,42,400",
          "Rs. 7,34,700",
          "Rs. 8,28,600",
          "Rs. 8,88,400",
          "Rs. 7,99,600",
          "Rs. 9,13,400",
          "Rs. 7,97,500",
          "Rs. 7,66,000",
          "Rs. 8,16,000",
          "Rs. 6,57,628",
          "Rs. 6,85,729",
          "Rs. 7,50,428",
          "Rs. 6,77,618",
          "Rs. 7,39,074",
          "Rs. 8,10,211",
          "Rs. 7,96,132",
          "Rs. 7,11,801",
          "Rs. 8,76,341",
          "Rs. 8,16,500",
          "Rs. 8,96,500",
          "Rs. 9,40,500",
          "Rs. 8,86,398",
          "Rs. 8,51,302",
          "Rs. 7,85,656",
          "Rs. 7,49,192",
          "Rs. 8,59,497",
          "Rs. 8,19,117",
          "Rs. 7,62,742",
          "Rs. 8,14,742",
          "Rs. 8,92,243",
          "Rs. 9,87,743",
          "Rs. 10,03,552",
          "Rs. 10,37,742",
          "Rs. 8,64,742",
          "Rs. 9,42,243",
          "Rs. 10,59,742",
          "Rs. 9,93,393",
          "Rs. 8,41,000",
          "Rs. 9,21,000",
          "Rs. 9,99,900",
          "Rs. 10,90,000",
          "Rs. 11,45,000",
          "Rs. 10,90,000",
          "Rs. 9,29,990",
          "Rs. 9,99,990",
          "Rs. 11,19,990",
          "Rs. 12,09,990",
          "Rs. 12,49,990",
          "Rs. 12,49,990",
          "Rs. 11,72,544",
          "Rs. 13,01,881",
          "Rs. 13,28,545",
          "Rs. 14,07,871",
          "Rs. 9,42,867",
          "Rs. 9,99,900",
          "Rs. 8,69,131",
          "Rs. 9,50,131",
          "Rs. 10,95,129",
          "Rs. 12,14,130",
          "Rs. 11,49,800",
          "Rs. 12,69,131",
          "Rs. 9,99,000",
          "Rs. 8,63,299",
          "Rs. 9,64,199",
          "Rs. 12,11,599",
          "Rs. 12,11,599",
          "Rs. 10,53,899",
          "Rs. 11,30,099",
          "Rs. 9,64,199",
          "Rs. 9,58,500",
          "Rs. 9,99,900",
          "Rs. 12,10,500",
          "Rs. 13,36,500",
          "Rs. 13,17,500",
          "Rs. 14,49,500",
          "Rs. 11,87,900",
          "Rs. 12,73,900",
          "Rs. 13,82,900",
          "Rs. 9,59,860",
          "Rs. 9,99,148",
          "Rs. 9,74,860",
          "Rs. 9,99,000",
          "Rs. 10,75,000",
          "Rs. 12,99,000",
          "Rs. 13,30,000",
          "Rs. 9,75,000",
          "Rs. 12,25,000",
          "Rs. 9,92,748",
          "Rs. 10,29,650",
          "Rs. 11,42,157",
          "Rs. 9,99,900",
          "Rs. 11,56,471",
          "Rs. 13,08,592",
          "Rs. 14,68,440",
          "Rs. 9,99,900",
          "Rs. 11,64,569",
          "Rs. 13,16,690",
          "Rs. 14,76,538",
          "Rs. 9,99,994",
          "Rs. 12,36,258",
          "Rs. 11,23,158",
          "Rs. 12,20,030",
          "Rs. 13,30,006",
          "Rs. 13,60,668",
          "Rs. 15,40,081",
          "Rs. 16,63,054",
          "Rs. 14,23,710",
          "Rs. 14,25,599",
          "Rs. 12,99,599",
          "Rs. 14,18,313",
          "Rs. 15,39,488",
          "Rs. 15,88,943",
          "Rs. 17,10,118",
          "Rs. 17,16,319",
          "Rs. 18,37,586",
          "Rs. 17,41,319",
          "Rs. 18,62,586",
          "Rs. 18,52,488",
          "Rs. 19,73,664",
          "Rs. 12,30,924",
          "Rs. 16,39,374",
          "Rs. 19,29,417",
          "Rs. 19,12,593",
          "Rs. 17,96,458",
          "Rs. 13,71,864",
          "Rs. 15,31,377",
          "Rs. 16,55,587",
          "Rs. 16,05,000",
          "Rs. 19,27,000",
          "Rs. 16,10,000",
          "Rs. 19,32,000",
          "Rs. 21,13,000",
          "Rs. 20,97,000",
          "Rs. 15,92,000",
          "Rs. 15,87,000",
          "Rs. 16,61,000",
          "Rs. 18,03,000",
          "Rs. 18,88,000",
          "Rs. 19,73,000",
          "Rs. 20,22,000",
          "Rs. 21,51,000",
          "Rs. 21,99,000",
          "Rs. 21,33,000",
          "Rs. 23,11,000",
          "Rs. 16,99,000",
          "Rs. 20,36,300",
          "Rs. 22,14,000",
          "Rs. 24,99,000",
          "Rs. 21,96,000",
          "Rs. 19,36,000",
          "Rs. 17,71,000",
          "Rs. 20,54,900",
          "Rs. 22,34,900",
          "Rs. 24,95,000",
          "Rs. 25,15,000",
          "Rs. 28,95,000",
          "Rs. 29,95,000",
          "Rs. 33,95,000",
          "Rs. 33,49,599",
          "Rs. 30,29,599",
          "Rs. 28,49,599",
          "Rs. 27,69,000",
          "Rs. 31,91,000",
          "Rs. 28,86,871",
          "Rs. 32,05,000",
          "Rs. 30,19,000",
          "Rs. 32,16,000",
          "Rs. 33,95,000",
          "Rs. 34,20,000",
          "Rs. 29,03,750",
          "Rs. 28,35,500",
          "Rs. 29,53,240",
          "Rs. 29,92,800",
          "Rs. 29,52,500",
          "Rs. 34,70,000",
          "Rs. 32,33,000",
          "Rs. 29,20,000",
          "Rs. 32,83,000",
          "Rs. 29,90,000",
          "Rs. 32,33,000",
          "Rs. 35,64,000",
          "Rs. 38,64,000",
          "Rs. 33,99,000",
          "Rs. 37,40,000",
          "Rs. 35,20,000",
          "Rs. 39,30,000",
          "Rs. 45,70,000",
          "Rs. 42,40,000",
          "Rs. 38,50,500",
          "Rs. 40,20,000",
          "Rs. 46,70,000",
          "Rs. 49,74,750",
          "Rs. 41,40,000",
          "Rs. 46,90,000",
          "Rs. 44,26,500",
          "Rs. 50,21,200",
          "Rs. 56,21,200",
          "Rs. 57,75,000",
          "Rs. 54,94,000",
          "Rs. 59,85,000",
          "Rs. 72,85,332",
          "Rs. 59,64,321",
          "Rs. 58,50,000",
          "Rs. 62,50,000",
          "Rs. 59,30,000",
          "Rs. 66,80,000",
          "Rs. 60,61,200",
          "Rs. 64,63,780",
          "Rs. 68,90,000",
          "Rs. 74,50,000",
          "Rs. 64,40,000",
          "Rs. 65,31,000",
          "Rs. 68,62,560",
          "Rs. 69,48,200",
          "Rs. 72,46,802",
          "Rs. 73,70,000",
          "Rs. 1,25,00,000",
          "Rs. 75,00,000",
          "Rs. 1,02,05,494",
          "Rs. 96,89,321",
          "Rs. 88,77,094",
          "Rs. 1,08,61,088",
          "Rs. 87,90,000",
          "Rs. 80,90,000",
          "Rs. 84,91,500",
          "Rs. 84,70,000",
          "Rs. 1,03,73,732",
          "Rs. 1,19,13,021",
          "Rs. 1,49,08,985",
          "Rs. 97,38,609",
          "Rs. 1,07,25,145",
          "Rs. 1,11,29,599",
          "Rs. 1,02,50,000",
          "Rs. 1,33,87,856",
          "Rs. 1,38,81,858",
          "Rs. 1,42,47,814",
          "Rs. 1,46,99,000",
          "Rs. 1,81,85,267",
          "Rs. 1,95,27,130",
          "Rs. 2,51,74,051",
          "Rs. 3,92,94,685",
          "Rs. 2,36,75,691",
          "Rs. 2,32,90,000",
          "Rs. 5,51,530",
          "Rs. 5,68,930",
          "Rs. 5,90,798",
          "Rs. 6,19,243",
          "Rs. 6,67,273",
          "Rs. 7,54,548",
          "Rs. 7,87,304",
          "Rs. 7,94,800",
          "Rs. 5,99,000",
          "Rs. 6,98,000",
          "Rs. 7,45,000",
          "Rs. 7,57,000",
          "Rs. 8,04,000",
          "Rs. 8,38,000",
          "Rs. 8,84,000",
          "Rs. 6,99,000",
          "Rs. 7,75,000",
          "Rs. 8,44,000",
          "Rs. 9,04,000",
          "Rs. 9,29,000",
          "Rs. 6,42,478",
          "Rs. 5,89,678",
          "Rs. 6,89,761",
          "Rs. 7,88,177",
          "Rs. 26,50,777",
          "Rs. 6,28,072",
          "Rs. 9,00,967",
          "Rs. 14,65,148",
          "Rs. 5,52,890",
          "Rs. 9,27,689",
          "Rs. 8,35,275",
          "Rs. 7,02,946",
          "Rs. 7,67,317",
          "Rs. 7,93,898",
          "Rs. 8,55,362",
          "Rs. 8,36,320",
          "Rs. 9,89,000",
          "Rs. 7,88,797",
          "Rs. 7,05,000",
          "Rs. 8,65,000",
          "Rs. 9,25,000",
          "Rs. 7,85,000",
          "Rs. 8,93,000",
          "Rs. 8,45,000",
          "Rs. 9,06,000",
          "Rs. 7,80,000",
          "Rs. 8,50,000",
          "Rs. 9,83,000",
          "Rs. 9,98,000",
          "Rs. 10,89,000",
          "Rs. 8,45,000",
          "Rs. 9,20,000",
          "Rs. 10,20,000",
          "Rs. 11,00,000",
          "Rs. 11,20,000",
          "Rs. 11,90,000",
          "Rs. 12,10,000",
          "Rs. 9,80,000",
          "Rs. 11,60,000",
          "Rs. 11,80,000",
          "Rs. 12,50,000",
          "Rs. 12,70,000",
          "Rs. 8,62,175",
          "Rs. 9,32,025",
          "Rs. 9,91,434",
          "Rs. 9,86,689",
          "Rs. 10,69,689",
          "Rs. 11,20,689",
          "Rs. 10,35,000",
          "Rs. 9,25,000",
          "Rs. 9,16,050",
          "Rs. 10,48,050",
          "Rs. 9,95,000",
          "Rs. 8,54,328",
          "Rs. 9,14,328",
          "Rs. 9,76,592",
          "Rs. 9,99,614",
          "Rs. 10,31,943",
          "Rs. 10,22,930",
          "Rs. 10,55,259",
          "Rs. 8,80,689",
          "Rs. 9,92,689",
          "Rs. 10,43,689",
          "Rs. 11,43,689",
          "Rs. 10,49,999",
          "Rs. 12,99,999",
          "Rs. 9,63,037",
          "Rs. 10,04,487",
          "Rs. 10,31,951",
          "Rs. 10,66,139",
          "Rs. 12,28,335",
          "Rs. 10,34,000",
          "Rs. 11,54,000",
          "Rs. 12,54,000",
          "Rs. 13,54,000",
          "Rs. 15,34,000",
          "Rs. 16,34,000",
          "Rs. 14,14,000",
          "Rs. 9,99,900",
          "Rs. 14,64,900",
          "Rs. 12,35,700",
          "Rs. 14,19,900",
          "Rs. 12,35,700",
          "Rs. 11,09,005",
          "Rs. 13,35,158",
          "Rs. 14,79,574",
          "Rs. 16,43,829",
          "Rs. 13,48,000",
          "Rs. 14,48,000",
          "Rs. 15,88,000",
          "Rs. 17,28,000",
          "Rs. 20,79,717",
          "Rs. 23,64,354",
          "Rs. 26,97,417",
          "Rs. 24,23,720",
          "Rs. 30,21,500",
          "Rs. 33,21,500",
          "Rs. 25,99,000",
          "Rs. 28,99,000",
          "Rs. 27,34,834",
          "Rs. 29,31,534",
          "Rs. 28,14,500",
          "Rs. 31,53,500",
          "Rs. 31,49,599",
          "Rs. 30,89,851",
          "Rs. 33,03,282",
          "Rs. 32,99,599",
          "Rs. 36,78,599",
          "Rs. 32,99,599",
          "Rs. 36,77,200",
          "Rs. 39,92,200",
          "Rs. 43,61,000",
          "Rs. 61,38,811",
          "Rs. 55,06,622",
          "Rs. 49,77,080",
          "Rs. 57,06,000",
          "Rs. 60,89,000",
          "Rs. 59,90,000",
          "Rs. 72,21,500",
          "Rs. 80,21,500",
          "Rs. 81,11,500",
          "Rs. 96,30,000",
          "Rs. 1,45,12,054",
          "Rs. 1,48,63,774",
          "Rs. 1,53,83,399",
          "Rs. 1,79,00,000",
          "Rs. 5,75,947",
          "Rs. 6,23,000",
          "Rs. 6,99,900",
          "Rs. 7,64,900",
          "Rs. 7,46,621",
          "Rs. 8,68,221",
          "Rs. 6,68,611",
          "Rs. 8,07,921",
          "Rs. 7,51,203",
          "Rs. 8,08,558",
          "Rs. 9,12,534",
          "Rs. 9,93,997",
          "Rs. 8,60,997",
          "Rs. 8,77,285",
          "Rs. 9,42,263",
          "Rs. 9,17,055",
          "Rs. 8,60,720",
          "Rs. 8,15,883",
          "Rs. 7,73,678",
          "Rs. 11,02,689",
          "Rs. 9,19,689",
          "Rs. 9,80,689",
          "Rs. 10,62,689",
          "Rs. 11,38,189",
          "Rs. 9,97,689",
          "Rs. 11,09,189",
          "Rs. 10,06,139",
          "Rs. 11,29,599",
          "Rs. 12,49,599",
          "Rs. 13,99,599",
          "Rs. 12,73,599",
          "Rs. 11,58,599",
          "Rs. 12,73,599",
          "Rs. 9,99,990",
          "Rs. 11,97,919",
          "Rs. 13,66,797",
          "Rs. 15,43,564",
          "Rs. 15,27,395",
          "Rs. 14,21,208",
          "Rs. 13,36,033",
          "Rs. 15,72,064",
          "Rs. 11,07,167",
          "Rs. 14,14,247",
          "Rs. 13,45,363",
          "Rs. 14,71,368",
          "Rs. 15,91,368",
          "Rs. 17,21,368",
          "Rs. 17,32,231",
          "Rs. 17,30,755",
          "Rs. 16,54,783",
          "Rs. 18,06,813",
          "Rs. 19,99,000",
          "Rs. 26,80,000",
          "Rs. 27,60,000",
          "Rs. 30,67,001",
          "Rs. 32,77,001",
          "Rs. 31,72,000",
          "Rs. 36,99,000",
          "Rs. 58,90,000",
          "Rs. 78,82,867",
          "Rs. 89,31,819",
          "Rs. 88,20,000",
          "Rs. 86,90,000",
          "Rs. 1,22,90,000",
          "Rs. 1,32,00,000",
          "Rs. 1,35,10,000",
          "Rs. 1,50,00,000",
          "Rs. 2,32,90,000",
          "Rs. 6,75,090",
          "Rs. 7,90,350",
          "Rs. 8,04,450",
          "Rs. 7,42,033",
          "Rs. 7,42,033",
          "Rs. 7,42,033",
          "Rs. 7,42,033",
          "Rs. 7,42,033",
          "Rs. 7,43,504",
          "Rs. 8,12,964",
          "Rs. 7,97,802",
          "Rs. 9,05,642",
          "Rs. 9,84,818",
          "Rs. 8,32,415",
          "Rs. 9,72,359",
          "Rs. 10,48,603",
          "Rs. 11,09,000",
          "Rs. 12,51,000",
          "Rs. 13,69,000",
          "Rs. 14,65,000",
          "Rs. 14,65,000",
          "Rs. 9,89,000",
          "Rs. 12,05,000",
          "Rs. 30,21,200",
          "Rs. 32,21,200",
          "Rs. 39,90,000",
          "Rs. 43,90,000",
          "Rs. 59,30,000",
          "Rs. 56,00,000",
          "Rs. 68,40,000",
          "Rs. 81,90,000",
          "Rs. 1,10,00,000",
          "Rs. 1,35,58,438",
          "Rs. 6,89,993",
          "Rs. 17,99,599",
          "Rs. 20,79,599",
          "Rs. 22,99,599",
          "Rs. 23,59,599",
          "Rs. 16,99,000",
          "Rs. 21,99,599",
          "Rs. 60,60,000",
          "Rs. 65,90,000",
          "Rs. 6,31,292",
          "Rs. 6,92,655",
          "Rs. 7,47,774",
          "Rs. 11,11,000",
          "Rs. 11,91,000",
          "Rs. 13,02,000",
          "Rs. 14,21,000",
          "Rs. 44,98,000",
          "Rs. 46,33,000",
          "Rs. 7,48,370",
          "Rs. 7,72,617",
          "Rs. 8,45,154",
          "Rs. 73,30,000",
          "Rs. 82,90,000",
          "Rs. 27,70,150",
          "Rs. 30,70,150"
         ],
         "xaxis": "x",
         "y": [
          "12 km/litre",
          "12 km/litre",
          "12 km/litre",
          "20 km/litre",
          "20.3 km/litre",
          "20.3 km/litre",
          "20.3 km/litre",
          "20.3 km/litre",
          "20.3 km/litre",
          "20.3 km/litre",
          "20.3 km/litre",
          "22,95 km/litre",
          "22,95 km/litre",
          "22,95 km/litre",
          "22,95 km/litre",
          null,
          null,
          "14.6 km/litre",
          "18.4 km/litre",
          "18.4 km/litre",
          "18.4 km/litre",
          "18.4 km/litre",
          "18.4 km/litre",
          null,
          null,
          null,
          null,
          "19 km/litre",
          "19 km/litre",
          "19 km/litre",
          "19 km/litre",
          "28,4 km/litre",
          "28.4 km/litre",
          "28.4 km/litre",
          "28,4 km/litre",
          "28,4 km/litre",
          "28.4 km/litre",
          "28.4 km/litre",
          null,
          null,
          null,
          null,
          "15.3 km/litre",
          "15.3 km/litre",
          "15.3 km/litre",
          "15.3 km/litre",
          "15.3 km/litre",
          null,
          null,
          null,
          null,
          null,
          null,
          "20.32 km/litre",
          "20.3 km/litre",
          "20.32 km/litre",
          "20.3 km/litre",
          "20.32 km/litre",
          "18.1 km/litre",
          "18.1 km/litre",
          "18.1 km/litre",
          "18 km/litre",
          "18 km/litre",
          "18 km/litre",
          "20 km/litre",
          "20 km/litre",
          "20 km/litre",
          "11.2 km/litre",
          "11.2 km/litre",
          "11.2 km/litre",
          "12 km/litre",
          "12 km/litre",
          "12 km/litre",
          "12.4 km/litre",
          "12.4 km/litre",
          "12.4 km/litre",
          "12.4 km/litre",
          "9.4 km/litre",
          "12.4 km/litre",
          "20 km/litre",
          "20 km/litre",
          "20 km/litre",
          "20 km/litre",
          "20 km/litre",
          "20 km/litre",
          "20 km/litre",
          "20 km/litre",
          "20 km/litre",
          "21.19 km/litre",
          null,
          null,
          null,
          null,
          null,
          null,
          "16 km/litre",
          "16 km/litre",
          "16 km/litre",
          "16 km/litre",
          "16 km/litre",
          "16 km/litre",
          "19.9 km/litre",
          "19.9 km/litre",
          "14 km/litre",
          "14 km/litre",
          null,
          null,
          null,
          null,
          null,
          null,
          null,
          null,
          null,
          "21.04 km/litre",
          "21.04 km/litre",
          "21.04 km/litre",
          "21.04 km/litre",
          "21.04 km/litre",
          "21.04 km/litre",
          "21.04 km/litre",
          null,
          null,
          null,
          null,
          null,
          "19 km/litre",
          "16.2 km/litre",
          "16.2 km/litre",
          "16.2 km/litre",
          null,
          null,
          null,
          "14 km/litre",
          "14 km/litre",
          null,
          null,
          "14 km/litre",
          "14 km/litre",
          "18.49 km/litre",
          "18.49 km/litre",
          "18.49 km/litre",
          null,
          null,
          null,
          null,
          null,
          null,
          null,
          null,
          "11.5 km/litre",
          "8.1 km/litre",
          "9.4 km/litre",
          "11.5 km/litre",
          "11.5 km/litre",
          "11.5 km/litre",
          "11.5 km/litre",
          "11.5 km/litre",
          "11.5 km/litre",
          "18 km/litre",
          "18 km/litre",
          "16 km/litre",
          "16 km/litre",
          "16 km/litre",
          "16 km/litre",
          "16 km/litre",
          "16 km/litre",
          "16 km/litre",
          "16 km/litre",
          "16 km/litre",
          "16 km/litre",
          "16 km/litre",
          "14 km/litre",
          "14 km/litre",
          "14 km/litre",
          "14 km/litre",
          "14 km/litre",
          "14 km/litre",
          "14 km/litre",
          "12 km/litre",
          "12 km/litre",
          "12 km/litre",
          "12 km/litre",
          "12 km/litre",
          "12 km/litre",
          "12 km/litre",
          "12 km/litre",
          null,
          null,
          null,
          null,
          null,
          null,
          null,
          null,
          null,
          null,
          null,
          null,
          null,
          null,
          "18.2 km/litre",
          "18.4 km/litre",
          null,
          null,
          null,
          null,
          null,
          null,
          null,
          "15.1 km/litre",
          "15.1 km/litre",
          "15.1 km/litre",
          "16,8 km/litre",
          "16,8 km/litre",
          "12.03 km/litre",
          "12.55 km/litre",
          "12,55 km/litre",
          "12,55 km/litre",
          "12,55 km/litre",
          "12.55 km/litre",
          "6.5 km/litre",
          "6.5 km/litre",
          "6.5 km/litre",
          "6.5 km/litre",
          "6.5 km/litre",
          "7.7 km/litre",
          "9.3 km/litre",
          "9.3 km/litre",
          "13.05 km/litre",
          null,
          "13.4 km/litre",
          "13.4 km/litre",
          "13.4 km/litre",
          null,
          null,
          "18 km/litre",
          "18 km/litre",
          "18 km/litre",
          null,
          null,
          null,
          null,
          null,
          null,
          null,
          "15.6 km/litre",
          "12 km/litre",
          "12 km/litre",
          null,
          null,
          null,
          "7.45 km/litre",
          null,
          null,
          null,
          "8.4 km/litre",
          "13.1 km/litre",
          null,
          "21.27 km/litre",
          null,
          null,
          null,
          "13.2 km/litre",
          "8.25 km/litre",
          null,
          "15.68 km/litre",
          null,
          null,
          null,
          null,
          null,
          null,
          null,
          "13.2 km/litre",
          "13.2 km/litre",
          "13.2 km/litre",
          null,
          null,
          null,
          "5.9 km/litre",
          "9.5 km/litre",
          "9.5 km/litre",
          "9.5 km/litre",
          null,
          null,
          null,
          null,
          "5.3 km/litre",
          null,
          null,
          null,
          "8.69 km/litre",
          null,
          "18 km/litre",
          "24 km/litre",
          "24 km/litre",
          "22.25 km/litre",
          "22.25 km/litre",
          "22.25 km/litre",
          "22.25 km/litre",
          "22.25 km/litre",
          "22.25 km/litre",
          null,
          null,
          null,
          null,
          null,
          null,
          null,
          null,
          null,
          null,
          null,
          null,
          "8.6 km/litre",
          "8.6 km/litre",
          "8.6 km/litre",
          "8.6 km/litre",
          "8.6 km/litre",
          "8.6 km/litre",
          "8.6 km/litre",
          "8.6 km/litre",
          "8.6 km/litre",
          "8.6 km/litre",
          "8.6 km/litre",
          "19.2 km/litre",
          "19.2 km/litre",
          "19.2 km/litre",
          "19.2 km/litre",
          "19.2 km/litre",
          "19.2 km/litre",
          "19.2 km/litre",
          null,
          null,
          null,
          null,
          null,
          null,
          null,
          null,
          null,
          null,
          null,
          null,
          null,
          null,
          null,
          null,
          null,
          null,
          null,
          null,
          null,
          null,
          null,
          null,
          "17.2 km/litre",
          "17.2 km/litre",
          "17.2 km/litre",
          null,
          null,
          null,
          "25.5 km/litre",
          "25.5 km/litre",
          "25.5 km/litre",
          "25.5 km/litre",
          "25.5 km/litre",
          "18.49 km/litre",
          "18.49 km/litre",
          "18.49 km/litre",
          "18.49 km/litre",
          "18.49 km/litre",
          "18.49 km/litre",
          "18.49 km/litre",
          "23.65 km/litre",
          "23.65 km/litre",
          "23.65 km/litre",
          "23.65 km/litre",
          null,
          null,
          "10.7 km/litre",
          "10.3 km/litre",
          "11.4 km/litre",
          "11.4 km/litre",
          "11.4 km/litre",
          null,
          null,
          null,
          null,
          null,
          null,
          null,
          "17.1 km/litre",
          "16 km/litre",
          "17.1 km/litre",
          "16 km/litre",
          "17.1 km/litre",
          "10.8 km/litre",
          "10.8 km/litre",
          "10.8 km/litre",
          "13,93 km/litre",
          null,
          null,
          null,
          null,
          "16,38 km/litre",
          "16,38 km/litre",
          "16.38 km/litre",
          "16.38 km/litre",
          null,
          null,
          null,
          null,
          "13.8 km/litre",
          "13.8 km/litre",
          null,
          null,
          "15.1 km/litre",
          "11.5 km/litre",
          "11.5 km/litre",
          "15.1 km/litre",
          "15.1 km/litre",
          "15.1 km/litre",
          "12 km/litre",
          "12 km/litre",
          "12 km/litre",
          "5.7 km/litre",
          "5.7 km/litre",
          "5.7 km/litre",
          null,
          null,
          "11.7 km/litre",
          "9.3 km/litre",
          "9.3 km/litre",
          "9.3 km/litre",
          "7 km/litre",
          "5.2 km/litre",
          "5.2 km/litre",
          "5.2 km/litre",
          "5.2 km/litre",
          null,
          "17 km/litre",
          null,
          null,
          "27.39 km/litre",
          "27.39 km/litre",
          "27.39 km/litre",
          "27.39 km/litre",
          "16.2 km/litre",
          "16.2 km/litre",
          "18 km/litre",
          "18 km/litre",
          "18 km/litre",
          "18 km/litre",
          "9.4 km/litre",
          "12.3 km/litre",
          "12.3 km/litre",
          "9.4 km/litre",
          "9.4 km/litre",
          "28.09 km/litre",
          "28.09 km/litre",
          "28.09 km/litre",
          "28.09 km/litre",
          "26.82 km/litre",
          "26032 km/litre",
          "26.32 km/litre",
          "14.5 km/litre",
          "14.5 km/litre",
          "14.5 km/litre",
          "18 km/litre",
          "18 km/litre",
          "18 km/litre",
          "18 km/litre",
          "21.38 km/litre",
          "21.38 km/litre",
          "17.01 km/litre",
          "17.01 km/litre",
          "17.01 km/litre",
          "17.01 km/litre",
          "17.01 km/litre",
          "17.01 km/litre",
          "21.38 km/litre",
          null,
          null,
          null,
          null,
          null,
          null,
          null,
          "7.3 km/litre",
          "7.3 km/litre",
          "7.3 km/litre",
          null,
          null,
          null,
          null,
          "13.9 km/litre",
          "13.9 km/litre",
          "11,44 km/litre",
          "12.8 km/litre",
          "12.8 km/litre",
          "6.5 km/litre",
          "6.5 km/litre",
          "13.5 km/litre",
          "13.5 km/litre",
          "13.5 km/litre",
          null,
          "18 km/litre",
          "20.7 km/litre",
          null,
          null,
          "19 km/litre",
          "19 km/litre",
          "19 km/litre",
          "19 km/litre",
          "19 km/litre",
          null,
          "19.5 km/litre",
          "13.8 km/litre",
          "13.8 km/litre",
          "13.8 km/litre",
          "13.8 km/litre",
          "12.8 km/litre",
          "12.8 km/litre",
          null,
          null,
          null,
          null,
          null,
          null,
          null,
          "18 km/litre",
          "18 km/litre",
          null,
          null,
          "16 km/litre",
          "16 km/litre",
          null,
          null,
          null,
          "9 km/litre",
          null,
          null,
          null,
          null,
          null,
          null,
          null,
          null,
          null,
          "21,2 km/litre",
          "21,2 km/litre",
          "21,2 km/litre",
          "22.6 km/litre",
          "22.6 km/litre",
          "22.6 km/litre",
          "22.6 km/litre",
          null,
          null,
          "18 km/litre",
          "18 km/litre",
          "18 km/litre",
          null,
          null,
          null,
          null
         ],
         "yaxis": "y"
        }
       ],
       "layout": {
        "barmode": "relative",
        "legend": {
         "tracegroupgap": 0
        },
        "margin": {
         "t": 60
        },
        "template": {
         "data": {
          "bar": [
           {
            "error_x": {
             "color": "#2a3f5f"
            },
            "error_y": {
             "color": "#2a3f5f"
            },
            "marker": {
             "line": {
              "color": "#E5ECF6",
              "width": 0.5
             },
             "pattern": {
              "fillmode": "overlay",
              "size": 10,
              "solidity": 0.2
             }
            },
            "type": "bar"
           }
          ],
          "barpolar": [
           {
            "marker": {
             "line": {
              "color": "#E5ECF6",
              "width": 0.5
             },
             "pattern": {
              "fillmode": "overlay",
              "size": 10,
              "solidity": 0.2
             }
            },
            "type": "barpolar"
           }
          ],
          "carpet": [
           {
            "aaxis": {
             "endlinecolor": "#2a3f5f",
             "gridcolor": "white",
             "linecolor": "white",
             "minorgridcolor": "white",
             "startlinecolor": "#2a3f5f"
            },
            "baxis": {
             "endlinecolor": "#2a3f5f",
             "gridcolor": "white",
             "linecolor": "white",
             "minorgridcolor": "white",
             "startlinecolor": "#2a3f5f"
            },
            "type": "carpet"
           }
          ],
          "choropleth": [
           {
            "colorbar": {
             "outlinewidth": 0,
             "ticks": ""
            },
            "type": "choropleth"
           }
          ],
          "contour": [
           {
            "colorbar": {
             "outlinewidth": 0,
             "ticks": ""
            },
            "colorscale": [
             [
              0,
              "#0d0887"
             ],
             [
              0.1111111111111111,
              "#46039f"
             ],
             [
              0.2222222222222222,
              "#7201a8"
             ],
             [
              0.3333333333333333,
              "#9c179e"
             ],
             [
              0.4444444444444444,
              "#bd3786"
             ],
             [
              0.5555555555555556,
              "#d8576b"
             ],
             [
              0.6666666666666666,
              "#ed7953"
             ],
             [
              0.7777777777777778,
              "#fb9f3a"
             ],
             [
              0.8888888888888888,
              "#fdca26"
             ],
             [
              1,
              "#f0f921"
             ]
            ],
            "type": "contour"
           }
          ],
          "contourcarpet": [
           {
            "colorbar": {
             "outlinewidth": 0,
             "ticks": ""
            },
            "type": "contourcarpet"
           }
          ],
          "heatmap": [
           {
            "colorbar": {
             "outlinewidth": 0,
             "ticks": ""
            },
            "colorscale": [
             [
              0,
              "#0d0887"
             ],
             [
              0.1111111111111111,
              "#46039f"
             ],
             [
              0.2222222222222222,
              "#7201a8"
             ],
             [
              0.3333333333333333,
              "#9c179e"
             ],
             [
              0.4444444444444444,
              "#bd3786"
             ],
             [
              0.5555555555555556,
              "#d8576b"
             ],
             [
              0.6666666666666666,
              "#ed7953"
             ],
             [
              0.7777777777777778,
              "#fb9f3a"
             ],
             [
              0.8888888888888888,
              "#fdca26"
             ],
             [
              1,
              "#f0f921"
             ]
            ],
            "type": "heatmap"
           }
          ],
          "heatmapgl": [
           {
            "colorbar": {
             "outlinewidth": 0,
             "ticks": ""
            },
            "colorscale": [
             [
              0,
              "#0d0887"
             ],
             [
              0.1111111111111111,
              "#46039f"
             ],
             [
              0.2222222222222222,
              "#7201a8"
             ],
             [
              0.3333333333333333,
              "#9c179e"
             ],
             [
              0.4444444444444444,
              "#bd3786"
             ],
             [
              0.5555555555555556,
              "#d8576b"
             ],
             [
              0.6666666666666666,
              "#ed7953"
             ],
             [
              0.7777777777777778,
              "#fb9f3a"
             ],
             [
              0.8888888888888888,
              "#fdca26"
             ],
             [
              1,
              "#f0f921"
             ]
            ],
            "type": "heatmapgl"
           }
          ],
          "histogram": [
           {
            "marker": {
             "pattern": {
              "fillmode": "overlay",
              "size": 10,
              "solidity": 0.2
             }
            },
            "type": "histogram"
           }
          ],
          "histogram2d": [
           {
            "colorbar": {
             "outlinewidth": 0,
             "ticks": ""
            },
            "colorscale": [
             [
              0,
              "#0d0887"
             ],
             [
              0.1111111111111111,
              "#46039f"
             ],
             [
              0.2222222222222222,
              "#7201a8"
             ],
             [
              0.3333333333333333,
              "#9c179e"
             ],
             [
              0.4444444444444444,
              "#bd3786"
             ],
             [
              0.5555555555555556,
              "#d8576b"
             ],
             [
              0.6666666666666666,
              "#ed7953"
             ],
             [
              0.7777777777777778,
              "#fb9f3a"
             ],
             [
              0.8888888888888888,
              "#fdca26"
             ],
             [
              1,
              "#f0f921"
             ]
            ],
            "type": "histogram2d"
           }
          ],
          "histogram2dcontour": [
           {
            "colorbar": {
             "outlinewidth": 0,
             "ticks": ""
            },
            "colorscale": [
             [
              0,
              "#0d0887"
             ],
             [
              0.1111111111111111,
              "#46039f"
             ],
             [
              0.2222222222222222,
              "#7201a8"
             ],
             [
              0.3333333333333333,
              "#9c179e"
             ],
             [
              0.4444444444444444,
              "#bd3786"
             ],
             [
              0.5555555555555556,
              "#d8576b"
             ],
             [
              0.6666666666666666,
              "#ed7953"
             ],
             [
              0.7777777777777778,
              "#fb9f3a"
             ],
             [
              0.8888888888888888,
              "#fdca26"
             ],
             [
              1,
              "#f0f921"
             ]
            ],
            "type": "histogram2dcontour"
           }
          ],
          "mesh3d": [
           {
            "colorbar": {
             "outlinewidth": 0,
             "ticks": ""
            },
            "type": "mesh3d"
           }
          ],
          "parcoords": [
           {
            "line": {
             "colorbar": {
              "outlinewidth": 0,
              "ticks": ""
             }
            },
            "type": "parcoords"
           }
          ],
          "pie": [
           {
            "automargin": true,
            "type": "pie"
           }
          ],
          "scatter": [
           {
            "marker": {
             "colorbar": {
              "outlinewidth": 0,
              "ticks": ""
             }
            },
            "type": "scatter"
           }
          ],
          "scatter3d": [
           {
            "line": {
             "colorbar": {
              "outlinewidth": 0,
              "ticks": ""
             }
            },
            "marker": {
             "colorbar": {
              "outlinewidth": 0,
              "ticks": ""
             }
            },
            "type": "scatter3d"
           }
          ],
          "scattercarpet": [
           {
            "marker": {
             "colorbar": {
              "outlinewidth": 0,
              "ticks": ""
             }
            },
            "type": "scattercarpet"
           }
          ],
          "scattergeo": [
           {
            "marker": {
             "colorbar": {
              "outlinewidth": 0,
              "ticks": ""
             }
            },
            "type": "scattergeo"
           }
          ],
          "scattergl": [
           {
            "marker": {
             "colorbar": {
              "outlinewidth": 0,
              "ticks": ""
             }
            },
            "type": "scattergl"
           }
          ],
          "scattermapbox": [
           {
            "marker": {
             "colorbar": {
              "outlinewidth": 0,
              "ticks": ""
             }
            },
            "type": "scattermapbox"
           }
          ],
          "scatterpolar": [
           {
            "marker": {
             "colorbar": {
              "outlinewidth": 0,
              "ticks": ""
             }
            },
            "type": "scatterpolar"
           }
          ],
          "scatterpolargl": [
           {
            "marker": {
             "colorbar": {
              "outlinewidth": 0,
              "ticks": ""
             }
            },
            "type": "scatterpolargl"
           }
          ],
          "scatterternary": [
           {
            "marker": {
             "colorbar": {
              "outlinewidth": 0,
              "ticks": ""
             }
            },
            "type": "scatterternary"
           }
          ],
          "surface": [
           {
            "colorbar": {
             "outlinewidth": 0,
             "ticks": ""
            },
            "colorscale": [
             [
              0,
              "#0d0887"
             ],
             [
              0.1111111111111111,
              "#46039f"
             ],
             [
              0.2222222222222222,
              "#7201a8"
             ],
             [
              0.3333333333333333,
              "#9c179e"
             ],
             [
              0.4444444444444444,
              "#bd3786"
             ],
             [
              0.5555555555555556,
              "#d8576b"
             ],
             [
              0.6666666666666666,
              "#ed7953"
             ],
             [
              0.7777777777777778,
              "#fb9f3a"
             ],
             [
              0.8888888888888888,
              "#fdca26"
             ],
             [
              1,
              "#f0f921"
             ]
            ],
            "type": "surface"
           }
          ],
          "table": [
           {
            "cells": {
             "fill": {
              "color": "#EBF0F8"
             },
             "line": {
              "color": "white"
             }
            },
            "header": {
             "fill": {
              "color": "#C8D4E3"
             },
             "line": {
              "color": "white"
             }
            },
            "type": "table"
           }
          ]
         },
         "layout": {
          "annotationdefaults": {
           "arrowcolor": "#2a3f5f",
           "arrowhead": 0,
           "arrowwidth": 1
          },
          "autotypenumbers": "strict",
          "coloraxis": {
           "colorbar": {
            "outlinewidth": 0,
            "ticks": ""
           }
          },
          "colorscale": {
           "diverging": [
            [
             0,
             "#8e0152"
            ],
            [
             0.1,
             "#c51b7d"
            ],
            [
             0.2,
             "#de77ae"
            ],
            [
             0.3,
             "#f1b6da"
            ],
            [
             0.4,
             "#fde0ef"
            ],
            [
             0.5,
             "#f7f7f7"
            ],
            [
             0.6,
             "#e6f5d0"
            ],
            [
             0.7,
             "#b8e186"
            ],
            [
             0.8,
             "#7fbc41"
            ],
            [
             0.9,
             "#4d9221"
            ],
            [
             1,
             "#276419"
            ]
           ],
           "sequential": [
            [
             0,
             "#0d0887"
            ],
            [
             0.1111111111111111,
             "#46039f"
            ],
            [
             0.2222222222222222,
             "#7201a8"
            ],
            [
             0.3333333333333333,
             "#9c179e"
            ],
            [
             0.4444444444444444,
             "#bd3786"
            ],
            [
             0.5555555555555556,
             "#d8576b"
            ],
            [
             0.6666666666666666,
             "#ed7953"
            ],
            [
             0.7777777777777778,
             "#fb9f3a"
            ],
            [
             0.8888888888888888,
             "#fdca26"
            ],
            [
             1,
             "#f0f921"
            ]
           ],
           "sequentialminus": [
            [
             0,
             "#0d0887"
            ],
            [
             0.1111111111111111,
             "#46039f"
            ],
            [
             0.2222222222222222,
             "#7201a8"
            ],
            [
             0.3333333333333333,
             "#9c179e"
            ],
            [
             0.4444444444444444,
             "#bd3786"
            ],
            [
             0.5555555555555556,
             "#d8576b"
            ],
            [
             0.6666666666666666,
             "#ed7953"
            ],
            [
             0.7777777777777778,
             "#fb9f3a"
            ],
            [
             0.8888888888888888,
             "#fdca26"
            ],
            [
             1,
             "#f0f921"
            ]
           ]
          },
          "colorway": [
           "#636efa",
           "#EF553B",
           "#00cc96",
           "#ab63fa",
           "#FFA15A",
           "#19d3f3",
           "#FF6692",
           "#B6E880",
           "#FF97FF",
           "#FECB52"
          ],
          "font": {
           "color": "#2a3f5f"
          },
          "geo": {
           "bgcolor": "white",
           "lakecolor": "white",
           "landcolor": "#E5ECF6",
           "showlakes": true,
           "showland": true,
           "subunitcolor": "white"
          },
          "hoverlabel": {
           "align": "left"
          },
          "hovermode": "closest",
          "mapbox": {
           "style": "light"
          },
          "paper_bgcolor": "white",
          "plot_bgcolor": "#E5ECF6",
          "polar": {
           "angularaxis": {
            "gridcolor": "white",
            "linecolor": "white",
            "ticks": ""
           },
           "bgcolor": "#E5ECF6",
           "radialaxis": {
            "gridcolor": "white",
            "linecolor": "white",
            "ticks": ""
           }
          },
          "scene": {
           "xaxis": {
            "backgroundcolor": "#E5ECF6",
            "gridcolor": "white",
            "gridwidth": 2,
            "linecolor": "white",
            "showbackground": true,
            "ticks": "",
            "zerolinecolor": "white"
           },
           "yaxis": {
            "backgroundcolor": "#E5ECF6",
            "gridcolor": "white",
            "gridwidth": 2,
            "linecolor": "white",
            "showbackground": true,
            "ticks": "",
            "zerolinecolor": "white"
           },
           "zaxis": {
            "backgroundcolor": "#E5ECF6",
            "gridcolor": "white",
            "gridwidth": 2,
            "linecolor": "white",
            "showbackground": true,
            "ticks": "",
            "zerolinecolor": "white"
           }
          },
          "shapedefaults": {
           "line": {
            "color": "#2a3f5f"
           }
          },
          "ternary": {
           "aaxis": {
            "gridcolor": "white",
            "linecolor": "white",
            "ticks": ""
           },
           "baxis": {
            "gridcolor": "white",
            "linecolor": "white",
            "ticks": ""
           },
           "bgcolor": "#E5ECF6",
           "caxis": {
            "gridcolor": "white",
            "linecolor": "white",
            "ticks": ""
           }
          },
          "title": {
           "x": 0.05
          },
          "xaxis": {
           "automargin": true,
           "gridcolor": "white",
           "linecolor": "white",
           "ticks": "",
           "title": {
            "standoff": 15
           },
           "zerolinecolor": "white",
           "zerolinewidth": 2
          },
          "yaxis": {
           "automargin": true,
           "gridcolor": "white",
           "linecolor": "white",
           "ticks": "",
           "title": {
            "standoff": 15
           },
           "zerolinecolor": "white",
           "zerolinewidth": 2
          }
         }
        },
        "xaxis": {
         "anchor": "y",
         "domain": [
          0,
          1
         ],
         "title": {
          "text": "Ex-Showroom_Price"
         }
        },
        "yaxis": {
         "anchor": "x",
         "domain": [
          0,
          1
         ],
         "title": {
          "text": "City_Mileage"
         }
        }
       }
      },
      "text/html": [
       "<div>                            <div id=\"25f2bb49-e531-43eb-a643-9aff08d54230\" class=\"plotly-graph-div\" style=\"height:525px; width:100%;\"></div>            <script type=\"text/javascript\">                require([\"plotly\"], function(Plotly) {                    window.PLOTLYENV=window.PLOTLYENV || {};                                    if (document.getElementById(\"25f2bb49-e531-43eb-a643-9aff08d54230\")) {                    Plotly.newPlot(                        \"25f2bb49-e531-43eb-a643-9aff08d54230\",                        [{\"alignmentgroup\":\"True\",\"hovertemplate\":\"Ex-Showroom_Price=%{x}<br>City_Mileage=%{y}<extra></extra>\",\"legendgroup\":\"\",\"marker\":{\"color\":\"#636efa\",\"pattern\":{\"shape\":\"\"}},\"name\":\"\",\"offsetgroup\":\"\",\"orientation\":\"v\",\"showlegend\":false,\"textposition\":\"auto\",\"type\":\"bar\",\"x\":[\"Rs. 5,68,623\",\"Rs. 6,03,000\",\"Rs. 7,39,000\",\"Rs. 7,39,000\",\"Rs. 6,47,800\",\"Rs. 7,45,000\",\"Rs. 7,04,000\",\"Rs. 7,20,700\",\"Rs. 7,56,700\",\"Rs. 6,86,000\",\"Rs. 7,77,700\",\"Rs. 7,87,980\",\"Rs. 6,61,111\",\"Rs. 6,93,798\",\"Rs. 7,19,661\",\"Rs. 6,39,616\",\"Rs. 6,20,297\",\"Rs. 6,53,523\",\"Rs. 6,97,803\",\"Rs. 7,70,803\",\"Rs. 8,76,103\",\"Rs. 9,34,003\",\"Rs. 8,46,103\",\"Rs. 7,73,800\",\"Rs. 8,23,700\",\"Rs. 9,22,700\",\"Rs. 9,03,800\",\"Rs. 7,34,500\",\"Rs. 8,51,500\",\"Rs. 9,31,500\",\"Rs. 9,88,500\",\"Rs. 6,66,622\",\"Rs. 7,57,622\",\"Rs. 8,63,122\",\"Rs. 8,16,622\",\"Rs. 9,06,122\",\"Rs. 8,04,622\",\"Rs. 9,52,622\",\"Rs. 6,76,400\",\"Rs. 7,90,900\",\"Rs. 8,36,400\",\"Rs. 7,45,900\",\"Rs. 7,11,500\",\"Rs. 8,10,500\",\"Rs. 9,99,900\",\"Rs. 9,25,500\",\"Rs. 9,99,900\",\"Rs. 6,99,400\",\"Rs. 7,37,400\",\"Rs. 7,77,400\",\"Rs. 8,17,400\",\"Rs. 8,62,400\",\"Rs. 8,42,400\",\"Rs. 7,34,700\",\"Rs. 8,28,600\",\"Rs. 8,88,400\",\"Rs. 7,99,600\",\"Rs. 9,13,400\",\"Rs. 7,97,500\",\"Rs. 7,66,000\",\"Rs. 8,16,000\",\"Rs. 6,57,628\",\"Rs. 6,85,729\",\"Rs. 7,50,428\",\"Rs. 6,77,618\",\"Rs. 7,39,074\",\"Rs. 8,10,211\",\"Rs. 7,96,132\",\"Rs. 7,11,801\",\"Rs. 8,76,341\",\"Rs. 8,16,500\",\"Rs. 8,96,500\",\"Rs. 9,40,500\",\"Rs. 8,86,398\",\"Rs. 8,51,302\",\"Rs. 7,85,656\",\"Rs. 7,49,192\",\"Rs. 8,59,497\",\"Rs. 8,19,117\",\"Rs. 7,62,742\",\"Rs. 8,14,742\",\"Rs. 8,92,243\",\"Rs. 9,87,743\",\"Rs. 10,03,552\",\"Rs. 10,37,742\",\"Rs. 8,64,742\",\"Rs. 9,42,243\",\"Rs. 10,59,742\",\"Rs. 9,93,393\",\"Rs. 8,41,000\",\"Rs. 9,21,000\",\"Rs. 9,99,900\",\"Rs. 10,90,000\",\"Rs. 11,45,000\",\"Rs. 10,90,000\",\"Rs. 9,29,990\",\"Rs. 9,99,990\",\"Rs. 11,19,990\",\"Rs. 12,09,990\",\"Rs. 12,49,990\",\"Rs. 12,49,990\",\"Rs. 11,72,544\",\"Rs. 13,01,881\",\"Rs. 13,28,545\",\"Rs. 14,07,871\",\"Rs. 9,42,867\",\"Rs. 9,99,900\",\"Rs. 8,69,131\",\"Rs. 9,50,131\",\"Rs. 10,95,129\",\"Rs. 12,14,130\",\"Rs. 11,49,800\",\"Rs. 12,69,131\",\"Rs. 9,99,000\",\"Rs. 8,63,299\",\"Rs. 9,64,199\",\"Rs. 12,11,599\",\"Rs. 12,11,599\",\"Rs. 10,53,899\",\"Rs. 11,30,099\",\"Rs. 9,64,199\",\"Rs. 9,58,500\",\"Rs. 9,99,900\",\"Rs. 12,10,500\",\"Rs. 13,36,500\",\"Rs. 13,17,500\",\"Rs. 14,49,500\",\"Rs. 11,87,900\",\"Rs. 12,73,900\",\"Rs. 13,82,900\",\"Rs. 9,59,860\",\"Rs. 9,99,148\",\"Rs. 9,74,860\",\"Rs. 9,99,000\",\"Rs. 10,75,000\",\"Rs. 12,99,000\",\"Rs. 13,30,000\",\"Rs. 9,75,000\",\"Rs. 12,25,000\",\"Rs. 9,92,748\",\"Rs. 10,29,650\",\"Rs. 11,42,157\",\"Rs. 9,99,900\",\"Rs. 11,56,471\",\"Rs. 13,08,592\",\"Rs. 14,68,440\",\"Rs. 9,99,900\",\"Rs. 11,64,569\",\"Rs. 13,16,690\",\"Rs. 14,76,538\",\"Rs. 9,99,994\",\"Rs. 12,36,258\",\"Rs. 11,23,158\",\"Rs. 12,20,030\",\"Rs. 13,30,006\",\"Rs. 13,60,668\",\"Rs. 15,40,081\",\"Rs. 16,63,054\",\"Rs. 14,23,710\",\"Rs. 14,25,599\",\"Rs. 12,99,599\",\"Rs. 14,18,313\",\"Rs. 15,39,488\",\"Rs. 15,88,943\",\"Rs. 17,10,118\",\"Rs. 17,16,319\",\"Rs. 18,37,586\",\"Rs. 17,41,319\",\"Rs. 18,62,586\",\"Rs. 18,52,488\",\"Rs. 19,73,664\",\"Rs. 12,30,924\",\"Rs. 16,39,374\",\"Rs. 19,29,417\",\"Rs. 19,12,593\",\"Rs. 17,96,458\",\"Rs. 13,71,864\",\"Rs. 15,31,377\",\"Rs. 16,55,587\",\"Rs. 16,05,000\",\"Rs. 19,27,000\",\"Rs. 16,10,000\",\"Rs. 19,32,000\",\"Rs. 21,13,000\",\"Rs. 20,97,000\",\"Rs. 15,92,000\",\"Rs. 15,87,000\",\"Rs. 16,61,000\",\"Rs. 18,03,000\",\"Rs. 18,88,000\",\"Rs. 19,73,000\",\"Rs. 20,22,000\",\"Rs. 21,51,000\",\"Rs. 21,99,000\",\"Rs. 21,33,000\",\"Rs. 23,11,000\",\"Rs. 16,99,000\",\"Rs. 20,36,300\",\"Rs. 22,14,000\",\"Rs. 24,99,000\",\"Rs. 21,96,000\",\"Rs. 19,36,000\",\"Rs. 17,71,000\",\"Rs. 20,54,900\",\"Rs. 22,34,900\",\"Rs. 24,95,000\",\"Rs. 25,15,000\",\"Rs. 28,95,000\",\"Rs. 29,95,000\",\"Rs. 33,95,000\",\"Rs. 33,49,599\",\"Rs. 30,29,599\",\"Rs. 28,49,599\",\"Rs. 27,69,000\",\"Rs. 31,91,000\",\"Rs. 28,86,871\",\"Rs. 32,05,000\",\"Rs. 30,19,000\",\"Rs. 32,16,000\",\"Rs. 33,95,000\",\"Rs. 34,20,000\",\"Rs. 29,03,750\",\"Rs. 28,35,500\",\"Rs. 29,53,240\",\"Rs. 29,92,800\",\"Rs. 29,52,500\",\"Rs. 34,70,000\",\"Rs. 32,33,000\",\"Rs. 29,20,000\",\"Rs. 32,83,000\",\"Rs. 29,90,000\",\"Rs. 32,33,000\",\"Rs. 35,64,000\",\"Rs. 38,64,000\",\"Rs. 33,99,000\",\"Rs. 37,40,000\",\"Rs. 35,20,000\",\"Rs. 39,30,000\",\"Rs. 45,70,000\",\"Rs. 42,40,000\",\"Rs. 38,50,500\",\"Rs. 40,20,000\",\"Rs. 46,70,000\",\"Rs. 49,74,750\",\"Rs. 41,40,000\",\"Rs. 46,90,000\",\"Rs. 44,26,500\",\"Rs. 50,21,200\",\"Rs. 56,21,200\",\"Rs. 57,75,000\",\"Rs. 54,94,000\",\"Rs. 59,85,000\",\"Rs. 72,85,332\",\"Rs. 59,64,321\",\"Rs. 58,50,000\",\"Rs. 62,50,000\",\"Rs. 59,30,000\",\"Rs. 66,80,000\",\"Rs. 60,61,200\",\"Rs. 64,63,780\",\"Rs. 68,90,000\",\"Rs. 74,50,000\",\"Rs. 64,40,000\",\"Rs. 65,31,000\",\"Rs. 68,62,560\",\"Rs. 69,48,200\",\"Rs. 72,46,802\",\"Rs. 73,70,000\",\"Rs. 1,25,00,000\",\"Rs. 75,00,000\",\"Rs. 1,02,05,494\",\"Rs. 96,89,321\",\"Rs. 88,77,094\",\"Rs. 1,08,61,088\",\"Rs. 87,90,000\",\"Rs. 80,90,000\",\"Rs. 84,91,500\",\"Rs. 84,70,000\",\"Rs. 1,03,73,732\",\"Rs. 1,19,13,021\",\"Rs. 1,49,08,985\",\"Rs. 97,38,609\",\"Rs. 1,07,25,145\",\"Rs. 1,11,29,599\",\"Rs. 1,02,50,000\",\"Rs. 1,33,87,856\",\"Rs. 1,38,81,858\",\"Rs. 1,42,47,814\",\"Rs. 1,46,99,000\",\"Rs. 1,81,85,267\",\"Rs. 1,95,27,130\",\"Rs. 2,51,74,051\",\"Rs. 3,92,94,685\",\"Rs. 2,36,75,691\",\"Rs. 2,32,90,000\",\"Rs. 5,51,530\",\"Rs. 5,68,930\",\"Rs. 5,90,798\",\"Rs. 6,19,243\",\"Rs. 6,67,273\",\"Rs. 7,54,548\",\"Rs. 7,87,304\",\"Rs. 7,94,800\",\"Rs. 5,99,000\",\"Rs. 6,98,000\",\"Rs. 7,45,000\",\"Rs. 7,57,000\",\"Rs. 8,04,000\",\"Rs. 8,38,000\",\"Rs. 8,84,000\",\"Rs. 6,99,000\",\"Rs. 7,75,000\",\"Rs. 8,44,000\",\"Rs. 9,04,000\",\"Rs. 9,29,000\",\"Rs. 6,42,478\",\"Rs. 5,89,678\",\"Rs. 6,89,761\",\"Rs. 7,88,177\",\"Rs. 26,50,777\",\"Rs. 6,28,072\",\"Rs. 9,00,967\",\"Rs. 14,65,148\",\"Rs. 5,52,890\",\"Rs. 9,27,689\",\"Rs. 8,35,275\",\"Rs. 7,02,946\",\"Rs. 7,67,317\",\"Rs. 7,93,898\",\"Rs. 8,55,362\",\"Rs. 8,36,320\",\"Rs. 9,89,000\",\"Rs. 7,88,797\",\"Rs. 7,05,000\",\"Rs. 8,65,000\",\"Rs. 9,25,000\",\"Rs. 7,85,000\",\"Rs. 8,93,000\",\"Rs. 8,45,000\",\"Rs. 9,06,000\",\"Rs. 7,80,000\",\"Rs. 8,50,000\",\"Rs. 9,83,000\",\"Rs. 9,98,000\",\"Rs. 10,89,000\",\"Rs. 8,45,000\",\"Rs. 9,20,000\",\"Rs. 10,20,000\",\"Rs. 11,00,000\",\"Rs. 11,20,000\",\"Rs. 11,90,000\",\"Rs. 12,10,000\",\"Rs. 9,80,000\",\"Rs. 11,60,000\",\"Rs. 11,80,000\",\"Rs. 12,50,000\",\"Rs. 12,70,000\",\"Rs. 8,62,175\",\"Rs. 9,32,025\",\"Rs. 9,91,434\",\"Rs. 9,86,689\",\"Rs. 10,69,689\",\"Rs. 11,20,689\",\"Rs. 10,35,000\",\"Rs. 9,25,000\",\"Rs. 9,16,050\",\"Rs. 10,48,050\",\"Rs. 9,95,000\",\"Rs. 8,54,328\",\"Rs. 9,14,328\",\"Rs. 9,76,592\",\"Rs. 9,99,614\",\"Rs. 10,31,943\",\"Rs. 10,22,930\",\"Rs. 10,55,259\",\"Rs. 8,80,689\",\"Rs. 9,92,689\",\"Rs. 10,43,689\",\"Rs. 11,43,689\",\"Rs. 10,49,999\",\"Rs. 12,99,999\",\"Rs. 9,63,037\",\"Rs. 10,04,487\",\"Rs. 10,31,951\",\"Rs. 10,66,139\",\"Rs. 12,28,335\",\"Rs. 10,34,000\",\"Rs. 11,54,000\",\"Rs. 12,54,000\",\"Rs. 13,54,000\",\"Rs. 15,34,000\",\"Rs. 16,34,000\",\"Rs. 14,14,000\",\"Rs. 9,99,900\",\"Rs. 14,64,900\",\"Rs. 12,35,700\",\"Rs. 14,19,900\",\"Rs. 12,35,700\",\"Rs. 11,09,005\",\"Rs. 13,35,158\",\"Rs. 14,79,574\",\"Rs. 16,43,829\",\"Rs. 13,48,000\",\"Rs. 14,48,000\",\"Rs. 15,88,000\",\"Rs. 17,28,000\",\"Rs. 20,79,717\",\"Rs. 23,64,354\",\"Rs. 26,97,417\",\"Rs. 24,23,720\",\"Rs. 30,21,500\",\"Rs. 33,21,500\",\"Rs. 25,99,000\",\"Rs. 28,99,000\",\"Rs. 27,34,834\",\"Rs. 29,31,534\",\"Rs. 28,14,500\",\"Rs. 31,53,500\",\"Rs. 31,49,599\",\"Rs. 30,89,851\",\"Rs. 33,03,282\",\"Rs. 32,99,599\",\"Rs. 36,78,599\",\"Rs. 32,99,599\",\"Rs. 36,77,200\",\"Rs. 39,92,200\",\"Rs. 43,61,000\",\"Rs. 61,38,811\",\"Rs. 55,06,622\",\"Rs. 49,77,080\",\"Rs. 57,06,000\",\"Rs. 60,89,000\",\"Rs. 59,90,000\",\"Rs. 72,21,500\",\"Rs. 80,21,500\",\"Rs. 81,11,500\",\"Rs. 96,30,000\",\"Rs. 1,45,12,054\",\"Rs. 1,48,63,774\",\"Rs. 1,53,83,399\",\"Rs. 1,79,00,000\",\"Rs. 5,75,947\",\"Rs. 6,23,000\",\"Rs. 6,99,900\",\"Rs. 7,64,900\",\"Rs. 7,46,621\",\"Rs. 8,68,221\",\"Rs. 6,68,611\",\"Rs. 8,07,921\",\"Rs. 7,51,203\",\"Rs. 8,08,558\",\"Rs. 9,12,534\",\"Rs. 9,93,997\",\"Rs. 8,60,997\",\"Rs. 8,77,285\",\"Rs. 9,42,263\",\"Rs. 9,17,055\",\"Rs. 8,60,720\",\"Rs. 8,15,883\",\"Rs. 7,73,678\",\"Rs. 11,02,689\",\"Rs. 9,19,689\",\"Rs. 9,80,689\",\"Rs. 10,62,689\",\"Rs. 11,38,189\",\"Rs. 9,97,689\",\"Rs. 11,09,189\",\"Rs. 10,06,139\",\"Rs. 11,29,599\",\"Rs. 12,49,599\",\"Rs. 13,99,599\",\"Rs. 12,73,599\",\"Rs. 11,58,599\",\"Rs. 12,73,599\",\"Rs. 9,99,990\",\"Rs. 11,97,919\",\"Rs. 13,66,797\",\"Rs. 15,43,564\",\"Rs. 15,27,395\",\"Rs. 14,21,208\",\"Rs. 13,36,033\",\"Rs. 15,72,064\",\"Rs. 11,07,167\",\"Rs. 14,14,247\",\"Rs. 13,45,363\",\"Rs. 14,71,368\",\"Rs. 15,91,368\",\"Rs. 17,21,368\",\"Rs. 17,32,231\",\"Rs. 17,30,755\",\"Rs. 16,54,783\",\"Rs. 18,06,813\",\"Rs. 19,99,000\",\"Rs. 26,80,000\",\"Rs. 27,60,000\",\"Rs. 30,67,001\",\"Rs. 32,77,001\",\"Rs. 31,72,000\",\"Rs. 36,99,000\",\"Rs. 58,90,000\",\"Rs. 78,82,867\",\"Rs. 89,31,819\",\"Rs. 88,20,000\",\"Rs. 86,90,000\",\"Rs. 1,22,90,000\",\"Rs. 1,32,00,000\",\"Rs. 1,35,10,000\",\"Rs. 1,50,00,000\",\"Rs. 2,32,90,000\",\"Rs. 6,75,090\",\"Rs. 7,90,350\",\"Rs. 8,04,450\",\"Rs. 7,42,033\",\"Rs. 7,42,033\",\"Rs. 7,42,033\",\"Rs. 7,42,033\",\"Rs. 7,42,033\",\"Rs. 7,43,504\",\"Rs. 8,12,964\",\"Rs. 7,97,802\",\"Rs. 9,05,642\",\"Rs. 9,84,818\",\"Rs. 8,32,415\",\"Rs. 9,72,359\",\"Rs. 10,48,603\",\"Rs. 11,09,000\",\"Rs. 12,51,000\",\"Rs. 13,69,000\",\"Rs. 14,65,000\",\"Rs. 14,65,000\",\"Rs. 9,89,000\",\"Rs. 12,05,000\",\"Rs. 30,21,200\",\"Rs. 32,21,200\",\"Rs. 39,90,000\",\"Rs. 43,90,000\",\"Rs. 59,30,000\",\"Rs. 56,00,000\",\"Rs. 68,40,000\",\"Rs. 81,90,000\",\"Rs. 1,10,00,000\",\"Rs. 1,35,58,438\",\"Rs. 6,89,993\",\"Rs. 17,99,599\",\"Rs. 20,79,599\",\"Rs. 22,99,599\",\"Rs. 23,59,599\",\"Rs. 16,99,000\",\"Rs. 21,99,599\",\"Rs. 60,60,000\",\"Rs. 65,90,000\",\"Rs. 6,31,292\",\"Rs. 6,92,655\",\"Rs. 7,47,774\",\"Rs. 11,11,000\",\"Rs. 11,91,000\",\"Rs. 13,02,000\",\"Rs. 14,21,000\",\"Rs. 44,98,000\",\"Rs. 46,33,000\",\"Rs. 7,48,370\",\"Rs. 7,72,617\",\"Rs. 8,45,154\",\"Rs. 73,30,000\",\"Rs. 82,90,000\",\"Rs. 27,70,150\",\"Rs. 30,70,150\"],\"xaxis\":\"x\",\"y\":[\"12 km/litre\",\"12 km/litre\",\"12 km/litre\",\"20 km/litre\",\"20.3 km/litre\",\"20.3 km/litre\",\"20.3 km/litre\",\"20.3 km/litre\",\"20.3 km/litre\",\"20.3 km/litre\",\"20.3 km/litre\",\"22,95 km/litre\",\"22,95 km/litre\",\"22,95 km/litre\",\"22,95 km/litre\",null,null,\"14.6 km/litre\",\"18.4 km/litre\",\"18.4 km/litre\",\"18.4 km/litre\",\"18.4 km/litre\",\"18.4 km/litre\",null,null,null,null,\"19 km/litre\",\"19 km/litre\",\"19 km/litre\",\"19 km/litre\",\"28,4 km/litre\",\"28.4 km/litre\",\"28.4 km/litre\",\"28,4 km/litre\",\"28,4 km/litre\",\"28.4 km/litre\",\"28.4 km/litre\",null,null,null,null,\"15.3 km/litre\",\"15.3 km/litre\",\"15.3 km/litre\",\"15.3 km/litre\",\"15.3 km/litre\",null,null,null,null,null,null,\"20.32 km/litre\",\"20.3 km/litre\",\"20.32 km/litre\",\"20.3 km/litre\",\"20.32 km/litre\",\"18.1 km/litre\",\"18.1 km/litre\",\"18.1 km/litre\",\"18 km/litre\",\"18 km/litre\",\"18 km/litre\",\"20 km/litre\",\"20 km/litre\",\"20 km/litre\",\"11.2 km/litre\",\"11.2 km/litre\",\"11.2 km/litre\",\"12 km/litre\",\"12 km/litre\",\"12 km/litre\",\"12.4 km/litre\",\"12.4 km/litre\",\"12.4 km/litre\",\"12.4 km/litre\",\"9.4 km/litre\",\"12.4 km/litre\",\"20 km/litre\",\"20 km/litre\",\"20 km/litre\",\"20 km/litre\",\"20 km/litre\",\"20 km/litre\",\"20 km/litre\",\"20 km/litre\",\"20 km/litre\",\"21.19 km/litre\",null,null,null,null,null,null,\"16 km/litre\",\"16 km/litre\",\"16 km/litre\",\"16 km/litre\",\"16 km/litre\",\"16 km/litre\",\"19.9 km/litre\",\"19.9 km/litre\",\"14 km/litre\",\"14 km/litre\",null,null,null,null,null,null,null,null,null,\"21.04 km/litre\",\"21.04 km/litre\",\"21.04 km/litre\",\"21.04 km/litre\",\"21.04 km/litre\",\"21.04 km/litre\",\"21.04 km/litre\",null,null,null,null,null,\"19 km/litre\",\"16.2 km/litre\",\"16.2 km/litre\",\"16.2 km/litre\",null,null,null,\"14 km/litre\",\"14 km/litre\",null,null,\"14 km/litre\",\"14 km/litre\",\"18.49 km/litre\",\"18.49 km/litre\",\"18.49 km/litre\",null,null,null,null,null,null,null,null,\"11.5 km/litre\",\"8.1 km/litre\",\"9.4 km/litre\",\"11.5 km/litre\",\"11.5 km/litre\",\"11.5 km/litre\",\"11.5 km/litre\",\"11.5 km/litre\",\"11.5 km/litre\",\"18 km/litre\",\"18 km/litre\",\"16 km/litre\",\"16 km/litre\",\"16 km/litre\",\"16 km/litre\",\"16 km/litre\",\"16 km/litre\",\"16 km/litre\",\"16 km/litre\",\"16 km/litre\",\"16 km/litre\",\"16 km/litre\",\"14 km/litre\",\"14 km/litre\",\"14 km/litre\",\"14 km/litre\",\"14 km/litre\",\"14 km/litre\",\"14 km/litre\",\"12 km/litre\",\"12 km/litre\",\"12 km/litre\",\"12 km/litre\",\"12 km/litre\",\"12 km/litre\",\"12 km/litre\",\"12 km/litre\",null,null,null,null,null,null,null,null,null,null,null,null,null,null,\"18.2 km/litre\",\"18.4 km/litre\",null,null,null,null,null,null,null,\"15.1 km/litre\",\"15.1 km/litre\",\"15.1 km/litre\",\"16,8 km/litre\",\"16,8 km/litre\",\"12.03 km/litre\",\"12.55 km/litre\",\"12,55 km/litre\",\"12,55 km/litre\",\"12,55 km/litre\",\"12.55 km/litre\",\"6.5 km/litre\",\"6.5 km/litre\",\"6.5 km/litre\",\"6.5 km/litre\",\"6.5 km/litre\",\"7.7 km/litre\",\"9.3 km/litre\",\"9.3 km/litre\",\"13.05 km/litre\",null,\"13.4 km/litre\",\"13.4 km/litre\",\"13.4 km/litre\",null,null,\"18 km/litre\",\"18 km/litre\",\"18 km/litre\",null,null,null,null,null,null,null,\"15.6 km/litre\",\"12 km/litre\",\"12 km/litre\",null,null,null,\"7.45 km/litre\",null,null,null,\"8.4 km/litre\",\"13.1 km/litre\",null,\"21.27 km/litre\",null,null,null,\"13.2 km/litre\",\"8.25 km/litre\",null,\"15.68 km/litre\",null,null,null,null,null,null,null,\"13.2 km/litre\",\"13.2 km/litre\",\"13.2 km/litre\",null,null,null,\"5.9 km/litre\",\"9.5 km/litre\",\"9.5 km/litre\",\"9.5 km/litre\",null,null,null,null,\"5.3 km/litre\",null,null,null,\"8.69 km/litre\",null,\"18 km/litre\",\"24 km/litre\",\"24 km/litre\",\"22.25 km/litre\",\"22.25 km/litre\",\"22.25 km/litre\",\"22.25 km/litre\",\"22.25 km/litre\",\"22.25 km/litre\",null,null,null,null,null,null,null,null,null,null,null,null,\"8.6 km/litre\",\"8.6 km/litre\",\"8.6 km/litre\",\"8.6 km/litre\",\"8.6 km/litre\",\"8.6 km/litre\",\"8.6 km/litre\",\"8.6 km/litre\",\"8.6 km/litre\",\"8.6 km/litre\",\"8.6 km/litre\",\"19.2 km/litre\",\"19.2 km/litre\",\"19.2 km/litre\",\"19.2 km/litre\",\"19.2 km/litre\",\"19.2 km/litre\",\"19.2 km/litre\",null,null,null,null,null,null,null,null,null,null,null,null,null,null,null,null,null,null,null,null,null,null,null,null,\"17.2 km/litre\",\"17.2 km/litre\",\"17.2 km/litre\",null,null,null,\"25.5 km/litre\",\"25.5 km/litre\",\"25.5 km/litre\",\"25.5 km/litre\",\"25.5 km/litre\",\"18.49 km/litre\",\"18.49 km/litre\",\"18.49 km/litre\",\"18.49 km/litre\",\"18.49 km/litre\",\"18.49 km/litre\",\"18.49 km/litre\",\"23.65 km/litre\",\"23.65 km/litre\",\"23.65 km/litre\",\"23.65 km/litre\",null,null,\"10.7 km/litre\",\"10.3 km/litre\",\"11.4 km/litre\",\"11.4 km/litre\",\"11.4 km/litre\",null,null,null,null,null,null,null,\"17.1 km/litre\",\"16 km/litre\",\"17.1 km/litre\",\"16 km/litre\",\"17.1 km/litre\",\"10.8 km/litre\",\"10.8 km/litre\",\"10.8 km/litre\",\"13,93 km/litre\",null,null,null,null,\"16,38 km/litre\",\"16,38 km/litre\",\"16.38 km/litre\",\"16.38 km/litre\",null,null,null,null,\"13.8 km/litre\",\"13.8 km/litre\",null,null,\"15.1 km/litre\",\"11.5 km/litre\",\"11.5 km/litre\",\"15.1 km/litre\",\"15.1 km/litre\",\"15.1 km/litre\",\"12 km/litre\",\"12 km/litre\",\"12 km/litre\",\"5.7 km/litre\",\"5.7 km/litre\",\"5.7 km/litre\",null,null,\"11.7 km/litre\",\"9.3 km/litre\",\"9.3 km/litre\",\"9.3 km/litre\",\"7 km/litre\",\"5.2 km/litre\",\"5.2 km/litre\",\"5.2 km/litre\",\"5.2 km/litre\",null,\"17 km/litre\",null,null,\"27.39 km/litre\",\"27.39 km/litre\",\"27.39 km/litre\",\"27.39 km/litre\",\"16.2 km/litre\",\"16.2 km/litre\",\"18 km/litre\",\"18 km/litre\",\"18 km/litre\",\"18 km/litre\",\"9.4 km/litre\",\"12.3 km/litre\",\"12.3 km/litre\",\"9.4 km/litre\",\"9.4 km/litre\",\"28.09 km/litre\",\"28.09 km/litre\",\"28.09 km/litre\",\"28.09 km/litre\",\"26.82 km/litre\",\"26032 km/litre\",\"26.32 km/litre\",\"14.5 km/litre\",\"14.5 km/litre\",\"14.5 km/litre\",\"18 km/litre\",\"18 km/litre\",\"18 km/litre\",\"18 km/litre\",\"21.38 km/litre\",\"21.38 km/litre\",\"17.01 km/litre\",\"17.01 km/litre\",\"17.01 km/litre\",\"17.01 km/litre\",\"17.01 km/litre\",\"17.01 km/litre\",\"21.38 km/litre\",null,null,null,null,null,null,null,\"7.3 km/litre\",\"7.3 km/litre\",\"7.3 km/litre\",null,null,null,null,\"13.9 km/litre\",\"13.9 km/litre\",\"11,44 km/litre\",\"12.8 km/litre\",\"12.8 km/litre\",\"6.5 km/litre\",\"6.5 km/litre\",\"13.5 km/litre\",\"13.5 km/litre\",\"13.5 km/litre\",null,\"18 km/litre\",\"20.7 km/litre\",null,null,\"19 km/litre\",\"19 km/litre\",\"19 km/litre\",\"19 km/litre\",\"19 km/litre\",null,\"19.5 km/litre\",\"13.8 km/litre\",\"13.8 km/litre\",\"13.8 km/litre\",\"13.8 km/litre\",\"12.8 km/litre\",\"12.8 km/litre\",null,null,null,null,null,null,null,\"18 km/litre\",\"18 km/litre\",null,null,\"16 km/litre\",\"16 km/litre\",null,null,null,\"9 km/litre\",null,null,null,null,null,null,null,null,null,\"21,2 km/litre\",\"21,2 km/litre\",\"21,2 km/litre\",\"22.6 km/litre\",\"22.6 km/litre\",\"22.6 km/litre\",\"22.6 km/litre\",null,null,\"18 km/litre\",\"18 km/litre\",\"18 km/litre\",null,null,null,null],\"yaxis\":\"y\"}],                        {\"barmode\":\"relative\",\"legend\":{\"tracegroupgap\":0},\"margin\":{\"t\":60},\"template\":{\"data\":{\"bar\":[{\"error_x\":{\"color\":\"#2a3f5f\"},\"error_y\":{\"color\":\"#2a3f5f\"},\"marker\":{\"line\":{\"color\":\"#E5ECF6\",\"width\":0.5},\"pattern\":{\"fillmode\":\"overlay\",\"size\":10,\"solidity\":0.2}},\"type\":\"bar\"}],\"barpolar\":[{\"marker\":{\"line\":{\"color\":\"#E5ECF6\",\"width\":0.5},\"pattern\":{\"fillmode\":\"overlay\",\"size\":10,\"solidity\":0.2}},\"type\":\"barpolar\"}],\"carpet\":[{\"aaxis\":{\"endlinecolor\":\"#2a3f5f\",\"gridcolor\":\"white\",\"linecolor\":\"white\",\"minorgridcolor\":\"white\",\"startlinecolor\":\"#2a3f5f\"},\"baxis\":{\"endlinecolor\":\"#2a3f5f\",\"gridcolor\":\"white\",\"linecolor\":\"white\",\"minorgridcolor\":\"white\",\"startlinecolor\":\"#2a3f5f\"},\"type\":\"carpet\"}],\"choropleth\":[{\"colorbar\":{\"outlinewidth\":0,\"ticks\":\"\"},\"type\":\"choropleth\"}],\"contour\":[{\"colorbar\":{\"outlinewidth\":0,\"ticks\":\"\"},\"colorscale\":[[0.0,\"#0d0887\"],[0.1111111111111111,\"#46039f\"],[0.2222222222222222,\"#7201a8\"],[0.3333333333333333,\"#9c179e\"],[0.4444444444444444,\"#bd3786\"],[0.5555555555555556,\"#d8576b\"],[0.6666666666666666,\"#ed7953\"],[0.7777777777777778,\"#fb9f3a\"],[0.8888888888888888,\"#fdca26\"],[1.0,\"#f0f921\"]],\"type\":\"contour\"}],\"contourcarpet\":[{\"colorbar\":{\"outlinewidth\":0,\"ticks\":\"\"},\"type\":\"contourcarpet\"}],\"heatmap\":[{\"colorbar\":{\"outlinewidth\":0,\"ticks\":\"\"},\"colorscale\":[[0.0,\"#0d0887\"],[0.1111111111111111,\"#46039f\"],[0.2222222222222222,\"#7201a8\"],[0.3333333333333333,\"#9c179e\"],[0.4444444444444444,\"#bd3786\"],[0.5555555555555556,\"#d8576b\"],[0.6666666666666666,\"#ed7953\"],[0.7777777777777778,\"#fb9f3a\"],[0.8888888888888888,\"#fdca26\"],[1.0,\"#f0f921\"]],\"type\":\"heatmap\"}],\"heatmapgl\":[{\"colorbar\":{\"outlinewidth\":0,\"ticks\":\"\"},\"colorscale\":[[0.0,\"#0d0887\"],[0.1111111111111111,\"#46039f\"],[0.2222222222222222,\"#7201a8\"],[0.3333333333333333,\"#9c179e\"],[0.4444444444444444,\"#bd3786\"],[0.5555555555555556,\"#d8576b\"],[0.6666666666666666,\"#ed7953\"],[0.7777777777777778,\"#fb9f3a\"],[0.8888888888888888,\"#fdca26\"],[1.0,\"#f0f921\"]],\"type\":\"heatmapgl\"}],\"histogram\":[{\"marker\":{\"pattern\":{\"fillmode\":\"overlay\",\"size\":10,\"solidity\":0.2}},\"type\":\"histogram\"}],\"histogram2d\":[{\"colorbar\":{\"outlinewidth\":0,\"ticks\":\"\"},\"colorscale\":[[0.0,\"#0d0887\"],[0.1111111111111111,\"#46039f\"],[0.2222222222222222,\"#7201a8\"],[0.3333333333333333,\"#9c179e\"],[0.4444444444444444,\"#bd3786\"],[0.5555555555555556,\"#d8576b\"],[0.6666666666666666,\"#ed7953\"],[0.7777777777777778,\"#fb9f3a\"],[0.8888888888888888,\"#fdca26\"],[1.0,\"#f0f921\"]],\"type\":\"histogram2d\"}],\"histogram2dcontour\":[{\"colorbar\":{\"outlinewidth\":0,\"ticks\":\"\"},\"colorscale\":[[0.0,\"#0d0887\"],[0.1111111111111111,\"#46039f\"],[0.2222222222222222,\"#7201a8\"],[0.3333333333333333,\"#9c179e\"],[0.4444444444444444,\"#bd3786\"],[0.5555555555555556,\"#d8576b\"],[0.6666666666666666,\"#ed7953\"],[0.7777777777777778,\"#fb9f3a\"],[0.8888888888888888,\"#fdca26\"],[1.0,\"#f0f921\"]],\"type\":\"histogram2dcontour\"}],\"mesh3d\":[{\"colorbar\":{\"outlinewidth\":0,\"ticks\":\"\"},\"type\":\"mesh3d\"}],\"parcoords\":[{\"line\":{\"colorbar\":{\"outlinewidth\":0,\"ticks\":\"\"}},\"type\":\"parcoords\"}],\"pie\":[{\"automargin\":true,\"type\":\"pie\"}],\"scatter\":[{\"marker\":{\"colorbar\":{\"outlinewidth\":0,\"ticks\":\"\"}},\"type\":\"scatter\"}],\"scatter3d\":[{\"line\":{\"colorbar\":{\"outlinewidth\":0,\"ticks\":\"\"}},\"marker\":{\"colorbar\":{\"outlinewidth\":0,\"ticks\":\"\"}},\"type\":\"scatter3d\"}],\"scattercarpet\":[{\"marker\":{\"colorbar\":{\"outlinewidth\":0,\"ticks\":\"\"}},\"type\":\"scattercarpet\"}],\"scattergeo\":[{\"marker\":{\"colorbar\":{\"outlinewidth\":0,\"ticks\":\"\"}},\"type\":\"scattergeo\"}],\"scattergl\":[{\"marker\":{\"colorbar\":{\"outlinewidth\":0,\"ticks\":\"\"}},\"type\":\"scattergl\"}],\"scattermapbox\":[{\"marker\":{\"colorbar\":{\"outlinewidth\":0,\"ticks\":\"\"}},\"type\":\"scattermapbox\"}],\"scatterpolar\":[{\"marker\":{\"colorbar\":{\"outlinewidth\":0,\"ticks\":\"\"}},\"type\":\"scatterpolar\"}],\"scatterpolargl\":[{\"marker\":{\"colorbar\":{\"outlinewidth\":0,\"ticks\":\"\"}},\"type\":\"scatterpolargl\"}],\"scatterternary\":[{\"marker\":{\"colorbar\":{\"outlinewidth\":0,\"ticks\":\"\"}},\"type\":\"scatterternary\"}],\"surface\":[{\"colorbar\":{\"outlinewidth\":0,\"ticks\":\"\"},\"colorscale\":[[0.0,\"#0d0887\"],[0.1111111111111111,\"#46039f\"],[0.2222222222222222,\"#7201a8\"],[0.3333333333333333,\"#9c179e\"],[0.4444444444444444,\"#bd3786\"],[0.5555555555555556,\"#d8576b\"],[0.6666666666666666,\"#ed7953\"],[0.7777777777777778,\"#fb9f3a\"],[0.8888888888888888,\"#fdca26\"],[1.0,\"#f0f921\"]],\"type\":\"surface\"}],\"table\":[{\"cells\":{\"fill\":{\"color\":\"#EBF0F8\"},\"line\":{\"color\":\"white\"}},\"header\":{\"fill\":{\"color\":\"#C8D4E3\"},\"line\":{\"color\":\"white\"}},\"type\":\"table\"}]},\"layout\":{\"annotationdefaults\":{\"arrowcolor\":\"#2a3f5f\",\"arrowhead\":0,\"arrowwidth\":1},\"autotypenumbers\":\"strict\",\"coloraxis\":{\"colorbar\":{\"outlinewidth\":0,\"ticks\":\"\"}},\"colorscale\":{\"diverging\":[[0,\"#8e0152\"],[0.1,\"#c51b7d\"],[0.2,\"#de77ae\"],[0.3,\"#f1b6da\"],[0.4,\"#fde0ef\"],[0.5,\"#f7f7f7\"],[0.6,\"#e6f5d0\"],[0.7,\"#b8e186\"],[0.8,\"#7fbc41\"],[0.9,\"#4d9221\"],[1,\"#276419\"]],\"sequential\":[[0.0,\"#0d0887\"],[0.1111111111111111,\"#46039f\"],[0.2222222222222222,\"#7201a8\"],[0.3333333333333333,\"#9c179e\"],[0.4444444444444444,\"#bd3786\"],[0.5555555555555556,\"#d8576b\"],[0.6666666666666666,\"#ed7953\"],[0.7777777777777778,\"#fb9f3a\"],[0.8888888888888888,\"#fdca26\"],[1.0,\"#f0f921\"]],\"sequentialminus\":[[0.0,\"#0d0887\"],[0.1111111111111111,\"#46039f\"],[0.2222222222222222,\"#7201a8\"],[0.3333333333333333,\"#9c179e\"],[0.4444444444444444,\"#bd3786\"],[0.5555555555555556,\"#d8576b\"],[0.6666666666666666,\"#ed7953\"],[0.7777777777777778,\"#fb9f3a\"],[0.8888888888888888,\"#fdca26\"],[1.0,\"#f0f921\"]]},\"colorway\":[\"#636efa\",\"#EF553B\",\"#00cc96\",\"#ab63fa\",\"#FFA15A\",\"#19d3f3\",\"#FF6692\",\"#B6E880\",\"#FF97FF\",\"#FECB52\"],\"font\":{\"color\":\"#2a3f5f\"},\"geo\":{\"bgcolor\":\"white\",\"lakecolor\":\"white\",\"landcolor\":\"#E5ECF6\",\"showlakes\":true,\"showland\":true,\"subunitcolor\":\"white\"},\"hoverlabel\":{\"align\":\"left\"},\"hovermode\":\"closest\",\"mapbox\":{\"style\":\"light\"},\"paper_bgcolor\":\"white\",\"plot_bgcolor\":\"#E5ECF6\",\"polar\":{\"angularaxis\":{\"gridcolor\":\"white\",\"linecolor\":\"white\",\"ticks\":\"\"},\"bgcolor\":\"#E5ECF6\",\"radialaxis\":{\"gridcolor\":\"white\",\"linecolor\":\"white\",\"ticks\":\"\"}},\"scene\":{\"xaxis\":{\"backgroundcolor\":\"#E5ECF6\",\"gridcolor\":\"white\",\"gridwidth\":2,\"linecolor\":\"white\",\"showbackground\":true,\"ticks\":\"\",\"zerolinecolor\":\"white\"},\"yaxis\":{\"backgroundcolor\":\"#E5ECF6\",\"gridcolor\":\"white\",\"gridwidth\":2,\"linecolor\":\"white\",\"showbackground\":true,\"ticks\":\"\",\"zerolinecolor\":\"white\"},\"zaxis\":{\"backgroundcolor\":\"#E5ECF6\",\"gridcolor\":\"white\",\"gridwidth\":2,\"linecolor\":\"white\",\"showbackground\":true,\"ticks\":\"\",\"zerolinecolor\":\"white\"}},\"shapedefaults\":{\"line\":{\"color\":\"#2a3f5f\"}},\"ternary\":{\"aaxis\":{\"gridcolor\":\"white\",\"linecolor\":\"white\",\"ticks\":\"\"},\"baxis\":{\"gridcolor\":\"white\",\"linecolor\":\"white\",\"ticks\":\"\"},\"bgcolor\":\"#E5ECF6\",\"caxis\":{\"gridcolor\":\"white\",\"linecolor\":\"white\",\"ticks\":\"\"}},\"title\":{\"x\":0.05},\"xaxis\":{\"automargin\":true,\"gridcolor\":\"white\",\"linecolor\":\"white\",\"ticks\":\"\",\"title\":{\"standoff\":15},\"zerolinecolor\":\"white\",\"zerolinewidth\":2},\"yaxis\":{\"automargin\":true,\"gridcolor\":\"white\",\"linecolor\":\"white\",\"ticks\":\"\",\"title\":{\"standoff\":15},\"zerolinecolor\":\"white\",\"zerolinewidth\":2}}},\"xaxis\":{\"anchor\":\"y\",\"domain\":[0.0,1.0],\"title\":{\"text\":\"Ex-Showroom_Price\"}},\"yaxis\":{\"anchor\":\"x\",\"domain\":[0.0,1.0],\"title\":{\"text\":\"City_Mileage\"}}},                        {\"responsive\": true}                    ).then(function(){\n",
       "                            \n",
       "var gd = document.getElementById('25f2bb49-e531-43eb-a643-9aff08d54230');\n",
       "var x = new MutationObserver(function (mutations, observer) {{\n",
       "        var display = window.getComputedStyle(gd).display;\n",
       "        if (!display || display === 'none') {{\n",
       "            console.log([gd, 'removed!']);\n",
       "            Plotly.purge(gd);\n",
       "            observer.disconnect();\n",
       "        }}\n",
       "}});\n",
       "\n",
       "// Listen for the removal of the full notebook cells\n",
       "var notebookContainer = gd.closest('#notebook-container');\n",
       "if (notebookContainer) {{\n",
       "    x.observe(notebookContainer, {childList: true});\n",
       "}}\n",
       "\n",
       "// Listen for the clearing of the current output cell\n",
       "var outputEl = gd.closest('.output');\n",
       "if (outputEl) {{\n",
       "    x.observe(outputEl, {childList: true});\n",
       "}}\n",
       "\n",
       "                        })                };                });            </script>        </div>"
      ]
     },
     "metadata": {},
     "output_type": "display_data"
    }
   ],
   "source": [
    "import plotly.express as px\n",
    "\n",
    "fig = px.bar(Diesel, x='Ex-Showroom_Price', y='City_Mileage')\n",
    "fig.show()"
   ]
  },
  {
   "cell_type": "code",
   "execution_count": 206,
   "id": "e01441ff",
   "metadata": {},
   "outputs": [
    {
     "data": {
      "application/vnd.plotly.v1+json": {
       "config": {
        "plotlyServerURL": "https://plot.ly"
       },
       "data": [
        {
         "alignmentgroup": "True",
         "hovertemplate": "Ex-Showroom_Price=%{x}<br>Displacement=%{y}<extra></extra>",
         "legendgroup": "",
         "marker": {
          "color": "#636efa",
          "pattern": {
           "shape": ""
          }
         },
         "name": "",
         "offsetgroup": "",
         "orientation": "v",
         "showlegend": false,
         "textposition": "auto",
         "type": "bar",
         "x": [
          "Rs. 5,68,623",
          "Rs. 6,03,000",
          "Rs. 7,39,000",
          "Rs. 7,39,000",
          "Rs. 6,47,800",
          "Rs. 7,45,000",
          "Rs. 7,04,000",
          "Rs. 7,20,700",
          "Rs. 7,56,700",
          "Rs. 6,86,000",
          "Rs. 7,77,700",
          "Rs. 7,87,980",
          "Rs. 6,61,111",
          "Rs. 6,93,798",
          "Rs. 7,19,661",
          "Rs. 6,39,616",
          "Rs. 6,20,297",
          "Rs. 6,53,523",
          "Rs. 6,97,803",
          "Rs. 7,70,803",
          "Rs. 8,76,103",
          "Rs. 9,34,003",
          "Rs. 8,46,103",
          "Rs. 7,73,800",
          "Rs. 8,23,700",
          "Rs. 9,22,700",
          "Rs. 9,03,800",
          "Rs. 7,34,500",
          "Rs. 8,51,500",
          "Rs. 9,31,500",
          "Rs. 9,88,500",
          "Rs. 6,66,622",
          "Rs. 7,57,622",
          "Rs. 8,63,122",
          "Rs. 8,16,622",
          "Rs. 9,06,122",
          "Rs. 8,04,622",
          "Rs. 9,52,622",
          "Rs. 6,76,400",
          "Rs. 7,90,900",
          "Rs. 8,36,400",
          "Rs. 7,45,900",
          "Rs. 7,11,500",
          "Rs. 8,10,500",
          "Rs. 9,99,900",
          "Rs. 9,25,500",
          "Rs. 9,99,900",
          "Rs. 6,99,400",
          "Rs. 7,37,400",
          "Rs. 7,77,400",
          "Rs. 8,17,400",
          "Rs. 8,62,400",
          "Rs. 8,42,400",
          "Rs. 7,34,700",
          "Rs. 8,28,600",
          "Rs. 8,88,400",
          "Rs. 7,99,600",
          "Rs. 9,13,400",
          "Rs. 7,97,500",
          "Rs. 7,66,000",
          "Rs. 8,16,000",
          "Rs. 6,57,628",
          "Rs. 6,85,729",
          "Rs. 7,50,428",
          "Rs. 6,77,618",
          "Rs. 7,39,074",
          "Rs. 8,10,211",
          "Rs. 7,96,132",
          "Rs. 7,11,801",
          "Rs. 8,76,341",
          "Rs. 8,16,500",
          "Rs. 8,96,500",
          "Rs. 9,40,500",
          "Rs. 8,86,398",
          "Rs. 8,51,302",
          "Rs. 7,85,656",
          "Rs. 7,49,192",
          "Rs. 8,59,497",
          "Rs. 8,19,117",
          "Rs. 7,62,742",
          "Rs. 8,14,742",
          "Rs. 8,92,243",
          "Rs. 9,87,743",
          "Rs. 10,03,552",
          "Rs. 10,37,742",
          "Rs. 8,64,742",
          "Rs. 9,42,243",
          "Rs. 10,59,742",
          "Rs. 9,93,393",
          "Rs. 8,41,000",
          "Rs. 9,21,000",
          "Rs. 9,99,900",
          "Rs. 10,90,000",
          "Rs. 11,45,000",
          "Rs. 10,90,000",
          "Rs. 9,29,990",
          "Rs. 9,99,990",
          "Rs. 11,19,990",
          "Rs. 12,09,990",
          "Rs. 12,49,990",
          "Rs. 12,49,990",
          "Rs. 11,72,544",
          "Rs. 13,01,881",
          "Rs. 13,28,545",
          "Rs. 14,07,871",
          "Rs. 9,42,867",
          "Rs. 9,99,900",
          "Rs. 8,69,131",
          "Rs. 9,50,131",
          "Rs. 10,95,129",
          "Rs. 12,14,130",
          "Rs. 11,49,800",
          "Rs. 12,69,131",
          "Rs. 9,99,000",
          "Rs. 8,63,299",
          "Rs. 9,64,199",
          "Rs. 12,11,599",
          "Rs. 12,11,599",
          "Rs. 10,53,899",
          "Rs. 11,30,099",
          "Rs. 9,64,199",
          "Rs. 9,58,500",
          "Rs. 9,99,900",
          "Rs. 12,10,500",
          "Rs. 13,36,500",
          "Rs. 13,17,500",
          "Rs. 14,49,500",
          "Rs. 11,87,900",
          "Rs. 12,73,900",
          "Rs. 13,82,900",
          "Rs. 9,59,860",
          "Rs. 9,99,148",
          "Rs. 9,74,860",
          "Rs. 9,99,000",
          "Rs. 10,75,000",
          "Rs. 12,99,000",
          "Rs. 13,30,000",
          "Rs. 9,75,000",
          "Rs. 12,25,000",
          "Rs. 9,92,748",
          "Rs. 10,29,650",
          "Rs. 11,42,157",
          "Rs. 9,99,900",
          "Rs. 11,56,471",
          "Rs. 13,08,592",
          "Rs. 14,68,440",
          "Rs. 9,99,900",
          "Rs. 11,64,569",
          "Rs. 13,16,690",
          "Rs. 14,76,538",
          "Rs. 9,99,994",
          "Rs. 12,36,258",
          "Rs. 11,23,158",
          "Rs. 12,20,030",
          "Rs. 13,30,006",
          "Rs. 13,60,668",
          "Rs. 15,40,081",
          "Rs. 16,63,054",
          "Rs. 14,23,710",
          "Rs. 14,25,599",
          "Rs. 12,99,599",
          "Rs. 14,18,313",
          "Rs. 15,39,488",
          "Rs. 15,88,943",
          "Rs. 17,10,118",
          "Rs. 17,16,319",
          "Rs. 18,37,586",
          "Rs. 17,41,319",
          "Rs. 18,62,586",
          "Rs. 18,52,488",
          "Rs. 19,73,664",
          "Rs. 12,30,924",
          "Rs. 16,39,374",
          "Rs. 19,29,417",
          "Rs. 19,12,593",
          "Rs. 17,96,458",
          "Rs. 13,71,864",
          "Rs. 15,31,377",
          "Rs. 16,55,587",
          "Rs. 16,05,000",
          "Rs. 19,27,000",
          "Rs. 16,10,000",
          "Rs. 19,32,000",
          "Rs. 21,13,000",
          "Rs. 20,97,000",
          "Rs. 15,92,000",
          "Rs. 15,87,000",
          "Rs. 16,61,000",
          "Rs. 18,03,000",
          "Rs. 18,88,000",
          "Rs. 19,73,000",
          "Rs. 20,22,000",
          "Rs. 21,51,000",
          "Rs. 21,99,000",
          "Rs. 21,33,000",
          "Rs. 23,11,000",
          "Rs. 16,99,000",
          "Rs. 20,36,300",
          "Rs. 22,14,000",
          "Rs. 24,99,000",
          "Rs. 21,96,000",
          "Rs. 19,36,000",
          "Rs. 17,71,000",
          "Rs. 20,54,900",
          "Rs. 22,34,900",
          "Rs. 24,95,000",
          "Rs. 25,15,000",
          "Rs. 28,95,000",
          "Rs. 29,95,000",
          "Rs. 33,95,000",
          "Rs. 33,49,599",
          "Rs. 30,29,599",
          "Rs. 28,49,599",
          "Rs. 27,69,000",
          "Rs. 31,91,000",
          "Rs. 28,86,871",
          "Rs. 32,05,000",
          "Rs. 30,19,000",
          "Rs. 32,16,000",
          "Rs. 33,95,000",
          "Rs. 34,20,000",
          "Rs. 29,03,750",
          "Rs. 28,35,500",
          "Rs. 29,53,240",
          "Rs. 29,92,800",
          "Rs. 29,52,500",
          "Rs. 34,70,000",
          "Rs. 32,33,000",
          "Rs. 29,20,000",
          "Rs. 32,83,000",
          "Rs. 29,90,000",
          "Rs. 32,33,000",
          "Rs. 35,64,000",
          "Rs. 38,64,000",
          "Rs. 33,99,000",
          "Rs. 37,40,000",
          "Rs. 35,20,000",
          "Rs. 39,30,000",
          "Rs. 45,70,000",
          "Rs. 42,40,000",
          "Rs. 38,50,500",
          "Rs. 40,20,000",
          "Rs. 46,70,000",
          "Rs. 49,74,750",
          "Rs. 41,40,000",
          "Rs. 46,90,000",
          "Rs. 44,26,500",
          "Rs. 50,21,200",
          "Rs. 56,21,200",
          "Rs. 57,75,000",
          "Rs. 54,94,000",
          "Rs. 59,85,000",
          "Rs. 72,85,332",
          "Rs. 59,64,321",
          "Rs. 58,50,000",
          "Rs. 62,50,000",
          "Rs. 59,30,000",
          "Rs. 66,80,000",
          "Rs. 60,61,200",
          "Rs. 64,63,780",
          "Rs. 68,90,000",
          "Rs. 74,50,000",
          "Rs. 64,40,000",
          "Rs. 65,31,000",
          "Rs. 68,62,560",
          "Rs. 69,48,200",
          "Rs. 72,46,802",
          "Rs. 73,70,000",
          "Rs. 1,25,00,000",
          "Rs. 75,00,000",
          "Rs. 1,02,05,494",
          "Rs. 96,89,321",
          "Rs. 88,77,094",
          "Rs. 1,08,61,088",
          "Rs. 87,90,000",
          "Rs. 80,90,000",
          "Rs. 84,91,500",
          "Rs. 84,70,000",
          "Rs. 1,03,73,732",
          "Rs. 1,19,13,021",
          "Rs. 1,49,08,985",
          "Rs. 97,38,609",
          "Rs. 1,07,25,145",
          "Rs. 1,11,29,599",
          "Rs. 1,02,50,000",
          "Rs. 1,33,87,856",
          "Rs. 1,38,81,858",
          "Rs. 1,42,47,814",
          "Rs. 1,46,99,000",
          "Rs. 1,81,85,267",
          "Rs. 1,95,27,130",
          "Rs. 2,51,74,051",
          "Rs. 3,92,94,685",
          "Rs. 2,36,75,691",
          "Rs. 2,32,90,000",
          "Rs. 5,51,530",
          "Rs. 5,68,930",
          "Rs. 5,90,798",
          "Rs. 6,19,243",
          "Rs. 6,67,273",
          "Rs. 7,54,548",
          "Rs. 7,87,304",
          "Rs. 7,94,800",
          "Rs. 5,99,000",
          "Rs. 6,98,000",
          "Rs. 7,45,000",
          "Rs. 7,57,000",
          "Rs. 8,04,000",
          "Rs. 8,38,000",
          "Rs. 8,84,000",
          "Rs. 6,99,000",
          "Rs. 7,75,000",
          "Rs. 8,44,000",
          "Rs. 9,04,000",
          "Rs. 9,29,000",
          "Rs. 6,42,478",
          "Rs. 5,89,678",
          "Rs. 6,89,761",
          "Rs. 7,88,177",
          "Rs. 26,50,777",
          "Rs. 6,28,072",
          "Rs. 9,00,967",
          "Rs. 14,65,148",
          "Rs. 5,52,890",
          "Rs. 9,27,689",
          "Rs. 8,35,275",
          "Rs. 7,02,946",
          "Rs. 7,67,317",
          "Rs. 7,93,898",
          "Rs. 8,55,362",
          "Rs. 8,36,320",
          "Rs. 9,89,000",
          "Rs. 7,88,797",
          "Rs. 7,05,000",
          "Rs. 8,65,000",
          "Rs. 9,25,000",
          "Rs. 7,85,000",
          "Rs. 8,93,000",
          "Rs. 8,45,000",
          "Rs. 9,06,000",
          "Rs. 7,80,000",
          "Rs. 8,50,000",
          "Rs. 9,83,000",
          "Rs. 9,98,000",
          "Rs. 10,89,000",
          "Rs. 8,45,000",
          "Rs. 9,20,000",
          "Rs. 10,20,000",
          "Rs. 11,00,000",
          "Rs. 11,20,000",
          "Rs. 11,90,000",
          "Rs. 12,10,000",
          "Rs. 9,80,000",
          "Rs. 11,60,000",
          "Rs. 11,80,000",
          "Rs. 12,50,000",
          "Rs. 12,70,000",
          "Rs. 8,62,175",
          "Rs. 9,32,025",
          "Rs. 9,91,434",
          "Rs. 9,86,689",
          "Rs. 10,69,689",
          "Rs. 11,20,689",
          "Rs. 10,35,000",
          "Rs. 9,25,000",
          "Rs. 9,16,050",
          "Rs. 10,48,050",
          "Rs. 9,95,000",
          "Rs. 8,54,328",
          "Rs. 9,14,328",
          "Rs. 9,76,592",
          "Rs. 9,99,614",
          "Rs. 10,31,943",
          "Rs. 10,22,930",
          "Rs. 10,55,259",
          "Rs. 8,80,689",
          "Rs. 9,92,689",
          "Rs. 10,43,689",
          "Rs. 11,43,689",
          "Rs. 10,49,999",
          "Rs. 12,99,999",
          "Rs. 9,63,037",
          "Rs. 10,04,487",
          "Rs. 10,31,951",
          "Rs. 10,66,139",
          "Rs. 12,28,335",
          "Rs. 10,34,000",
          "Rs. 11,54,000",
          "Rs. 12,54,000",
          "Rs. 13,54,000",
          "Rs. 15,34,000",
          "Rs. 16,34,000",
          "Rs. 14,14,000",
          "Rs. 9,99,900",
          "Rs. 14,64,900",
          "Rs. 12,35,700",
          "Rs. 14,19,900",
          "Rs. 12,35,700",
          "Rs. 11,09,005",
          "Rs. 13,35,158",
          "Rs. 14,79,574",
          "Rs. 16,43,829",
          "Rs. 13,48,000",
          "Rs. 14,48,000",
          "Rs. 15,88,000",
          "Rs. 17,28,000",
          "Rs. 20,79,717",
          "Rs. 23,64,354",
          "Rs. 26,97,417",
          "Rs. 24,23,720",
          "Rs. 30,21,500",
          "Rs. 33,21,500",
          "Rs. 25,99,000",
          "Rs. 28,99,000",
          "Rs. 27,34,834",
          "Rs. 29,31,534",
          "Rs. 28,14,500",
          "Rs. 31,53,500",
          "Rs. 31,49,599",
          "Rs. 30,89,851",
          "Rs. 33,03,282",
          "Rs. 32,99,599",
          "Rs. 36,78,599",
          "Rs. 32,99,599",
          "Rs. 36,77,200",
          "Rs. 39,92,200",
          "Rs. 43,61,000",
          "Rs. 61,38,811",
          "Rs. 55,06,622",
          "Rs. 49,77,080",
          "Rs. 57,06,000",
          "Rs. 60,89,000",
          "Rs. 59,90,000",
          "Rs. 72,21,500",
          "Rs. 80,21,500",
          "Rs. 81,11,500",
          "Rs. 96,30,000",
          "Rs. 1,45,12,054",
          "Rs. 1,48,63,774",
          "Rs. 1,53,83,399",
          "Rs. 1,79,00,000",
          "Rs. 5,75,947",
          "Rs. 6,23,000",
          "Rs. 6,99,900",
          "Rs. 7,64,900",
          "Rs. 7,46,621",
          "Rs. 8,68,221",
          "Rs. 6,68,611",
          "Rs. 8,07,921",
          "Rs. 7,51,203",
          "Rs. 8,08,558",
          "Rs. 9,12,534",
          "Rs. 9,93,997",
          "Rs. 8,60,997",
          "Rs. 8,77,285",
          "Rs. 9,42,263",
          "Rs. 9,17,055",
          "Rs. 8,60,720",
          "Rs. 8,15,883",
          "Rs. 7,73,678",
          "Rs. 11,02,689",
          "Rs. 9,19,689",
          "Rs. 9,80,689",
          "Rs. 10,62,689",
          "Rs. 11,38,189",
          "Rs. 9,97,689",
          "Rs. 11,09,189",
          "Rs. 10,06,139",
          "Rs. 11,29,599",
          "Rs. 12,49,599",
          "Rs. 13,99,599",
          "Rs. 12,73,599",
          "Rs. 11,58,599",
          "Rs. 12,73,599",
          "Rs. 9,99,990",
          "Rs. 11,97,919",
          "Rs. 13,66,797",
          "Rs. 15,43,564",
          "Rs. 15,27,395",
          "Rs. 14,21,208",
          "Rs. 13,36,033",
          "Rs. 15,72,064",
          "Rs. 11,07,167",
          "Rs. 14,14,247",
          "Rs. 13,45,363",
          "Rs. 14,71,368",
          "Rs. 15,91,368",
          "Rs. 17,21,368",
          "Rs. 17,32,231",
          "Rs. 17,30,755",
          "Rs. 16,54,783",
          "Rs. 18,06,813",
          "Rs. 19,99,000",
          "Rs. 26,80,000",
          "Rs. 27,60,000",
          "Rs. 30,67,001",
          "Rs. 32,77,001",
          "Rs. 31,72,000",
          "Rs. 36,99,000",
          "Rs. 58,90,000",
          "Rs. 78,82,867",
          "Rs. 89,31,819",
          "Rs. 88,20,000",
          "Rs. 86,90,000",
          "Rs. 1,22,90,000",
          "Rs. 1,32,00,000",
          "Rs. 1,35,10,000",
          "Rs. 1,50,00,000",
          "Rs. 2,32,90,000",
          "Rs. 6,75,090",
          "Rs. 7,90,350",
          "Rs. 8,04,450",
          "Rs. 7,42,033",
          "Rs. 7,42,033",
          "Rs. 7,42,033",
          "Rs. 7,42,033",
          "Rs. 7,42,033",
          "Rs. 7,43,504",
          "Rs. 8,12,964",
          "Rs. 7,97,802",
          "Rs. 9,05,642",
          "Rs. 9,84,818",
          "Rs. 8,32,415",
          "Rs. 9,72,359",
          "Rs. 10,48,603",
          "Rs. 11,09,000",
          "Rs. 12,51,000",
          "Rs. 13,69,000",
          "Rs. 14,65,000",
          "Rs. 14,65,000",
          "Rs. 9,89,000",
          "Rs. 12,05,000",
          "Rs. 30,21,200",
          "Rs. 32,21,200",
          "Rs. 39,90,000",
          "Rs. 43,90,000",
          "Rs. 59,30,000",
          "Rs. 56,00,000",
          "Rs. 68,40,000",
          "Rs. 81,90,000",
          "Rs. 1,10,00,000",
          "Rs. 1,35,58,438",
          "Rs. 6,89,993",
          "Rs. 17,99,599",
          "Rs. 20,79,599",
          "Rs. 22,99,599",
          "Rs. 23,59,599",
          "Rs. 16,99,000",
          "Rs. 21,99,599",
          "Rs. 60,60,000",
          "Rs. 65,90,000",
          "Rs. 6,31,292",
          "Rs. 6,92,655",
          "Rs. 7,47,774",
          "Rs. 11,11,000",
          "Rs. 11,91,000",
          "Rs. 13,02,000",
          "Rs. 14,21,000",
          "Rs. 44,98,000",
          "Rs. 46,33,000",
          "Rs. 7,48,370",
          "Rs. 7,72,617",
          "Rs. 8,45,154",
          "Rs. 73,30,000",
          "Rs. 82,90,000",
          "Rs. 27,70,150",
          "Rs. 30,70,150"
         ],
         "xaxis": "x",
         "y": [
          "1489 cc",
          "1489 cc",
          "1489 cc",
          "1248 cc",
          "1364 cc",
          "1364 cc",
          "1364 cc",
          "1364 cc",
          "1364 cc",
          "1364 cc",
          "1364 cc",
          "1248 cc",
          "1248 cc",
          "1248 cc",
          "1248 cc",
          "1197 cc",
          "1197 cc",
          "1248 cc",
          "1396 cc",
          "1396 cc",
          "1396 cc",
          "1396 cc",
          "1396 cc",
          "1186 cc",
          "1186 cc",
          "1186 cc",
          "1186 cc",
          "1498 cc",
          "1498 cc",
          "1498 cc",
          "1498 cc",
          "1248 cc",
          "1248 cc",
          "1248 cc",
          "1248 cc",
          "1248 cc",
          "1248 cc",
          "1248 cc",
          "1498 cc",
          "1498 cc",
          "1498 cc",
          "1498 cc",
          "1498 cc",
          "1498 cc",
          "1498 cc",
          "1498 cc",
          "1498 cc",
          "1498 cc",
          "1498 cc",
          "1498 cc",
          "1498 cc",
          "1498 cc",
          "1498 cc",
          "1364 cc",
          "1364 cc",
          "1364 cc",
          "1364 cc",
          "1364 cc",
          "1364 cc",
          "1364 cc",
          "1364 cc",
          "1461 cc",
          "1461 cc",
          "1461 cc",
          "1248 cc",
          "1248 cc",
          "1248 cc",
          "1248 cc",
          "1248 cc",
          "1248 cc",
          "1498 cc",
          "1498 cc",
          "1498 cc",
          "1493 cc",
          "1493 cc",
          "1493 cc",
          "1493 cc",
          "2523 cc",
          "2523 cc",
          "1248 cc",
          "1248 cc",
          "1248 cc",
          "1248 cc",
          "1248 cc",
          "1248 cc",
          "1248 cc",
          "1248 cc",
          "1248 cc",
          "1396 cc",
          "1498 cc",
          "1498 cc",
          "1498 cc",
          "1498 cc",
          "1498 cc",
          "1498 cc",
          "1461 cc",
          "1461 cc",
          "1461 cc",
          "1461 cc",
          "1461 cc",
          "1461 cc",
          "1582 cc",
          "1582 cc",
          "1582 cc",
          "1582 cc",
          "1396 cc",
          "1396 cc",
          "1497 cc",
          "1497 cc",
          "1497 cc",
          "1497 cc",
          "1497 cc",
          "1497 cc",
          "1497 cc",
          "1461 cc",
          "1461 cc",
          "1461 cc",
          "1461 cc",
          "1461 cc",
          "1461 cc",
          "1461 cc",
          "1498 cc",
          "1498 cc",
          "1498 cc",
          "1498 cc",
          "1498 cc",
          "1498 cc",
          "1498 cc",
          "1498 cc",
          "1498 cc",
          "2498 cc",
          "2498 cc",
          "2498 cc",
          "2596 cc",
          "2596 cc",
          "2149 cc",
          "2149 cc",
          "2596 cc",
          "2596 cc",
          "2179 cc",
          "2179 cc",
          "2179 cc",
          "1497 cc",
          "1497 cc",
          "1497 cc",
          "1497 cc",
          "1497 cc",
          "1497 cc",
          "1497 cc",
          "1497 cc",
          "2523 cc",
          "2179 cc",
          "2179 cc",
          "2179 cc",
          "2179 cc",
          "2179 cc",
          "2179 cc",
          "2179 cc",
          "2179 cc",
          "1498 cc",
          "1498 cc",
          "2179 cc",
          "2179 cc",
          "2179 cc",
          "2179 cc",
          "2179 cc",
          "2179 cc",
          "2179 cc",
          "2179 cc",
          "2179 cc",
          "2179 cc",
          "2179 cc",
          "2179 cc",
          "2179 cc",
          "2179 cc",
          "2179 cc",
          "2179 cc",
          "2179 cc",
          "2179 cc",
          "2393 cc",
          "2393 cc",
          "2393 cc",
          "2393 cc",
          "2393 cc",
          "2393 cc",
          "2393 cc",
          "2393 cc",
          "1956 cc",
          "1956 cc",
          "1956 cc",
          "1956 cc",
          "1956 cc",
          "1956 cc",
          "1956 cc",
          "1956 cc",
          "1956 cc",
          "1956 cc",
          "1956 cc",
          "1956 cc",
          "1956 cc",
          "1956 cc",
          "1364 cc",
          "1364 cc",
          "1597 cc",
          "1597 cc",
          "2199 cc",
          "2199 cc",
          "2199 cc",
          "2199 cc",
          "2199 cc",
          "1968 cc",
          "1968 cc",
          "1968 cc",
          "1984 cc",
          "1984 cc",
          "2143 cc",
          "2755 cc",
          "2755 cc",
          "2755 cc",
          "2755 cc",
          "2755 cc",
          "2477 cc",
          "2477 cc",
          "2477 cc",
          "2477 cc",
          "2477 cc",
          "3198 cc",
          "2198 cc",
          "2198 cc",
          "1984 cc",
          "1496 cc",
          "2143 cc",
          "2143 cc",
          "2143 cc",
          "1968 cc",
          "1998 cc",
          "1995 cc",
          "1995 cc",
          "1995 cc",
          "1995 cc",
          "1984 cc",
          "1950 cc",
          "1950 cc",
          "1950 cc",
          "1995 cc",
          "1995 cc",
          "2400 cc",
          "1968 cc",
          "1968 cc",
          "1950 cc",
          "1999 cc",
          "1999 cc",
          "2987 cc",
          "2987 cc",
          "2987 cc",
          "2987 cc",
          "1995 cc",
          "2993 cc",
          "1968 cc",
          "1999 cc",
          "2993 cc",
          "2993 cc",
          "1995 cc",
          "1969 cc",
          "3200 cc",
          "1968 cc",
          "1999 cc",
          "1950 cc",
          "2925 cc",
          "1950 cc",
          "2993 cc",
          "2993 cc",
          "2993 cc",
          "2993 cc",
          "1969 cc",
          "1969 cc",
          "1969 cc",
          "1950 cc",
          "2993 cc",
          "2993 cc",
          "4367 cc",
          "2993 cc",
          "2993 cc",
          "2993 cc",
          "2993 cc",
          "2987 cc",
          "2987 cc",
          "2987 cc",
          "4461 cc",
          "2993 cc",
          "2993 cc",
          "4367 cc",
          "4367 cc",
          "4367 cc",
          "4461 cc",
          "1120 cc",
          "1120 cc",
          "1198 cc",
          "1198 cc",
          "1198 cc",
          "1198 cc",
          "1198 cc",
          "1198 cc",
          "1248 cc",
          "1248 cc",
          "1248 cc",
          "1248 cc",
          "1248 cc",
          "1248 cc",
          "1248 cc",
          "1497 cc",
          "1497 cc",
          "1497 cc",
          "1497 cc",
          "1497 cc",
          "1994 cc",
          "1994 cc",
          "1994 cc",
          "1994 cc",
          "1994 cc",
          "1994 cc",
          "1994 cc",
          "1994 cc",
          "1994 cc",
          "1994 cc",
          "1994 cc",
          "1248 cc",
          "1248 cc",
          "1248 cc",
          "1248 cc",
          "1248 cc",
          "1248 cc",
          "1248 cc",
          "1498 cc",
          "1498 cc",
          "1498 cc",
          "1498 cc",
          "1498 cc",
          "1498 cc",
          "1498 cc",
          "1397 cc",
          "1397 cc",
          "1397 cc",
          "1397 cc",
          "1397 cc",
          "1497 cc",
          "1497 cc",
          "1497 cc",
          "1497 cc",
          "1497 cc",
          "1497 cc",
          "1497 cc",
          "1497 cc",
          "1497 cc",
          "1497 cc",
          "1497 cc",
          "1497 cc",
          "1248 cc",
          "1248 cc",
          "1248 cc",
          "1498 cc",
          "1498 cc",
          "1498 cc",
          "1498 cc",
          "1498 cc",
          "1498 cc",
          "1498 cc",
          "1498 cc",
          "1493 cc",
          "1493 cc",
          "1493 cc",
          "1493 cc",
          "1493 cc",
          "1493 cc",
          "1493 cc",
          "1248 cc",
          "1248 cc",
          "1248 cc",
          "1248 cc",
          "1461 cc",
          "1461 cc",
          "2489 cc",
          "2489 cc",
          "2179 cc",
          "2179 cc",
          "2179 cc",
          "1493 cc",
          "1493 cc",
          "1493 cc",
          "1493 cc",
          "1493 cc",
          "1493 cc",
          "1493 cc",
          "1461 cc",
          "1461 cc",
          "1461 cc",
          "1461 cc",
          "1461 cc",
          "2179 cc",
          "2179 cc",
          "2179 cc",
          "2179 cc",
          "2000 cc",
          "2000 cc",
          "2000 cc",
          "2000 cc",
          "1995 cc",
          "1995 cc",
          "1995 cc",
          "1995 cc",
          "1968 cc",
          "1968 cc",
          "1968 cc",
          "1968 cc",
          "2999 cc",
          "2999 cc",
          "1968 cc",
          "1968 cc",
          "1968 cc",
          "2143 cc",
          "2143 cc",
          "1968 cc",
          "1968 cc",
          "1968 cc",
          "1968 cc",
          "1968 cc",
          "1968 cc",
          "1999 cc",
          "1999 cc",
          "1999 cc",
          "1999 cc",
          "1999 cc",
          "1969 cc",
          "2967 cc",
          "2967 cc",
          "2967 cc",
          "2982 cc",
          "2987 cc",
          "2979 cc",
          "2979 cc",
          "2987 cc",
          "1248 cc",
          "1498 cc",
          "1498 cc",
          "1498 cc",
          "1248 cc",
          "1248 cc",
          "1248 cc",
          "1248 cc",
          "1248 cc",
          "1248 cc",
          "1461 cc",
          "1461 cc",
          "1461 cc",
          "1461 cc",
          "2523 cc",
          "2523 cc",
          "2523 cc",
          "2523 cc",
          "2523 cc",
          "1248 cc",
          "1248 cc",
          "1248 cc",
          "1248 cc",
          "1498 cc",
          "1498 cc",
          "1498 cc",
          "1498 cc",
          "1498 cc",
          "1498 cc",
          "1498 cc",
          "1498 cc",
          "1498 cc",
          "1498 cc",
          "1396 cc",
          "1396 cc",
          "1582 cc",
          "1582 cc",
          "1582 cc",
          "1582 cc",
          "1582 cc",
          "1582 cc",
          "1396 cc",
          "1582 cc",
          "1956 cc",
          "1956 cc",
          "1956 cc",
          "1956 cc",
          "1956 cc",
          "1956 cc",
          "2499 cc",
          "2499 cc",
          "1898 cc",
          "1956 cc",
          "1956 cc",
          "1597 cc",
          "1597 cc",
          "2143 cc",
          "2143 cc",
          "1969 cc",
          "2987 cc",
          "2987 cc",
          "2987 cc",
          "2987 cc",
          "2993 cc",
          "2993 cc",
          "2993 cc",
          "2925 cc",
          "5700 cc",
          "1186 cc",
          "1186 cc",
          "1186 cc",
          "1120 cc",
          "1120 cc",
          "1120 cc",
          "1120 cc",
          "1120 cc",
          "1461 cc",
          "1461 cc",
          "1493 cc",
          "1493 cc",
          "1493 cc",
          "1493 cc",
          "1493 cc",
          "1493 cc",
          "1461 cc",
          "1461 cc",
          "1461 cc",
          "1461 cc",
          "1461 cc",
          "1461 cc",
          "2200 cc",
          "1968 cc",
          "1968 cc",
          "1969 cc",
          "1969 cc",
          "1995 cc",
          "1995 cc",
          "2143 cc",
          "2143 cc",
          "1950 cc",
          "2987 cc",
          "1047 cc",
          "1968 cc",
          "1968 cc",
          "1968 cc",
          "1968 cc",
          "1968 cc",
          "1968 cc",
          "1995 cc",
          "2993 cc",
          "1172 cc",
          "1248 cc",
          "1248 cc",
          "1498 cc",
          "1498 cc",
          "1498 cc",
          "1498 cc",
          "1999 cc",
          "1999 cc",
          "1461 cc",
          "1461 cc",
          "1461 cc",
          "2993 cc",
          "2993 cc",
          "2157 cc",
          "2157 cc"
         ],
         "yaxis": "y"
        }
       ],
       "layout": {
        "barmode": "relative",
        "legend": {
         "tracegroupgap": 0
        },
        "margin": {
         "t": 60
        },
        "template": {
         "data": {
          "bar": [
           {
            "error_x": {
             "color": "#2a3f5f"
            },
            "error_y": {
             "color": "#2a3f5f"
            },
            "marker": {
             "line": {
              "color": "#E5ECF6",
              "width": 0.5
             },
             "pattern": {
              "fillmode": "overlay",
              "size": 10,
              "solidity": 0.2
             }
            },
            "type": "bar"
           }
          ],
          "barpolar": [
           {
            "marker": {
             "line": {
              "color": "#E5ECF6",
              "width": 0.5
             },
             "pattern": {
              "fillmode": "overlay",
              "size": 10,
              "solidity": 0.2
             }
            },
            "type": "barpolar"
           }
          ],
          "carpet": [
           {
            "aaxis": {
             "endlinecolor": "#2a3f5f",
             "gridcolor": "white",
             "linecolor": "white",
             "minorgridcolor": "white",
             "startlinecolor": "#2a3f5f"
            },
            "baxis": {
             "endlinecolor": "#2a3f5f",
             "gridcolor": "white",
             "linecolor": "white",
             "minorgridcolor": "white",
             "startlinecolor": "#2a3f5f"
            },
            "type": "carpet"
           }
          ],
          "choropleth": [
           {
            "colorbar": {
             "outlinewidth": 0,
             "ticks": ""
            },
            "type": "choropleth"
           }
          ],
          "contour": [
           {
            "colorbar": {
             "outlinewidth": 0,
             "ticks": ""
            },
            "colorscale": [
             [
              0,
              "#0d0887"
             ],
             [
              0.1111111111111111,
              "#46039f"
             ],
             [
              0.2222222222222222,
              "#7201a8"
             ],
             [
              0.3333333333333333,
              "#9c179e"
             ],
             [
              0.4444444444444444,
              "#bd3786"
             ],
             [
              0.5555555555555556,
              "#d8576b"
             ],
             [
              0.6666666666666666,
              "#ed7953"
             ],
             [
              0.7777777777777778,
              "#fb9f3a"
             ],
             [
              0.8888888888888888,
              "#fdca26"
             ],
             [
              1,
              "#f0f921"
             ]
            ],
            "type": "contour"
           }
          ],
          "contourcarpet": [
           {
            "colorbar": {
             "outlinewidth": 0,
             "ticks": ""
            },
            "type": "contourcarpet"
           }
          ],
          "heatmap": [
           {
            "colorbar": {
             "outlinewidth": 0,
             "ticks": ""
            },
            "colorscale": [
             [
              0,
              "#0d0887"
             ],
             [
              0.1111111111111111,
              "#46039f"
             ],
             [
              0.2222222222222222,
              "#7201a8"
             ],
             [
              0.3333333333333333,
              "#9c179e"
             ],
             [
              0.4444444444444444,
              "#bd3786"
             ],
             [
              0.5555555555555556,
              "#d8576b"
             ],
             [
              0.6666666666666666,
              "#ed7953"
             ],
             [
              0.7777777777777778,
              "#fb9f3a"
             ],
             [
              0.8888888888888888,
              "#fdca26"
             ],
             [
              1,
              "#f0f921"
             ]
            ],
            "type": "heatmap"
           }
          ],
          "heatmapgl": [
           {
            "colorbar": {
             "outlinewidth": 0,
             "ticks": ""
            },
            "colorscale": [
             [
              0,
              "#0d0887"
             ],
             [
              0.1111111111111111,
              "#46039f"
             ],
             [
              0.2222222222222222,
              "#7201a8"
             ],
             [
              0.3333333333333333,
              "#9c179e"
             ],
             [
              0.4444444444444444,
              "#bd3786"
             ],
             [
              0.5555555555555556,
              "#d8576b"
             ],
             [
              0.6666666666666666,
              "#ed7953"
             ],
             [
              0.7777777777777778,
              "#fb9f3a"
             ],
             [
              0.8888888888888888,
              "#fdca26"
             ],
             [
              1,
              "#f0f921"
             ]
            ],
            "type": "heatmapgl"
           }
          ],
          "histogram": [
           {
            "marker": {
             "pattern": {
              "fillmode": "overlay",
              "size": 10,
              "solidity": 0.2
             }
            },
            "type": "histogram"
           }
          ],
          "histogram2d": [
           {
            "colorbar": {
             "outlinewidth": 0,
             "ticks": ""
            },
            "colorscale": [
             [
              0,
              "#0d0887"
             ],
             [
              0.1111111111111111,
              "#46039f"
             ],
             [
              0.2222222222222222,
              "#7201a8"
             ],
             [
              0.3333333333333333,
              "#9c179e"
             ],
             [
              0.4444444444444444,
              "#bd3786"
             ],
             [
              0.5555555555555556,
              "#d8576b"
             ],
             [
              0.6666666666666666,
              "#ed7953"
             ],
             [
              0.7777777777777778,
              "#fb9f3a"
             ],
             [
              0.8888888888888888,
              "#fdca26"
             ],
             [
              1,
              "#f0f921"
             ]
            ],
            "type": "histogram2d"
           }
          ],
          "histogram2dcontour": [
           {
            "colorbar": {
             "outlinewidth": 0,
             "ticks": ""
            },
            "colorscale": [
             [
              0,
              "#0d0887"
             ],
             [
              0.1111111111111111,
              "#46039f"
             ],
             [
              0.2222222222222222,
              "#7201a8"
             ],
             [
              0.3333333333333333,
              "#9c179e"
             ],
             [
              0.4444444444444444,
              "#bd3786"
             ],
             [
              0.5555555555555556,
              "#d8576b"
             ],
             [
              0.6666666666666666,
              "#ed7953"
             ],
             [
              0.7777777777777778,
              "#fb9f3a"
             ],
             [
              0.8888888888888888,
              "#fdca26"
             ],
             [
              1,
              "#f0f921"
             ]
            ],
            "type": "histogram2dcontour"
           }
          ],
          "mesh3d": [
           {
            "colorbar": {
             "outlinewidth": 0,
             "ticks": ""
            },
            "type": "mesh3d"
           }
          ],
          "parcoords": [
           {
            "line": {
             "colorbar": {
              "outlinewidth": 0,
              "ticks": ""
             }
            },
            "type": "parcoords"
           }
          ],
          "pie": [
           {
            "automargin": true,
            "type": "pie"
           }
          ],
          "scatter": [
           {
            "marker": {
             "colorbar": {
              "outlinewidth": 0,
              "ticks": ""
             }
            },
            "type": "scatter"
           }
          ],
          "scatter3d": [
           {
            "line": {
             "colorbar": {
              "outlinewidth": 0,
              "ticks": ""
             }
            },
            "marker": {
             "colorbar": {
              "outlinewidth": 0,
              "ticks": ""
             }
            },
            "type": "scatter3d"
           }
          ],
          "scattercarpet": [
           {
            "marker": {
             "colorbar": {
              "outlinewidth": 0,
              "ticks": ""
             }
            },
            "type": "scattercarpet"
           }
          ],
          "scattergeo": [
           {
            "marker": {
             "colorbar": {
              "outlinewidth": 0,
              "ticks": ""
             }
            },
            "type": "scattergeo"
           }
          ],
          "scattergl": [
           {
            "marker": {
             "colorbar": {
              "outlinewidth": 0,
              "ticks": ""
             }
            },
            "type": "scattergl"
           }
          ],
          "scattermapbox": [
           {
            "marker": {
             "colorbar": {
              "outlinewidth": 0,
              "ticks": ""
             }
            },
            "type": "scattermapbox"
           }
          ],
          "scatterpolar": [
           {
            "marker": {
             "colorbar": {
              "outlinewidth": 0,
              "ticks": ""
             }
            },
            "type": "scatterpolar"
           }
          ],
          "scatterpolargl": [
           {
            "marker": {
             "colorbar": {
              "outlinewidth": 0,
              "ticks": ""
             }
            },
            "type": "scatterpolargl"
           }
          ],
          "scatterternary": [
           {
            "marker": {
             "colorbar": {
              "outlinewidth": 0,
              "ticks": ""
             }
            },
            "type": "scatterternary"
           }
          ],
          "surface": [
           {
            "colorbar": {
             "outlinewidth": 0,
             "ticks": ""
            },
            "colorscale": [
             [
              0,
              "#0d0887"
             ],
             [
              0.1111111111111111,
              "#46039f"
             ],
             [
              0.2222222222222222,
              "#7201a8"
             ],
             [
              0.3333333333333333,
              "#9c179e"
             ],
             [
              0.4444444444444444,
              "#bd3786"
             ],
             [
              0.5555555555555556,
              "#d8576b"
             ],
             [
              0.6666666666666666,
              "#ed7953"
             ],
             [
              0.7777777777777778,
              "#fb9f3a"
             ],
             [
              0.8888888888888888,
              "#fdca26"
             ],
             [
              1,
              "#f0f921"
             ]
            ],
            "type": "surface"
           }
          ],
          "table": [
           {
            "cells": {
             "fill": {
              "color": "#EBF0F8"
             },
             "line": {
              "color": "white"
             }
            },
            "header": {
             "fill": {
              "color": "#C8D4E3"
             },
             "line": {
              "color": "white"
             }
            },
            "type": "table"
           }
          ]
         },
         "layout": {
          "annotationdefaults": {
           "arrowcolor": "#2a3f5f",
           "arrowhead": 0,
           "arrowwidth": 1
          },
          "autotypenumbers": "strict",
          "coloraxis": {
           "colorbar": {
            "outlinewidth": 0,
            "ticks": ""
           }
          },
          "colorscale": {
           "diverging": [
            [
             0,
             "#8e0152"
            ],
            [
             0.1,
             "#c51b7d"
            ],
            [
             0.2,
             "#de77ae"
            ],
            [
             0.3,
             "#f1b6da"
            ],
            [
             0.4,
             "#fde0ef"
            ],
            [
             0.5,
             "#f7f7f7"
            ],
            [
             0.6,
             "#e6f5d0"
            ],
            [
             0.7,
             "#b8e186"
            ],
            [
             0.8,
             "#7fbc41"
            ],
            [
             0.9,
             "#4d9221"
            ],
            [
             1,
             "#276419"
            ]
           ],
           "sequential": [
            [
             0,
             "#0d0887"
            ],
            [
             0.1111111111111111,
             "#46039f"
            ],
            [
             0.2222222222222222,
             "#7201a8"
            ],
            [
             0.3333333333333333,
             "#9c179e"
            ],
            [
             0.4444444444444444,
             "#bd3786"
            ],
            [
             0.5555555555555556,
             "#d8576b"
            ],
            [
             0.6666666666666666,
             "#ed7953"
            ],
            [
             0.7777777777777778,
             "#fb9f3a"
            ],
            [
             0.8888888888888888,
             "#fdca26"
            ],
            [
             1,
             "#f0f921"
            ]
           ],
           "sequentialminus": [
            [
             0,
             "#0d0887"
            ],
            [
             0.1111111111111111,
             "#46039f"
            ],
            [
             0.2222222222222222,
             "#7201a8"
            ],
            [
             0.3333333333333333,
             "#9c179e"
            ],
            [
             0.4444444444444444,
             "#bd3786"
            ],
            [
             0.5555555555555556,
             "#d8576b"
            ],
            [
             0.6666666666666666,
             "#ed7953"
            ],
            [
             0.7777777777777778,
             "#fb9f3a"
            ],
            [
             0.8888888888888888,
             "#fdca26"
            ],
            [
             1,
             "#f0f921"
            ]
           ]
          },
          "colorway": [
           "#636efa",
           "#EF553B",
           "#00cc96",
           "#ab63fa",
           "#FFA15A",
           "#19d3f3",
           "#FF6692",
           "#B6E880",
           "#FF97FF",
           "#FECB52"
          ],
          "font": {
           "color": "#2a3f5f"
          },
          "geo": {
           "bgcolor": "white",
           "lakecolor": "white",
           "landcolor": "#E5ECF6",
           "showlakes": true,
           "showland": true,
           "subunitcolor": "white"
          },
          "hoverlabel": {
           "align": "left"
          },
          "hovermode": "closest",
          "mapbox": {
           "style": "light"
          },
          "paper_bgcolor": "white",
          "plot_bgcolor": "#E5ECF6",
          "polar": {
           "angularaxis": {
            "gridcolor": "white",
            "linecolor": "white",
            "ticks": ""
           },
           "bgcolor": "#E5ECF6",
           "radialaxis": {
            "gridcolor": "white",
            "linecolor": "white",
            "ticks": ""
           }
          },
          "scene": {
           "xaxis": {
            "backgroundcolor": "#E5ECF6",
            "gridcolor": "white",
            "gridwidth": 2,
            "linecolor": "white",
            "showbackground": true,
            "ticks": "",
            "zerolinecolor": "white"
           },
           "yaxis": {
            "backgroundcolor": "#E5ECF6",
            "gridcolor": "white",
            "gridwidth": 2,
            "linecolor": "white",
            "showbackground": true,
            "ticks": "",
            "zerolinecolor": "white"
           },
           "zaxis": {
            "backgroundcolor": "#E5ECF6",
            "gridcolor": "white",
            "gridwidth": 2,
            "linecolor": "white",
            "showbackground": true,
            "ticks": "",
            "zerolinecolor": "white"
           }
          },
          "shapedefaults": {
           "line": {
            "color": "#2a3f5f"
           }
          },
          "ternary": {
           "aaxis": {
            "gridcolor": "white",
            "linecolor": "white",
            "ticks": ""
           },
           "baxis": {
            "gridcolor": "white",
            "linecolor": "white",
            "ticks": ""
           },
           "bgcolor": "#E5ECF6",
           "caxis": {
            "gridcolor": "white",
            "linecolor": "white",
            "ticks": ""
           }
          },
          "title": {
           "x": 0.05
          },
          "xaxis": {
           "automargin": true,
           "gridcolor": "white",
           "linecolor": "white",
           "ticks": "",
           "title": {
            "standoff": 15
           },
           "zerolinecolor": "white",
           "zerolinewidth": 2
          },
          "yaxis": {
           "automargin": true,
           "gridcolor": "white",
           "linecolor": "white",
           "ticks": "",
           "title": {
            "standoff": 15
           },
           "zerolinecolor": "white",
           "zerolinewidth": 2
          }
         }
        },
        "xaxis": {
         "anchor": "y",
         "domain": [
          0,
          1
         ],
         "title": {
          "text": "Ex-Showroom_Price"
         }
        },
        "yaxis": {
         "anchor": "x",
         "domain": [
          0,
          1
         ],
         "title": {
          "text": "Displacement"
         }
        }
       }
      },
      "text/html": [
       "<div>                            <div id=\"a5fedd00-e8fa-4aeb-8e64-7321d5c4ec48\" class=\"plotly-graph-div\" style=\"height:525px; width:100%;\"></div>            <script type=\"text/javascript\">                require([\"plotly\"], function(Plotly) {                    window.PLOTLYENV=window.PLOTLYENV || {};                                    if (document.getElementById(\"a5fedd00-e8fa-4aeb-8e64-7321d5c4ec48\")) {                    Plotly.newPlot(                        \"a5fedd00-e8fa-4aeb-8e64-7321d5c4ec48\",                        [{\"alignmentgroup\":\"True\",\"hovertemplate\":\"Ex-Showroom_Price=%{x}<br>Displacement=%{y}<extra></extra>\",\"legendgroup\":\"\",\"marker\":{\"color\":\"#636efa\",\"pattern\":{\"shape\":\"\"}},\"name\":\"\",\"offsetgroup\":\"\",\"orientation\":\"v\",\"showlegend\":false,\"textposition\":\"auto\",\"type\":\"bar\",\"x\":[\"Rs. 5,68,623\",\"Rs. 6,03,000\",\"Rs. 7,39,000\",\"Rs. 7,39,000\",\"Rs. 6,47,800\",\"Rs. 7,45,000\",\"Rs. 7,04,000\",\"Rs. 7,20,700\",\"Rs. 7,56,700\",\"Rs. 6,86,000\",\"Rs. 7,77,700\",\"Rs. 7,87,980\",\"Rs. 6,61,111\",\"Rs. 6,93,798\",\"Rs. 7,19,661\",\"Rs. 6,39,616\",\"Rs. 6,20,297\",\"Rs. 6,53,523\",\"Rs. 6,97,803\",\"Rs. 7,70,803\",\"Rs. 8,76,103\",\"Rs. 9,34,003\",\"Rs. 8,46,103\",\"Rs. 7,73,800\",\"Rs. 8,23,700\",\"Rs. 9,22,700\",\"Rs. 9,03,800\",\"Rs. 7,34,500\",\"Rs. 8,51,500\",\"Rs. 9,31,500\",\"Rs. 9,88,500\",\"Rs. 6,66,622\",\"Rs. 7,57,622\",\"Rs. 8,63,122\",\"Rs. 8,16,622\",\"Rs. 9,06,122\",\"Rs. 8,04,622\",\"Rs. 9,52,622\",\"Rs. 6,76,400\",\"Rs. 7,90,900\",\"Rs. 8,36,400\",\"Rs. 7,45,900\",\"Rs. 7,11,500\",\"Rs. 8,10,500\",\"Rs. 9,99,900\",\"Rs. 9,25,500\",\"Rs. 9,99,900\",\"Rs. 6,99,400\",\"Rs. 7,37,400\",\"Rs. 7,77,400\",\"Rs. 8,17,400\",\"Rs. 8,62,400\",\"Rs. 8,42,400\",\"Rs. 7,34,700\",\"Rs. 8,28,600\",\"Rs. 8,88,400\",\"Rs. 7,99,600\",\"Rs. 9,13,400\",\"Rs. 7,97,500\",\"Rs. 7,66,000\",\"Rs. 8,16,000\",\"Rs. 6,57,628\",\"Rs. 6,85,729\",\"Rs. 7,50,428\",\"Rs. 6,77,618\",\"Rs. 7,39,074\",\"Rs. 8,10,211\",\"Rs. 7,96,132\",\"Rs. 7,11,801\",\"Rs. 8,76,341\",\"Rs. 8,16,500\",\"Rs. 8,96,500\",\"Rs. 9,40,500\",\"Rs. 8,86,398\",\"Rs. 8,51,302\",\"Rs. 7,85,656\",\"Rs. 7,49,192\",\"Rs. 8,59,497\",\"Rs. 8,19,117\",\"Rs. 7,62,742\",\"Rs. 8,14,742\",\"Rs. 8,92,243\",\"Rs. 9,87,743\",\"Rs. 10,03,552\",\"Rs. 10,37,742\",\"Rs. 8,64,742\",\"Rs. 9,42,243\",\"Rs. 10,59,742\",\"Rs. 9,93,393\",\"Rs. 8,41,000\",\"Rs. 9,21,000\",\"Rs. 9,99,900\",\"Rs. 10,90,000\",\"Rs. 11,45,000\",\"Rs. 10,90,000\",\"Rs. 9,29,990\",\"Rs. 9,99,990\",\"Rs. 11,19,990\",\"Rs. 12,09,990\",\"Rs. 12,49,990\",\"Rs. 12,49,990\",\"Rs. 11,72,544\",\"Rs. 13,01,881\",\"Rs. 13,28,545\",\"Rs. 14,07,871\",\"Rs. 9,42,867\",\"Rs. 9,99,900\",\"Rs. 8,69,131\",\"Rs. 9,50,131\",\"Rs. 10,95,129\",\"Rs. 12,14,130\",\"Rs. 11,49,800\",\"Rs. 12,69,131\",\"Rs. 9,99,000\",\"Rs. 8,63,299\",\"Rs. 9,64,199\",\"Rs. 12,11,599\",\"Rs. 12,11,599\",\"Rs. 10,53,899\",\"Rs. 11,30,099\",\"Rs. 9,64,199\",\"Rs. 9,58,500\",\"Rs. 9,99,900\",\"Rs. 12,10,500\",\"Rs. 13,36,500\",\"Rs. 13,17,500\",\"Rs. 14,49,500\",\"Rs. 11,87,900\",\"Rs. 12,73,900\",\"Rs. 13,82,900\",\"Rs. 9,59,860\",\"Rs. 9,99,148\",\"Rs. 9,74,860\",\"Rs. 9,99,000\",\"Rs. 10,75,000\",\"Rs. 12,99,000\",\"Rs. 13,30,000\",\"Rs. 9,75,000\",\"Rs. 12,25,000\",\"Rs. 9,92,748\",\"Rs. 10,29,650\",\"Rs. 11,42,157\",\"Rs. 9,99,900\",\"Rs. 11,56,471\",\"Rs. 13,08,592\",\"Rs. 14,68,440\",\"Rs. 9,99,900\",\"Rs. 11,64,569\",\"Rs. 13,16,690\",\"Rs. 14,76,538\",\"Rs. 9,99,994\",\"Rs. 12,36,258\",\"Rs. 11,23,158\",\"Rs. 12,20,030\",\"Rs. 13,30,006\",\"Rs. 13,60,668\",\"Rs. 15,40,081\",\"Rs. 16,63,054\",\"Rs. 14,23,710\",\"Rs. 14,25,599\",\"Rs. 12,99,599\",\"Rs. 14,18,313\",\"Rs. 15,39,488\",\"Rs. 15,88,943\",\"Rs. 17,10,118\",\"Rs. 17,16,319\",\"Rs. 18,37,586\",\"Rs. 17,41,319\",\"Rs. 18,62,586\",\"Rs. 18,52,488\",\"Rs. 19,73,664\",\"Rs. 12,30,924\",\"Rs. 16,39,374\",\"Rs. 19,29,417\",\"Rs. 19,12,593\",\"Rs. 17,96,458\",\"Rs. 13,71,864\",\"Rs. 15,31,377\",\"Rs. 16,55,587\",\"Rs. 16,05,000\",\"Rs. 19,27,000\",\"Rs. 16,10,000\",\"Rs. 19,32,000\",\"Rs. 21,13,000\",\"Rs. 20,97,000\",\"Rs. 15,92,000\",\"Rs. 15,87,000\",\"Rs. 16,61,000\",\"Rs. 18,03,000\",\"Rs. 18,88,000\",\"Rs. 19,73,000\",\"Rs. 20,22,000\",\"Rs. 21,51,000\",\"Rs. 21,99,000\",\"Rs. 21,33,000\",\"Rs. 23,11,000\",\"Rs. 16,99,000\",\"Rs. 20,36,300\",\"Rs. 22,14,000\",\"Rs. 24,99,000\",\"Rs. 21,96,000\",\"Rs. 19,36,000\",\"Rs. 17,71,000\",\"Rs. 20,54,900\",\"Rs. 22,34,900\",\"Rs. 24,95,000\",\"Rs. 25,15,000\",\"Rs. 28,95,000\",\"Rs. 29,95,000\",\"Rs. 33,95,000\",\"Rs. 33,49,599\",\"Rs. 30,29,599\",\"Rs. 28,49,599\",\"Rs. 27,69,000\",\"Rs. 31,91,000\",\"Rs. 28,86,871\",\"Rs. 32,05,000\",\"Rs. 30,19,000\",\"Rs. 32,16,000\",\"Rs. 33,95,000\",\"Rs. 34,20,000\",\"Rs. 29,03,750\",\"Rs. 28,35,500\",\"Rs. 29,53,240\",\"Rs. 29,92,800\",\"Rs. 29,52,500\",\"Rs. 34,70,000\",\"Rs. 32,33,000\",\"Rs. 29,20,000\",\"Rs. 32,83,000\",\"Rs. 29,90,000\",\"Rs. 32,33,000\",\"Rs. 35,64,000\",\"Rs. 38,64,000\",\"Rs. 33,99,000\",\"Rs. 37,40,000\",\"Rs. 35,20,000\",\"Rs. 39,30,000\",\"Rs. 45,70,000\",\"Rs. 42,40,000\",\"Rs. 38,50,500\",\"Rs. 40,20,000\",\"Rs. 46,70,000\",\"Rs. 49,74,750\",\"Rs. 41,40,000\",\"Rs. 46,90,000\",\"Rs. 44,26,500\",\"Rs. 50,21,200\",\"Rs. 56,21,200\",\"Rs. 57,75,000\",\"Rs. 54,94,000\",\"Rs. 59,85,000\",\"Rs. 72,85,332\",\"Rs. 59,64,321\",\"Rs. 58,50,000\",\"Rs. 62,50,000\",\"Rs. 59,30,000\",\"Rs. 66,80,000\",\"Rs. 60,61,200\",\"Rs. 64,63,780\",\"Rs. 68,90,000\",\"Rs. 74,50,000\",\"Rs. 64,40,000\",\"Rs. 65,31,000\",\"Rs. 68,62,560\",\"Rs. 69,48,200\",\"Rs. 72,46,802\",\"Rs. 73,70,000\",\"Rs. 1,25,00,000\",\"Rs. 75,00,000\",\"Rs. 1,02,05,494\",\"Rs. 96,89,321\",\"Rs. 88,77,094\",\"Rs. 1,08,61,088\",\"Rs. 87,90,000\",\"Rs. 80,90,000\",\"Rs. 84,91,500\",\"Rs. 84,70,000\",\"Rs. 1,03,73,732\",\"Rs. 1,19,13,021\",\"Rs. 1,49,08,985\",\"Rs. 97,38,609\",\"Rs. 1,07,25,145\",\"Rs. 1,11,29,599\",\"Rs. 1,02,50,000\",\"Rs. 1,33,87,856\",\"Rs. 1,38,81,858\",\"Rs. 1,42,47,814\",\"Rs. 1,46,99,000\",\"Rs. 1,81,85,267\",\"Rs. 1,95,27,130\",\"Rs. 2,51,74,051\",\"Rs. 3,92,94,685\",\"Rs. 2,36,75,691\",\"Rs. 2,32,90,000\",\"Rs. 5,51,530\",\"Rs. 5,68,930\",\"Rs. 5,90,798\",\"Rs. 6,19,243\",\"Rs. 6,67,273\",\"Rs. 7,54,548\",\"Rs. 7,87,304\",\"Rs. 7,94,800\",\"Rs. 5,99,000\",\"Rs. 6,98,000\",\"Rs. 7,45,000\",\"Rs. 7,57,000\",\"Rs. 8,04,000\",\"Rs. 8,38,000\",\"Rs. 8,84,000\",\"Rs. 6,99,000\",\"Rs. 7,75,000\",\"Rs. 8,44,000\",\"Rs. 9,04,000\",\"Rs. 9,29,000\",\"Rs. 6,42,478\",\"Rs. 5,89,678\",\"Rs. 6,89,761\",\"Rs. 7,88,177\",\"Rs. 26,50,777\",\"Rs. 6,28,072\",\"Rs. 9,00,967\",\"Rs. 14,65,148\",\"Rs. 5,52,890\",\"Rs. 9,27,689\",\"Rs. 8,35,275\",\"Rs. 7,02,946\",\"Rs. 7,67,317\",\"Rs. 7,93,898\",\"Rs. 8,55,362\",\"Rs. 8,36,320\",\"Rs. 9,89,000\",\"Rs. 7,88,797\",\"Rs. 7,05,000\",\"Rs. 8,65,000\",\"Rs. 9,25,000\",\"Rs. 7,85,000\",\"Rs. 8,93,000\",\"Rs. 8,45,000\",\"Rs. 9,06,000\",\"Rs. 7,80,000\",\"Rs. 8,50,000\",\"Rs. 9,83,000\",\"Rs. 9,98,000\",\"Rs. 10,89,000\",\"Rs. 8,45,000\",\"Rs. 9,20,000\",\"Rs. 10,20,000\",\"Rs. 11,00,000\",\"Rs. 11,20,000\",\"Rs. 11,90,000\",\"Rs. 12,10,000\",\"Rs. 9,80,000\",\"Rs. 11,60,000\",\"Rs. 11,80,000\",\"Rs. 12,50,000\",\"Rs. 12,70,000\",\"Rs. 8,62,175\",\"Rs. 9,32,025\",\"Rs. 9,91,434\",\"Rs. 9,86,689\",\"Rs. 10,69,689\",\"Rs. 11,20,689\",\"Rs. 10,35,000\",\"Rs. 9,25,000\",\"Rs. 9,16,050\",\"Rs. 10,48,050\",\"Rs. 9,95,000\",\"Rs. 8,54,328\",\"Rs. 9,14,328\",\"Rs. 9,76,592\",\"Rs. 9,99,614\",\"Rs. 10,31,943\",\"Rs. 10,22,930\",\"Rs. 10,55,259\",\"Rs. 8,80,689\",\"Rs. 9,92,689\",\"Rs. 10,43,689\",\"Rs. 11,43,689\",\"Rs. 10,49,999\",\"Rs. 12,99,999\",\"Rs. 9,63,037\",\"Rs. 10,04,487\",\"Rs. 10,31,951\",\"Rs. 10,66,139\",\"Rs. 12,28,335\",\"Rs. 10,34,000\",\"Rs. 11,54,000\",\"Rs. 12,54,000\",\"Rs. 13,54,000\",\"Rs. 15,34,000\",\"Rs. 16,34,000\",\"Rs. 14,14,000\",\"Rs. 9,99,900\",\"Rs. 14,64,900\",\"Rs. 12,35,700\",\"Rs. 14,19,900\",\"Rs. 12,35,700\",\"Rs. 11,09,005\",\"Rs. 13,35,158\",\"Rs. 14,79,574\",\"Rs. 16,43,829\",\"Rs. 13,48,000\",\"Rs. 14,48,000\",\"Rs. 15,88,000\",\"Rs. 17,28,000\",\"Rs. 20,79,717\",\"Rs. 23,64,354\",\"Rs. 26,97,417\",\"Rs. 24,23,720\",\"Rs. 30,21,500\",\"Rs. 33,21,500\",\"Rs. 25,99,000\",\"Rs. 28,99,000\",\"Rs. 27,34,834\",\"Rs. 29,31,534\",\"Rs. 28,14,500\",\"Rs. 31,53,500\",\"Rs. 31,49,599\",\"Rs. 30,89,851\",\"Rs. 33,03,282\",\"Rs. 32,99,599\",\"Rs. 36,78,599\",\"Rs. 32,99,599\",\"Rs. 36,77,200\",\"Rs. 39,92,200\",\"Rs. 43,61,000\",\"Rs. 61,38,811\",\"Rs. 55,06,622\",\"Rs. 49,77,080\",\"Rs. 57,06,000\",\"Rs. 60,89,000\",\"Rs. 59,90,000\",\"Rs. 72,21,500\",\"Rs. 80,21,500\",\"Rs. 81,11,500\",\"Rs. 96,30,000\",\"Rs. 1,45,12,054\",\"Rs. 1,48,63,774\",\"Rs. 1,53,83,399\",\"Rs. 1,79,00,000\",\"Rs. 5,75,947\",\"Rs. 6,23,000\",\"Rs. 6,99,900\",\"Rs. 7,64,900\",\"Rs. 7,46,621\",\"Rs. 8,68,221\",\"Rs. 6,68,611\",\"Rs. 8,07,921\",\"Rs. 7,51,203\",\"Rs. 8,08,558\",\"Rs. 9,12,534\",\"Rs. 9,93,997\",\"Rs. 8,60,997\",\"Rs. 8,77,285\",\"Rs. 9,42,263\",\"Rs. 9,17,055\",\"Rs. 8,60,720\",\"Rs. 8,15,883\",\"Rs. 7,73,678\",\"Rs. 11,02,689\",\"Rs. 9,19,689\",\"Rs. 9,80,689\",\"Rs. 10,62,689\",\"Rs. 11,38,189\",\"Rs. 9,97,689\",\"Rs. 11,09,189\",\"Rs. 10,06,139\",\"Rs. 11,29,599\",\"Rs. 12,49,599\",\"Rs. 13,99,599\",\"Rs. 12,73,599\",\"Rs. 11,58,599\",\"Rs. 12,73,599\",\"Rs. 9,99,990\",\"Rs. 11,97,919\",\"Rs. 13,66,797\",\"Rs. 15,43,564\",\"Rs. 15,27,395\",\"Rs. 14,21,208\",\"Rs. 13,36,033\",\"Rs. 15,72,064\",\"Rs. 11,07,167\",\"Rs. 14,14,247\",\"Rs. 13,45,363\",\"Rs. 14,71,368\",\"Rs. 15,91,368\",\"Rs. 17,21,368\",\"Rs. 17,32,231\",\"Rs. 17,30,755\",\"Rs. 16,54,783\",\"Rs. 18,06,813\",\"Rs. 19,99,000\",\"Rs. 26,80,000\",\"Rs. 27,60,000\",\"Rs. 30,67,001\",\"Rs. 32,77,001\",\"Rs. 31,72,000\",\"Rs. 36,99,000\",\"Rs. 58,90,000\",\"Rs. 78,82,867\",\"Rs. 89,31,819\",\"Rs. 88,20,000\",\"Rs. 86,90,000\",\"Rs. 1,22,90,000\",\"Rs. 1,32,00,000\",\"Rs. 1,35,10,000\",\"Rs. 1,50,00,000\",\"Rs. 2,32,90,000\",\"Rs. 6,75,090\",\"Rs. 7,90,350\",\"Rs. 8,04,450\",\"Rs. 7,42,033\",\"Rs. 7,42,033\",\"Rs. 7,42,033\",\"Rs. 7,42,033\",\"Rs. 7,42,033\",\"Rs. 7,43,504\",\"Rs. 8,12,964\",\"Rs. 7,97,802\",\"Rs. 9,05,642\",\"Rs. 9,84,818\",\"Rs. 8,32,415\",\"Rs. 9,72,359\",\"Rs. 10,48,603\",\"Rs. 11,09,000\",\"Rs. 12,51,000\",\"Rs. 13,69,000\",\"Rs. 14,65,000\",\"Rs. 14,65,000\",\"Rs. 9,89,000\",\"Rs. 12,05,000\",\"Rs. 30,21,200\",\"Rs. 32,21,200\",\"Rs. 39,90,000\",\"Rs. 43,90,000\",\"Rs. 59,30,000\",\"Rs. 56,00,000\",\"Rs. 68,40,000\",\"Rs. 81,90,000\",\"Rs. 1,10,00,000\",\"Rs. 1,35,58,438\",\"Rs. 6,89,993\",\"Rs. 17,99,599\",\"Rs. 20,79,599\",\"Rs. 22,99,599\",\"Rs. 23,59,599\",\"Rs. 16,99,000\",\"Rs. 21,99,599\",\"Rs. 60,60,000\",\"Rs. 65,90,000\",\"Rs. 6,31,292\",\"Rs. 6,92,655\",\"Rs. 7,47,774\",\"Rs. 11,11,000\",\"Rs. 11,91,000\",\"Rs. 13,02,000\",\"Rs. 14,21,000\",\"Rs. 44,98,000\",\"Rs. 46,33,000\",\"Rs. 7,48,370\",\"Rs. 7,72,617\",\"Rs. 8,45,154\",\"Rs. 73,30,000\",\"Rs. 82,90,000\",\"Rs. 27,70,150\",\"Rs. 30,70,150\"],\"xaxis\":\"x\",\"y\":[\"1489 cc\",\"1489 cc\",\"1489 cc\",\"1248 cc\",\"1364 cc\",\"1364 cc\",\"1364 cc\",\"1364 cc\",\"1364 cc\",\"1364 cc\",\"1364 cc\",\"1248 cc\",\"1248 cc\",\"1248 cc\",\"1248 cc\",\"1197 cc\",\"1197 cc\",\"1248 cc\",\"1396 cc\",\"1396 cc\",\"1396 cc\",\"1396 cc\",\"1396 cc\",\"1186 cc\",\"1186 cc\",\"1186 cc\",\"1186 cc\",\"1498 cc\",\"1498 cc\",\"1498 cc\",\"1498 cc\",\"1248 cc\",\"1248 cc\",\"1248 cc\",\"1248 cc\",\"1248 cc\",\"1248 cc\",\"1248 cc\",\"1498 cc\",\"1498 cc\",\"1498 cc\",\"1498 cc\",\"1498 cc\",\"1498 cc\",\"1498 cc\",\"1498 cc\",\"1498 cc\",\"1498 cc\",\"1498 cc\",\"1498 cc\",\"1498 cc\",\"1498 cc\",\"1498 cc\",\"1364 cc\",\"1364 cc\",\"1364 cc\",\"1364 cc\",\"1364 cc\",\"1364 cc\",\"1364 cc\",\"1364 cc\",\"1461 cc\",\"1461 cc\",\"1461 cc\",\"1248 cc\",\"1248 cc\",\"1248 cc\",\"1248 cc\",\"1248 cc\",\"1248 cc\",\"1498 cc\",\"1498 cc\",\"1498 cc\",\"1493 cc\",\"1493 cc\",\"1493 cc\",\"1493 cc\",\"2523 cc\",\"2523 cc\",\"1248 cc\",\"1248 cc\",\"1248 cc\",\"1248 cc\",\"1248 cc\",\"1248 cc\",\"1248 cc\",\"1248 cc\",\"1248 cc\",\"1396 cc\",\"1498 cc\",\"1498 cc\",\"1498 cc\",\"1498 cc\",\"1498 cc\",\"1498 cc\",\"1461 cc\",\"1461 cc\",\"1461 cc\",\"1461 cc\",\"1461 cc\",\"1461 cc\",\"1582 cc\",\"1582 cc\",\"1582 cc\",\"1582 cc\",\"1396 cc\",\"1396 cc\",\"1497 cc\",\"1497 cc\",\"1497 cc\",\"1497 cc\",\"1497 cc\",\"1497 cc\",\"1497 cc\",\"1461 cc\",\"1461 cc\",\"1461 cc\",\"1461 cc\",\"1461 cc\",\"1461 cc\",\"1461 cc\",\"1498 cc\",\"1498 cc\",\"1498 cc\",\"1498 cc\",\"1498 cc\",\"1498 cc\",\"1498 cc\",\"1498 cc\",\"1498 cc\",\"2498 cc\",\"2498 cc\",\"2498 cc\",\"2596 cc\",\"2596 cc\",\"2149 cc\",\"2149 cc\",\"2596 cc\",\"2596 cc\",\"2179 cc\",\"2179 cc\",\"2179 cc\",\"1497 cc\",\"1497 cc\",\"1497 cc\",\"1497 cc\",\"1497 cc\",\"1497 cc\",\"1497 cc\",\"1497 cc\",\"2523 cc\",\"2179 cc\",\"2179 cc\",\"2179 cc\",\"2179 cc\",\"2179 cc\",\"2179 cc\",\"2179 cc\",\"2179 cc\",\"1498 cc\",\"1498 cc\",\"2179 cc\",\"2179 cc\",\"2179 cc\",\"2179 cc\",\"2179 cc\",\"2179 cc\",\"2179 cc\",\"2179 cc\",\"2179 cc\",\"2179 cc\",\"2179 cc\",\"2179 cc\",\"2179 cc\",\"2179 cc\",\"2179 cc\",\"2179 cc\",\"2179 cc\",\"2179 cc\",\"2393 cc\",\"2393 cc\",\"2393 cc\",\"2393 cc\",\"2393 cc\",\"2393 cc\",\"2393 cc\",\"2393 cc\",\"1956 cc\",\"1956 cc\",\"1956 cc\",\"1956 cc\",\"1956 cc\",\"1956 cc\",\"1956 cc\",\"1956 cc\",\"1956 cc\",\"1956 cc\",\"1956 cc\",\"1956 cc\",\"1956 cc\",\"1956 cc\",\"1364 cc\",\"1364 cc\",\"1597 cc\",\"1597 cc\",\"2199 cc\",\"2199 cc\",\"2199 cc\",\"2199 cc\",\"2199 cc\",\"1968 cc\",\"1968 cc\",\"1968 cc\",\"1984 cc\",\"1984 cc\",\"2143 cc\",\"2755 cc\",\"2755 cc\",\"2755 cc\",\"2755 cc\",\"2755 cc\",\"2477 cc\",\"2477 cc\",\"2477 cc\",\"2477 cc\",\"2477 cc\",\"3198 cc\",\"2198 cc\",\"2198 cc\",\"1984 cc\",\"1496 cc\",\"2143 cc\",\"2143 cc\",\"2143 cc\",\"1968 cc\",\"1998 cc\",\"1995 cc\",\"1995 cc\",\"1995 cc\",\"1995 cc\",\"1984 cc\",\"1950 cc\",\"1950 cc\",\"1950 cc\",\"1995 cc\",\"1995 cc\",\"2400 cc\",\"1968 cc\",\"1968 cc\",\"1950 cc\",\"1999 cc\",\"1999 cc\",\"2987 cc\",\"2987 cc\",\"2987 cc\",\"2987 cc\",\"1995 cc\",\"2993 cc\",\"1968 cc\",\"1999 cc\",\"2993 cc\",\"2993 cc\",\"1995 cc\",\"1969 cc\",\"3200 cc\",\"1968 cc\",\"1999 cc\",\"1950 cc\",\"2925 cc\",\"1950 cc\",\"2993 cc\",\"2993 cc\",\"2993 cc\",\"2993 cc\",\"1969 cc\",\"1969 cc\",\"1969 cc\",\"1950 cc\",\"2993 cc\",\"2993 cc\",\"4367 cc\",\"2993 cc\",\"2993 cc\",\"2993 cc\",\"2993 cc\",\"2987 cc\",\"2987 cc\",\"2987 cc\",\"4461 cc\",\"2993 cc\",\"2993 cc\",\"4367 cc\",\"4367 cc\",\"4367 cc\",\"4461 cc\",\"1120 cc\",\"1120 cc\",\"1198 cc\",\"1198 cc\",\"1198 cc\",\"1198 cc\",\"1198 cc\",\"1198 cc\",\"1248 cc\",\"1248 cc\",\"1248 cc\",\"1248 cc\",\"1248 cc\",\"1248 cc\",\"1248 cc\",\"1497 cc\",\"1497 cc\",\"1497 cc\",\"1497 cc\",\"1497 cc\",\"1994 cc\",\"1994 cc\",\"1994 cc\",\"1994 cc\",\"1994 cc\",\"1994 cc\",\"1994 cc\",\"1994 cc\",\"1994 cc\",\"1994 cc\",\"1994 cc\",\"1248 cc\",\"1248 cc\",\"1248 cc\",\"1248 cc\",\"1248 cc\",\"1248 cc\",\"1248 cc\",\"1498 cc\",\"1498 cc\",\"1498 cc\",\"1498 cc\",\"1498 cc\",\"1498 cc\",\"1498 cc\",\"1397 cc\",\"1397 cc\",\"1397 cc\",\"1397 cc\",\"1397 cc\",\"1497 cc\",\"1497 cc\",\"1497 cc\",\"1497 cc\",\"1497 cc\",\"1497 cc\",\"1497 cc\",\"1497 cc\",\"1497 cc\",\"1497 cc\",\"1497 cc\",\"1497 cc\",\"1248 cc\",\"1248 cc\",\"1248 cc\",\"1498 cc\",\"1498 cc\",\"1498 cc\",\"1498 cc\",\"1498 cc\",\"1498 cc\",\"1498 cc\",\"1498 cc\",\"1493 cc\",\"1493 cc\",\"1493 cc\",\"1493 cc\",\"1493 cc\",\"1493 cc\",\"1493 cc\",\"1248 cc\",\"1248 cc\",\"1248 cc\",\"1248 cc\",\"1461 cc\",\"1461 cc\",\"2489 cc\",\"2489 cc\",\"2179 cc\",\"2179 cc\",\"2179 cc\",\"1493 cc\",\"1493 cc\",\"1493 cc\",\"1493 cc\",\"1493 cc\",\"1493 cc\",\"1493 cc\",\"1461 cc\",\"1461 cc\",\"1461 cc\",\"1461 cc\",\"1461 cc\",\"2179 cc\",\"2179 cc\",\"2179 cc\",\"2179 cc\",\"2000 cc\",\"2000 cc\",\"2000 cc\",\"2000 cc\",\"1995 cc\",\"1995 cc\",\"1995 cc\",\"1995 cc\",\"1968 cc\",\"1968 cc\",\"1968 cc\",\"1968 cc\",\"2999 cc\",\"2999 cc\",\"1968 cc\",\"1968 cc\",\"1968 cc\",\"2143 cc\",\"2143 cc\",\"1968 cc\",\"1968 cc\",\"1968 cc\",\"1968 cc\",\"1968 cc\",\"1968 cc\",\"1999 cc\",\"1999 cc\",\"1999 cc\",\"1999 cc\",\"1999 cc\",\"1969 cc\",\"2967 cc\",\"2967 cc\",\"2967 cc\",\"2982 cc\",\"2987 cc\",\"2979 cc\",\"2979 cc\",\"2987 cc\",\"1248 cc\",\"1498 cc\",\"1498 cc\",\"1498 cc\",\"1248 cc\",\"1248 cc\",\"1248 cc\",\"1248 cc\",\"1248 cc\",\"1248 cc\",\"1461 cc\",\"1461 cc\",\"1461 cc\",\"1461 cc\",\"2523 cc\",\"2523 cc\",\"2523 cc\",\"2523 cc\",\"2523 cc\",\"1248 cc\",\"1248 cc\",\"1248 cc\",\"1248 cc\",\"1498 cc\",\"1498 cc\",\"1498 cc\",\"1498 cc\",\"1498 cc\",\"1498 cc\",\"1498 cc\",\"1498 cc\",\"1498 cc\",\"1498 cc\",\"1396 cc\",\"1396 cc\",\"1582 cc\",\"1582 cc\",\"1582 cc\",\"1582 cc\",\"1582 cc\",\"1582 cc\",\"1396 cc\",\"1582 cc\",\"1956 cc\",\"1956 cc\",\"1956 cc\",\"1956 cc\",\"1956 cc\",\"1956 cc\",\"2499 cc\",\"2499 cc\",\"1898 cc\",\"1956 cc\",\"1956 cc\",\"1597 cc\",\"1597 cc\",\"2143 cc\",\"2143 cc\",\"1969 cc\",\"2987 cc\",\"2987 cc\",\"2987 cc\",\"2987 cc\",\"2993 cc\",\"2993 cc\",\"2993 cc\",\"2925 cc\",\"5700 cc\",\"1186 cc\",\"1186 cc\",\"1186 cc\",\"1120 cc\",\"1120 cc\",\"1120 cc\",\"1120 cc\",\"1120 cc\",\"1461 cc\",\"1461 cc\",\"1493 cc\",\"1493 cc\",\"1493 cc\",\"1493 cc\",\"1493 cc\",\"1493 cc\",\"1461 cc\",\"1461 cc\",\"1461 cc\",\"1461 cc\",\"1461 cc\",\"1461 cc\",\"2200 cc\",\"1968 cc\",\"1968 cc\",\"1969 cc\",\"1969 cc\",\"1995 cc\",\"1995 cc\",\"2143 cc\",\"2143 cc\",\"1950 cc\",\"2987 cc\",\"1047 cc\",\"1968 cc\",\"1968 cc\",\"1968 cc\",\"1968 cc\",\"1968 cc\",\"1968 cc\",\"1995 cc\",\"2993 cc\",\"1172 cc\",\"1248 cc\",\"1248 cc\",\"1498 cc\",\"1498 cc\",\"1498 cc\",\"1498 cc\",\"1999 cc\",\"1999 cc\",\"1461 cc\",\"1461 cc\",\"1461 cc\",\"2993 cc\",\"2993 cc\",\"2157 cc\",\"2157 cc\"],\"yaxis\":\"y\"}],                        {\"barmode\":\"relative\",\"legend\":{\"tracegroupgap\":0},\"margin\":{\"t\":60},\"template\":{\"data\":{\"bar\":[{\"error_x\":{\"color\":\"#2a3f5f\"},\"error_y\":{\"color\":\"#2a3f5f\"},\"marker\":{\"line\":{\"color\":\"#E5ECF6\",\"width\":0.5},\"pattern\":{\"fillmode\":\"overlay\",\"size\":10,\"solidity\":0.2}},\"type\":\"bar\"}],\"barpolar\":[{\"marker\":{\"line\":{\"color\":\"#E5ECF6\",\"width\":0.5},\"pattern\":{\"fillmode\":\"overlay\",\"size\":10,\"solidity\":0.2}},\"type\":\"barpolar\"}],\"carpet\":[{\"aaxis\":{\"endlinecolor\":\"#2a3f5f\",\"gridcolor\":\"white\",\"linecolor\":\"white\",\"minorgridcolor\":\"white\",\"startlinecolor\":\"#2a3f5f\"},\"baxis\":{\"endlinecolor\":\"#2a3f5f\",\"gridcolor\":\"white\",\"linecolor\":\"white\",\"minorgridcolor\":\"white\",\"startlinecolor\":\"#2a3f5f\"},\"type\":\"carpet\"}],\"choropleth\":[{\"colorbar\":{\"outlinewidth\":0,\"ticks\":\"\"},\"type\":\"choropleth\"}],\"contour\":[{\"colorbar\":{\"outlinewidth\":0,\"ticks\":\"\"},\"colorscale\":[[0.0,\"#0d0887\"],[0.1111111111111111,\"#46039f\"],[0.2222222222222222,\"#7201a8\"],[0.3333333333333333,\"#9c179e\"],[0.4444444444444444,\"#bd3786\"],[0.5555555555555556,\"#d8576b\"],[0.6666666666666666,\"#ed7953\"],[0.7777777777777778,\"#fb9f3a\"],[0.8888888888888888,\"#fdca26\"],[1.0,\"#f0f921\"]],\"type\":\"contour\"}],\"contourcarpet\":[{\"colorbar\":{\"outlinewidth\":0,\"ticks\":\"\"},\"type\":\"contourcarpet\"}],\"heatmap\":[{\"colorbar\":{\"outlinewidth\":0,\"ticks\":\"\"},\"colorscale\":[[0.0,\"#0d0887\"],[0.1111111111111111,\"#46039f\"],[0.2222222222222222,\"#7201a8\"],[0.3333333333333333,\"#9c179e\"],[0.4444444444444444,\"#bd3786\"],[0.5555555555555556,\"#d8576b\"],[0.6666666666666666,\"#ed7953\"],[0.7777777777777778,\"#fb9f3a\"],[0.8888888888888888,\"#fdca26\"],[1.0,\"#f0f921\"]],\"type\":\"heatmap\"}],\"heatmapgl\":[{\"colorbar\":{\"outlinewidth\":0,\"ticks\":\"\"},\"colorscale\":[[0.0,\"#0d0887\"],[0.1111111111111111,\"#46039f\"],[0.2222222222222222,\"#7201a8\"],[0.3333333333333333,\"#9c179e\"],[0.4444444444444444,\"#bd3786\"],[0.5555555555555556,\"#d8576b\"],[0.6666666666666666,\"#ed7953\"],[0.7777777777777778,\"#fb9f3a\"],[0.8888888888888888,\"#fdca26\"],[1.0,\"#f0f921\"]],\"type\":\"heatmapgl\"}],\"histogram\":[{\"marker\":{\"pattern\":{\"fillmode\":\"overlay\",\"size\":10,\"solidity\":0.2}},\"type\":\"histogram\"}],\"histogram2d\":[{\"colorbar\":{\"outlinewidth\":0,\"ticks\":\"\"},\"colorscale\":[[0.0,\"#0d0887\"],[0.1111111111111111,\"#46039f\"],[0.2222222222222222,\"#7201a8\"],[0.3333333333333333,\"#9c179e\"],[0.4444444444444444,\"#bd3786\"],[0.5555555555555556,\"#d8576b\"],[0.6666666666666666,\"#ed7953\"],[0.7777777777777778,\"#fb9f3a\"],[0.8888888888888888,\"#fdca26\"],[1.0,\"#f0f921\"]],\"type\":\"histogram2d\"}],\"histogram2dcontour\":[{\"colorbar\":{\"outlinewidth\":0,\"ticks\":\"\"},\"colorscale\":[[0.0,\"#0d0887\"],[0.1111111111111111,\"#46039f\"],[0.2222222222222222,\"#7201a8\"],[0.3333333333333333,\"#9c179e\"],[0.4444444444444444,\"#bd3786\"],[0.5555555555555556,\"#d8576b\"],[0.6666666666666666,\"#ed7953\"],[0.7777777777777778,\"#fb9f3a\"],[0.8888888888888888,\"#fdca26\"],[1.0,\"#f0f921\"]],\"type\":\"histogram2dcontour\"}],\"mesh3d\":[{\"colorbar\":{\"outlinewidth\":0,\"ticks\":\"\"},\"type\":\"mesh3d\"}],\"parcoords\":[{\"line\":{\"colorbar\":{\"outlinewidth\":0,\"ticks\":\"\"}},\"type\":\"parcoords\"}],\"pie\":[{\"automargin\":true,\"type\":\"pie\"}],\"scatter\":[{\"marker\":{\"colorbar\":{\"outlinewidth\":0,\"ticks\":\"\"}},\"type\":\"scatter\"}],\"scatter3d\":[{\"line\":{\"colorbar\":{\"outlinewidth\":0,\"ticks\":\"\"}},\"marker\":{\"colorbar\":{\"outlinewidth\":0,\"ticks\":\"\"}},\"type\":\"scatter3d\"}],\"scattercarpet\":[{\"marker\":{\"colorbar\":{\"outlinewidth\":0,\"ticks\":\"\"}},\"type\":\"scattercarpet\"}],\"scattergeo\":[{\"marker\":{\"colorbar\":{\"outlinewidth\":0,\"ticks\":\"\"}},\"type\":\"scattergeo\"}],\"scattergl\":[{\"marker\":{\"colorbar\":{\"outlinewidth\":0,\"ticks\":\"\"}},\"type\":\"scattergl\"}],\"scattermapbox\":[{\"marker\":{\"colorbar\":{\"outlinewidth\":0,\"ticks\":\"\"}},\"type\":\"scattermapbox\"}],\"scatterpolar\":[{\"marker\":{\"colorbar\":{\"outlinewidth\":0,\"ticks\":\"\"}},\"type\":\"scatterpolar\"}],\"scatterpolargl\":[{\"marker\":{\"colorbar\":{\"outlinewidth\":0,\"ticks\":\"\"}},\"type\":\"scatterpolargl\"}],\"scatterternary\":[{\"marker\":{\"colorbar\":{\"outlinewidth\":0,\"ticks\":\"\"}},\"type\":\"scatterternary\"}],\"surface\":[{\"colorbar\":{\"outlinewidth\":0,\"ticks\":\"\"},\"colorscale\":[[0.0,\"#0d0887\"],[0.1111111111111111,\"#46039f\"],[0.2222222222222222,\"#7201a8\"],[0.3333333333333333,\"#9c179e\"],[0.4444444444444444,\"#bd3786\"],[0.5555555555555556,\"#d8576b\"],[0.6666666666666666,\"#ed7953\"],[0.7777777777777778,\"#fb9f3a\"],[0.8888888888888888,\"#fdca26\"],[1.0,\"#f0f921\"]],\"type\":\"surface\"}],\"table\":[{\"cells\":{\"fill\":{\"color\":\"#EBF0F8\"},\"line\":{\"color\":\"white\"}},\"header\":{\"fill\":{\"color\":\"#C8D4E3\"},\"line\":{\"color\":\"white\"}},\"type\":\"table\"}]},\"layout\":{\"annotationdefaults\":{\"arrowcolor\":\"#2a3f5f\",\"arrowhead\":0,\"arrowwidth\":1},\"autotypenumbers\":\"strict\",\"coloraxis\":{\"colorbar\":{\"outlinewidth\":0,\"ticks\":\"\"}},\"colorscale\":{\"diverging\":[[0,\"#8e0152\"],[0.1,\"#c51b7d\"],[0.2,\"#de77ae\"],[0.3,\"#f1b6da\"],[0.4,\"#fde0ef\"],[0.5,\"#f7f7f7\"],[0.6,\"#e6f5d0\"],[0.7,\"#b8e186\"],[0.8,\"#7fbc41\"],[0.9,\"#4d9221\"],[1,\"#276419\"]],\"sequential\":[[0.0,\"#0d0887\"],[0.1111111111111111,\"#46039f\"],[0.2222222222222222,\"#7201a8\"],[0.3333333333333333,\"#9c179e\"],[0.4444444444444444,\"#bd3786\"],[0.5555555555555556,\"#d8576b\"],[0.6666666666666666,\"#ed7953\"],[0.7777777777777778,\"#fb9f3a\"],[0.8888888888888888,\"#fdca26\"],[1.0,\"#f0f921\"]],\"sequentialminus\":[[0.0,\"#0d0887\"],[0.1111111111111111,\"#46039f\"],[0.2222222222222222,\"#7201a8\"],[0.3333333333333333,\"#9c179e\"],[0.4444444444444444,\"#bd3786\"],[0.5555555555555556,\"#d8576b\"],[0.6666666666666666,\"#ed7953\"],[0.7777777777777778,\"#fb9f3a\"],[0.8888888888888888,\"#fdca26\"],[1.0,\"#f0f921\"]]},\"colorway\":[\"#636efa\",\"#EF553B\",\"#00cc96\",\"#ab63fa\",\"#FFA15A\",\"#19d3f3\",\"#FF6692\",\"#B6E880\",\"#FF97FF\",\"#FECB52\"],\"font\":{\"color\":\"#2a3f5f\"},\"geo\":{\"bgcolor\":\"white\",\"lakecolor\":\"white\",\"landcolor\":\"#E5ECF6\",\"showlakes\":true,\"showland\":true,\"subunitcolor\":\"white\"},\"hoverlabel\":{\"align\":\"left\"},\"hovermode\":\"closest\",\"mapbox\":{\"style\":\"light\"},\"paper_bgcolor\":\"white\",\"plot_bgcolor\":\"#E5ECF6\",\"polar\":{\"angularaxis\":{\"gridcolor\":\"white\",\"linecolor\":\"white\",\"ticks\":\"\"},\"bgcolor\":\"#E5ECF6\",\"radialaxis\":{\"gridcolor\":\"white\",\"linecolor\":\"white\",\"ticks\":\"\"}},\"scene\":{\"xaxis\":{\"backgroundcolor\":\"#E5ECF6\",\"gridcolor\":\"white\",\"gridwidth\":2,\"linecolor\":\"white\",\"showbackground\":true,\"ticks\":\"\",\"zerolinecolor\":\"white\"},\"yaxis\":{\"backgroundcolor\":\"#E5ECF6\",\"gridcolor\":\"white\",\"gridwidth\":2,\"linecolor\":\"white\",\"showbackground\":true,\"ticks\":\"\",\"zerolinecolor\":\"white\"},\"zaxis\":{\"backgroundcolor\":\"#E5ECF6\",\"gridcolor\":\"white\",\"gridwidth\":2,\"linecolor\":\"white\",\"showbackground\":true,\"ticks\":\"\",\"zerolinecolor\":\"white\"}},\"shapedefaults\":{\"line\":{\"color\":\"#2a3f5f\"}},\"ternary\":{\"aaxis\":{\"gridcolor\":\"white\",\"linecolor\":\"white\",\"ticks\":\"\"},\"baxis\":{\"gridcolor\":\"white\",\"linecolor\":\"white\",\"ticks\":\"\"},\"bgcolor\":\"#E5ECF6\",\"caxis\":{\"gridcolor\":\"white\",\"linecolor\":\"white\",\"ticks\":\"\"}},\"title\":{\"x\":0.05},\"xaxis\":{\"automargin\":true,\"gridcolor\":\"white\",\"linecolor\":\"white\",\"ticks\":\"\",\"title\":{\"standoff\":15},\"zerolinecolor\":\"white\",\"zerolinewidth\":2},\"yaxis\":{\"automargin\":true,\"gridcolor\":\"white\",\"linecolor\":\"white\",\"ticks\":\"\",\"title\":{\"standoff\":15},\"zerolinecolor\":\"white\",\"zerolinewidth\":2}}},\"xaxis\":{\"anchor\":\"y\",\"domain\":[0.0,1.0],\"title\":{\"text\":\"Ex-Showroom_Price\"}},\"yaxis\":{\"anchor\":\"x\",\"domain\":[0.0,1.0],\"title\":{\"text\":\"Displacement\"}}},                        {\"responsive\": true}                    ).then(function(){\n",
       "                            \n",
       "var gd = document.getElementById('a5fedd00-e8fa-4aeb-8e64-7321d5c4ec48');\n",
       "var x = new MutationObserver(function (mutations, observer) {{\n",
       "        var display = window.getComputedStyle(gd).display;\n",
       "        if (!display || display === 'none') {{\n",
       "            console.log([gd, 'removed!']);\n",
       "            Plotly.purge(gd);\n",
       "            observer.disconnect();\n",
       "        }}\n",
       "}});\n",
       "\n",
       "// Listen for the removal of the full notebook cells\n",
       "var notebookContainer = gd.closest('#notebook-container');\n",
       "if (notebookContainer) {{\n",
       "    x.observe(notebookContainer, {childList: true});\n",
       "}}\n",
       "\n",
       "// Listen for the clearing of the current output cell\n",
       "var outputEl = gd.closest('.output');\n",
       "if (outputEl) {{\n",
       "    x.observe(outputEl, {childList: true});\n",
       "}}\n",
       "\n",
       "                        })                };                });            </script>        </div>"
      ]
     },
     "metadata": {},
     "output_type": "display_data"
    }
   ],
   "source": [
    "import plotly.express as px\n",
    "\n",
    "fig = px.bar(Diesel, x='Ex-Showroom_Price', y='Displacement')\n",
    "fig.show()"
   ]
  },
  {
   "cell_type": "code",
   "execution_count": 207,
   "id": "f33b7163",
   "metadata": {},
   "outputs": [
    {
     "data": {
      "text/html": [
       "<div><div id=335b78a8-7b4c-4c2a-a6a7-26e82a29ff17 style=\"display:none; background-color:#9D6CFF; color:white; width:200px; height:30px; padding-left:5px; border-radius:4px; flex-direction:row; justify-content:space-around; align-items:center;\" onmouseover=\"this.style.backgroundColor='#BA9BF8'\" onmouseout=\"this.style.backgroundColor='#9D6CFF'\" onclick=\"window.commands?.execute('create-mitosheet-from-dataframe-output');\">See Full Dataframe in Mito</div> <script> if (window.commands?.hasCommand('create-mitosheet-from-dataframe-output')) document.getElementById('335b78a8-7b4c-4c2a-a6a7-26e82a29ff17').style.display = 'flex' </script> <table border=\"1\" class=\"dataframe\">\n",
       "  <thead>\n",
       "    <tr style=\"text-align: right;\">\n",
       "      <th></th>\n",
       "      <th>Unnamed: 0</th>\n",
       "      <th>Make</th>\n",
       "      <th>Model</th>\n",
       "      <th>Variant</th>\n",
       "      <th>Ex-Showroom_Price</th>\n",
       "      <th>Displacement</th>\n",
       "      <th>Cylinders</th>\n",
       "      <th>Valves_Per_Cylinder</th>\n",
       "      <th>Drivetrain</th>\n",
       "      <th>Cylinder_Configuration</th>\n",
       "      <th>...</th>\n",
       "      <th>Leather_Wrapped_Steering</th>\n",
       "      <th>Automatic_Headlamps</th>\n",
       "      <th>Engine_Type</th>\n",
       "      <th>ASR_/_Traction_Control</th>\n",
       "      <th>Cruise_Control</th>\n",
       "      <th>USB_Ports</th>\n",
       "      <th>Heads-Up_Display</th>\n",
       "      <th>Welcome_Lights</th>\n",
       "      <th>Battery</th>\n",
       "      <th>Electric_Range</th>\n",
       "    </tr>\n",
       "  </thead>\n",
       "  <tbody>\n",
       "    <tr>\n",
       "      <th>318</th>\n",
       "      <td>318</td>\n",
       "      <td>Mahindra</td>\n",
       "      <td>E2O Plus</td>\n",
       "      <td>P4</td>\n",
       "      <td>Rs. 8,81,425</td>\n",
       "      <td>NaN</td>\n",
       "      <td>NaN</td>\n",
       "      <td>NaN</td>\n",
       "      <td>RWD (Rear Wheel Drive)</td>\n",
       "      <td>In-line</td>\n",
       "      <td>...</td>\n",
       "      <td>NaN</td>\n",
       "      <td>NaN</td>\n",
       "      <td>NaN</td>\n",
       "      <td>NaN</td>\n",
       "      <td>NaN</td>\n",
       "      <td>NaN</td>\n",
       "      <td>NaN</td>\n",
       "      <td>NaN</td>\n",
       "      <td>210 ampere-hour</td>\n",
       "      <td>110 km/full charge</td>\n",
       "    </tr>\n",
       "    <tr>\n",
       "      <th>319</th>\n",
       "      <td>319</td>\n",
       "      <td>Mahindra</td>\n",
       "      <td>E2O Plus</td>\n",
       "      <td>P6</td>\n",
       "      <td>Rs. 9,57,177</td>\n",
       "      <td>NaN</td>\n",
       "      <td>NaN</td>\n",
       "      <td>NaN</td>\n",
       "      <td>RWD (Rear Wheel Drive)</td>\n",
       "      <td>In-line</td>\n",
       "      <td>...</td>\n",
       "      <td>NaN</td>\n",
       "      <td>NaN</td>\n",
       "      <td>NaN</td>\n",
       "      <td>NaN</td>\n",
       "      <td>NaN</td>\n",
       "      <td>NaN</td>\n",
       "      <td>NaN</td>\n",
       "      <td>NaN</td>\n",
       "      <td>210 ampere-hour</td>\n",
       "      <td>110 km/full charge</td>\n",
       "    </tr>\n",
       "    <tr>\n",
       "      <th>320</th>\n",
       "      <td>320</td>\n",
       "      <td>Tata</td>\n",
       "      <td>Tigor Ev</td>\n",
       "      <td>Xm+</td>\n",
       "      <td>Rs. 9,60,868</td>\n",
       "      <td>NaN</td>\n",
       "      <td>NaN</td>\n",
       "      <td>NaN</td>\n",
       "      <td>FWD (Front Wheel Drive)</td>\n",
       "      <td>NaN</td>\n",
       "      <td>...</td>\n",
       "      <td>NaN</td>\n",
       "      <td>NaN</td>\n",
       "      <td>M1 Category</td>\n",
       "      <td>NaN</td>\n",
       "      <td>NaN</td>\n",
       "      <td>NaN</td>\n",
       "      <td>NaN</td>\n",
       "      <td>NaN</td>\n",
       "      <td>21.5 kWh,Battery Placed Under Rear Seats</td>\n",
       "      <td>213 km/full charge</td>\n",
       "    </tr>\n",
       "    <tr>\n",
       "      <th>321</th>\n",
       "      <td>321</td>\n",
       "      <td>Tata</td>\n",
       "      <td>Tigor Ev</td>\n",
       "      <td>Xt+</td>\n",
       "      <td>Rs. 9,75,868</td>\n",
       "      <td>NaN</td>\n",
       "      <td>NaN</td>\n",
       "      <td>NaN</td>\n",
       "      <td>FWD (Front Wheel Drive)</td>\n",
       "      <td>NaN</td>\n",
       "      <td>...</td>\n",
       "      <td>NaN</td>\n",
       "      <td>NaN</td>\n",
       "      <td>M1 Category</td>\n",
       "      <td>NaN</td>\n",
       "      <td>NaN</td>\n",
       "      <td>NaN</td>\n",
       "      <td>NaN</td>\n",
       "      <td>NaN</td>\n",
       "      <td>21.5 kWh,Battery Placed Under Rear Seats</td>\n",
       "      <td>213 km/full charge</td>\n",
       "    </tr>\n",
       "    <tr>\n",
       "      <th>322</th>\n",
       "      <td>322</td>\n",
       "      <td>Tata</td>\n",
       "      <td>Tigor Ev</td>\n",
       "      <td>Xe+</td>\n",
       "      <td>Rs. 9,44,175</td>\n",
       "      <td>NaN</td>\n",
       "      <td>NaN</td>\n",
       "      <td>NaN</td>\n",
       "      <td>FWD (Front Wheel Drive)</td>\n",
       "      <td>NaN</td>\n",
       "      <td>...</td>\n",
       "      <td>NaN</td>\n",
       "      <td>NaN</td>\n",
       "      <td>M1 Category</td>\n",
       "      <td>NaN</td>\n",
       "      <td>NaN</td>\n",
       "      <td>NaN</td>\n",
       "      <td>NaN</td>\n",
       "      <td>NaN</td>\n",
       "      <td>21.5 kWh,Battery Placed Under Rear Seats</td>\n",
       "      <td>213 km/full charge</td>\n",
       "    </tr>\n",
       "    <tr>\n",
       "      <th>...</th>\n",
       "      <td>...</td>\n",
       "      <td>...</td>\n",
       "      <td>...</td>\n",
       "      <td>...</td>\n",
       "      <td>...</td>\n",
       "      <td>...</td>\n",
       "      <td>...</td>\n",
       "      <td>...</td>\n",
       "      <td>...</td>\n",
       "      <td>...</td>\n",
       "      <td>...</td>\n",
       "      <td>...</td>\n",
       "      <td>...</td>\n",
       "      <td>...</td>\n",
       "      <td>...</td>\n",
       "      <td>...</td>\n",
       "      <td>...</td>\n",
       "      <td>...</td>\n",
       "      <td>...</td>\n",
       "      <td>...</td>\n",
       "      <td>...</td>\n",
       "    </tr>\n",
       "    <tr>\n",
       "      <th>440</th>\n",
       "      <td>440</td>\n",
       "      <td>Mg</td>\n",
       "      <td>Zs Ev</td>\n",
       "      <td>Exclusive</td>\n",
       "      <td>Rs. 23,58,000</td>\n",
       "      <td>NaN</td>\n",
       "      <td>NaN</td>\n",
       "      <td>NaN</td>\n",
       "      <td>RWD (Rear Wheel Drive)</td>\n",
       "      <td>In-line</td>\n",
       "      <td>...</td>\n",
       "      <td>Yes</td>\n",
       "      <td>Yes</td>\n",
       "      <td>NaN</td>\n",
       "      <td>Yes</td>\n",
       "      <td>Yes</td>\n",
       "      <td>NaN</td>\n",
       "      <td>Yes</td>\n",
       "      <td>NaN</td>\n",
       "      <td>44.5 (kWh), Lithium Ion</td>\n",
       "      <td>340 km/full charge</td>\n",
       "    </tr>\n",
       "    <tr>\n",
       "      <th>886</th>\n",
       "      <td>886</td>\n",
       "      <td>Tata</td>\n",
       "      <td>Nexon Ev</td>\n",
       "      <td>Xm</td>\n",
       "      <td>Rs. 13,99,000</td>\n",
       "      <td>NaN</td>\n",
       "      <td>NaN</td>\n",
       "      <td>NaN</td>\n",
       "      <td>FWD (Front Wheel Drive)</td>\n",
       "      <td>In-line</td>\n",
       "      <td>...</td>\n",
       "      <td>NaN</td>\n",
       "      <td>NaN</td>\n",
       "      <td>NaN</td>\n",
       "      <td>Yes</td>\n",
       "      <td>NaN</td>\n",
       "      <td>NaN</td>\n",
       "      <td>Yes</td>\n",
       "      <td>NaN</td>\n",
       "      <td>30.2 kWh* Advanced Li-ion polymer, liquid cooled battery pack with IP67 certification</td>\n",
       "      <td>312 km/full charge</td>\n",
       "    </tr>\n",
       "    <tr>\n",
       "      <th>887</th>\n",
       "      <td>887</td>\n",
       "      <td>Tata</td>\n",
       "      <td>Nexon Ev</td>\n",
       "      <td>Xz Plus</td>\n",
       "      <td>Rs. 14,99,000</td>\n",
       "      <td>NaN</td>\n",
       "      <td>NaN</td>\n",
       "      <td>NaN</td>\n",
       "      <td>FWD (Front Wheel Drive)</td>\n",
       "      <td>In-line</td>\n",
       "      <td>...</td>\n",
       "      <td>NaN</td>\n",
       "      <td>NaN</td>\n",
       "      <td>NaN</td>\n",
       "      <td>Yes</td>\n",
       "      <td>NaN</td>\n",
       "      <td>NaN</td>\n",
       "      <td>Yes</td>\n",
       "      <td>NaN</td>\n",
       "      <td>30.2 kWh* Advanced Li-ion polymer, liquid cooled battery pack with IP67 certification</td>\n",
       "      <td>312 km/full charge</td>\n",
       "    </tr>\n",
       "    <tr>\n",
       "      <th>888</th>\n",
       "      <td>888</td>\n",
       "      <td>Tata</td>\n",
       "      <td>Nexon Ev</td>\n",
       "      <td>Xz Plus Lux</td>\n",
       "      <td>Rs. 15,99,000</td>\n",
       "      <td>NaN</td>\n",
       "      <td>NaN</td>\n",
       "      <td>NaN</td>\n",
       "      <td>FWD (Front Wheel Drive)</td>\n",
       "      <td>In-line</td>\n",
       "      <td>...</td>\n",
       "      <td>NaN</td>\n",
       "      <td>Yes</td>\n",
       "      <td>NaN</td>\n",
       "      <td>Yes</td>\n",
       "      <td>NaN</td>\n",
       "      <td>NaN</td>\n",
       "      <td>Yes</td>\n",
       "      <td>NaN</td>\n",
       "      <td>30.2 kWh* Advanced Li-ion polymer, liquid cooled battery pack with IP67 certification</td>\n",
       "      <td>300 km/full charge</td>\n",
       "    </tr>\n",
       "    <tr>\n",
       "      <th>1170</th>\n",
       "      <td>1170</td>\n",
       "      <td>Hyundai</td>\n",
       "      <td>Kona Electric</td>\n",
       "      <td>Premium</td>\n",
       "      <td>Rs. 23,71,858</td>\n",
       "      <td>NaN</td>\n",
       "      <td>NaN</td>\n",
       "      <td>NaN</td>\n",
       "      <td>FWD (Front Wheel Drive)</td>\n",
       "      <td>NaN</td>\n",
       "      <td>...</td>\n",
       "      <td>Yes</td>\n",
       "      <td>Yes</td>\n",
       "      <td>NaN</td>\n",
       "      <td>NaN</td>\n",
       "      <td>Yes</td>\n",
       "      <td>NaN</td>\n",
       "      <td>NaN</td>\n",
       "      <td>Yes</td>\n",
       "      <td>NaN</td>\n",
       "      <td>462 km/full charge</td>\n",
       "    </tr>\n",
       "  </tbody>\n",
       "</table></div>"
      ],
      "text/plain": [
       "      Unnamed: 0      Make          Model      Variant Ex-Showroom_Price  \\\n",
       "318          318  Mahindra       E2O Plus           P4      Rs. 8,81,425   \n",
       "319          319  Mahindra       E2O Plus           P6      Rs. 9,57,177   \n",
       "320          320      Tata       Tigor Ev          Xm+      Rs. 9,60,868   \n",
       "321          321      Tata       Tigor Ev          Xt+      Rs. 9,75,868   \n",
       "322          322      Tata       Tigor Ev          Xe+      Rs. 9,44,175   \n",
       "381          381  Mahindra       E Verito           D4     Rs. 12,93,214   \n",
       "382          382  Mahindra       E Verito           D2     Rs. 12,67,208   \n",
       "383          383  Mahindra       E Verito           D6     Rs. 13,03,241   \n",
       "439          439        Mg          Zs Ev       Excite     Rs. 20,88,000   \n",
       "440          440        Mg          Zs Ev    Exclusive     Rs. 23,58,000   \n",
       "886          886      Tata       Nexon Ev           Xm     Rs. 13,99,000   \n",
       "887          887      Tata       Nexon Ev      Xz Plus     Rs. 14,99,000   \n",
       "888          888      Tata       Nexon Ev  Xz Plus Lux     Rs. 15,99,000   \n",
       "1170        1170   Hyundai  Kona Electric      Premium     Rs. 23,71,858   \n",
       "\n",
       "     Displacement  Cylinders  Valves_Per_Cylinder               Drivetrain  \\\n",
       "318           NaN        NaN                  NaN   RWD (Rear Wheel Drive)   \n",
       "319           NaN        NaN                  NaN   RWD (Rear Wheel Drive)   \n",
       "320           NaN        NaN                  NaN  FWD (Front Wheel Drive)   \n",
       "321           NaN        NaN                  NaN  FWD (Front Wheel Drive)   \n",
       "322           NaN        NaN                  NaN  FWD (Front Wheel Drive)   \n",
       "381         72 cc        NaN                  NaN  FWD (Front Wheel Drive)   \n",
       "382         72 cc        NaN                  NaN  FWD (Front Wheel Drive)   \n",
       "383         72 cc        NaN                  NaN  FWD (Front Wheel Drive)   \n",
       "439           NaN        NaN                  NaN   RWD (Rear Wheel Drive)   \n",
       "440           NaN        NaN                  NaN   RWD (Rear Wheel Drive)   \n",
       "886           NaN        NaN                  NaN  FWD (Front Wheel Drive)   \n",
       "887           NaN        NaN                  NaN  FWD (Front Wheel Drive)   \n",
       "888           NaN        NaN                  NaN  FWD (Front Wheel Drive)   \n",
       "1170          NaN        NaN                  NaN  FWD (Front Wheel Drive)   \n",
       "\n",
       "     Cylinder_Configuration  ... Leather_Wrapped_Steering Automatic_Headlamps  \\\n",
       "318                 In-line  ...                      NaN                 NaN   \n",
       "319                 In-line  ...                      NaN                 NaN   \n",
       "320                     NaN  ...                      NaN                 NaN   \n",
       "321                     NaN  ...                      NaN                 NaN   \n",
       "322                     NaN  ...                      NaN                 NaN   \n",
       "381                     NaN  ...                      NaN                 NaN   \n",
       "382                     NaN  ...                      NaN                 NaN   \n",
       "383                     NaN  ...                      NaN                 NaN   \n",
       "439                 In-line  ...                      Yes                 Yes   \n",
       "440                 In-line  ...                      Yes                 Yes   \n",
       "886                 In-line  ...                      NaN                 NaN   \n",
       "887                 In-line  ...                      NaN                 NaN   \n",
       "888                 In-line  ...                      NaN                 Yes   \n",
       "1170                    NaN  ...                      Yes                 Yes   \n",
       "\n",
       "      Engine_Type ASR_/_Traction_Control Cruise_Control USB_Ports  \\\n",
       "318           NaN                    NaN            NaN       NaN   \n",
       "319           NaN                    NaN            NaN       NaN   \n",
       "320   M1 Category                    NaN            NaN       NaN   \n",
       "321   M1 Category                    NaN            NaN       NaN   \n",
       "322   M1 Category                    NaN            NaN       NaN   \n",
       "381           NaN                    NaN            NaN       NaN   \n",
       "382           NaN                    NaN            NaN       NaN   \n",
       "383           NaN                    NaN            NaN       NaN   \n",
       "439           NaN                    Yes            Yes       NaN   \n",
       "440           NaN                    Yes            Yes       NaN   \n",
       "886           NaN                    Yes            NaN       NaN   \n",
       "887           NaN                    Yes            NaN       NaN   \n",
       "888           NaN                    Yes            NaN       NaN   \n",
       "1170          NaN                    NaN            Yes       NaN   \n",
       "\n",
       "     Heads-Up_Display Welcome_Lights  \\\n",
       "318               NaN            NaN   \n",
       "319               NaN            NaN   \n",
       "320               NaN            NaN   \n",
       "321               NaN            NaN   \n",
       "322               NaN            NaN   \n",
       "381               NaN            NaN   \n",
       "382               NaN            NaN   \n",
       "383               NaN            NaN   \n",
       "439               Yes            NaN   \n",
       "440               Yes            NaN   \n",
       "886               Yes            NaN   \n",
       "887               Yes            NaN   \n",
       "888               Yes            NaN   \n",
       "1170              NaN            Yes   \n",
       "\n",
       "                                                Battery      Electric_Range  \n",
       "318                                     210 ampere-hour  110 km/full charge  \n",
       "319                                     210 ampere-hour  110 km/full charge  \n",
       "320            21.5 kWh,Battery Placed Under Rear Seats  213 km/full charge  \n",
       "321            21.5 kWh,Battery Placed Under Rear Seats  213 km/full charge  \n",
       "322            21.5 kWh,Battery Placed Under Rear Seats  213 km/full charge  \n",
       "381                                     200 ampere-hour  110 km/full charge  \n",
       "382                                     200 ampere-hour  110 km/full charge  \n",
       "383                                     200 ampere-hour  110 km/full charge  \n",
       "439                             44.5 (kWh), Lithium Ion  340 km/full charge  \n",
       "440                             44.5 (kWh), Lithium Ion  340 km/full charge  \n",
       "886   30.2 kWh* Advanced Li-ion polymer, liquid cool...  312 km/full charge  \n",
       "887   30.2 kWh* Advanced Li-ion polymer, liquid cool...  312 km/full charge  \n",
       "888   30.2 kWh* Advanced Li-ion polymer, liquid cool...  300 km/full charge  \n",
       "1170                                                NaN  462 km/full charge  \n",
       "\n",
       "[14 rows x 141 columns]"
      ]
     },
     "execution_count": 207,
     "metadata": {},
     "output_type": "execute_result"
    }
   ],
   "source": [
    "Electric=df[df['Fuel_Type']=='Electric']\n",
    "Electric"
   ]
  },
  {
   "cell_type": "code",
   "execution_count": 208,
   "id": "39e3907b",
   "metadata": {},
   "outputs": [
    {
     "name": "stdout",
     "output_type": "stream",
     "text": [
      "['Unnamed: 0', 'Make', 'Model', 'Variant', 'Ex-Showroom_Price', 'Displacement', 'Cylinders', 'Valves_Per_Cylinder', 'Drivetrain', 'Cylinder_Configuration', 'Emission_Norm', 'Engine_Location', 'Fuel_System', 'Fuel_Tank_Capacity', 'Fuel_Type', 'Height', 'Length', 'Width', 'Body_Type', 'Doors', 'City_Mileage', 'Highway_Mileage', 'ARAI_Certified_Mileage', 'ARAI_Certified_Mileage_for_CNG', 'Kerb_Weight', 'Gears', 'Ground_Clearance', 'Front_Brakes', 'Rear_Brakes', 'Front_Suspension', 'Rear_Suspension', 'Front_Track', 'Rear_Track', 'Front_Tyre_&_Rim', 'Rear_Tyre_&_Rim', 'Power_Steering', 'Power_Windows', 'Power_Seats', 'Keyless_Entry', 'Power', 'Torque', 'Odometer', 'Speedometer', 'Tachometer', 'Tripmeter', 'Seating_Capacity', 'Seats_Material', 'Type', 'Wheelbase', 'Wheels_Size', 'Start_/_Stop_Button', '12v_Power_Outlet', 'Audiosystem', 'Aux-in_Compatibility', 'Average_Fuel_Consumption', 'Basic_Warranty', 'Bluetooth', 'Boot-lid_Opener', 'Boot_Space', 'CD_/_MP3_/_DVD_Player', 'Central_Locking', 'Child_Safety_Locks', 'Clock', 'Cup_Holders', 'Distance_to_Empty', 'Door_Pockets', 'Engine_Malfunction_Light', 'Extended_Warranty', 'FM_Radio', 'Fuel-lid_Opener', 'Fuel_Gauge', 'Handbrake', 'Instrument_Console', 'Low_Fuel_Warning', 'Minimum_Turning_Radius', 'Multifunction_Display', 'Sun_Visor', 'Third_Row_AC_Vents', 'Ventilation_System', 'Auto-Dimming_Rear-View_Mirror', 'Hill_Assist', 'Gear_Indicator', '3_Point_Seat-Belt_in_Middle_Rear_Seat', 'Ambient_Lightning', 'Cargo/Boot_Lights', 'Drive_Modes', 'Engine_Immobilizer', 'High_Speed_Alert_System', 'Lane_Watch_Camera/_Side_Mirror_Camera', 'Passenger_Side_Seat-Belt_Reminder', 'Seat_Back_Pockets', 'Voice_Recognition', 'Walk_Away_Auto_Car_Lock', 'ABS_(Anti-lock_Braking_System)', 'Headlight_Reminder', 'Adjustable_Headrests', 'Gross_Vehicle_Weight', 'Airbags', 'Door_Ajar_Warning', 'EBD_(Electronic_Brake-force_Distribution)', 'Fasten_Seat_Belt_Warning', 'Gear_Shift_Reminder', 'Number_of_Airbags', 'Compression_Ratio', 'Adjustable_Steering_Column', 'Other_Specs', 'Other_specs', 'Parking_Assistance', 'Key_Off_Reminder', 'USB_Compatibility', 'Android_Auto', 'Apple_CarPlay', 'Cigarette_Lighter', 'Infotainment_Screen', 'Multifunction_Steering_Wheel', 'Average_Speed', 'EBA_(Electronic_Brake_Assist)', 'Seat_Height_Adjustment', 'Navigation_System', 'Second_Row_AC_Vents', 'Tyre_Pressure_Monitoring_System', 'Rear_Center_Armrest', 'iPod_Compatibility', 'ESP_(Electronic_Stability_Program)', 'Cooled_Glove_Box', 'Recommended_Tyre_Pressure', 'Heated_Seats', 'Turbocharger', 'ISOFIX_(Child-Seat_Mount)', 'Rain_Sensing_Wipers', 'Paddle_Shifters', 'Leather_Wrapped_Steering', 'Automatic_Headlamps', 'Engine_Type', 'ASR_/_Traction_Control', 'Cruise_Control', 'USB_Ports', 'Heads-Up_Display', 'Welcome_Lights', 'Battery', 'Electric_Range']\n"
     ]
    }
   ],
   "source": [
    "print(Electric.columns.tolist())"
   ]
  },
  {
   "cell_type": "code",
   "execution_count": 209,
   "id": "330c383e",
   "metadata": {},
   "outputs": [
    {
     "data": {
      "text/plain": [
       "21.5 kWh,Battery Placed Under Rear Seats                                                 3\n",
       "200 ampere-hour                                                                          3\n",
       "30.2 kWh* Advanced Li-ion polymer, liquid cooled battery pack with IP67 certification    3\n",
       "210 ampere-hour                                                                          2\n",
       "44.5 (kWh), Lithium Ion                                                                  2\n",
       "Name: Battery, dtype: int64"
      ]
     },
     "execution_count": 209,
     "metadata": {},
     "output_type": "execute_result"
    }
   ],
   "source": [
    "Electric.Battery.value_counts()"
   ]
  },
  {
   "cell_type": "code",
   "execution_count": 210,
   "id": "6279dee4",
   "metadata": {},
   "outputs": [
    {
     "data": {
      "application/vnd.plotly.v1+json": {
       "config": {
        "plotlyServerURL": "https://plot.ly"
       },
       "data": [
        {
         "alignmentgroup": "True",
         "hovertemplate": "Ex-Showroom_Price=%{x}<br>Electric_Range=%{y}<extra></extra>",
         "legendgroup": "",
         "marker": {
          "color": "#636efa",
          "pattern": {
           "shape": ""
          }
         },
         "name": "",
         "offsetgroup": "",
         "orientation": "v",
         "showlegend": false,
         "textposition": "auto",
         "type": "bar",
         "x": [
          "Rs. 8,81,425",
          "Rs. 9,57,177",
          "Rs. 9,60,868",
          "Rs. 9,75,868",
          "Rs. 9,44,175",
          "Rs. 12,93,214",
          "Rs. 12,67,208",
          "Rs. 13,03,241",
          "Rs. 20,88,000",
          "Rs. 23,58,000",
          "Rs. 13,99,000",
          "Rs. 14,99,000",
          "Rs. 15,99,000",
          "Rs. 23,71,858"
         ],
         "xaxis": "x",
         "y": [
          "110 km/full charge",
          "110 km/full charge",
          "213 km/full charge",
          "213 km/full charge",
          "213 km/full charge",
          "110 km/full charge",
          "110 km/full charge",
          "110 km/full charge",
          "340 km/full charge",
          "340 km/full charge",
          "312 km/full charge",
          "312 km/full charge",
          "300 km/full charge",
          "462 km/full charge"
         ],
         "yaxis": "y"
        }
       ],
       "layout": {
        "barmode": "relative",
        "legend": {
         "tracegroupgap": 0
        },
        "margin": {
         "t": 60
        },
        "template": {
         "data": {
          "bar": [
           {
            "error_x": {
             "color": "#2a3f5f"
            },
            "error_y": {
             "color": "#2a3f5f"
            },
            "marker": {
             "line": {
              "color": "#E5ECF6",
              "width": 0.5
             },
             "pattern": {
              "fillmode": "overlay",
              "size": 10,
              "solidity": 0.2
             }
            },
            "type": "bar"
           }
          ],
          "barpolar": [
           {
            "marker": {
             "line": {
              "color": "#E5ECF6",
              "width": 0.5
             },
             "pattern": {
              "fillmode": "overlay",
              "size": 10,
              "solidity": 0.2
             }
            },
            "type": "barpolar"
           }
          ],
          "carpet": [
           {
            "aaxis": {
             "endlinecolor": "#2a3f5f",
             "gridcolor": "white",
             "linecolor": "white",
             "minorgridcolor": "white",
             "startlinecolor": "#2a3f5f"
            },
            "baxis": {
             "endlinecolor": "#2a3f5f",
             "gridcolor": "white",
             "linecolor": "white",
             "minorgridcolor": "white",
             "startlinecolor": "#2a3f5f"
            },
            "type": "carpet"
           }
          ],
          "choropleth": [
           {
            "colorbar": {
             "outlinewidth": 0,
             "ticks": ""
            },
            "type": "choropleth"
           }
          ],
          "contour": [
           {
            "colorbar": {
             "outlinewidth": 0,
             "ticks": ""
            },
            "colorscale": [
             [
              0,
              "#0d0887"
             ],
             [
              0.1111111111111111,
              "#46039f"
             ],
             [
              0.2222222222222222,
              "#7201a8"
             ],
             [
              0.3333333333333333,
              "#9c179e"
             ],
             [
              0.4444444444444444,
              "#bd3786"
             ],
             [
              0.5555555555555556,
              "#d8576b"
             ],
             [
              0.6666666666666666,
              "#ed7953"
             ],
             [
              0.7777777777777778,
              "#fb9f3a"
             ],
             [
              0.8888888888888888,
              "#fdca26"
             ],
             [
              1,
              "#f0f921"
             ]
            ],
            "type": "contour"
           }
          ],
          "contourcarpet": [
           {
            "colorbar": {
             "outlinewidth": 0,
             "ticks": ""
            },
            "type": "contourcarpet"
           }
          ],
          "heatmap": [
           {
            "colorbar": {
             "outlinewidth": 0,
             "ticks": ""
            },
            "colorscale": [
             [
              0,
              "#0d0887"
             ],
             [
              0.1111111111111111,
              "#46039f"
             ],
             [
              0.2222222222222222,
              "#7201a8"
             ],
             [
              0.3333333333333333,
              "#9c179e"
             ],
             [
              0.4444444444444444,
              "#bd3786"
             ],
             [
              0.5555555555555556,
              "#d8576b"
             ],
             [
              0.6666666666666666,
              "#ed7953"
             ],
             [
              0.7777777777777778,
              "#fb9f3a"
             ],
             [
              0.8888888888888888,
              "#fdca26"
             ],
             [
              1,
              "#f0f921"
             ]
            ],
            "type": "heatmap"
           }
          ],
          "heatmapgl": [
           {
            "colorbar": {
             "outlinewidth": 0,
             "ticks": ""
            },
            "colorscale": [
             [
              0,
              "#0d0887"
             ],
             [
              0.1111111111111111,
              "#46039f"
             ],
             [
              0.2222222222222222,
              "#7201a8"
             ],
             [
              0.3333333333333333,
              "#9c179e"
             ],
             [
              0.4444444444444444,
              "#bd3786"
             ],
             [
              0.5555555555555556,
              "#d8576b"
             ],
             [
              0.6666666666666666,
              "#ed7953"
             ],
             [
              0.7777777777777778,
              "#fb9f3a"
             ],
             [
              0.8888888888888888,
              "#fdca26"
             ],
             [
              1,
              "#f0f921"
             ]
            ],
            "type": "heatmapgl"
           }
          ],
          "histogram": [
           {
            "marker": {
             "pattern": {
              "fillmode": "overlay",
              "size": 10,
              "solidity": 0.2
             }
            },
            "type": "histogram"
           }
          ],
          "histogram2d": [
           {
            "colorbar": {
             "outlinewidth": 0,
             "ticks": ""
            },
            "colorscale": [
             [
              0,
              "#0d0887"
             ],
             [
              0.1111111111111111,
              "#46039f"
             ],
             [
              0.2222222222222222,
              "#7201a8"
             ],
             [
              0.3333333333333333,
              "#9c179e"
             ],
             [
              0.4444444444444444,
              "#bd3786"
             ],
             [
              0.5555555555555556,
              "#d8576b"
             ],
             [
              0.6666666666666666,
              "#ed7953"
             ],
             [
              0.7777777777777778,
              "#fb9f3a"
             ],
             [
              0.8888888888888888,
              "#fdca26"
             ],
             [
              1,
              "#f0f921"
             ]
            ],
            "type": "histogram2d"
           }
          ],
          "histogram2dcontour": [
           {
            "colorbar": {
             "outlinewidth": 0,
             "ticks": ""
            },
            "colorscale": [
             [
              0,
              "#0d0887"
             ],
             [
              0.1111111111111111,
              "#46039f"
             ],
             [
              0.2222222222222222,
              "#7201a8"
             ],
             [
              0.3333333333333333,
              "#9c179e"
             ],
             [
              0.4444444444444444,
              "#bd3786"
             ],
             [
              0.5555555555555556,
              "#d8576b"
             ],
             [
              0.6666666666666666,
              "#ed7953"
             ],
             [
              0.7777777777777778,
              "#fb9f3a"
             ],
             [
              0.8888888888888888,
              "#fdca26"
             ],
             [
              1,
              "#f0f921"
             ]
            ],
            "type": "histogram2dcontour"
           }
          ],
          "mesh3d": [
           {
            "colorbar": {
             "outlinewidth": 0,
             "ticks": ""
            },
            "type": "mesh3d"
           }
          ],
          "parcoords": [
           {
            "line": {
             "colorbar": {
              "outlinewidth": 0,
              "ticks": ""
             }
            },
            "type": "parcoords"
           }
          ],
          "pie": [
           {
            "automargin": true,
            "type": "pie"
           }
          ],
          "scatter": [
           {
            "marker": {
             "colorbar": {
              "outlinewidth": 0,
              "ticks": ""
             }
            },
            "type": "scatter"
           }
          ],
          "scatter3d": [
           {
            "line": {
             "colorbar": {
              "outlinewidth": 0,
              "ticks": ""
             }
            },
            "marker": {
             "colorbar": {
              "outlinewidth": 0,
              "ticks": ""
             }
            },
            "type": "scatter3d"
           }
          ],
          "scattercarpet": [
           {
            "marker": {
             "colorbar": {
              "outlinewidth": 0,
              "ticks": ""
             }
            },
            "type": "scattercarpet"
           }
          ],
          "scattergeo": [
           {
            "marker": {
             "colorbar": {
              "outlinewidth": 0,
              "ticks": ""
             }
            },
            "type": "scattergeo"
           }
          ],
          "scattergl": [
           {
            "marker": {
             "colorbar": {
              "outlinewidth": 0,
              "ticks": ""
             }
            },
            "type": "scattergl"
           }
          ],
          "scattermapbox": [
           {
            "marker": {
             "colorbar": {
              "outlinewidth": 0,
              "ticks": ""
             }
            },
            "type": "scattermapbox"
           }
          ],
          "scatterpolar": [
           {
            "marker": {
             "colorbar": {
              "outlinewidth": 0,
              "ticks": ""
             }
            },
            "type": "scatterpolar"
           }
          ],
          "scatterpolargl": [
           {
            "marker": {
             "colorbar": {
              "outlinewidth": 0,
              "ticks": ""
             }
            },
            "type": "scatterpolargl"
           }
          ],
          "scatterternary": [
           {
            "marker": {
             "colorbar": {
              "outlinewidth": 0,
              "ticks": ""
             }
            },
            "type": "scatterternary"
           }
          ],
          "surface": [
           {
            "colorbar": {
             "outlinewidth": 0,
             "ticks": ""
            },
            "colorscale": [
             [
              0,
              "#0d0887"
             ],
             [
              0.1111111111111111,
              "#46039f"
             ],
             [
              0.2222222222222222,
              "#7201a8"
             ],
             [
              0.3333333333333333,
              "#9c179e"
             ],
             [
              0.4444444444444444,
              "#bd3786"
             ],
             [
              0.5555555555555556,
              "#d8576b"
             ],
             [
              0.6666666666666666,
              "#ed7953"
             ],
             [
              0.7777777777777778,
              "#fb9f3a"
             ],
             [
              0.8888888888888888,
              "#fdca26"
             ],
             [
              1,
              "#f0f921"
             ]
            ],
            "type": "surface"
           }
          ],
          "table": [
           {
            "cells": {
             "fill": {
              "color": "#EBF0F8"
             },
             "line": {
              "color": "white"
             }
            },
            "header": {
             "fill": {
              "color": "#C8D4E3"
             },
             "line": {
              "color": "white"
             }
            },
            "type": "table"
           }
          ]
         },
         "layout": {
          "annotationdefaults": {
           "arrowcolor": "#2a3f5f",
           "arrowhead": 0,
           "arrowwidth": 1
          },
          "autotypenumbers": "strict",
          "coloraxis": {
           "colorbar": {
            "outlinewidth": 0,
            "ticks": ""
           }
          },
          "colorscale": {
           "diverging": [
            [
             0,
             "#8e0152"
            ],
            [
             0.1,
             "#c51b7d"
            ],
            [
             0.2,
             "#de77ae"
            ],
            [
             0.3,
             "#f1b6da"
            ],
            [
             0.4,
             "#fde0ef"
            ],
            [
             0.5,
             "#f7f7f7"
            ],
            [
             0.6,
             "#e6f5d0"
            ],
            [
             0.7,
             "#b8e186"
            ],
            [
             0.8,
             "#7fbc41"
            ],
            [
             0.9,
             "#4d9221"
            ],
            [
             1,
             "#276419"
            ]
           ],
           "sequential": [
            [
             0,
             "#0d0887"
            ],
            [
             0.1111111111111111,
             "#46039f"
            ],
            [
             0.2222222222222222,
             "#7201a8"
            ],
            [
             0.3333333333333333,
             "#9c179e"
            ],
            [
             0.4444444444444444,
             "#bd3786"
            ],
            [
             0.5555555555555556,
             "#d8576b"
            ],
            [
             0.6666666666666666,
             "#ed7953"
            ],
            [
             0.7777777777777778,
             "#fb9f3a"
            ],
            [
             0.8888888888888888,
             "#fdca26"
            ],
            [
             1,
             "#f0f921"
            ]
           ],
           "sequentialminus": [
            [
             0,
             "#0d0887"
            ],
            [
             0.1111111111111111,
             "#46039f"
            ],
            [
             0.2222222222222222,
             "#7201a8"
            ],
            [
             0.3333333333333333,
             "#9c179e"
            ],
            [
             0.4444444444444444,
             "#bd3786"
            ],
            [
             0.5555555555555556,
             "#d8576b"
            ],
            [
             0.6666666666666666,
             "#ed7953"
            ],
            [
             0.7777777777777778,
             "#fb9f3a"
            ],
            [
             0.8888888888888888,
             "#fdca26"
            ],
            [
             1,
             "#f0f921"
            ]
           ]
          },
          "colorway": [
           "#636efa",
           "#EF553B",
           "#00cc96",
           "#ab63fa",
           "#FFA15A",
           "#19d3f3",
           "#FF6692",
           "#B6E880",
           "#FF97FF",
           "#FECB52"
          ],
          "font": {
           "color": "#2a3f5f"
          },
          "geo": {
           "bgcolor": "white",
           "lakecolor": "white",
           "landcolor": "#E5ECF6",
           "showlakes": true,
           "showland": true,
           "subunitcolor": "white"
          },
          "hoverlabel": {
           "align": "left"
          },
          "hovermode": "closest",
          "mapbox": {
           "style": "light"
          },
          "paper_bgcolor": "white",
          "plot_bgcolor": "#E5ECF6",
          "polar": {
           "angularaxis": {
            "gridcolor": "white",
            "linecolor": "white",
            "ticks": ""
           },
           "bgcolor": "#E5ECF6",
           "radialaxis": {
            "gridcolor": "white",
            "linecolor": "white",
            "ticks": ""
           }
          },
          "scene": {
           "xaxis": {
            "backgroundcolor": "#E5ECF6",
            "gridcolor": "white",
            "gridwidth": 2,
            "linecolor": "white",
            "showbackground": true,
            "ticks": "",
            "zerolinecolor": "white"
           },
           "yaxis": {
            "backgroundcolor": "#E5ECF6",
            "gridcolor": "white",
            "gridwidth": 2,
            "linecolor": "white",
            "showbackground": true,
            "ticks": "",
            "zerolinecolor": "white"
           },
           "zaxis": {
            "backgroundcolor": "#E5ECF6",
            "gridcolor": "white",
            "gridwidth": 2,
            "linecolor": "white",
            "showbackground": true,
            "ticks": "",
            "zerolinecolor": "white"
           }
          },
          "shapedefaults": {
           "line": {
            "color": "#2a3f5f"
           }
          },
          "ternary": {
           "aaxis": {
            "gridcolor": "white",
            "linecolor": "white",
            "ticks": ""
           },
           "baxis": {
            "gridcolor": "white",
            "linecolor": "white",
            "ticks": ""
           },
           "bgcolor": "#E5ECF6",
           "caxis": {
            "gridcolor": "white",
            "linecolor": "white",
            "ticks": ""
           }
          },
          "title": {
           "x": 0.05
          },
          "xaxis": {
           "automargin": true,
           "gridcolor": "white",
           "linecolor": "white",
           "ticks": "",
           "title": {
            "standoff": 15
           },
           "zerolinecolor": "white",
           "zerolinewidth": 2
          },
          "yaxis": {
           "automargin": true,
           "gridcolor": "white",
           "linecolor": "white",
           "ticks": "",
           "title": {
            "standoff": 15
           },
           "zerolinecolor": "white",
           "zerolinewidth": 2
          }
         }
        },
        "xaxis": {
         "anchor": "y",
         "domain": [
          0,
          1
         ],
         "title": {
          "text": "Ex-Showroom_Price"
         }
        },
        "yaxis": {
         "anchor": "x",
         "domain": [
          0,
          1
         ],
         "title": {
          "text": "Electric_Range"
         }
        }
       }
      },
      "text/html": [
       "<div>                            <div id=\"92ddd0d6-ec97-4001-bb43-aa22524b94eb\" class=\"plotly-graph-div\" style=\"height:525px; width:100%;\"></div>            <script type=\"text/javascript\">                require([\"plotly\"], function(Plotly) {                    window.PLOTLYENV=window.PLOTLYENV || {};                                    if (document.getElementById(\"92ddd0d6-ec97-4001-bb43-aa22524b94eb\")) {                    Plotly.newPlot(                        \"92ddd0d6-ec97-4001-bb43-aa22524b94eb\",                        [{\"alignmentgroup\":\"True\",\"hovertemplate\":\"Ex-Showroom_Price=%{x}<br>Electric_Range=%{y}<extra></extra>\",\"legendgroup\":\"\",\"marker\":{\"color\":\"#636efa\",\"pattern\":{\"shape\":\"\"}},\"name\":\"\",\"offsetgroup\":\"\",\"orientation\":\"v\",\"showlegend\":false,\"textposition\":\"auto\",\"type\":\"bar\",\"x\":[\"Rs. 8,81,425\",\"Rs. 9,57,177\",\"Rs. 9,60,868\",\"Rs. 9,75,868\",\"Rs. 9,44,175\",\"Rs. 12,93,214\",\"Rs. 12,67,208\",\"Rs. 13,03,241\",\"Rs. 20,88,000\",\"Rs. 23,58,000\",\"Rs. 13,99,000\",\"Rs. 14,99,000\",\"Rs. 15,99,000\",\"Rs. 23,71,858\"],\"xaxis\":\"x\",\"y\":[\"110 km/full charge\",\"110 km/full charge\",\"213 km/full charge\",\"213 km/full charge\",\"213 km/full charge\",\"110 km/full charge\",\"110 km/full charge\",\"110 km/full charge\",\"340 km/full charge\",\"340 km/full charge\",\"312 km/full charge\",\"312 km/full charge\",\"300 km/full charge\",\"462 km/full charge\"],\"yaxis\":\"y\"}],                        {\"barmode\":\"relative\",\"legend\":{\"tracegroupgap\":0},\"margin\":{\"t\":60},\"template\":{\"data\":{\"bar\":[{\"error_x\":{\"color\":\"#2a3f5f\"},\"error_y\":{\"color\":\"#2a3f5f\"},\"marker\":{\"line\":{\"color\":\"#E5ECF6\",\"width\":0.5},\"pattern\":{\"fillmode\":\"overlay\",\"size\":10,\"solidity\":0.2}},\"type\":\"bar\"}],\"barpolar\":[{\"marker\":{\"line\":{\"color\":\"#E5ECF6\",\"width\":0.5},\"pattern\":{\"fillmode\":\"overlay\",\"size\":10,\"solidity\":0.2}},\"type\":\"barpolar\"}],\"carpet\":[{\"aaxis\":{\"endlinecolor\":\"#2a3f5f\",\"gridcolor\":\"white\",\"linecolor\":\"white\",\"minorgridcolor\":\"white\",\"startlinecolor\":\"#2a3f5f\"},\"baxis\":{\"endlinecolor\":\"#2a3f5f\",\"gridcolor\":\"white\",\"linecolor\":\"white\",\"minorgridcolor\":\"white\",\"startlinecolor\":\"#2a3f5f\"},\"type\":\"carpet\"}],\"choropleth\":[{\"colorbar\":{\"outlinewidth\":0,\"ticks\":\"\"},\"type\":\"choropleth\"}],\"contour\":[{\"colorbar\":{\"outlinewidth\":0,\"ticks\":\"\"},\"colorscale\":[[0.0,\"#0d0887\"],[0.1111111111111111,\"#46039f\"],[0.2222222222222222,\"#7201a8\"],[0.3333333333333333,\"#9c179e\"],[0.4444444444444444,\"#bd3786\"],[0.5555555555555556,\"#d8576b\"],[0.6666666666666666,\"#ed7953\"],[0.7777777777777778,\"#fb9f3a\"],[0.8888888888888888,\"#fdca26\"],[1.0,\"#f0f921\"]],\"type\":\"contour\"}],\"contourcarpet\":[{\"colorbar\":{\"outlinewidth\":0,\"ticks\":\"\"},\"type\":\"contourcarpet\"}],\"heatmap\":[{\"colorbar\":{\"outlinewidth\":0,\"ticks\":\"\"},\"colorscale\":[[0.0,\"#0d0887\"],[0.1111111111111111,\"#46039f\"],[0.2222222222222222,\"#7201a8\"],[0.3333333333333333,\"#9c179e\"],[0.4444444444444444,\"#bd3786\"],[0.5555555555555556,\"#d8576b\"],[0.6666666666666666,\"#ed7953\"],[0.7777777777777778,\"#fb9f3a\"],[0.8888888888888888,\"#fdca26\"],[1.0,\"#f0f921\"]],\"type\":\"heatmap\"}],\"heatmapgl\":[{\"colorbar\":{\"outlinewidth\":0,\"ticks\":\"\"},\"colorscale\":[[0.0,\"#0d0887\"],[0.1111111111111111,\"#46039f\"],[0.2222222222222222,\"#7201a8\"],[0.3333333333333333,\"#9c179e\"],[0.4444444444444444,\"#bd3786\"],[0.5555555555555556,\"#d8576b\"],[0.6666666666666666,\"#ed7953\"],[0.7777777777777778,\"#fb9f3a\"],[0.8888888888888888,\"#fdca26\"],[1.0,\"#f0f921\"]],\"type\":\"heatmapgl\"}],\"histogram\":[{\"marker\":{\"pattern\":{\"fillmode\":\"overlay\",\"size\":10,\"solidity\":0.2}},\"type\":\"histogram\"}],\"histogram2d\":[{\"colorbar\":{\"outlinewidth\":0,\"ticks\":\"\"},\"colorscale\":[[0.0,\"#0d0887\"],[0.1111111111111111,\"#46039f\"],[0.2222222222222222,\"#7201a8\"],[0.3333333333333333,\"#9c179e\"],[0.4444444444444444,\"#bd3786\"],[0.5555555555555556,\"#d8576b\"],[0.6666666666666666,\"#ed7953\"],[0.7777777777777778,\"#fb9f3a\"],[0.8888888888888888,\"#fdca26\"],[1.0,\"#f0f921\"]],\"type\":\"histogram2d\"}],\"histogram2dcontour\":[{\"colorbar\":{\"outlinewidth\":0,\"ticks\":\"\"},\"colorscale\":[[0.0,\"#0d0887\"],[0.1111111111111111,\"#46039f\"],[0.2222222222222222,\"#7201a8\"],[0.3333333333333333,\"#9c179e\"],[0.4444444444444444,\"#bd3786\"],[0.5555555555555556,\"#d8576b\"],[0.6666666666666666,\"#ed7953\"],[0.7777777777777778,\"#fb9f3a\"],[0.8888888888888888,\"#fdca26\"],[1.0,\"#f0f921\"]],\"type\":\"histogram2dcontour\"}],\"mesh3d\":[{\"colorbar\":{\"outlinewidth\":0,\"ticks\":\"\"},\"type\":\"mesh3d\"}],\"parcoords\":[{\"line\":{\"colorbar\":{\"outlinewidth\":0,\"ticks\":\"\"}},\"type\":\"parcoords\"}],\"pie\":[{\"automargin\":true,\"type\":\"pie\"}],\"scatter\":[{\"marker\":{\"colorbar\":{\"outlinewidth\":0,\"ticks\":\"\"}},\"type\":\"scatter\"}],\"scatter3d\":[{\"line\":{\"colorbar\":{\"outlinewidth\":0,\"ticks\":\"\"}},\"marker\":{\"colorbar\":{\"outlinewidth\":0,\"ticks\":\"\"}},\"type\":\"scatter3d\"}],\"scattercarpet\":[{\"marker\":{\"colorbar\":{\"outlinewidth\":0,\"ticks\":\"\"}},\"type\":\"scattercarpet\"}],\"scattergeo\":[{\"marker\":{\"colorbar\":{\"outlinewidth\":0,\"ticks\":\"\"}},\"type\":\"scattergeo\"}],\"scattergl\":[{\"marker\":{\"colorbar\":{\"outlinewidth\":0,\"ticks\":\"\"}},\"type\":\"scattergl\"}],\"scattermapbox\":[{\"marker\":{\"colorbar\":{\"outlinewidth\":0,\"ticks\":\"\"}},\"type\":\"scattermapbox\"}],\"scatterpolar\":[{\"marker\":{\"colorbar\":{\"outlinewidth\":0,\"ticks\":\"\"}},\"type\":\"scatterpolar\"}],\"scatterpolargl\":[{\"marker\":{\"colorbar\":{\"outlinewidth\":0,\"ticks\":\"\"}},\"type\":\"scatterpolargl\"}],\"scatterternary\":[{\"marker\":{\"colorbar\":{\"outlinewidth\":0,\"ticks\":\"\"}},\"type\":\"scatterternary\"}],\"surface\":[{\"colorbar\":{\"outlinewidth\":0,\"ticks\":\"\"},\"colorscale\":[[0.0,\"#0d0887\"],[0.1111111111111111,\"#46039f\"],[0.2222222222222222,\"#7201a8\"],[0.3333333333333333,\"#9c179e\"],[0.4444444444444444,\"#bd3786\"],[0.5555555555555556,\"#d8576b\"],[0.6666666666666666,\"#ed7953\"],[0.7777777777777778,\"#fb9f3a\"],[0.8888888888888888,\"#fdca26\"],[1.0,\"#f0f921\"]],\"type\":\"surface\"}],\"table\":[{\"cells\":{\"fill\":{\"color\":\"#EBF0F8\"},\"line\":{\"color\":\"white\"}},\"header\":{\"fill\":{\"color\":\"#C8D4E3\"},\"line\":{\"color\":\"white\"}},\"type\":\"table\"}]},\"layout\":{\"annotationdefaults\":{\"arrowcolor\":\"#2a3f5f\",\"arrowhead\":0,\"arrowwidth\":1},\"autotypenumbers\":\"strict\",\"coloraxis\":{\"colorbar\":{\"outlinewidth\":0,\"ticks\":\"\"}},\"colorscale\":{\"diverging\":[[0,\"#8e0152\"],[0.1,\"#c51b7d\"],[0.2,\"#de77ae\"],[0.3,\"#f1b6da\"],[0.4,\"#fde0ef\"],[0.5,\"#f7f7f7\"],[0.6,\"#e6f5d0\"],[0.7,\"#b8e186\"],[0.8,\"#7fbc41\"],[0.9,\"#4d9221\"],[1,\"#276419\"]],\"sequential\":[[0.0,\"#0d0887\"],[0.1111111111111111,\"#46039f\"],[0.2222222222222222,\"#7201a8\"],[0.3333333333333333,\"#9c179e\"],[0.4444444444444444,\"#bd3786\"],[0.5555555555555556,\"#d8576b\"],[0.6666666666666666,\"#ed7953\"],[0.7777777777777778,\"#fb9f3a\"],[0.8888888888888888,\"#fdca26\"],[1.0,\"#f0f921\"]],\"sequentialminus\":[[0.0,\"#0d0887\"],[0.1111111111111111,\"#46039f\"],[0.2222222222222222,\"#7201a8\"],[0.3333333333333333,\"#9c179e\"],[0.4444444444444444,\"#bd3786\"],[0.5555555555555556,\"#d8576b\"],[0.6666666666666666,\"#ed7953\"],[0.7777777777777778,\"#fb9f3a\"],[0.8888888888888888,\"#fdca26\"],[1.0,\"#f0f921\"]]},\"colorway\":[\"#636efa\",\"#EF553B\",\"#00cc96\",\"#ab63fa\",\"#FFA15A\",\"#19d3f3\",\"#FF6692\",\"#B6E880\",\"#FF97FF\",\"#FECB52\"],\"font\":{\"color\":\"#2a3f5f\"},\"geo\":{\"bgcolor\":\"white\",\"lakecolor\":\"white\",\"landcolor\":\"#E5ECF6\",\"showlakes\":true,\"showland\":true,\"subunitcolor\":\"white\"},\"hoverlabel\":{\"align\":\"left\"},\"hovermode\":\"closest\",\"mapbox\":{\"style\":\"light\"},\"paper_bgcolor\":\"white\",\"plot_bgcolor\":\"#E5ECF6\",\"polar\":{\"angularaxis\":{\"gridcolor\":\"white\",\"linecolor\":\"white\",\"ticks\":\"\"},\"bgcolor\":\"#E5ECF6\",\"radialaxis\":{\"gridcolor\":\"white\",\"linecolor\":\"white\",\"ticks\":\"\"}},\"scene\":{\"xaxis\":{\"backgroundcolor\":\"#E5ECF6\",\"gridcolor\":\"white\",\"gridwidth\":2,\"linecolor\":\"white\",\"showbackground\":true,\"ticks\":\"\",\"zerolinecolor\":\"white\"},\"yaxis\":{\"backgroundcolor\":\"#E5ECF6\",\"gridcolor\":\"white\",\"gridwidth\":2,\"linecolor\":\"white\",\"showbackground\":true,\"ticks\":\"\",\"zerolinecolor\":\"white\"},\"zaxis\":{\"backgroundcolor\":\"#E5ECF6\",\"gridcolor\":\"white\",\"gridwidth\":2,\"linecolor\":\"white\",\"showbackground\":true,\"ticks\":\"\",\"zerolinecolor\":\"white\"}},\"shapedefaults\":{\"line\":{\"color\":\"#2a3f5f\"}},\"ternary\":{\"aaxis\":{\"gridcolor\":\"white\",\"linecolor\":\"white\",\"ticks\":\"\"},\"baxis\":{\"gridcolor\":\"white\",\"linecolor\":\"white\",\"ticks\":\"\"},\"bgcolor\":\"#E5ECF6\",\"caxis\":{\"gridcolor\":\"white\",\"linecolor\":\"white\",\"ticks\":\"\"}},\"title\":{\"x\":0.05},\"xaxis\":{\"automargin\":true,\"gridcolor\":\"white\",\"linecolor\":\"white\",\"ticks\":\"\",\"title\":{\"standoff\":15},\"zerolinecolor\":\"white\",\"zerolinewidth\":2},\"yaxis\":{\"automargin\":true,\"gridcolor\":\"white\",\"linecolor\":\"white\",\"ticks\":\"\",\"title\":{\"standoff\":15},\"zerolinecolor\":\"white\",\"zerolinewidth\":2}}},\"xaxis\":{\"anchor\":\"y\",\"domain\":[0.0,1.0],\"title\":{\"text\":\"Ex-Showroom_Price\"}},\"yaxis\":{\"anchor\":\"x\",\"domain\":[0.0,1.0],\"title\":{\"text\":\"Electric_Range\"}}},                        {\"responsive\": true}                    ).then(function(){\n",
       "                            \n",
       "var gd = document.getElementById('92ddd0d6-ec97-4001-bb43-aa22524b94eb');\n",
       "var x = new MutationObserver(function (mutations, observer) {{\n",
       "        var display = window.getComputedStyle(gd).display;\n",
       "        if (!display || display === 'none') {{\n",
       "            console.log([gd, 'removed!']);\n",
       "            Plotly.purge(gd);\n",
       "            observer.disconnect();\n",
       "        }}\n",
       "}});\n",
       "\n",
       "// Listen for the removal of the full notebook cells\n",
       "var notebookContainer = gd.closest('#notebook-container');\n",
       "if (notebookContainer) {{\n",
       "    x.observe(notebookContainer, {childList: true});\n",
       "}}\n",
       "\n",
       "// Listen for the clearing of the current output cell\n",
       "var outputEl = gd.closest('.output');\n",
       "if (outputEl) {{\n",
       "    x.observe(outputEl, {childList: true});\n",
       "}}\n",
       "\n",
       "                        })                };                });            </script>        </div>"
      ]
     },
     "metadata": {},
     "output_type": "display_data"
    }
   ],
   "source": [
    "import plotly.express as px\n",
    "\n",
    "fig = px.bar(Electric, x='Ex-Showroom_Price', y='Electric_Range')\n",
    "fig.show()"
   ]
  },
  {
   "cell_type": "code",
   "execution_count": 211,
   "id": "3e405c43",
   "metadata": {},
   "outputs": [
    {
     "data": {
      "application/vnd.plotly.v1+json": {
       "config": {
        "plotlyServerURL": "https://plot.ly"
       },
       "data": [
        {
         "alignmentgroup": "True",
         "hovertemplate": "Model=%{x}<br>Electric_Range=%{y}<extra></extra>",
         "legendgroup": "",
         "marker": {
          "color": "#636efa",
          "pattern": {
           "shape": ""
          }
         },
         "name": "",
         "offsetgroup": "",
         "orientation": "v",
         "showlegend": false,
         "textposition": "auto",
         "type": "bar",
         "x": [
          "Nano Genx",
          "Nano Genx",
          "Nano Genx",
          "Nano Genx",
          "Nano Genx",
          "Nano Genx",
          "Redi-Go",
          "Redi-Go",
          "Redi-Go",
          "Redi-Go",
          "Redi-Go",
          "Redi-Go",
          "Kwid",
          "Kwid",
          "Kwid",
          "Kwid",
          "Kwid",
          "Kwid",
          "Kwid",
          "Kwid",
          "Kwid",
          "Kwid",
          "Kwid",
          "Kwid",
          "Eeco",
          "Eeco",
          "Eeco",
          "Eeco",
          "Eeco",
          "Alto K10",
          "Alto K10",
          "Alto K10",
          "Alto K10",
          "Alto K10",
          "Alto K10",
          "Go",
          "Go",
          "Go",
          "Go",
          "Go",
          "Go",
          "Go",
          "Go",
          "Go",
          "Celerio Tour",
          "Celerio Tour",
          "Santro",
          "Santro",
          "Santro",
          "Santro",
          "Santro",
          "Santro",
          "Santro",
          "Santro",
          "Tiago",
          "Tiago",
          "Tiago",
          "Tiago",
          "Tiago",
          "Tiago",
          "Tiago",
          "Tiago",
          "Celerio X",
          "Celerio X",
          "Celerio X",
          "Celerio X",
          "Celerio X",
          "Celerio X",
          "Celerio X",
          "Celerio X",
          "Ignis",
          "Ignis",
          "Ignis",
          "Ignis",
          "Ignis",
          "Ignis",
          "Ignis",
          "Triber",
          "Triber",
          "Triber",
          "Triber",
          "Rio",
          "Rio",
          "Rio",
          "Rio",
          "Rio",
          "Rio",
          "Etios Liva",
          "Etios Liva",
          "Etios Liva",
          "Etios Liva",
          "Etios Liva",
          "Etios Liva",
          "Etios Liva",
          "Etios Liva",
          "Etios Liva",
          "Etios Liva",
          "Etios Liva",
          "Etios Liva",
          "Etios Liva",
          "Etios Liva",
          "Micra Active",
          "Micra Active",
          "Micra Active",
          "Bolt",
          "Bolt",
          "Bolt",
          "Bolt",
          "Bolt",
          "Bolt",
          "Bolt",
          "Bolt",
          "Xcent Prime",
          "Xcent Prime",
          "Xcent Prime",
          "Xcent Prime",
          "Xcent Prime",
          "Xcent Prime",
          "Dzire Tour",
          "Dzire Tour",
          "Dzire Tour",
          "Elite I20",
          "Elite I20",
          "Elite I20",
          "Elite I20",
          "Elite I20",
          "Elite I20",
          "Elite I20",
          "Elite I20",
          "Elite I20",
          "Elite I20",
          "Elite I20",
          "Elite I20",
          "Aura",
          "Aura",
          "Aura",
          "Aura",
          "Aura",
          "Aura",
          "Aura",
          "Aura",
          "Aura",
          "Aura",
          "Aura",
          "Aura",
          "Polo",
          "Polo",
          "Polo",
          "Polo",
          "Polo",
          "Polo",
          "Polo",
          "Polo",
          "Dzire",
          "Dzire",
          "Dzire",
          "Dzire",
          "Dzire",
          "Dzire",
          "Dzire",
          "Dzire",
          "Dzire",
          "Dzire",
          "Dzire",
          "Dzire",
          "Dzire",
          "Dzire",
          "Freestyle",
          "Freestyle",
          "Freestyle",
          "Freestyle",
          "Freestyle",
          "Freestyle",
          "Freestyle",
          "Freestyle",
          "Ameo",
          "Ameo",
          "Ameo",
          "Ameo",
          "Ameo",
          "Ameo",
          "Ameo",
          "Ameo",
          "Aspire",
          "Aspire",
          "Aspire",
          "Aspire",
          "Aspire",
          "Aspire",
          "Aspire",
          "Aspire",
          "Aspire",
          "Aspire",
          "Aspire",
          "Aspire",
          "Aspire",
          "Platinum Etios",
          "Platinum Etios",
          "Platinum Etios",
          "Platinum Etios",
          "Platinum Etios",
          "Platinum Etios",
          "Platinum Etios",
          "Platinum Etios",
          "Platinum Etios",
          "Platinum Etios",
          "Etios Cross",
          "Etios Cross",
          "Etios Cross",
          "Etios Cross",
          "Etios Cross",
          "Etios Cross",
          "Verito Vibe",
          "Verito Vibe",
          "Verito Vibe",
          "Urban Cross",
          "Urban Cross",
          "Urban Cross",
          "Urban Cross",
          "Glanza",
          "Glanza",
          "Glanza",
          "Glanza",
          "Glanza",
          "Avventura",
          "Avventura",
          "Avventura",
          "Jazz",
          "Jazz",
          "Jazz",
          "Jazz",
          "Jazz",
          "Jazz",
          "Jazz",
          "Jazz",
          "Bolero Power Plus",
          "Bolero Power Plus",
          "Bolero Power Plus",
          "Bolero Power Plus",
          "Bolero Power Plus",
          "Bolero Power Plus",
          "Vitara Brezza",
          "Vitara Brezza",
          "Vitara Brezza",
          "Vitara Brezza",
          "Vitara Brezza",
          "Vitara Brezza",
          "Vitara Brezza",
          "Vitara Brezza",
          "Vitara Brezza",
          "I20 Active",
          "I20 Active",
          "I20 Active",
          "I20 Active",
          "Ecosport",
          "Ecosport",
          "Ecosport",
          "Ecosport",
          "Ecosport",
          "Ecosport",
          "Ecosport",
          "Ecosport",
          "Ecosport",
          "Ecosport",
          "Ecosport",
          "Ecosport",
          "Duster",
          "Duster",
          "Duster",
          "Duster",
          "Duster",
          "Duster",
          "Duster",
          "Duster",
          "Duster",
          "Verna",
          "Verna",
          "Verna",
          "Verna",
          "Verna",
          "Verna",
          "Verna",
          "Verna",
          "Verna",
          "Verna",
          "Verna",
          "Verna",
          "Verna",
          "Xuv300",
          "Xuv300",
          "Xuv300",
          "Xuv300",
          "Xuv300",
          "Xuv300",
          "Xuv300",
          "Xuv300",
          "Xuv300",
          "Xuv300",
          "Xuv300",
          "Lodgy",
          "Lodgy",
          "Lodgy",
          "Lodgy",
          "Lodgy",
          "Lodgy",
          "Lodgy",
          "Vento",
          "Vento",
          "Vento",
          "Vento",
          "Vento",
          "Vento",
          "Vento",
          "Vento",
          "Vento",
          "Vento",
          "Vento",
          "Vento",
          "E2O Plus",
          "E2O Plus",
          "Tigor Ev",
          "Tigor Ev",
          "Tigor Ev",
          "Brv",
          "Brv",
          "Brv",
          "Brv",
          "Brv",
          "Brv",
          "Brv",
          "Brv",
          "Thar",
          "Thar",
          "Thar",
          "Gurkha",
          "Gurkha",
          "Gurkha",
          "Gurkha",
          "Gurkha",
          "Gurkha",
          "Xl6",
          "Xl6",
          "Xl6",
          "Xl6",
          "Abarth Avventura",
          "Tuv300 Plus",
          "Tuv300 Plus",
          "Tuv300 Plus",
          "Marazzo",
          "Marazzo",
          "Marazzo",
          "Marazzo",
          "Marazzo",
          "Marazzo",
          "Marazzo",
          "Marazzo",
          "Scorpio",
          "Scorpio",
          "Scorpio",
          "Scorpio",
          "Scorpio",
          "Scorpio",
          "Scorpio",
          "Scorpio",
          "Scorpio",
          "Monte Carlo",
          "Monte Carlo",
          "Monte Carlo",
          "Monte Carlo",
          "Xuv500",
          "Xuv500",
          "Xuv500",
          "Xuv500",
          "Xuv500",
          "Xuv500",
          "Xuv500",
          "Xuv500",
          "Xuv500",
          "Xuv500",
          "Xuv500",
          "Xuv500",
          "E Verito",
          "E Verito",
          "E Verito",
          "Hexa",
          "Hexa",
          "Hexa",
          "Hexa",
          "Hexa",
          "Hexa",
          "Hexa",
          "Innova Crysta",
          "Innova Crysta",
          "Innova Crysta",
          "Innova Crysta",
          "Innova Crysta",
          "Innova Crysta",
          "Innova Crysta",
          "Innova Crysta",
          "Innova Crysta",
          "Innova Crysta",
          "Innova Crysta",
          "Innova Crysta",
          "Innova Crysta",
          "Innova Crysta",
          "Innova Crysta",
          "Innova Crysta",
          "Compass",
          "Compass",
          "Compass",
          "Compass",
          "Compass",
          "Compass",
          "Compass",
          "Compass",
          "Compass",
          "Compass",
          "Compass",
          "Compass",
          "Compass",
          "Compass",
          "Compass",
          "Compass",
          "Compass",
          "Compass",
          "Compass",
          "Compass",
          "Compass",
          "Corolla Altis",
          "Corolla Altis",
          "Corolla Altis",
          "Corolla Altis",
          "Corolla Altis",
          "Corolla Altis",
          "Civic",
          "Civic",
          "Civic",
          "Civic",
          "Civic",
          "Zs Ev",
          "Zs Ev",
          "Carnival",
          "Carnival",
          "Carnival",
          "Carnival",
          "Carnival",
          "Superb",
          "Superb",
          "Superb",
          "Superb",
          "Superb",
          "Superb",
          "Superb",
          "Outlander",
          "V40",
          "V40",
          "Mercedes-Benz A-Class",
          "Mercedes-Benz A-Class",
          "Fortuner",
          "Fortuner",
          "Fortuner",
          "Fortuner",
          "Fortuner",
          "Fortuner",
          "Fortuner",
          "Pajero Sport",
          "Pajero Sport",
          "Pajero Sport",
          "Pajero Sport",
          "Pajero Sport",
          "Endeavour",
          "Endeavour",
          "Endeavour",
          "V40 Cross Country",
          "V40 Cross Country",
          "Cooper 3 Door",
          "Cooper 3 Door",
          "Mercedes-Benz Gla-Class",
          "Mercedes-Benz Gla-Class",
          "Mercedes-Benz Gla-Class",
          "Mercedes-Benz Gla-Class",
          "Mercedes-Benz Gla-Class",
          "Mercedes-Benz Gla-Class",
          "Kodiaq Scout",
          "Countryman",
          "Countryman",
          "Countryman",
          "Countryman",
          "X1",
          "X1",
          "X1",
          "X1",
          "X1",
          "Camry",
          "S60",
          "S60",
          "Mercedes-Benz C-Class",
          "Mercedes-Benz C-Class",
          "Mercedes-Benz C-Class",
          "Mercedes-Benz C-Class",
          "Mercedes-Benz C-Class",
          "Mercedes-Benz C-Class",
          "3-Series",
          "3-Series",
          "3-Series",
          "Accord Hybrid",
          "S60 Cross Country",
          "Prius",
          "Q5",
          "Q5",
          "Q5",
          "Q5",
          "Mercedes-Benz Glc",
          "Mercedes-Benz Glc",
          "Range Evoque",
          "Range Evoque",
          "Range Evoque",
          "Range Evoque",
          "Es",
          "Mercedes-Benz E-Class",
          "Mercedes-Benz E-Class",
          "Mercedes-Benz E-Class",
          "Mercedes-Benz E-Class",
          "Mercedes-Benz E-Class",
          "Mercedes-Benz E-Class",
          "Mercedes-Benz E-Class",
          "Mercedes-Benz E-Class",
          "5-Series",
          "5-Series",
          "5-Series",
          "Nx 300H",
          "Nx 300H",
          "A5",
          "F-Pace",
          "F-Pace",
          "6-Series",
          "6-Series",
          "6-Series",
          "6-Series",
          "V90 Cross Country",
          "Montero",
          "A5 Cabriolet",
          "Macan",
          "Macan",
          "Range Velar",
          "Range Velar",
          "Mercedes-Benz Gle",
          "Mercedes-Benz Gle",
          "Mercedes-Benz E-Class All Terrain",
          "Discovery",
          "Discovery",
          "Discovery",
          "Discovery",
          "Discovery",
          "Discovery",
          "Discovery",
          "Discovery",
          "Xc90",
          "Xc90",
          "Xc90",
          "Xc90",
          "Xc90",
          "Mercedes-Benz Cls",
          "Range Sport",
          "Range Sport",
          "Range Sport",
          "Range Sport",
          "Range Sport",
          "Range Sport",
          "Range Sport",
          "Range Sport",
          "Range Sport",
          "Range Sport",
          "F-Type",
          "F-Type",
          "F-Type",
          "F-Type",
          "F-Type",
          "F-Type",
          "F-Type",
          "F-Type",
          "Xj",
          "Xj",
          "Xj",
          "X7",
          "X7",
          "Cayenne",
          "Cayenne",
          "Cayenne",
          "Cayenne Coupe",
          "Cayenne Coupe",
          "Ghibli",
          "Ghibli",
          "Ghibli",
          "M4",
          "Land Cruiser",
          "M5",
          "Rs7",
          "911",
          "911",
          "Range",
          "Range",
          "Range",
          "Range",
          "Range",
          "Range",
          "Range",
          "Range",
          "Range",
          "Range",
          "Lc 500H",
          "Mercedes-Benz Maybach",
          "Mercedes-Benz Maybach",
          "Panamera",
          "Panamera",
          "Panamera",
          "Lx 450D",
          "Mercedes-Benz S-Class Cabriolet",
          "R8",
          "Urus",
          "Continental Gt",
          "Portofino",
          "Bentayga",
          "Bentayga",
          "Db 11",
          "458 Speciale",
          "Rolls-Royce Ghost Series Ii",
          "Rolls-Royce Ghost Series Ii",
          "Rolls-Royce Wraith",
          "Mulsanne",
          "Rolls-Royce Cullinan",
          "Rolls-Royce Phantom Coupe",
          "Chiron",
          "Chiron",
          "Qute (Re60)",
          "Qute (Re60)",
          "Alto",
          "Alto",
          "Alto",
          "Alto",
          "Alto",
          "Alto",
          "Alto",
          "Alto",
          "S-Presso",
          "S-Presso",
          "S-Presso",
          "S-Presso",
          "S-Presso",
          "S-Presso",
          "S-Presso",
          "S-Presso",
          "S-Presso",
          "S-Presso",
          "Celerio",
          "Celerio",
          "Celerio",
          "Celerio",
          "Celerio",
          "Celerio",
          "Celerio",
          "Celerio",
          "Celerio",
          "Celerio",
          "Celerio",
          "Grand I10 Prime",
          "Grand I10 Prime",
          "Grand I10 Prime",
          "Grand I10 Prime",
          "Grand I10 Prime",
          "Grand I10 Prime",
          "Kuv100 Nxt",
          "Kuv100 Nxt",
          "Kuv100 Nxt",
          "Kuv100 Nxt",
          "Kuv100 Nxt",
          "Kuv100 Nxt",
          "Kuv100 Nxt",
          "Kuv100 Nxt",
          "Kuv100 Nxt",
          "Kuv100 Nxt",
          "Kuv100 Nxt",
          "Kuv100 Nxt",
          "Kuv100 Nxt",
          "Kuv100 Nxt",
          "Kuv100 Nxt",
          "Kuv100 Nxt",
          "Kuv100 Nxt",
          "Kuv100 Nxt",
          "Kuv100 Nxt",
          "Kuv100 Nxt",
          "Kuv100 Nxt",
          "Kuv100 Nxt",
          "Swift",
          "Swift",
          "Swift",
          "Swift",
          "Swift",
          "Swift",
          "Swift",
          "Swift",
          "Swift",
          "Swift",
          "Swift",
          "Swift",
          "Swift",
          "Swift",
          "Altroz",
          "Altroz",
          "Altroz",
          "Altroz",
          "Altroz",
          "Altroz",
          "Altroz",
          "Altroz",
          "Altroz",
          "Altroz",
          "Extreme",
          "Extreme",
          "Extreme",
          "Extreme",
          "Extreme",
          "Extreme",
          "Extreme",
          "Extreme",
          "Extreme",
          "Extreme",
          "Extreme",
          "Tigor",
          "Tigor",
          "Tigor",
          "Tigor",
          "Tigor",
          "Tigor",
          "Zest",
          "Zest",
          "Zest",
          "Zest",
          "Zest",
          "Zest",
          "Zest",
          "Zest",
          "Zest",
          "Zest",
          "Zest",
          "Amaze",
          "Amaze",
          "Amaze",
          "Amaze",
          "Amaze",
          "Amaze",
          "Amaze",
          "Amaze",
          "Amaze",
          "Amaze",
          "Amaze",
          "Amaze",
          "Amaze",
          "Amaze",
          "Amaze",
          "Amaze",
          "Amaze",
          "Amaze",
          "Amaze",
          "Amaze",
          "Gypsy",
          "Gypsy",
          "Venue",
          "Venue",
          "Venue",
          "Venue",
          "Venue",
          "Venue",
          "Venue",
          "Venue",
          "Venue",
          "Venue",
          "Venue",
          "Venue",
          "Venue",
          "Nexon",
          "Nexon",
          "Nexon",
          "Nexon",
          "Nexon",
          "Nexon",
          "Nexon",
          "Nexon",
          "Nexon",
          "Nexon",
          "Nexon",
          "Nexon",
          "Nexon",
          "Nexon",
          "Nexon",
          "Nexon",
          "Nexon",
          "Nexon",
          "Nexon",
          "Nexon",
          "Nexon",
          "Nexon",
          "Nexon",
          "Nexon",
          "Linea",
          "Linea",
          "Linea",
          "Linea",
          "Linea",
          "Ertiga",
          "Ertiga",
          "Ertiga",
          "Ertiga",
          "Ertiga",
          "Ertiga",
          "Ertiga",
          "Ertiga",
          "Ertiga",
          "Ertiga",
          "Baleno Rs",
          "Wr-V",
          "Wr-V",
          "Wr-V",
          "Wr-V",
          "Wr-V",
          "Wr-V",
          "Wr-V",
          "Wr-V",
          "Wr-V",
          "Tuv300",
          "Tuv300",
          "Tuv300",
          "Tuv300",
          "Tuv300",
          "Tuv300",
          "Tuv300",
          "S-Cross",
          "S-Cross",
          "S-Cross",
          "S-Cross",
          "Captur",
          "Captur",
          "Captur",
          "Captur",
          "Xylo",
          "Xylo",
          "Xylo",
          "Xylo",
          "Xylo",
          "Seltos",
          "Seltos",
          "Seltos",
          "Seltos",
          "Seltos",
          "Seltos",
          "Seltos",
          "Seltos",
          "Seltos",
          "Seltos",
          "Seltos",
          "Seltos",
          "Seltos",
          "Seltos",
          "Seltos",
          "Seltos",
          "Terrano",
          "Terrano",
          "Terrano",
          "Terrano",
          "Terrano",
          "Terrano",
          "Safari Storme",
          "Safari Storme",
          "Safari Storme",
          "Safari Storme",
          "Hector",
          "Hector",
          "Hector",
          "Hector",
          "Hector",
          "Hector",
          "Hector",
          "Hector",
          "Hector",
          "Hector",
          "Hector",
          "Nexon Ev",
          "Nexon Ev",
          "Nexon Ev",
          "Elantra",
          "Elantra",
          "Elantra",
          "Elantra",
          "Tucson",
          "Tucson",
          "Tucson",
          "Tucson",
          "Tucson",
          "Tucson",
          "Tucson",
          "Tucson",
          "Passat",
          "Passat",
          "Passat",
          "Passat",
          "Mu-X",
          "Mu-X",
          "Tiguan",
          "Tiguan",
          "Superb Sportline",
          "Superb Sportline",
          "Mercedes-Benz B-Class",
          "Mercedes-Benz B-Class",
          "Mercedes-Benz B-Class",
          "Mercedes-Benz B-Class",
          "Kodiaq",
          "Kodiaq",
          "Kodiaq",
          "Q3",
          "Q3",
          "Q3",
          "Q3",
          "Convertible",
          "Clubman",
          "John Cooper Works",
          "Xf",
          "Xf",
          "Xf",
          "Xf",
          "Xf",
          "A6",
          "A6",
          "Discovery Sport",
          "Discovery Sport",
          "Xc60",
          "Wrangler",
          "Z4 Roadster",
          "Z4 Roadster",
          "Q7",
          "Q7",
          "Q7",
          "Q7",
          "Q7",
          "Q7",
          "S5",
          "Mustang",
          "Mercedes-Benz E-Class Cabriolet",
          "718",
          "718",
          "Land Cruiser Prado",
          "Rs5",
          "Q8",
          "Levante",
          "Levante",
          "Levante",
          "A8 L",
          "Quattroporte",
          "Grancabrio",
          "Mercedes-Benz Amg-Gt",
          "Mercedes-Benz Amg-Gt",
          "Mercedes-Benz Amg-Gt",
          "Mercedes-Benz Amg Gt 4-Door Coupe",
          "Huracan",
          "Huracan",
          "Huracan",
          "Huracan",
          "Huracan",
          "Huracan",
          "Huracan",
          "Huracan",
          "Huracan",
          "488 Gtb",
          "488 Gtb",
          "Gtc4 Lusso",
          "Gtc4 Lusso",
          "Aventador",
          "Aventador",
          "Aventador",
          "Rolls-Royce Dawn",
          "Rolls-Royce Drophead Coupe",
          "Omni",
          "Omni",
          "Go+",
          "Go+",
          "Go+",
          "Go+",
          "Go+",
          "Go+",
          "Go+",
          "Go+",
          "Go+",
          "Punto Evo Pure",
          "Punto Evo Pure",
          "Figo",
          "Figo",
          "Figo",
          "Figo",
          "Figo",
          "Figo",
          "Baleno",
          "Baleno",
          "Baleno",
          "Baleno",
          "Baleno",
          "Baleno",
          "Baleno",
          "Baleno",
          "Baleno",
          "Baleno",
          "Baleno",
          "Baleno",
          "Baleno",
          "Grand I10",
          "Grand I10",
          "Grand I10",
          "Grand I10",
          "Grand I10",
          "Grand I10",
          "Linea Classic",
          "Linea Classic",
          "Linea Classic",
          "Sunny",
          "Sunny",
          "Sunny",
          "Sunny",
          "Sunny",
          "Sunny",
          "Sunny",
          "Bolero",
          "Bolero",
          "Bolero",
          "Bolero",
          "Bolero",
          "Ciaz",
          "Ciaz",
          "Ciaz",
          "Ciaz",
          "Ciaz",
          "Ciaz",
          "Ciaz",
          "Ciaz",
          "Ciaz",
          "Ciaz",
          "Ciaz",
          "Ciaz",
          "Ciaz",
          "Ciaz",
          "Rapid",
          "Rapid",
          "Rapid",
          "Rapid",
          "Rapid",
          "Rapid",
          "Rapid",
          "Rapid",
          "Rapid",
          "Rapid",
          "Rapid",
          "Rapid",
          "Rapid",
          "Rapid",
          "Abarth Punto",
          "Creta",
          "Creta",
          "Creta",
          "Creta",
          "Creta",
          "Creta",
          "Creta",
          "Creta",
          "Creta",
          "Creta",
          "Creta",
          "Creta",
          "Creta",
          "Creta",
          "Creta",
          "Creta",
          "Creta",
          "Creta",
          "Harrier",
          "Harrier",
          "Harrier",
          "Harrier",
          "Harrier",
          "Harrier",
          "Dmax V-Cross",
          "Dmax V-Cross",
          "Dmax V-Cross",
          "Compass Trailhawk",
          "Compass Trailhawk",
          "Cr-V",
          "Cr-V",
          "Cr-V",
          "Mercedes-Benz Cla-Class",
          "Mercedes-Benz Cla-Class",
          "Mercedes-Benz Cla-Class",
          "Cooper 5 Door",
          "A4",
          "A4",
          "A3 Cabriolet",
          "S90",
          "Mercedes-Benz C-Class Cabriolet",
          "Range Evoque Convertible",
          "Grand Cherokee",
          "Grand Cherokee",
          "Grand Cherokee",
          "Grand Cherokee",
          "Mercedes-Benz Gls",
          "Mercedes-Benz Gls",
          "Mercedes-Benz Gls",
          "Mercedes-Benz Gls",
          "Mercedes-Benz Gls",
          "7-Series",
          "7-Series",
          "7-Series",
          "7-Series",
          "7-Series",
          "7-Series",
          "Mercedes-Benz G-Class",
          "Mercedes-Benz G-Class",
          "Ls 500H",
          "Ls 500H",
          "Ls 500H",
          "Lx 570",
          "Flying Spur",
          "Flying Spur",
          "458 Spider",
          "Rolls-Royce Phantom",
          "Rolls-Royce Phantom",
          "Alto 800 Tour",
          "Alto 800 Tour",
          "Grand I10 Nios",
          "Grand I10 Nios",
          "Grand I10 Nios",
          "Grand I10 Nios",
          "Grand I10 Nios",
          "Grand I10 Nios",
          "Grand I10 Nios",
          "Grand I10 Nios",
          "Grand I10 Nios",
          "Grand I10 Nios",
          "Xcent",
          "Xcent",
          "Xcent",
          "Xcent",
          "Xcent",
          "Xcent",
          "Xcent",
          "Xcent",
          "Xcent",
          "Micra",
          "Micra",
          "Micra",
          "Micra",
          "Nuvosport",
          "Nuvosport",
          "Nuvosport",
          "Nuvosport",
          "Nuvosport",
          "Nuvosport",
          "Kicks",
          "Kicks",
          "Kicks",
          "Kicks",
          "Kicks",
          "Kicks",
          "Kicks",
          "Kicks",
          "Winger",
          "Kona Electric",
          "A3",
          "A3",
          "A3",
          "A3",
          "Xc40",
          "Xc40",
          "Xc40",
          "X3",
          "X3",
          "X3",
          "Mercedes-Benz V-Class",
          "Mercedes-Benz V-Class",
          "Mercedes-Benz V-Class",
          "M2 Competition",
          "Mercedes-Benz S-Class",
          "Mercedes-Benz S-Class",
          "Mercedes-Benz S-Class",
          "Gtr",
          "Rapide",
          "Wagon",
          "Wagon",
          "Wagon",
          "Wagon",
          "Wagon",
          "Wagon",
          "Wagon",
          "Wagon",
          "Wagon",
          "Wagon",
          "Wagon",
          "Wagon",
          "Wagon",
          "Wagon",
          "Tiago Nrg",
          "Tiago Nrg",
          "Tiago Nrg",
          "Yaris",
          "Yaris",
          "Yaris",
          "Yaris",
          "Yaris",
          "Yaris",
          "Yaris",
          "Yaris",
          "Yaris",
          "Yaris",
          "Yaris",
          "Yaris",
          "Yaris",
          "Yaris",
          "Octavia",
          "Octavia",
          "Octavia",
          "Octavia",
          "Octavia",
          "Octavia",
          "Octavia",
          "Octavia",
          "Octavia",
          "Octavia",
          "Octavia",
          "Octavia",
          "Avanti",
          "X4",
          "X4",
          "X4",
          "Rx 450H",
          "Vantage",
          "Punto Evo",
          "Punto Evo",
          "Punto Evo",
          "Punto Evo",
          "City",
          "City",
          "City",
          "City",
          "City",
          "City",
          "City",
          "City",
          "City",
          "City",
          "Xe",
          "Xe",
          "Xe",
          "Xe",
          "Granturismo",
          "Verito",
          "Verito",
          "Verito",
          "X5",
          "X5",
          "X5",
          "Alturas G4",
          "Alturas G4",
          "812 Superfast"
         ],
         "xaxis": "x",
         "y": [
          null,
          null,
          null,
          null,
          null,
          null,
          null,
          null,
          null,
          null,
          null,
          null,
          null,
          null,
          null,
          null,
          null,
          null,
          null,
          null,
          null,
          null,
          null,
          null,
          null,
          null,
          null,
          null,
          null,
          null,
          null,
          null,
          null,
          null,
          null,
          null,
          null,
          null,
          null,
          null,
          null,
          null,
          null,
          null,
          null,
          null,
          null,
          null,
          null,
          null,
          null,
          null,
          null,
          null,
          null,
          null,
          null,
          null,
          null,
          null,
          null,
          null,
          null,
          null,
          null,
          null,
          null,
          null,
          null,
          null,
          null,
          null,
          null,
          null,
          null,
          null,
          null,
          null,
          null,
          null,
          null,
          null,
          null,
          null,
          null,
          null,
          null,
          null,
          null,
          null,
          null,
          null,
          null,
          null,
          null,
          null,
          null,
          null,
          null,
          null,
          null,
          null,
          null,
          null,
          null,
          null,
          null,
          null,
          null,
          null,
          null,
          null,
          null,
          null,
          null,
          null,
          null,
          null,
          null,
          null,
          null,
          null,
          null,
          null,
          null,
          null,
          null,
          null,
          null,
          null,
          null,
          null,
          null,
          null,
          null,
          null,
          null,
          null,
          null,
          null,
          null,
          null,
          null,
          null,
          null,
          null,
          null,
          null,
          null,
          null,
          null,
          null,
          null,
          null,
          null,
          null,
          null,
          null,
          null,
          null,
          null,
          null,
          null,
          null,
          null,
          null,
          null,
          null,
          null,
          null,
          null,
          null,
          null,
          null,
          null,
          null,
          null,
          null,
          null,
          null,
          null,
          null,
          null,
          null,
          null,
          null,
          null,
          null,
          null,
          null,
          null,
          null,
          null,
          null,
          null,
          null,
          null,
          null,
          null,
          null,
          null,
          null,
          null,
          null,
          null,
          null,
          null,
          null,
          null,
          null,
          null,
          null,
          null,
          null,
          null,
          null,
          null,
          null,
          null,
          null,
          null,
          null,
          null,
          null,
          null,
          null,
          null,
          null,
          null,
          null,
          null,
          null,
          null,
          null,
          null,
          null,
          null,
          null,
          null,
          null,
          null,
          null,
          null,
          null,
          null,
          null,
          null,
          null,
          null,
          null,
          null,
          null,
          null,
          null,
          null,
          null,
          null,
          null,
          null,
          null,
          null,
          null,
          null,
          null,
          null,
          null,
          null,
          null,
          null,
          null,
          null,
          null,
          null,
          null,
          null,
          null,
          null,
          null,
          null,
          null,
          null,
          null,
          null,
          null,
          null,
          null,
          null,
          null,
          null,
          null,
          null,
          null,
          null,
          null,
          null,
          null,
          null,
          null,
          null,
          null,
          null,
          null,
          null,
          null,
          null,
          null,
          null,
          null,
          null,
          null,
          null,
          null,
          null,
          null,
          null,
          null,
          null,
          null,
          "110 km/full charge",
          "110 km/full charge",
          "213 km/full charge",
          "213 km/full charge",
          "213 km/full charge",
          null,
          null,
          null,
          null,
          null,
          null,
          null,
          null,
          null,
          null,
          null,
          null,
          null,
          null,
          null,
          null,
          null,
          null,
          null,
          null,
          null,
          null,
          null,
          null,
          null,
          null,
          null,
          null,
          null,
          null,
          null,
          null,
          null,
          null,
          null,
          null,
          null,
          null,
          null,
          null,
          null,
          null,
          null,
          null,
          null,
          null,
          null,
          null,
          null,
          null,
          null,
          null,
          null,
          null,
          null,
          null,
          null,
          null,
          "110 km/full charge",
          "110 km/full charge",
          "110 km/full charge",
          null,
          null,
          null,
          null,
          null,
          null,
          null,
          null,
          null,
          null,
          null,
          null,
          null,
          null,
          null,
          null,
          null,
          null,
          null,
          null,
          null,
          null,
          null,
          null,
          null,
          null,
          null,
          null,
          null,
          null,
          null,
          null,
          null,
          null,
          null,
          null,
          null,
          null,
          null,
          null,
          null,
          null,
          null,
          null,
          null,
          null,
          null,
          null,
          null,
          null,
          null,
          null,
          null,
          null,
          null,
          "340 km/full charge",
          "340 km/full charge",
          null,
          null,
          null,
          null,
          null,
          null,
          null,
          null,
          null,
          null,
          null,
          null,
          null,
          null,
          null,
          null,
          null,
          null,
          null,
          null,
          null,
          null,
          null,
          null,
          null,
          null,
          null,
          null,
          null,
          null,
          null,
          null,
          null,
          null,
          null,
          null,
          null,
          null,
          null,
          null,
          null,
          null,
          null,
          null,
          null,
          null,
          null,
          null,
          null,
          null,
          null,
          null,
          null,
          null,
          null,
          null,
          null,
          null,
          null,
          null,
          null,
          null,
          null,
          null,
          null,
          null,
          null,
          null,
          null,
          null,
          null,
          null,
          null,
          null,
          null,
          null,
          null,
          null,
          null,
          null,
          null,
          null,
          null,
          null,
          null,
          null,
          null,
          null,
          null,
          null,
          null,
          null,
          null,
          null,
          null,
          null,
          null,
          null,
          null,
          null,
          null,
          null,
          null,
          null,
          null,
          null,
          null,
          null,
          null,
          null,
          null,
          null,
          null,
          null,
          null,
          null,
          null,
          null,
          null,
          null,
          null,
          null,
          null,
          null,
          null,
          null,
          null,
          null,
          null,
          null,
          null,
          null,
          null,
          null,
          null,
          null,
          null,
          null,
          null,
          null,
          null,
          null,
          null,
          null,
          null,
          null,
          null,
          null,
          null,
          null,
          null,
          null,
          null,
          null,
          null,
          null,
          null,
          null,
          null,
          null,
          null,
          null,
          null,
          null,
          null,
          null,
          null,
          null,
          null,
          null,
          null,
          null,
          null,
          null,
          null,
          null,
          null,
          null,
          null,
          null,
          null,
          null,
          null,
          null,
          null,
          null,
          null,
          null,
          null,
          null,
          null,
          null,
          null,
          null,
          null,
          null,
          null,
          null,
          null,
          null,
          null,
          null,
          null,
          null,
          null,
          null,
          null,
          null,
          null,
          null,
          null,
          null,
          null,
          null,
          null,
          null,
          null,
          null,
          null,
          null,
          null,
          null,
          null,
          null,
          null,
          null,
          null,
          null,
          null,
          null,
          null,
          null,
          null,
          null,
          null,
          null,
          null,
          null,
          null,
          null,
          null,
          null,
          null,
          null,
          null,
          null,
          null,
          null,
          null,
          null,
          null,
          null,
          null,
          null,
          null,
          null,
          null,
          null,
          null,
          null,
          null,
          null,
          null,
          null,
          null,
          null,
          null,
          null,
          null,
          null,
          null,
          null,
          null,
          null,
          null,
          null,
          null,
          null,
          null,
          null,
          null,
          null,
          null,
          null,
          null,
          null,
          null,
          null,
          null,
          null,
          null,
          null,
          null,
          null,
          null,
          null,
          null,
          null,
          null,
          null,
          null,
          null,
          null,
          null,
          null,
          null,
          null,
          null,
          null,
          null,
          null,
          null,
          null,
          null,
          null,
          null,
          null,
          null,
          null,
          null,
          null,
          null,
          null,
          null,
          null,
          null,
          null,
          null,
          null,
          null,
          null,
          null,
          null,
          null,
          null,
          null,
          null,
          null,
          null,
          null,
          null,
          null,
          null,
          null,
          null,
          null,
          null,
          null,
          null,
          null,
          null,
          null,
          null,
          null,
          null,
          null,
          null,
          null,
          null,
          null,
          null,
          null,
          null,
          null,
          null,
          null,
          null,
          null,
          null,
          null,
          null,
          null,
          null,
          null,
          null,
          null,
          null,
          null,
          null,
          null,
          null,
          null,
          null,
          null,
          null,
          null,
          null,
          null,
          null,
          null,
          null,
          null,
          null,
          null,
          null,
          null,
          null,
          null,
          null,
          null,
          null,
          null,
          null,
          null,
          null,
          null,
          null,
          null,
          null,
          null,
          null,
          null,
          null,
          null,
          null,
          null,
          null,
          null,
          null,
          null,
          null,
          null,
          null,
          null,
          null,
          null,
          null,
          null,
          null,
          null,
          null,
          null,
          null,
          null,
          null,
          null,
          null,
          null,
          null,
          null,
          null,
          null,
          null,
          null,
          null,
          "312 km/full charge",
          "312 km/full charge",
          "300 km/full charge",
          null,
          null,
          null,
          null,
          null,
          null,
          null,
          null,
          null,
          null,
          null,
          null,
          null,
          null,
          null,
          null,
          null,
          null,
          null,
          null,
          null,
          null,
          null,
          null,
          null,
          null,
          null,
          null,
          null,
          null,
          null,
          null,
          null,
          null,
          null,
          null,
          null,
          null,
          null,
          null,
          null,
          null,
          null,
          null,
          null,
          null,
          null,
          null,
          null,
          null,
          null,
          null,
          "11.68 km/full charge",
          null,
          "11.68 km/full charge",
          null,
          null,
          null,
          null,
          null,
          null,
          null,
          null,
          null,
          null,
          null,
          null,
          null,
          null,
          null,
          null,
          null,
          null,
          null,
          null,
          null,
          null,
          null,
          null,
          null,
          null,
          null,
          null,
          null,
          null,
          null,
          null,
          null,
          null,
          null,
          null,
          null,
          null,
          null,
          null,
          null,
          null,
          null,
          null,
          null,
          null,
          null,
          null,
          null,
          null,
          null,
          null,
          null,
          null,
          null,
          null,
          null,
          null,
          null,
          null,
          null,
          null,
          null,
          null,
          null,
          null,
          null,
          null,
          null,
          null,
          null,
          null,
          null,
          null,
          null,
          null,
          null,
          null,
          null,
          null,
          null,
          null,
          null,
          null,
          null,
          null,
          null,
          null,
          null,
          null,
          null,
          null,
          null,
          null,
          null,
          null,
          null,
          null,
          null,
          null,
          null,
          null,
          null,
          null,
          null,
          null,
          null,
          null,
          null,
          null,
          null,
          null,
          null,
          null,
          null,
          null,
          null,
          null,
          null,
          null,
          null,
          null,
          null,
          null,
          null,
          null,
          null,
          null,
          null,
          null,
          null,
          null,
          null,
          null,
          null,
          null,
          null,
          null,
          null,
          null,
          null,
          null,
          null,
          null,
          null,
          null,
          null,
          null,
          null,
          null,
          null,
          null,
          null,
          null,
          null,
          null,
          null,
          null,
          null,
          null,
          null,
          null,
          null,
          null,
          null,
          null,
          null,
          null,
          null,
          null,
          null,
          null,
          null,
          "39.53 km/full charge",
          null,
          null,
          null,
          null,
          null,
          null,
          null,
          null,
          null,
          null,
          null,
          null,
          null,
          null,
          null,
          null,
          null,
          null,
          null,
          null,
          null,
          null,
          null,
          null,
          null,
          null,
          null,
          null,
          null,
          null,
          null,
          null,
          null,
          null,
          null,
          null,
          null,
          null,
          null,
          null,
          null,
          null,
          null,
          null,
          null,
          null,
          null,
          null,
          null,
          null,
          null,
          null,
          "462 km/full charge",
          null,
          null,
          null,
          null,
          null,
          null,
          null,
          null,
          null,
          null,
          null,
          null,
          null,
          null,
          null,
          null,
          null,
          null,
          null,
          null,
          null,
          null,
          null,
          null,
          null,
          null,
          null,
          null,
          null,
          null,
          null,
          null,
          null,
          null,
          null,
          null,
          null,
          null,
          null,
          null,
          null,
          null,
          null,
          null,
          null,
          null,
          null,
          null,
          null,
          null,
          null,
          null,
          null,
          null,
          null,
          null,
          null,
          null,
          null,
          null,
          null,
          null,
          null,
          null,
          null,
          null,
          null,
          null,
          null,
          null,
          null,
          null,
          null,
          null,
          null,
          null,
          null,
          null,
          null,
          null,
          null,
          null,
          null,
          null,
          null,
          null,
          null,
          null,
          null,
          null,
          null,
          null,
          null,
          null,
          null,
          null
         ],
         "yaxis": "y"
        }
       ],
       "layout": {
        "barmode": "relative",
        "legend": {
         "tracegroupgap": 0
        },
        "margin": {
         "t": 60
        },
        "template": {
         "data": {
          "bar": [
           {
            "error_x": {
             "color": "#2a3f5f"
            },
            "error_y": {
             "color": "#2a3f5f"
            },
            "marker": {
             "line": {
              "color": "#E5ECF6",
              "width": 0.5
             },
             "pattern": {
              "fillmode": "overlay",
              "size": 10,
              "solidity": 0.2
             }
            },
            "type": "bar"
           }
          ],
          "barpolar": [
           {
            "marker": {
             "line": {
              "color": "#E5ECF6",
              "width": 0.5
             },
             "pattern": {
              "fillmode": "overlay",
              "size": 10,
              "solidity": 0.2
             }
            },
            "type": "barpolar"
           }
          ],
          "carpet": [
           {
            "aaxis": {
             "endlinecolor": "#2a3f5f",
             "gridcolor": "white",
             "linecolor": "white",
             "minorgridcolor": "white",
             "startlinecolor": "#2a3f5f"
            },
            "baxis": {
             "endlinecolor": "#2a3f5f",
             "gridcolor": "white",
             "linecolor": "white",
             "minorgridcolor": "white",
             "startlinecolor": "#2a3f5f"
            },
            "type": "carpet"
           }
          ],
          "choropleth": [
           {
            "colorbar": {
             "outlinewidth": 0,
             "ticks": ""
            },
            "type": "choropleth"
           }
          ],
          "contour": [
           {
            "colorbar": {
             "outlinewidth": 0,
             "ticks": ""
            },
            "colorscale": [
             [
              0,
              "#0d0887"
             ],
             [
              0.1111111111111111,
              "#46039f"
             ],
             [
              0.2222222222222222,
              "#7201a8"
             ],
             [
              0.3333333333333333,
              "#9c179e"
             ],
             [
              0.4444444444444444,
              "#bd3786"
             ],
             [
              0.5555555555555556,
              "#d8576b"
             ],
             [
              0.6666666666666666,
              "#ed7953"
             ],
             [
              0.7777777777777778,
              "#fb9f3a"
             ],
             [
              0.8888888888888888,
              "#fdca26"
             ],
             [
              1,
              "#f0f921"
             ]
            ],
            "type": "contour"
           }
          ],
          "contourcarpet": [
           {
            "colorbar": {
             "outlinewidth": 0,
             "ticks": ""
            },
            "type": "contourcarpet"
           }
          ],
          "heatmap": [
           {
            "colorbar": {
             "outlinewidth": 0,
             "ticks": ""
            },
            "colorscale": [
             [
              0,
              "#0d0887"
             ],
             [
              0.1111111111111111,
              "#46039f"
             ],
             [
              0.2222222222222222,
              "#7201a8"
             ],
             [
              0.3333333333333333,
              "#9c179e"
             ],
             [
              0.4444444444444444,
              "#bd3786"
             ],
             [
              0.5555555555555556,
              "#d8576b"
             ],
             [
              0.6666666666666666,
              "#ed7953"
             ],
             [
              0.7777777777777778,
              "#fb9f3a"
             ],
             [
              0.8888888888888888,
              "#fdca26"
             ],
             [
              1,
              "#f0f921"
             ]
            ],
            "type": "heatmap"
           }
          ],
          "heatmapgl": [
           {
            "colorbar": {
             "outlinewidth": 0,
             "ticks": ""
            },
            "colorscale": [
             [
              0,
              "#0d0887"
             ],
             [
              0.1111111111111111,
              "#46039f"
             ],
             [
              0.2222222222222222,
              "#7201a8"
             ],
             [
              0.3333333333333333,
              "#9c179e"
             ],
             [
              0.4444444444444444,
              "#bd3786"
             ],
             [
              0.5555555555555556,
              "#d8576b"
             ],
             [
              0.6666666666666666,
              "#ed7953"
             ],
             [
              0.7777777777777778,
              "#fb9f3a"
             ],
             [
              0.8888888888888888,
              "#fdca26"
             ],
             [
              1,
              "#f0f921"
             ]
            ],
            "type": "heatmapgl"
           }
          ],
          "histogram": [
           {
            "marker": {
             "pattern": {
              "fillmode": "overlay",
              "size": 10,
              "solidity": 0.2
             }
            },
            "type": "histogram"
           }
          ],
          "histogram2d": [
           {
            "colorbar": {
             "outlinewidth": 0,
             "ticks": ""
            },
            "colorscale": [
             [
              0,
              "#0d0887"
             ],
             [
              0.1111111111111111,
              "#46039f"
             ],
             [
              0.2222222222222222,
              "#7201a8"
             ],
             [
              0.3333333333333333,
              "#9c179e"
             ],
             [
              0.4444444444444444,
              "#bd3786"
             ],
             [
              0.5555555555555556,
              "#d8576b"
             ],
             [
              0.6666666666666666,
              "#ed7953"
             ],
             [
              0.7777777777777778,
              "#fb9f3a"
             ],
             [
              0.8888888888888888,
              "#fdca26"
             ],
             [
              1,
              "#f0f921"
             ]
            ],
            "type": "histogram2d"
           }
          ],
          "histogram2dcontour": [
           {
            "colorbar": {
             "outlinewidth": 0,
             "ticks": ""
            },
            "colorscale": [
             [
              0,
              "#0d0887"
             ],
             [
              0.1111111111111111,
              "#46039f"
             ],
             [
              0.2222222222222222,
              "#7201a8"
             ],
             [
              0.3333333333333333,
              "#9c179e"
             ],
             [
              0.4444444444444444,
              "#bd3786"
             ],
             [
              0.5555555555555556,
              "#d8576b"
             ],
             [
              0.6666666666666666,
              "#ed7953"
             ],
             [
              0.7777777777777778,
              "#fb9f3a"
             ],
             [
              0.8888888888888888,
              "#fdca26"
             ],
             [
              1,
              "#f0f921"
             ]
            ],
            "type": "histogram2dcontour"
           }
          ],
          "mesh3d": [
           {
            "colorbar": {
             "outlinewidth": 0,
             "ticks": ""
            },
            "type": "mesh3d"
           }
          ],
          "parcoords": [
           {
            "line": {
             "colorbar": {
              "outlinewidth": 0,
              "ticks": ""
             }
            },
            "type": "parcoords"
           }
          ],
          "pie": [
           {
            "automargin": true,
            "type": "pie"
           }
          ],
          "scatter": [
           {
            "marker": {
             "colorbar": {
              "outlinewidth": 0,
              "ticks": ""
             }
            },
            "type": "scatter"
           }
          ],
          "scatter3d": [
           {
            "line": {
             "colorbar": {
              "outlinewidth": 0,
              "ticks": ""
             }
            },
            "marker": {
             "colorbar": {
              "outlinewidth": 0,
              "ticks": ""
             }
            },
            "type": "scatter3d"
           }
          ],
          "scattercarpet": [
           {
            "marker": {
             "colorbar": {
              "outlinewidth": 0,
              "ticks": ""
             }
            },
            "type": "scattercarpet"
           }
          ],
          "scattergeo": [
           {
            "marker": {
             "colorbar": {
              "outlinewidth": 0,
              "ticks": ""
             }
            },
            "type": "scattergeo"
           }
          ],
          "scattergl": [
           {
            "marker": {
             "colorbar": {
              "outlinewidth": 0,
              "ticks": ""
             }
            },
            "type": "scattergl"
           }
          ],
          "scattermapbox": [
           {
            "marker": {
             "colorbar": {
              "outlinewidth": 0,
              "ticks": ""
             }
            },
            "type": "scattermapbox"
           }
          ],
          "scatterpolar": [
           {
            "marker": {
             "colorbar": {
              "outlinewidth": 0,
              "ticks": ""
             }
            },
            "type": "scatterpolar"
           }
          ],
          "scatterpolargl": [
           {
            "marker": {
             "colorbar": {
              "outlinewidth": 0,
              "ticks": ""
             }
            },
            "type": "scatterpolargl"
           }
          ],
          "scatterternary": [
           {
            "marker": {
             "colorbar": {
              "outlinewidth": 0,
              "ticks": ""
             }
            },
            "type": "scatterternary"
           }
          ],
          "surface": [
           {
            "colorbar": {
             "outlinewidth": 0,
             "ticks": ""
            },
            "colorscale": [
             [
              0,
              "#0d0887"
             ],
             [
              0.1111111111111111,
              "#46039f"
             ],
             [
              0.2222222222222222,
              "#7201a8"
             ],
             [
              0.3333333333333333,
              "#9c179e"
             ],
             [
              0.4444444444444444,
              "#bd3786"
             ],
             [
              0.5555555555555556,
              "#d8576b"
             ],
             [
              0.6666666666666666,
              "#ed7953"
             ],
             [
              0.7777777777777778,
              "#fb9f3a"
             ],
             [
              0.8888888888888888,
              "#fdca26"
             ],
             [
              1,
              "#f0f921"
             ]
            ],
            "type": "surface"
           }
          ],
          "table": [
           {
            "cells": {
             "fill": {
              "color": "#EBF0F8"
             },
             "line": {
              "color": "white"
             }
            },
            "header": {
             "fill": {
              "color": "#C8D4E3"
             },
             "line": {
              "color": "white"
             }
            },
            "type": "table"
           }
          ]
         },
         "layout": {
          "annotationdefaults": {
           "arrowcolor": "#2a3f5f",
           "arrowhead": 0,
           "arrowwidth": 1
          },
          "autotypenumbers": "strict",
          "coloraxis": {
           "colorbar": {
            "outlinewidth": 0,
            "ticks": ""
           }
          },
          "colorscale": {
           "diverging": [
            [
             0,
             "#8e0152"
            ],
            [
             0.1,
             "#c51b7d"
            ],
            [
             0.2,
             "#de77ae"
            ],
            [
             0.3,
             "#f1b6da"
            ],
            [
             0.4,
             "#fde0ef"
            ],
            [
             0.5,
             "#f7f7f7"
            ],
            [
             0.6,
             "#e6f5d0"
            ],
            [
             0.7,
             "#b8e186"
            ],
            [
             0.8,
             "#7fbc41"
            ],
            [
             0.9,
             "#4d9221"
            ],
            [
             1,
             "#276419"
            ]
           ],
           "sequential": [
            [
             0,
             "#0d0887"
            ],
            [
             0.1111111111111111,
             "#46039f"
            ],
            [
             0.2222222222222222,
             "#7201a8"
            ],
            [
             0.3333333333333333,
             "#9c179e"
            ],
            [
             0.4444444444444444,
             "#bd3786"
            ],
            [
             0.5555555555555556,
             "#d8576b"
            ],
            [
             0.6666666666666666,
             "#ed7953"
            ],
            [
             0.7777777777777778,
             "#fb9f3a"
            ],
            [
             0.8888888888888888,
             "#fdca26"
            ],
            [
             1,
             "#f0f921"
            ]
           ],
           "sequentialminus": [
            [
             0,
             "#0d0887"
            ],
            [
             0.1111111111111111,
             "#46039f"
            ],
            [
             0.2222222222222222,
             "#7201a8"
            ],
            [
             0.3333333333333333,
             "#9c179e"
            ],
            [
             0.4444444444444444,
             "#bd3786"
            ],
            [
             0.5555555555555556,
             "#d8576b"
            ],
            [
             0.6666666666666666,
             "#ed7953"
            ],
            [
             0.7777777777777778,
             "#fb9f3a"
            ],
            [
             0.8888888888888888,
             "#fdca26"
            ],
            [
             1,
             "#f0f921"
            ]
           ]
          },
          "colorway": [
           "#636efa",
           "#EF553B",
           "#00cc96",
           "#ab63fa",
           "#FFA15A",
           "#19d3f3",
           "#FF6692",
           "#B6E880",
           "#FF97FF",
           "#FECB52"
          ],
          "font": {
           "color": "#2a3f5f"
          },
          "geo": {
           "bgcolor": "white",
           "lakecolor": "white",
           "landcolor": "#E5ECF6",
           "showlakes": true,
           "showland": true,
           "subunitcolor": "white"
          },
          "hoverlabel": {
           "align": "left"
          },
          "hovermode": "closest",
          "mapbox": {
           "style": "light"
          },
          "paper_bgcolor": "white",
          "plot_bgcolor": "#E5ECF6",
          "polar": {
           "angularaxis": {
            "gridcolor": "white",
            "linecolor": "white",
            "ticks": ""
           },
           "bgcolor": "#E5ECF6",
           "radialaxis": {
            "gridcolor": "white",
            "linecolor": "white",
            "ticks": ""
           }
          },
          "scene": {
           "xaxis": {
            "backgroundcolor": "#E5ECF6",
            "gridcolor": "white",
            "gridwidth": 2,
            "linecolor": "white",
            "showbackground": true,
            "ticks": "",
            "zerolinecolor": "white"
           },
           "yaxis": {
            "backgroundcolor": "#E5ECF6",
            "gridcolor": "white",
            "gridwidth": 2,
            "linecolor": "white",
            "showbackground": true,
            "ticks": "",
            "zerolinecolor": "white"
           },
           "zaxis": {
            "backgroundcolor": "#E5ECF6",
            "gridcolor": "white",
            "gridwidth": 2,
            "linecolor": "white",
            "showbackground": true,
            "ticks": "",
            "zerolinecolor": "white"
           }
          },
          "shapedefaults": {
           "line": {
            "color": "#2a3f5f"
           }
          },
          "ternary": {
           "aaxis": {
            "gridcolor": "white",
            "linecolor": "white",
            "ticks": ""
           },
           "baxis": {
            "gridcolor": "white",
            "linecolor": "white",
            "ticks": ""
           },
           "bgcolor": "#E5ECF6",
           "caxis": {
            "gridcolor": "white",
            "linecolor": "white",
            "ticks": ""
           }
          },
          "title": {
           "x": 0.05
          },
          "xaxis": {
           "automargin": true,
           "gridcolor": "white",
           "linecolor": "white",
           "ticks": "",
           "title": {
            "standoff": 15
           },
           "zerolinecolor": "white",
           "zerolinewidth": 2
          },
          "yaxis": {
           "automargin": true,
           "gridcolor": "white",
           "linecolor": "white",
           "ticks": "",
           "title": {
            "standoff": 15
           },
           "zerolinecolor": "white",
           "zerolinewidth": 2
          }
         }
        },
        "xaxis": {
         "anchor": "y",
         "domain": [
          0,
          1
         ],
         "title": {
          "text": "Model"
         }
        },
        "yaxis": {
         "anchor": "x",
         "domain": [
          0,
          1
         ],
         "title": {
          "text": "Electric_Range"
         }
        }
       }
      },
      "text/html": [
       "<div>                            <div id=\"9336fcc8-6f1e-43e3-87c7-e1ed2ef58764\" class=\"plotly-graph-div\" style=\"height:525px; width:100%;\"></div>            <script type=\"text/javascript\">                require([\"plotly\"], function(Plotly) {                    window.PLOTLYENV=window.PLOTLYENV || {};                                    if (document.getElementById(\"9336fcc8-6f1e-43e3-87c7-e1ed2ef58764\")) {                    Plotly.newPlot(                        \"9336fcc8-6f1e-43e3-87c7-e1ed2ef58764\",                        [{\"alignmentgroup\":\"True\",\"hovertemplate\":\"Model=%{x}<br>Electric_Range=%{y}<extra></extra>\",\"legendgroup\":\"\",\"marker\":{\"color\":\"#636efa\",\"pattern\":{\"shape\":\"\"}},\"name\":\"\",\"offsetgroup\":\"\",\"orientation\":\"v\",\"showlegend\":false,\"textposition\":\"auto\",\"type\":\"bar\",\"x\":[\"Nano Genx\",\"Nano Genx\",\"Nano Genx\",\"Nano Genx\",\"Nano Genx\",\"Nano Genx\",\"Redi-Go\",\"Redi-Go\",\"Redi-Go\",\"Redi-Go\",\"Redi-Go\",\"Redi-Go\",\"Kwid\",\"Kwid\",\"Kwid\",\"Kwid\",\"Kwid\",\"Kwid\",\"Kwid\",\"Kwid\",\"Kwid\",\"Kwid\",\"Kwid\",\"Kwid\",\"Eeco\",\"Eeco\",\"Eeco\",\"Eeco\",\"Eeco\",\"Alto K10\",\"Alto K10\",\"Alto K10\",\"Alto K10\",\"Alto K10\",\"Alto K10\",\"Go\",\"Go\",\"Go\",\"Go\",\"Go\",\"Go\",\"Go\",\"Go\",\"Go\",\"Celerio Tour\",\"Celerio Tour\",\"Santro\",\"Santro\",\"Santro\",\"Santro\",\"Santro\",\"Santro\",\"Santro\",\"Santro\",\"Tiago\",\"Tiago\",\"Tiago\",\"Tiago\",\"Tiago\",\"Tiago\",\"Tiago\",\"Tiago\",\"Celerio X\",\"Celerio X\",\"Celerio X\",\"Celerio X\",\"Celerio X\",\"Celerio X\",\"Celerio X\",\"Celerio X\",\"Ignis\",\"Ignis\",\"Ignis\",\"Ignis\",\"Ignis\",\"Ignis\",\"Ignis\",\"Triber\",\"Triber\",\"Triber\",\"Triber\",\"Rio\",\"Rio\",\"Rio\",\"Rio\",\"Rio\",\"Rio\",\"Etios Liva\",\"Etios Liva\",\"Etios Liva\",\"Etios Liva\",\"Etios Liva\",\"Etios Liva\",\"Etios Liva\",\"Etios Liva\",\"Etios Liva\",\"Etios Liva\",\"Etios Liva\",\"Etios Liva\",\"Etios Liva\",\"Etios Liva\",\"Micra Active\",\"Micra Active\",\"Micra Active\",\"Bolt\",\"Bolt\",\"Bolt\",\"Bolt\",\"Bolt\",\"Bolt\",\"Bolt\",\"Bolt\",\"Xcent Prime\",\"Xcent Prime\",\"Xcent Prime\",\"Xcent Prime\",\"Xcent Prime\",\"Xcent Prime\",\"Dzire Tour\",\"Dzire Tour\",\"Dzire Tour\",\"Elite I20\",\"Elite I20\",\"Elite I20\",\"Elite I20\",\"Elite I20\",\"Elite I20\",\"Elite I20\",\"Elite I20\",\"Elite I20\",\"Elite I20\",\"Elite I20\",\"Elite I20\",\"Aura\",\"Aura\",\"Aura\",\"Aura\",\"Aura\",\"Aura\",\"Aura\",\"Aura\",\"Aura\",\"Aura\",\"Aura\",\"Aura\",\"Polo\",\"Polo\",\"Polo\",\"Polo\",\"Polo\",\"Polo\",\"Polo\",\"Polo\",\"Dzire\",\"Dzire\",\"Dzire\",\"Dzire\",\"Dzire\",\"Dzire\",\"Dzire\",\"Dzire\",\"Dzire\",\"Dzire\",\"Dzire\",\"Dzire\",\"Dzire\",\"Dzire\",\"Freestyle\",\"Freestyle\",\"Freestyle\",\"Freestyle\",\"Freestyle\",\"Freestyle\",\"Freestyle\",\"Freestyle\",\"Ameo\",\"Ameo\",\"Ameo\",\"Ameo\",\"Ameo\",\"Ameo\",\"Ameo\",\"Ameo\",\"Aspire\",\"Aspire\",\"Aspire\",\"Aspire\",\"Aspire\",\"Aspire\",\"Aspire\",\"Aspire\",\"Aspire\",\"Aspire\",\"Aspire\",\"Aspire\",\"Aspire\",\"Platinum Etios\",\"Platinum Etios\",\"Platinum Etios\",\"Platinum Etios\",\"Platinum Etios\",\"Platinum Etios\",\"Platinum Etios\",\"Platinum Etios\",\"Platinum Etios\",\"Platinum Etios\",\"Etios Cross\",\"Etios Cross\",\"Etios Cross\",\"Etios Cross\",\"Etios Cross\",\"Etios Cross\",\"Verito Vibe\",\"Verito Vibe\",\"Verito Vibe\",\"Urban Cross\",\"Urban Cross\",\"Urban Cross\",\"Urban Cross\",\"Glanza\",\"Glanza\",\"Glanza\",\"Glanza\",\"Glanza\",\"Avventura\",\"Avventura\",\"Avventura\",\"Jazz\",\"Jazz\",\"Jazz\",\"Jazz\",\"Jazz\",\"Jazz\",\"Jazz\",\"Jazz\",\"Bolero Power Plus\",\"Bolero Power Plus\",\"Bolero Power Plus\",\"Bolero Power Plus\",\"Bolero Power Plus\",\"Bolero Power Plus\",\"Vitara Brezza\",\"Vitara Brezza\",\"Vitara Brezza\",\"Vitara Brezza\",\"Vitara Brezza\",\"Vitara Brezza\",\"Vitara Brezza\",\"Vitara Brezza\",\"Vitara Brezza\",\"I20 Active\",\"I20 Active\",\"I20 Active\",\"I20 Active\",\"Ecosport\",\"Ecosport\",\"Ecosport\",\"Ecosport\",\"Ecosport\",\"Ecosport\",\"Ecosport\",\"Ecosport\",\"Ecosport\",\"Ecosport\",\"Ecosport\",\"Ecosport\",\"Duster\",\"Duster\",\"Duster\",\"Duster\",\"Duster\",\"Duster\",\"Duster\",\"Duster\",\"Duster\",\"Verna\",\"Verna\",\"Verna\",\"Verna\",\"Verna\",\"Verna\",\"Verna\",\"Verna\",\"Verna\",\"Verna\",\"Verna\",\"Verna\",\"Verna\",\"Xuv300\",\"Xuv300\",\"Xuv300\",\"Xuv300\",\"Xuv300\",\"Xuv300\",\"Xuv300\",\"Xuv300\",\"Xuv300\",\"Xuv300\",\"Xuv300\",\"Lodgy\",\"Lodgy\",\"Lodgy\",\"Lodgy\",\"Lodgy\",\"Lodgy\",\"Lodgy\",\"Vento\",\"Vento\",\"Vento\",\"Vento\",\"Vento\",\"Vento\",\"Vento\",\"Vento\",\"Vento\",\"Vento\",\"Vento\",\"Vento\",\"E2O Plus\",\"E2O Plus\",\"Tigor Ev\",\"Tigor Ev\",\"Tigor Ev\",\"Brv\",\"Brv\",\"Brv\",\"Brv\",\"Brv\",\"Brv\",\"Brv\",\"Brv\",\"Thar\",\"Thar\",\"Thar\",\"Gurkha\",\"Gurkha\",\"Gurkha\",\"Gurkha\",\"Gurkha\",\"Gurkha\",\"Xl6\",\"Xl6\",\"Xl6\",\"Xl6\",\"Abarth Avventura\",\"Tuv300 Plus\",\"Tuv300 Plus\",\"Tuv300 Plus\",\"Marazzo\",\"Marazzo\",\"Marazzo\",\"Marazzo\",\"Marazzo\",\"Marazzo\",\"Marazzo\",\"Marazzo\",\"Scorpio\",\"Scorpio\",\"Scorpio\",\"Scorpio\",\"Scorpio\",\"Scorpio\",\"Scorpio\",\"Scorpio\",\"Scorpio\",\"Monte Carlo\",\"Monte Carlo\",\"Monte Carlo\",\"Monte Carlo\",\"Xuv500\",\"Xuv500\",\"Xuv500\",\"Xuv500\",\"Xuv500\",\"Xuv500\",\"Xuv500\",\"Xuv500\",\"Xuv500\",\"Xuv500\",\"Xuv500\",\"Xuv500\",\"E Verito\",\"E Verito\",\"E Verito\",\"Hexa\",\"Hexa\",\"Hexa\",\"Hexa\",\"Hexa\",\"Hexa\",\"Hexa\",\"Innova Crysta\",\"Innova Crysta\",\"Innova Crysta\",\"Innova Crysta\",\"Innova Crysta\",\"Innova Crysta\",\"Innova Crysta\",\"Innova Crysta\",\"Innova Crysta\",\"Innova Crysta\",\"Innova Crysta\",\"Innova Crysta\",\"Innova Crysta\",\"Innova Crysta\",\"Innova Crysta\",\"Innova Crysta\",\"Compass\",\"Compass\",\"Compass\",\"Compass\",\"Compass\",\"Compass\",\"Compass\",\"Compass\",\"Compass\",\"Compass\",\"Compass\",\"Compass\",\"Compass\",\"Compass\",\"Compass\",\"Compass\",\"Compass\",\"Compass\",\"Compass\",\"Compass\",\"Compass\",\"Corolla Altis\",\"Corolla Altis\",\"Corolla Altis\",\"Corolla Altis\",\"Corolla Altis\",\"Corolla Altis\",\"Civic\",\"Civic\",\"Civic\",\"Civic\",\"Civic\",\"Zs Ev\",\"Zs Ev\",\"Carnival\",\"Carnival\",\"Carnival\",\"Carnival\",\"Carnival\",\"Superb\",\"Superb\",\"Superb\",\"Superb\",\"Superb\",\"Superb\",\"Superb\",\"Outlander\",\"V40\",\"V40\",\"Mercedes-Benz A-Class\",\"Mercedes-Benz A-Class\",\"Fortuner\",\"Fortuner\",\"Fortuner\",\"Fortuner\",\"Fortuner\",\"Fortuner\",\"Fortuner\",\"Pajero Sport\",\"Pajero Sport\",\"Pajero Sport\",\"Pajero Sport\",\"Pajero Sport\",\"Endeavour\",\"Endeavour\",\"Endeavour\",\"V40 Cross Country\",\"V40 Cross Country\",\"Cooper 3 Door\",\"Cooper 3 Door\",\"Mercedes-Benz Gla-Class\",\"Mercedes-Benz Gla-Class\",\"Mercedes-Benz Gla-Class\",\"Mercedes-Benz Gla-Class\",\"Mercedes-Benz Gla-Class\",\"Mercedes-Benz Gla-Class\",\"Kodiaq Scout\",\"Countryman\",\"Countryman\",\"Countryman\",\"Countryman\",\"X1\",\"X1\",\"X1\",\"X1\",\"X1\",\"Camry\",\"S60\",\"S60\",\"Mercedes-Benz C-Class\",\"Mercedes-Benz C-Class\",\"Mercedes-Benz C-Class\",\"Mercedes-Benz C-Class\",\"Mercedes-Benz C-Class\",\"Mercedes-Benz C-Class\",\"3-Series\",\"3-Series\",\"3-Series\",\"Accord Hybrid\",\"S60 Cross Country\",\"Prius\",\"Q5\",\"Q5\",\"Q5\",\"Q5\",\"Mercedes-Benz Glc\",\"Mercedes-Benz Glc\",\"Range Evoque\",\"Range Evoque\",\"Range Evoque\",\"Range Evoque\",\"Es\",\"Mercedes-Benz E-Class\",\"Mercedes-Benz E-Class\",\"Mercedes-Benz E-Class\",\"Mercedes-Benz E-Class\",\"Mercedes-Benz E-Class\",\"Mercedes-Benz E-Class\",\"Mercedes-Benz E-Class\",\"Mercedes-Benz E-Class\",\"5-Series\",\"5-Series\",\"5-Series\",\"Nx 300H\",\"Nx 300H\",\"A5\",\"F-Pace\",\"F-Pace\",\"6-Series\",\"6-Series\",\"6-Series\",\"6-Series\",\"V90 Cross Country\",\"Montero\",\"A5 Cabriolet\",\"Macan\",\"Macan\",\"Range Velar\",\"Range Velar\",\"Mercedes-Benz Gle\",\"Mercedes-Benz Gle\",\"Mercedes-Benz E-Class All Terrain\",\"Discovery\",\"Discovery\",\"Discovery\",\"Discovery\",\"Discovery\",\"Discovery\",\"Discovery\",\"Discovery\",\"Xc90\",\"Xc90\",\"Xc90\",\"Xc90\",\"Xc90\",\"Mercedes-Benz Cls\",\"Range Sport\",\"Range Sport\",\"Range Sport\",\"Range Sport\",\"Range Sport\",\"Range Sport\",\"Range Sport\",\"Range Sport\",\"Range Sport\",\"Range Sport\",\"F-Type\",\"F-Type\",\"F-Type\",\"F-Type\",\"F-Type\",\"F-Type\",\"F-Type\",\"F-Type\",\"Xj\",\"Xj\",\"Xj\",\"X7\",\"X7\",\"Cayenne\",\"Cayenne\",\"Cayenne\",\"Cayenne Coupe\",\"Cayenne Coupe\",\"Ghibli\",\"Ghibli\",\"Ghibli\",\"M4\",\"Land Cruiser\",\"M5\",\"Rs7\",\"911\",\"911\",\"Range\",\"Range\",\"Range\",\"Range\",\"Range\",\"Range\",\"Range\",\"Range\",\"Range\",\"Range\",\"Lc 500H\",\"Mercedes-Benz Maybach\",\"Mercedes-Benz Maybach\",\"Panamera\",\"Panamera\",\"Panamera\",\"Lx 450D\",\"Mercedes-Benz S-Class Cabriolet\",\"R8\",\"Urus\",\"Continental Gt\",\"Portofino\",\"Bentayga\",\"Bentayga\",\"Db 11\",\"458 Speciale\",\"Rolls-Royce Ghost Series Ii\",\"Rolls-Royce Ghost Series Ii\",\"Rolls-Royce Wraith\",\"Mulsanne\",\"Rolls-Royce Cullinan\",\"Rolls-Royce Phantom Coupe\",\"Chiron\",\"Chiron\",\"Qute (Re60)\",\"Qute (Re60)\",\"Alto\",\"Alto\",\"Alto\",\"Alto\",\"Alto\",\"Alto\",\"Alto\",\"Alto\",\"S-Presso\",\"S-Presso\",\"S-Presso\",\"S-Presso\",\"S-Presso\",\"S-Presso\",\"S-Presso\",\"S-Presso\",\"S-Presso\",\"S-Presso\",\"Celerio\",\"Celerio\",\"Celerio\",\"Celerio\",\"Celerio\",\"Celerio\",\"Celerio\",\"Celerio\",\"Celerio\",\"Celerio\",\"Celerio\",\"Grand I10 Prime\",\"Grand I10 Prime\",\"Grand I10 Prime\",\"Grand I10 Prime\",\"Grand I10 Prime\",\"Grand I10 Prime\",\"Kuv100 Nxt\",\"Kuv100 Nxt\",\"Kuv100 Nxt\",\"Kuv100 Nxt\",\"Kuv100 Nxt\",\"Kuv100 Nxt\",\"Kuv100 Nxt\",\"Kuv100 Nxt\",\"Kuv100 Nxt\",\"Kuv100 Nxt\",\"Kuv100 Nxt\",\"Kuv100 Nxt\",\"Kuv100 Nxt\",\"Kuv100 Nxt\",\"Kuv100 Nxt\",\"Kuv100 Nxt\",\"Kuv100 Nxt\",\"Kuv100 Nxt\",\"Kuv100 Nxt\",\"Kuv100 Nxt\",\"Kuv100 Nxt\",\"Kuv100 Nxt\",\"Swift\",\"Swift\",\"Swift\",\"Swift\",\"Swift\",\"Swift\",\"Swift\",\"Swift\",\"Swift\",\"Swift\",\"Swift\",\"Swift\",\"Swift\",\"Swift\",\"Altroz\",\"Altroz\",\"Altroz\",\"Altroz\",\"Altroz\",\"Altroz\",\"Altroz\",\"Altroz\",\"Altroz\",\"Altroz\",\"Extreme\",\"Extreme\",\"Extreme\",\"Extreme\",\"Extreme\",\"Extreme\",\"Extreme\",\"Extreme\",\"Extreme\",\"Extreme\",\"Extreme\",\"Tigor\",\"Tigor\",\"Tigor\",\"Tigor\",\"Tigor\",\"Tigor\",\"Zest\",\"Zest\",\"Zest\",\"Zest\",\"Zest\",\"Zest\",\"Zest\",\"Zest\",\"Zest\",\"Zest\",\"Zest\",\"Amaze\",\"Amaze\",\"Amaze\",\"Amaze\",\"Amaze\",\"Amaze\",\"Amaze\",\"Amaze\",\"Amaze\",\"Amaze\",\"Amaze\",\"Amaze\",\"Amaze\",\"Amaze\",\"Amaze\",\"Amaze\",\"Amaze\",\"Amaze\",\"Amaze\",\"Amaze\",\"Gypsy\",\"Gypsy\",\"Venue\",\"Venue\",\"Venue\",\"Venue\",\"Venue\",\"Venue\",\"Venue\",\"Venue\",\"Venue\",\"Venue\",\"Venue\",\"Venue\",\"Venue\",\"Nexon\",\"Nexon\",\"Nexon\",\"Nexon\",\"Nexon\",\"Nexon\",\"Nexon\",\"Nexon\",\"Nexon\",\"Nexon\",\"Nexon\",\"Nexon\",\"Nexon\",\"Nexon\",\"Nexon\",\"Nexon\",\"Nexon\",\"Nexon\",\"Nexon\",\"Nexon\",\"Nexon\",\"Nexon\",\"Nexon\",\"Nexon\",\"Linea\",\"Linea\",\"Linea\",\"Linea\",\"Linea\",\"Ertiga\",\"Ertiga\",\"Ertiga\",\"Ertiga\",\"Ertiga\",\"Ertiga\",\"Ertiga\",\"Ertiga\",\"Ertiga\",\"Ertiga\",\"Baleno Rs\",\"Wr-V\",\"Wr-V\",\"Wr-V\",\"Wr-V\",\"Wr-V\",\"Wr-V\",\"Wr-V\",\"Wr-V\",\"Wr-V\",\"Tuv300\",\"Tuv300\",\"Tuv300\",\"Tuv300\",\"Tuv300\",\"Tuv300\",\"Tuv300\",\"S-Cross\",\"S-Cross\",\"S-Cross\",\"S-Cross\",\"Captur\",\"Captur\",\"Captur\",\"Captur\",\"Xylo\",\"Xylo\",\"Xylo\",\"Xylo\",\"Xylo\",\"Seltos\",\"Seltos\",\"Seltos\",\"Seltos\",\"Seltos\",\"Seltos\",\"Seltos\",\"Seltos\",\"Seltos\",\"Seltos\",\"Seltos\",\"Seltos\",\"Seltos\",\"Seltos\",\"Seltos\",\"Seltos\",\"Terrano\",\"Terrano\",\"Terrano\",\"Terrano\",\"Terrano\",\"Terrano\",\"Safari Storme\",\"Safari Storme\",\"Safari Storme\",\"Safari Storme\",\"Hector\",\"Hector\",\"Hector\",\"Hector\",\"Hector\",\"Hector\",\"Hector\",\"Hector\",\"Hector\",\"Hector\",\"Hector\",\"Nexon Ev\",\"Nexon Ev\",\"Nexon Ev\",\"Elantra\",\"Elantra\",\"Elantra\",\"Elantra\",\"Tucson\",\"Tucson\",\"Tucson\",\"Tucson\",\"Tucson\",\"Tucson\",\"Tucson\",\"Tucson\",\"Passat\",\"Passat\",\"Passat\",\"Passat\",\"Mu-X\",\"Mu-X\",\"Tiguan\",\"Tiguan\",\"Superb Sportline\",\"Superb Sportline\",\"Mercedes-Benz B-Class\",\"Mercedes-Benz B-Class\",\"Mercedes-Benz B-Class\",\"Mercedes-Benz B-Class\",\"Kodiaq\",\"Kodiaq\",\"Kodiaq\",\"Q3\",\"Q3\",\"Q3\",\"Q3\",\"Convertible\",\"Clubman\",\"John Cooper Works\",\"Xf\",\"Xf\",\"Xf\",\"Xf\",\"Xf\",\"A6\",\"A6\",\"Discovery Sport\",\"Discovery Sport\",\"Xc60\",\"Wrangler\",\"Z4 Roadster\",\"Z4 Roadster\",\"Q7\",\"Q7\",\"Q7\",\"Q7\",\"Q7\",\"Q7\",\"S5\",\"Mustang\",\"Mercedes-Benz E-Class Cabriolet\",\"718\",\"718\",\"Land Cruiser Prado\",\"Rs5\",\"Q8\",\"Levante\",\"Levante\",\"Levante\",\"A8 L\",\"Quattroporte\",\"Grancabrio\",\"Mercedes-Benz Amg-Gt\",\"Mercedes-Benz Amg-Gt\",\"Mercedes-Benz Amg-Gt\",\"Mercedes-Benz Amg Gt 4-Door Coupe\",\"Huracan\",\"Huracan\",\"Huracan\",\"Huracan\",\"Huracan\",\"Huracan\",\"Huracan\",\"Huracan\",\"Huracan\",\"488 Gtb\",\"488 Gtb\",\"Gtc4 Lusso\",\"Gtc4 Lusso\",\"Aventador\",\"Aventador\",\"Aventador\",\"Rolls-Royce Dawn\",\"Rolls-Royce Drophead Coupe\",\"Omni\",\"Omni\",\"Go+\",\"Go+\",\"Go+\",\"Go+\",\"Go+\",\"Go+\",\"Go+\",\"Go+\",\"Go+\",\"Punto Evo Pure\",\"Punto Evo Pure\",\"Figo\",\"Figo\",\"Figo\",\"Figo\",\"Figo\",\"Figo\",\"Baleno\",\"Baleno\",\"Baleno\",\"Baleno\",\"Baleno\",\"Baleno\",\"Baleno\",\"Baleno\",\"Baleno\",\"Baleno\",\"Baleno\",\"Baleno\",\"Baleno\",\"Grand I10\",\"Grand I10\",\"Grand I10\",\"Grand I10\",\"Grand I10\",\"Grand I10\",\"Linea Classic\",\"Linea Classic\",\"Linea Classic\",\"Sunny\",\"Sunny\",\"Sunny\",\"Sunny\",\"Sunny\",\"Sunny\",\"Sunny\",\"Bolero\",\"Bolero\",\"Bolero\",\"Bolero\",\"Bolero\",\"Ciaz\",\"Ciaz\",\"Ciaz\",\"Ciaz\",\"Ciaz\",\"Ciaz\",\"Ciaz\",\"Ciaz\",\"Ciaz\",\"Ciaz\",\"Ciaz\",\"Ciaz\",\"Ciaz\",\"Ciaz\",\"Rapid\",\"Rapid\",\"Rapid\",\"Rapid\",\"Rapid\",\"Rapid\",\"Rapid\",\"Rapid\",\"Rapid\",\"Rapid\",\"Rapid\",\"Rapid\",\"Rapid\",\"Rapid\",\"Abarth Punto\",\"Creta\",\"Creta\",\"Creta\",\"Creta\",\"Creta\",\"Creta\",\"Creta\",\"Creta\",\"Creta\",\"Creta\",\"Creta\",\"Creta\",\"Creta\",\"Creta\",\"Creta\",\"Creta\",\"Creta\",\"Creta\",\"Harrier\",\"Harrier\",\"Harrier\",\"Harrier\",\"Harrier\",\"Harrier\",\"Dmax V-Cross\",\"Dmax V-Cross\",\"Dmax V-Cross\",\"Compass Trailhawk\",\"Compass Trailhawk\",\"Cr-V\",\"Cr-V\",\"Cr-V\",\"Mercedes-Benz Cla-Class\",\"Mercedes-Benz Cla-Class\",\"Mercedes-Benz Cla-Class\",\"Cooper 5 Door\",\"A4\",\"A4\",\"A3 Cabriolet\",\"S90\",\"Mercedes-Benz C-Class Cabriolet\",\"Range Evoque Convertible\",\"Grand Cherokee\",\"Grand Cherokee\",\"Grand Cherokee\",\"Grand Cherokee\",\"Mercedes-Benz Gls\",\"Mercedes-Benz Gls\",\"Mercedes-Benz Gls\",\"Mercedes-Benz Gls\",\"Mercedes-Benz Gls\",\"7-Series\",\"7-Series\",\"7-Series\",\"7-Series\",\"7-Series\",\"7-Series\",\"Mercedes-Benz G-Class\",\"Mercedes-Benz G-Class\",\"Ls 500H\",\"Ls 500H\",\"Ls 500H\",\"Lx 570\",\"Flying Spur\",\"Flying Spur\",\"458 Spider\",\"Rolls-Royce Phantom\",\"Rolls-Royce Phantom\",\"Alto 800 Tour\",\"Alto 800 Tour\",\"Grand I10 Nios\",\"Grand I10 Nios\",\"Grand I10 Nios\",\"Grand I10 Nios\",\"Grand I10 Nios\",\"Grand I10 Nios\",\"Grand I10 Nios\",\"Grand I10 Nios\",\"Grand I10 Nios\",\"Grand I10 Nios\",\"Xcent\",\"Xcent\",\"Xcent\",\"Xcent\",\"Xcent\",\"Xcent\",\"Xcent\",\"Xcent\",\"Xcent\",\"Micra\",\"Micra\",\"Micra\",\"Micra\",\"Nuvosport\",\"Nuvosport\",\"Nuvosport\",\"Nuvosport\",\"Nuvosport\",\"Nuvosport\",\"Kicks\",\"Kicks\",\"Kicks\",\"Kicks\",\"Kicks\",\"Kicks\",\"Kicks\",\"Kicks\",\"Winger\",\"Kona Electric\",\"A3\",\"A3\",\"A3\",\"A3\",\"Xc40\",\"Xc40\",\"Xc40\",\"X3\",\"X3\",\"X3\",\"Mercedes-Benz V-Class\",\"Mercedes-Benz V-Class\",\"Mercedes-Benz V-Class\",\"M2 Competition\",\"Mercedes-Benz S-Class\",\"Mercedes-Benz S-Class\",\"Mercedes-Benz S-Class\",\"Gtr\",\"Rapide\",\"Wagon\",\"Wagon\",\"Wagon\",\"Wagon\",\"Wagon\",\"Wagon\",\"Wagon\",\"Wagon\",\"Wagon\",\"Wagon\",\"Wagon\",\"Wagon\",\"Wagon\",\"Wagon\",\"Tiago Nrg\",\"Tiago Nrg\",\"Tiago Nrg\",\"Yaris\",\"Yaris\",\"Yaris\",\"Yaris\",\"Yaris\",\"Yaris\",\"Yaris\",\"Yaris\",\"Yaris\",\"Yaris\",\"Yaris\",\"Yaris\",\"Yaris\",\"Yaris\",\"Octavia\",\"Octavia\",\"Octavia\",\"Octavia\",\"Octavia\",\"Octavia\",\"Octavia\",\"Octavia\",\"Octavia\",\"Octavia\",\"Octavia\",\"Octavia\",\"Avanti\",\"X4\",\"X4\",\"X4\",\"Rx 450H\",\"Vantage\",\"Punto Evo\",\"Punto Evo\",\"Punto Evo\",\"Punto Evo\",\"City\",\"City\",\"City\",\"City\",\"City\",\"City\",\"City\",\"City\",\"City\",\"City\",\"Xe\",\"Xe\",\"Xe\",\"Xe\",\"Granturismo\",\"Verito\",\"Verito\",\"Verito\",\"X5\",\"X5\",\"X5\",\"Alturas G4\",\"Alturas G4\",\"812 Superfast\"],\"xaxis\":\"x\",\"y\":[null,null,null,null,null,null,null,null,null,null,null,null,null,null,null,null,null,null,null,null,null,null,null,null,null,null,null,null,null,null,null,null,null,null,null,null,null,null,null,null,null,null,null,null,null,null,null,null,null,null,null,null,null,null,null,null,null,null,null,null,null,null,null,null,null,null,null,null,null,null,null,null,null,null,null,null,null,null,null,null,null,null,null,null,null,null,null,null,null,null,null,null,null,null,null,null,null,null,null,null,null,null,null,null,null,null,null,null,null,null,null,null,null,null,null,null,null,null,null,null,null,null,null,null,null,null,null,null,null,null,null,null,null,null,null,null,null,null,null,null,null,null,null,null,null,null,null,null,null,null,null,null,null,null,null,null,null,null,null,null,null,null,null,null,null,null,null,null,null,null,null,null,null,null,null,null,null,null,null,null,null,null,null,null,null,null,null,null,null,null,null,null,null,null,null,null,null,null,null,null,null,null,null,null,null,null,null,null,null,null,null,null,null,null,null,null,null,null,null,null,null,null,null,null,null,null,null,null,null,null,null,null,null,null,null,null,null,null,null,null,null,null,null,null,null,null,null,null,null,null,null,null,null,null,null,null,null,null,null,null,null,null,null,null,null,null,null,null,null,null,null,null,null,null,null,null,null,null,null,null,null,null,null,null,null,null,null,null,null,null,null,null,null,null,null,null,null,null,null,null,null,null,null,null,null,null,null,null,null,null,null,null,null,null,null,null,null,null,\"110 km/full charge\",\"110 km/full charge\",\"213 km/full charge\",\"213 km/full charge\",\"213 km/full charge\",null,null,null,null,null,null,null,null,null,null,null,null,null,null,null,null,null,null,null,null,null,null,null,null,null,null,null,null,null,null,null,null,null,null,null,null,null,null,null,null,null,null,null,null,null,null,null,null,null,null,null,null,null,null,null,null,null,null,\"110 km/full charge\",\"110 km/full charge\",\"110 km/full charge\",null,null,null,null,null,null,null,null,null,null,null,null,null,null,null,null,null,null,null,null,null,null,null,null,null,null,null,null,null,null,null,null,null,null,null,null,null,null,null,null,null,null,null,null,null,null,null,null,null,null,null,null,null,null,null,\"340 km/full charge\",\"340 km/full charge\",null,null,null,null,null,null,null,null,null,null,null,null,null,null,null,null,null,null,null,null,null,null,null,null,null,null,null,null,null,null,null,null,null,null,null,null,null,null,null,null,null,null,null,null,null,null,null,null,null,null,null,null,null,null,null,null,null,null,null,null,null,null,null,null,null,null,null,null,null,null,null,null,null,null,null,null,null,null,null,null,null,null,null,null,null,null,null,null,null,null,null,null,null,null,null,null,null,null,null,null,null,null,null,null,null,null,null,null,null,null,null,null,null,null,null,null,null,null,null,null,null,null,null,null,null,null,null,null,null,null,null,null,null,null,null,null,null,null,null,null,null,null,null,null,null,null,null,null,null,null,null,null,null,null,null,null,null,null,null,null,null,null,null,null,null,null,null,null,null,null,null,null,null,null,null,null,null,null,null,null,null,null,null,null,null,null,null,null,null,null,null,null,null,null,null,null,null,null,null,null,null,null,null,null,null,null,null,null,null,null,null,null,null,null,null,null,null,null,null,null,null,null,null,null,null,null,null,null,null,null,null,null,null,null,null,null,null,null,null,null,null,null,null,null,null,null,null,null,null,null,null,null,null,null,null,null,null,null,null,null,null,null,null,null,null,null,null,null,null,null,null,null,null,null,null,null,null,null,null,null,null,null,null,null,null,null,null,null,null,null,null,null,null,null,null,null,null,null,null,null,null,null,null,null,null,null,null,null,null,null,null,null,null,null,null,null,null,null,null,null,null,null,null,null,null,null,null,null,null,null,null,null,null,null,null,null,null,null,null,null,null,null,null,null,null,null,null,null,null,null,null,null,null,null,null,null,null,null,null,null,null,null,null,null,null,null,null,null,null,null,null,null,null,null,null,null,null,null,null,null,null,null,null,null,null,null,null,null,null,null,null,null,null,null,null,null,null,null,null,null,null,null,null,null,null,null,null,null,null,null,null,null,null,null,null,null,null,null,null,null,null,null,null,null,null,null,null,null,null,null,null,null,null,null,null,null,null,null,null,null,null,null,null,null,null,\"312 km/full charge\",\"312 km/full charge\",\"300 km/full charge\",null,null,null,null,null,null,null,null,null,null,null,null,null,null,null,null,null,null,null,null,null,null,null,null,null,null,null,null,null,null,null,null,null,null,null,null,null,null,null,null,null,null,null,null,null,null,null,null,null,null,null,null,\"11.68 km/full charge\",null,\"11.68 km/full charge\",null,null,null,null,null,null,null,null,null,null,null,null,null,null,null,null,null,null,null,null,null,null,null,null,null,null,null,null,null,null,null,null,null,null,null,null,null,null,null,null,null,null,null,null,null,null,null,null,null,null,null,null,null,null,null,null,null,null,null,null,null,null,null,null,null,null,null,null,null,null,null,null,null,null,null,null,null,null,null,null,null,null,null,null,null,null,null,null,null,null,null,null,null,null,null,null,null,null,null,null,null,null,null,null,null,null,null,null,null,null,null,null,null,null,null,null,null,null,null,null,null,null,null,null,null,null,null,null,null,null,null,null,null,null,null,null,null,null,null,null,null,null,null,null,null,null,null,null,null,null,null,null,null,null,null,null,null,null,null,null,null,null,null,null,null,null,null,null,null,null,null,null,null,\"39.53 km/full charge\",null,null,null,null,null,null,null,null,null,null,null,null,null,null,null,null,null,null,null,null,null,null,null,null,null,null,null,null,null,null,null,null,null,null,null,null,null,null,null,null,null,null,null,null,null,null,null,null,null,null,null,null,\"462 km/full charge\",null,null,null,null,null,null,null,null,null,null,null,null,null,null,null,null,null,null,null,null,null,null,null,null,null,null,null,null,null,null,null,null,null,null,null,null,null,null,null,null,null,null,null,null,null,null,null,null,null,null,null,null,null,null,null,null,null,null,null,null,null,null,null,null,null,null,null,null,null,null,null,null,null,null,null,null,null,null,null,null,null,null,null,null,null,null,null,null,null,null,null,null,null,null,null,null],\"yaxis\":\"y\"}],                        {\"barmode\":\"relative\",\"legend\":{\"tracegroupgap\":0},\"margin\":{\"t\":60},\"template\":{\"data\":{\"bar\":[{\"error_x\":{\"color\":\"#2a3f5f\"},\"error_y\":{\"color\":\"#2a3f5f\"},\"marker\":{\"line\":{\"color\":\"#E5ECF6\",\"width\":0.5},\"pattern\":{\"fillmode\":\"overlay\",\"size\":10,\"solidity\":0.2}},\"type\":\"bar\"}],\"barpolar\":[{\"marker\":{\"line\":{\"color\":\"#E5ECF6\",\"width\":0.5},\"pattern\":{\"fillmode\":\"overlay\",\"size\":10,\"solidity\":0.2}},\"type\":\"barpolar\"}],\"carpet\":[{\"aaxis\":{\"endlinecolor\":\"#2a3f5f\",\"gridcolor\":\"white\",\"linecolor\":\"white\",\"minorgridcolor\":\"white\",\"startlinecolor\":\"#2a3f5f\"},\"baxis\":{\"endlinecolor\":\"#2a3f5f\",\"gridcolor\":\"white\",\"linecolor\":\"white\",\"minorgridcolor\":\"white\",\"startlinecolor\":\"#2a3f5f\"},\"type\":\"carpet\"}],\"choropleth\":[{\"colorbar\":{\"outlinewidth\":0,\"ticks\":\"\"},\"type\":\"choropleth\"}],\"contour\":[{\"colorbar\":{\"outlinewidth\":0,\"ticks\":\"\"},\"colorscale\":[[0.0,\"#0d0887\"],[0.1111111111111111,\"#46039f\"],[0.2222222222222222,\"#7201a8\"],[0.3333333333333333,\"#9c179e\"],[0.4444444444444444,\"#bd3786\"],[0.5555555555555556,\"#d8576b\"],[0.6666666666666666,\"#ed7953\"],[0.7777777777777778,\"#fb9f3a\"],[0.8888888888888888,\"#fdca26\"],[1.0,\"#f0f921\"]],\"type\":\"contour\"}],\"contourcarpet\":[{\"colorbar\":{\"outlinewidth\":0,\"ticks\":\"\"},\"type\":\"contourcarpet\"}],\"heatmap\":[{\"colorbar\":{\"outlinewidth\":0,\"ticks\":\"\"},\"colorscale\":[[0.0,\"#0d0887\"],[0.1111111111111111,\"#46039f\"],[0.2222222222222222,\"#7201a8\"],[0.3333333333333333,\"#9c179e\"],[0.4444444444444444,\"#bd3786\"],[0.5555555555555556,\"#d8576b\"],[0.6666666666666666,\"#ed7953\"],[0.7777777777777778,\"#fb9f3a\"],[0.8888888888888888,\"#fdca26\"],[1.0,\"#f0f921\"]],\"type\":\"heatmap\"}],\"heatmapgl\":[{\"colorbar\":{\"outlinewidth\":0,\"ticks\":\"\"},\"colorscale\":[[0.0,\"#0d0887\"],[0.1111111111111111,\"#46039f\"],[0.2222222222222222,\"#7201a8\"],[0.3333333333333333,\"#9c179e\"],[0.4444444444444444,\"#bd3786\"],[0.5555555555555556,\"#d8576b\"],[0.6666666666666666,\"#ed7953\"],[0.7777777777777778,\"#fb9f3a\"],[0.8888888888888888,\"#fdca26\"],[1.0,\"#f0f921\"]],\"type\":\"heatmapgl\"}],\"histogram\":[{\"marker\":{\"pattern\":{\"fillmode\":\"overlay\",\"size\":10,\"solidity\":0.2}},\"type\":\"histogram\"}],\"histogram2d\":[{\"colorbar\":{\"outlinewidth\":0,\"ticks\":\"\"},\"colorscale\":[[0.0,\"#0d0887\"],[0.1111111111111111,\"#46039f\"],[0.2222222222222222,\"#7201a8\"],[0.3333333333333333,\"#9c179e\"],[0.4444444444444444,\"#bd3786\"],[0.5555555555555556,\"#d8576b\"],[0.6666666666666666,\"#ed7953\"],[0.7777777777777778,\"#fb9f3a\"],[0.8888888888888888,\"#fdca26\"],[1.0,\"#f0f921\"]],\"type\":\"histogram2d\"}],\"histogram2dcontour\":[{\"colorbar\":{\"outlinewidth\":0,\"ticks\":\"\"},\"colorscale\":[[0.0,\"#0d0887\"],[0.1111111111111111,\"#46039f\"],[0.2222222222222222,\"#7201a8\"],[0.3333333333333333,\"#9c179e\"],[0.4444444444444444,\"#bd3786\"],[0.5555555555555556,\"#d8576b\"],[0.6666666666666666,\"#ed7953\"],[0.7777777777777778,\"#fb9f3a\"],[0.8888888888888888,\"#fdca26\"],[1.0,\"#f0f921\"]],\"type\":\"histogram2dcontour\"}],\"mesh3d\":[{\"colorbar\":{\"outlinewidth\":0,\"ticks\":\"\"},\"type\":\"mesh3d\"}],\"parcoords\":[{\"line\":{\"colorbar\":{\"outlinewidth\":0,\"ticks\":\"\"}},\"type\":\"parcoords\"}],\"pie\":[{\"automargin\":true,\"type\":\"pie\"}],\"scatter\":[{\"marker\":{\"colorbar\":{\"outlinewidth\":0,\"ticks\":\"\"}},\"type\":\"scatter\"}],\"scatter3d\":[{\"line\":{\"colorbar\":{\"outlinewidth\":0,\"ticks\":\"\"}},\"marker\":{\"colorbar\":{\"outlinewidth\":0,\"ticks\":\"\"}},\"type\":\"scatter3d\"}],\"scattercarpet\":[{\"marker\":{\"colorbar\":{\"outlinewidth\":0,\"ticks\":\"\"}},\"type\":\"scattercarpet\"}],\"scattergeo\":[{\"marker\":{\"colorbar\":{\"outlinewidth\":0,\"ticks\":\"\"}},\"type\":\"scattergeo\"}],\"scattergl\":[{\"marker\":{\"colorbar\":{\"outlinewidth\":0,\"ticks\":\"\"}},\"type\":\"scattergl\"}],\"scattermapbox\":[{\"marker\":{\"colorbar\":{\"outlinewidth\":0,\"ticks\":\"\"}},\"type\":\"scattermapbox\"}],\"scatterpolar\":[{\"marker\":{\"colorbar\":{\"outlinewidth\":0,\"ticks\":\"\"}},\"type\":\"scatterpolar\"}],\"scatterpolargl\":[{\"marker\":{\"colorbar\":{\"outlinewidth\":0,\"ticks\":\"\"}},\"type\":\"scatterpolargl\"}],\"scatterternary\":[{\"marker\":{\"colorbar\":{\"outlinewidth\":0,\"ticks\":\"\"}},\"type\":\"scatterternary\"}],\"surface\":[{\"colorbar\":{\"outlinewidth\":0,\"ticks\":\"\"},\"colorscale\":[[0.0,\"#0d0887\"],[0.1111111111111111,\"#46039f\"],[0.2222222222222222,\"#7201a8\"],[0.3333333333333333,\"#9c179e\"],[0.4444444444444444,\"#bd3786\"],[0.5555555555555556,\"#d8576b\"],[0.6666666666666666,\"#ed7953\"],[0.7777777777777778,\"#fb9f3a\"],[0.8888888888888888,\"#fdca26\"],[1.0,\"#f0f921\"]],\"type\":\"surface\"}],\"table\":[{\"cells\":{\"fill\":{\"color\":\"#EBF0F8\"},\"line\":{\"color\":\"white\"}},\"header\":{\"fill\":{\"color\":\"#C8D4E3\"},\"line\":{\"color\":\"white\"}},\"type\":\"table\"}]},\"layout\":{\"annotationdefaults\":{\"arrowcolor\":\"#2a3f5f\",\"arrowhead\":0,\"arrowwidth\":1},\"autotypenumbers\":\"strict\",\"coloraxis\":{\"colorbar\":{\"outlinewidth\":0,\"ticks\":\"\"}},\"colorscale\":{\"diverging\":[[0,\"#8e0152\"],[0.1,\"#c51b7d\"],[0.2,\"#de77ae\"],[0.3,\"#f1b6da\"],[0.4,\"#fde0ef\"],[0.5,\"#f7f7f7\"],[0.6,\"#e6f5d0\"],[0.7,\"#b8e186\"],[0.8,\"#7fbc41\"],[0.9,\"#4d9221\"],[1,\"#276419\"]],\"sequential\":[[0.0,\"#0d0887\"],[0.1111111111111111,\"#46039f\"],[0.2222222222222222,\"#7201a8\"],[0.3333333333333333,\"#9c179e\"],[0.4444444444444444,\"#bd3786\"],[0.5555555555555556,\"#d8576b\"],[0.6666666666666666,\"#ed7953\"],[0.7777777777777778,\"#fb9f3a\"],[0.8888888888888888,\"#fdca26\"],[1.0,\"#f0f921\"]],\"sequentialminus\":[[0.0,\"#0d0887\"],[0.1111111111111111,\"#46039f\"],[0.2222222222222222,\"#7201a8\"],[0.3333333333333333,\"#9c179e\"],[0.4444444444444444,\"#bd3786\"],[0.5555555555555556,\"#d8576b\"],[0.6666666666666666,\"#ed7953\"],[0.7777777777777778,\"#fb9f3a\"],[0.8888888888888888,\"#fdca26\"],[1.0,\"#f0f921\"]]},\"colorway\":[\"#636efa\",\"#EF553B\",\"#00cc96\",\"#ab63fa\",\"#FFA15A\",\"#19d3f3\",\"#FF6692\",\"#B6E880\",\"#FF97FF\",\"#FECB52\"],\"font\":{\"color\":\"#2a3f5f\"},\"geo\":{\"bgcolor\":\"white\",\"lakecolor\":\"white\",\"landcolor\":\"#E5ECF6\",\"showlakes\":true,\"showland\":true,\"subunitcolor\":\"white\"},\"hoverlabel\":{\"align\":\"left\"},\"hovermode\":\"closest\",\"mapbox\":{\"style\":\"light\"},\"paper_bgcolor\":\"white\",\"plot_bgcolor\":\"#E5ECF6\",\"polar\":{\"angularaxis\":{\"gridcolor\":\"white\",\"linecolor\":\"white\",\"ticks\":\"\"},\"bgcolor\":\"#E5ECF6\",\"radialaxis\":{\"gridcolor\":\"white\",\"linecolor\":\"white\",\"ticks\":\"\"}},\"scene\":{\"xaxis\":{\"backgroundcolor\":\"#E5ECF6\",\"gridcolor\":\"white\",\"gridwidth\":2,\"linecolor\":\"white\",\"showbackground\":true,\"ticks\":\"\",\"zerolinecolor\":\"white\"},\"yaxis\":{\"backgroundcolor\":\"#E5ECF6\",\"gridcolor\":\"white\",\"gridwidth\":2,\"linecolor\":\"white\",\"showbackground\":true,\"ticks\":\"\",\"zerolinecolor\":\"white\"},\"zaxis\":{\"backgroundcolor\":\"#E5ECF6\",\"gridcolor\":\"white\",\"gridwidth\":2,\"linecolor\":\"white\",\"showbackground\":true,\"ticks\":\"\",\"zerolinecolor\":\"white\"}},\"shapedefaults\":{\"line\":{\"color\":\"#2a3f5f\"}},\"ternary\":{\"aaxis\":{\"gridcolor\":\"white\",\"linecolor\":\"white\",\"ticks\":\"\"},\"baxis\":{\"gridcolor\":\"white\",\"linecolor\":\"white\",\"ticks\":\"\"},\"bgcolor\":\"#E5ECF6\",\"caxis\":{\"gridcolor\":\"white\",\"linecolor\":\"white\",\"ticks\":\"\"}},\"title\":{\"x\":0.05},\"xaxis\":{\"automargin\":true,\"gridcolor\":\"white\",\"linecolor\":\"white\",\"ticks\":\"\",\"title\":{\"standoff\":15},\"zerolinecolor\":\"white\",\"zerolinewidth\":2},\"yaxis\":{\"automargin\":true,\"gridcolor\":\"white\",\"linecolor\":\"white\",\"ticks\":\"\",\"title\":{\"standoff\":15},\"zerolinecolor\":\"white\",\"zerolinewidth\":2}}},\"xaxis\":{\"anchor\":\"y\",\"domain\":[0.0,1.0],\"title\":{\"text\":\"Model\"}},\"yaxis\":{\"anchor\":\"x\",\"domain\":[0.0,1.0],\"title\":{\"text\":\"Electric_Range\"}}},                        {\"responsive\": true}                    ).then(function(){\n",
       "                            \n",
       "var gd = document.getElementById('9336fcc8-6f1e-43e3-87c7-e1ed2ef58764');\n",
       "var x = new MutationObserver(function (mutations, observer) {{\n",
       "        var display = window.getComputedStyle(gd).display;\n",
       "        if (!display || display === 'none') {{\n",
       "            console.log([gd, 'removed!']);\n",
       "            Plotly.purge(gd);\n",
       "            observer.disconnect();\n",
       "        }}\n",
       "}});\n",
       "\n",
       "// Listen for the removal of the full notebook cells\n",
       "var notebookContainer = gd.closest('#notebook-container');\n",
       "if (notebookContainer) {{\n",
       "    x.observe(notebookContainer, {childList: true});\n",
       "}}\n",
       "\n",
       "// Listen for the clearing of the current output cell\n",
       "var outputEl = gd.closest('.output');\n",
       "if (outputEl) {{\n",
       "    x.observe(outputEl, {childList: true});\n",
       "}}\n",
       "\n",
       "                        })                };                });            </script>        </div>"
      ]
     },
     "metadata": {},
     "output_type": "display_data"
    }
   ],
   "source": [
    "import plotly.express as px\n",
    "fig = px.bar(df, x='Model', y='Electric_Range')\n",
    "fig.show()"
   ]
  },
  {
   "cell_type": "code",
   "execution_count": 212,
   "id": "910fd33c",
   "metadata": {},
   "outputs": [
    {
     "data": {
      "text/plain": [
       "0         292667\n",
       "1         236447\n",
       "2         296661\n",
       "3         334768\n",
       "4         272223\n",
       "          ...   \n",
       "1262     8290000\n",
       "1263     8290000\n",
       "1264     2770150\n",
       "1265     3070150\n",
       "1266    52000000\n",
       "Name: Ex-Showroom_Price, Length: 1267, dtype: object"
      ]
     },
     "execution_count": 212,
     "metadata": {},
     "output_type": "execute_result"
    }
   ],
   "source": [
    "df1['Ex-Showroom_Price']"
   ]
  },
  {
   "cell_type": "code",
   "execution_count": 213,
   "id": "2a5785b4",
   "metadata": {},
   "outputs": [],
   "source": [
    "import pandas as pd\n",
    "import numpy as np\n",
    "from sklearn.decomposition import PCA\n"
   ]
  },
  {
   "cell_type": "code",
   "execution_count": 225,
   "id": "7f33afff",
   "metadata": {},
   "outputs": [
    {
     "name": "stderr",
     "output_type": "stream",
     "text": [
      "C:\\Users\\lance\\AppData\\Local\\Temp/ipykernel_8992/3029113963.py:1: SettingWithCopyWarning:\n",
      "\n",
      "\n",
      "A value is trying to be set on a copy of a slice from a DataFrame.\n",
      "Try using .loc[row_indexer,col_indexer] = value instead\n",
      "\n",
      "See the caveats in the documentation: https://pandas.pydata.org/pandas-docs/stable/user_guide/indexing.html#returning-a-view-versus-a-copy\n",
      "\n"
     ]
    }
   ],
   "source": [
    "df1_numeric[['Cylinders', 'Fuel_Tank_Capacity']] = df1_numeric[['Cylinders', 'Fuel_Tank_Capacity']].fillna(df1_numeric[['Cylinders', 'Fuel_Tank_Capacity']].median())"
   ]
  },
  {
   "cell_type": "code",
   "execution_count": 226,
   "id": "8ec1cf38",
   "metadata": {},
   "outputs": [
    {
     "data": {
      "text/plain": [
       "Ex-Showroom_Price     0\n",
       "Displacement          0\n",
       "Cylinders             0\n",
       "Fuel_Tank_Capacity    0\n",
       "City_Mileage          0\n",
       "dtype: int64"
      ]
     },
     "execution_count": 226,
     "metadata": {},
     "output_type": "execute_result"
    }
   ],
   "source": [
    "df1_numeric.isna().sum()"
   ]
  },
  {
   "cell_type": "code",
   "execution_count": 228,
   "id": "3b76ea40",
   "metadata": {},
   "outputs": [],
   "source": [
    "import pandas as pd\n",
    "from sklearn import preprocessing\n",
    "\n",
    "x = df1_numeric.values #returns a numpy array\n",
    "min_max_scaler = preprocessing.MinMaxScaler()\n",
    "x_scaled = min_max_scaler.fit_transform(x)\n",
    "df_numeric= pd.DataFrame(x_scaled)"
   ]
  },
  {
   "cell_type": "code",
   "execution_count": 239,
   "id": "8f34eba1",
   "metadata": {},
   "outputs": [],
   "source": [
    "pca = PCA(n_components=2)\n",
    "df1_numeric_principal_Components=pca.fit_transform(df1_numeric)"
   ]
  },
  {
   "cell_type": "code",
   "execution_count": 240,
   "id": "933e4942",
   "metadata": {},
   "outputs": [],
   "source": [
    "df1_numeric_principal=pd.DataFrame(data=df1_numeric_principal_Components,columns = ['principal component 1', 'principal component 2'])"
   ]
  },
  {
   "cell_type": "code",
   "execution_count": 241,
   "id": "5b60ebf2",
   "metadata": {},
   "outputs": [
    {
     "data": {
      "text/html": [
       "<div><div id=41c9e7f4-c378-45bc-839a-c61374c5f9ab style=\"display:none; background-color:#9D6CFF; color:white; width:200px; height:30px; padding-left:5px; border-radius:4px; flex-direction:row; justify-content:space-around; align-items:center;\" onmouseover=\"this.style.backgroundColor='#BA9BF8'\" onmouseout=\"this.style.backgroundColor='#9D6CFF'\" onclick=\"window.commands?.execute('create-mitosheet-from-dataframe-output');\">See Full Dataframe in Mito</div> <script> if (window.commands?.hasCommand('create-mitosheet-from-dataframe-output')) document.getElementById('41c9e7f4-c378-45bc-839a-c61374c5f9ab').style.display = 'flex' </script> <table border=\"1\" class=\"dataframe\">\n",
       "  <thead>\n",
       "    <tr style=\"text-align: right;\">\n",
       "      <th></th>\n",
       "      <th>principal component 1</th>\n",
       "      <th>principal component 2</th>\n",
       "    </tr>\n",
       "  </thead>\n",
       "  <tbody>\n",
       "    <tr>\n",
       "      <th>0</th>\n",
       "      <td>-6.115841e+06</td>\n",
       "      <td>-41.111333</td>\n",
       "    </tr>\n",
       "    <tr>\n",
       "      <th>1</th>\n",
       "      <td>-6.195348e+06</td>\n",
       "      <td>-41.173358</td>\n",
       "    </tr>\n",
       "    <tr>\n",
       "      <th>2</th>\n",
       "      <td>-6.110193e+06</td>\n",
       "      <td>-49.105145</td>\n",
       "    </tr>\n",
       "    <tr>\n",
       "      <th>3</th>\n",
       "      <td>-6.056301e+06</td>\n",
       "      <td>-41.064885</td>\n",
       "    </tr>\n",
       "    <tr>\n",
       "      <th>4</th>\n",
       "      <td>-6.144753e+06</td>\n",
       "      <td>-41.133888</td>\n",
       "    </tr>\n",
       "    <tr>\n",
       "      <th>...</th>\n",
       "      <td>...</td>\n",
       "      <td>...</td>\n",
       "    </tr>\n",
       "    <tr>\n",
       "      <th>1262</th>\n",
       "      <td>5.194096e+06</td>\n",
       "      <td>-40.292544</td>\n",
       "    </tr>\n",
       "    <tr>\n",
       "      <th>1263</th>\n",
       "      <td>5.194096e+06</td>\n",
       "      <td>-40.292544</td>\n",
       "    </tr>\n",
       "    <tr>\n",
       "      <th>1264</th>\n",
       "      <td>-2.612151e+06</td>\n",
       "      <td>-46.387127</td>\n",
       "    </tr>\n",
       "    <tr>\n",
       "      <th>1265</th>\n",
       "      <td>-2.187887e+06</td>\n",
       "      <td>-46.056148</td>\n",
       "    </tr>\n",
       "    <tr>\n",
       "      <th>1266</th>\n",
       "      <td>6.700937e+07</td>\n",
       "      <td>7.921889</td>\n",
       "    </tr>\n",
       "  </tbody>\n",
       "</table></div>"
      ],
      "text/plain": [
       "      principal component 1  principal component 2\n",
       "0             -6.115841e+06             -41.111333\n",
       "1             -6.195348e+06             -41.173358\n",
       "2             -6.110193e+06             -49.105145\n",
       "3             -6.056301e+06             -41.064885\n",
       "4             -6.144753e+06             -41.133888\n",
       "...                     ...                    ...\n",
       "1262           5.194096e+06             -40.292544\n",
       "1263           5.194096e+06             -40.292544\n",
       "1264          -2.612151e+06             -46.387127\n",
       "1265          -2.187887e+06             -46.056148\n",
       "1266           6.700937e+07               7.921889\n",
       "\n",
       "[1267 rows x 2 columns]"
      ]
     },
     "execution_count": 241,
     "metadata": {},
     "output_type": "execute_result"
    }
   ],
   "source": [
    "df1_numeric_principal"
   ]
  },
  {
   "cell_type": "code",
   "execution_count": 242,
   "id": "f048d2aa",
   "metadata": {},
   "outputs": [
    {
     "name": "stdout",
     "output_type": "stream",
     "text": [
      "Explained variation per principal component: [9.99999998e-01 1.92348870e-09]\n"
     ]
    }
   ],
   "source": [
    "print('Explained variation per principal component: {}'.format(pca.explained_variance_ratio_))"
   ]
  },
  {
   "cell_type": "code",
   "execution_count": 245,
   "id": "42858ee1",
   "metadata": {},
   "outputs": [
    {
     "data": {
      "text/plain": [
       "<AxesSubplot:xlabel='principal component 1', ylabel='principal component 2'>"
      ]
     },
     "execution_count": 245,
     "metadata": {},
     "output_type": "execute_result"
    },
    {
     "data": {
      "image/png": "[encoded data removed]",
      "text/plain": [
       "<Figure size 1152x720 with 1 Axes>"
      ]
     },
     "metadata": {
      "needs_background": "light"
     },
     "output_type": "display_data"
    }
   ],
   "source": [
    "import seaborn as sns\n",
    "plt.figure(figsize=(16,10))\n",
    "sns.scatterplot(\n",
    "    x=\"principal component 1\", y=\"principal component 2\",\n",
    "    \n",
    "    palette=sns.color_palette(\"hls\", 10),\n",
    "    data=df1_numeric_principal,\n",
    "    legend=\"full\",\n",
    "    alpha=0.3\n",
    ")"
   ]
  },
  {
   "cell_type": "code",
   "execution_count": null,
   "id": "957e6c68",
   "metadata": {},
   "outputs": [],
   "source": []
  }
 ],
 "metadata": {
  "kernelspec": {
   "display_name": "Python 3 (ipykernel)",
   "language": "python",
   "name": "python3"
  },
  "language_info": {
   "codemirror_mode": {
    "name": "ipython",
    "version": 3
   },
   "file_extension": ".py",
   "mimetype": "text/x-python",
   "name": "python",
   "nbconvert_exporter": "python",
   "pygments_lexer": "ipython3",
   "version": "3.8.5"
  }
 },
 "nbformat": 4,
 "nbformat_minor": 5
}
